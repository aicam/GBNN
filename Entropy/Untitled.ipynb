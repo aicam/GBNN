{
 "cells": [
  {
   "cell_type": "code",
   "execution_count": 2,
   "id": "7e814973",
   "metadata": {},
   "outputs": [],
   "source": [
    "import pandas as pd"
   ]
  },
  {
   "cell_type": "markdown",
   "id": "be4ee8ca",
   "metadata": {},
   "source": [
    "# Calculations information"
   ]
  },
  {
   "cell_type": "code",
   "execution_count": 1,
   "id": "1ddce727",
   "metadata": {},
   "outputs": [],
   "source": [
    "path = './VM2_data/cb7_gilson_feprocess/run1/calculations/feprocess/complexes/cb7/cb7--guest1/'"
   ]
  },
  {
   "cell_type": "code",
   "execution_count": 4,
   "id": "8a77e358",
   "metadata": {
    "scrolled": true
   },
   "outputs": [],
   "source": [
    "df = pd.read_csv('VM2_data/cb7_gilson_feprocess/run1/results/cb7_feprocess_SUMMARY.csv')"
   ]
  },
  {
   "cell_type": "code",
   "execution_count": 9,
   "id": "7f69b4cc",
   "metadata": {},
   "outputs": [],
   "source": [
    "complex_dt = 219.7261602769\n",
    "guest_dt = 32.5692961418\n",
    "receptor_dt = 170.7809184697"
   ]
  },
  {
   "cell_type": "code",
   "execution_count": 10,
   "id": "aa8729df",
   "metadata": {},
   "outputs": [
    {
     "data": {
      "text/plain": [
       "16.375945665400003"
      ]
     },
     "execution_count": 10,
     "metadata": {},
     "output_type": "execute_result"
    }
   ],
   "source": [
    "complex_dt - receptor_dt - guest_dt"
   ]
  },
  {
   "cell_type": "markdown",
   "id": "b1fdacf6",
   "metadata": {},
   "source": [
    "# Possible features for input physics parameters\n",
    "Coulomb <br>\n",
    "Angle <br>\n",
    "Bond <br>"
   ]
  },
  {
   "cell_type": "code",
   "execution_count": 8,
   "id": "322b1440",
   "metadata": {},
   "outputs": [
    {
     "data": {
      "text/html": [
       "<div>\n",
       "<style scoped>\n",
       "    .dataframe tbody tr th:only-of-type {\n",
       "        vertical-align: middle;\n",
       "    }\n",
       "\n",
       "    .dataframe tbody tr th {\n",
       "        vertical-align: top;\n",
       "    }\n",
       "\n",
       "    .dataframe thead th {\n",
       "        text-align: right;\n",
       "    }\n",
       "</style>\n",
       "<table border=\"1\" class=\"dataframe\">\n",
       "  <thead>\n",
       "    <tr style=\"text-align: right;\">\n",
       "      <th></th>\n",
       "      <th>Ident</th>\n",
       "      <th>Calc -TdeltaS</th>\n",
       "    </tr>\n",
       "  </thead>\n",
       "  <tbody>\n",
       "    <tr>\n",
       "      <th>0</th>\n",
       "      <td>cb7--guest1</td>\n",
       "      <td>16.375946</td>\n",
       "    </tr>\n",
       "    <tr>\n",
       "      <th>1</th>\n",
       "      <td>cb7--guest2</td>\n",
       "      <td>18.404371</td>\n",
       "    </tr>\n",
       "    <tr>\n",
       "      <th>2</th>\n",
       "      <td>cb7--guest3</td>\n",
       "      <td>16.454225</td>\n",
       "    </tr>\n",
       "    <tr>\n",
       "      <th>3</th>\n",
       "      <td>cb7--guest4</td>\n",
       "      <td>13.557039</td>\n",
       "    </tr>\n",
       "    <tr>\n",
       "      <th>4</th>\n",
       "      <td>cb7--guest5</td>\n",
       "      <td>15.070811</td>\n",
       "    </tr>\n",
       "    <tr>\n",
       "      <th>5</th>\n",
       "      <td>cb7--guest6</td>\n",
       "      <td>13.303632</td>\n",
       "    </tr>\n",
       "    <tr>\n",
       "      <th>6</th>\n",
       "      <td>cb7--guest7</td>\n",
       "      <td>13.014367</td>\n",
       "    </tr>\n",
       "    <tr>\n",
       "      <th>7</th>\n",
       "      <td>cb7--guest8</td>\n",
       "      <td>17.102493</td>\n",
       "    </tr>\n",
       "    <tr>\n",
       "      <th>8</th>\n",
       "      <td>cb7--guest9</td>\n",
       "      <td>10.976443</td>\n",
       "    </tr>\n",
       "    <tr>\n",
       "      <th>9</th>\n",
       "      <td>cb7--guest10</td>\n",
       "      <td>14.502511</td>\n",
       "    </tr>\n",
       "    <tr>\n",
       "      <th>10</th>\n",
       "      <td>cb7--guest11</td>\n",
       "      <td>11.652168</td>\n",
       "    </tr>\n",
       "    <tr>\n",
       "      <th>11</th>\n",
       "      <td>cb7--guest12</td>\n",
       "      <td>10.050811</td>\n",
       "    </tr>\n",
       "    <tr>\n",
       "      <th>12</th>\n",
       "      <td>cb7--guest13</td>\n",
       "      <td>11.586655</td>\n",
       "    </tr>\n",
       "    <tr>\n",
       "      <th>13</th>\n",
       "      <td>cb7--guest14</td>\n",
       "      <td>11.071522</td>\n",
       "    </tr>\n",
       "    <tr>\n",
       "      <th>14</th>\n",
       "      <td>cb7--guest15</td>\n",
       "      <td>14.251121</td>\n",
       "    </tr>\n",
       "    <tr>\n",
       "      <th>15</th>\n",
       "      <td>cb7--guest16</td>\n",
       "      <td>13.398935</td>\n",
       "    </tr>\n",
       "    <tr>\n",
       "      <th>16</th>\n",
       "      <td>cb7--guest17</td>\n",
       "      <td>13.907885</td>\n",
       "    </tr>\n",
       "    <tr>\n",
       "      <th>17</th>\n",
       "      <td>cb7--guest18</td>\n",
       "      <td>13.651719</td>\n",
       "    </tr>\n",
       "    <tr>\n",
       "      <th>18</th>\n",
       "      <td>cb7--guest19</td>\n",
       "      <td>12.447159</td>\n",
       "    </tr>\n",
       "    <tr>\n",
       "      <th>19</th>\n",
       "      <td>cb7--guest20</td>\n",
       "      <td>13.102646</td>\n",
       "    </tr>\n",
       "    <tr>\n",
       "      <th>20</th>\n",
       "      <td>cb7--guest21</td>\n",
       "      <td>13.179003</td>\n",
       "    </tr>\n",
       "    <tr>\n",
       "      <th>21</th>\n",
       "      <td>cb7--guest22</td>\n",
       "      <td>13.620932</td>\n",
       "    </tr>\n",
       "    <tr>\n",
       "      <th>22</th>\n",
       "      <td>cb7--guest23</td>\n",
       "      <td>13.760705</td>\n",
       "    </tr>\n",
       "    <tr>\n",
       "      <th>23</th>\n",
       "      <td>cb7--guest24</td>\n",
       "      <td>12.644785</td>\n",
       "    </tr>\n",
       "    <tr>\n",
       "      <th>24</th>\n",
       "      <td>cb7--guest25</td>\n",
       "      <td>12.936546</td>\n",
       "    </tr>\n",
       "    <tr>\n",
       "      <th>25</th>\n",
       "      <td>cb7--guest26</td>\n",
       "      <td>14.507455</td>\n",
       "    </tr>\n",
       "    <tr>\n",
       "      <th>26</th>\n",
       "      <td>cb7--guest27</td>\n",
       "      <td>14.161351</td>\n",
       "    </tr>\n",
       "    <tr>\n",
       "      <th>27</th>\n",
       "      <td>cb7--guest28</td>\n",
       "      <td>17.611503</td>\n",
       "    </tr>\n",
       "    <tr>\n",
       "      <th>28</th>\n",
       "      <td>cb7--guest29</td>\n",
       "      <td>13.759124</td>\n",
       "    </tr>\n",
       "  </tbody>\n",
       "</table>\n",
       "</div>"
      ],
      "text/plain": [
       "           Ident   Calc -TdeltaS\n",
       "0    cb7--guest1       16.375946\n",
       "1    cb7--guest2       18.404371\n",
       "2    cb7--guest3       16.454225\n",
       "3    cb7--guest4       13.557039\n",
       "4    cb7--guest5       15.070811\n",
       "5    cb7--guest6       13.303632\n",
       "6    cb7--guest7       13.014367\n",
       "7    cb7--guest8       17.102493\n",
       "8    cb7--guest9       10.976443\n",
       "9   cb7--guest10       14.502511\n",
       "10  cb7--guest11       11.652168\n",
       "11  cb7--guest12       10.050811\n",
       "12  cb7--guest13       11.586655\n",
       "13  cb7--guest14       11.071522\n",
       "14  cb7--guest15       14.251121\n",
       "15  cb7--guest16       13.398935\n",
       "16  cb7--guest17       13.907885\n",
       "17  cb7--guest18       13.651719\n",
       "18  cb7--guest19       12.447159\n",
       "19  cb7--guest20       13.102646\n",
       "20  cb7--guest21       13.179003\n",
       "21  cb7--guest22       13.620932\n",
       "22  cb7--guest23       13.760705\n",
       "23  cb7--guest24       12.644785\n",
       "24  cb7--guest25       12.936546\n",
       "25  cb7--guest26       14.507455\n",
       "26  cb7--guest27       14.161351\n",
       "27  cb7--guest28       17.611503\n",
       "28  cb7--guest29       13.759124"
      ]
     },
     "execution_count": 8,
     "metadata": {},
     "output_type": "execute_result"
    }
   ],
   "source": [
    "df[['Ident', ' Calc -TdeltaS']]"
   ]
  },
  {
   "cell_type": "code",
   "execution_count": 11,
   "id": "c1193655",
   "metadata": {},
   "outputs": [],
   "source": [
    "df_host = pd.read_csv('VM2_data/cb7_gilson_feprocess/run1/results/cb7_feprocess_host.csv')"
   ]
  },
  {
   "cell_type": "code",
   "execution_count": 15,
   "id": "3cf6f7f4",
   "metadata": {},
   "outputs": [
    {
     "data": {
      "text/plain": [
       "0    170.780918\n",
       "Name:  S, dtype: float64"
      ]
     },
     "execution_count": 15,
     "metadata": {},
     "output_type": "execute_result"
    }
   ],
   "source": [
    "df_host[' S']"
   ]
  },
  {
   "cell_type": "code",
   "execution_count": 13,
   "id": "7191ffc3",
   "metadata": {},
   "outputs": [
    {
     "data": {
      "text/plain": [
       "Index(['run', ' type', ' Ident', ' FE', ' AvgE', ' S', ' U', ' W', ' HO_PE',\n",
       "       ' PB', ' SA', ' Valence', ' Coulomb', ' VdW', ' VdW6', ' VdW12',\n",
       "       ' Bond', ' Angle', ' Pdihed', ' Idihed', ' Tether', ' RunTime',\n",
       "       ' WallTime', ' Converged', ' Crashed'],\n",
       "      dtype='object')"
      ]
     },
     "execution_count": 13,
     "metadata": {},
     "output_type": "execute_result"
    }
   ],
   "source": [
    "df_host.columns"
   ]
  }
 ],
 "metadata": {
  "kernelspec": {
   "display_name": "GBNN",
   "language": "python",
   "name": "gbnn"
  },
  "language_info": {
   "codemirror_mode": {
    "name": "ipython",
    "version": 3
   },
   "file_extension": ".py",
   "mimetype": "text/x-python",
   "name": "python",
   "nbconvert_exporter": "python",
   "pygments_lexer": "ipython3",
   "version": "3.8.10"
  }
 },
 "nbformat": 4,
 "nbformat_minor": 5
}
