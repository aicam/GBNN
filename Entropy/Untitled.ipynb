{
 "cells": [
  {
   "cell_type": "code",
   "execution_count": 1,
   "id": "7e814973",
   "metadata": {},
   "outputs": [],
   "source": [
    "import pandas as pd"
   ]
  },
  {
   "cell_type": "code",
   "execution_count": 10,
   "id": "b5db54fa",
   "metadata": {},
   "outputs": [],
   "source": [
    "df = pd.read_csv('VM2_data/cb7_gilson_feprocess/cb7_feprocess_complex.csv')"
   ]
  },
  {
   "cell_type": "code",
   "execution_count": 17,
   "id": "8a77e358",
   "metadata": {
    "scrolled": true
   },
   "outputs": [
    {
     "data": {
      "text/plain": [
       "Index(['run', ' type', ' Ident', ' FE', ' AvgE', ' S', ' U', ' W', ' HO_PE',\n",
       "       ' PB', ' SA', ' Valence', ' Coulomb', ' VdW', ' VdW6', ' VdW12',\n",
       "       ' Bond', ' Angle', ' Pdihed', ' Idihed', ' Tether', ' RunTime',\n",
       "       ' WallTime', ' Converged', ' Crashed'],\n",
       "      dtype='object')"
      ]
     },
     "execution_count": 17,
     "metadata": {},
     "output_type": "execute_result"
    }
   ],
   "source": [
    "df.columns"
   ]
  },
  {
   "cell_type": "markdown",
   "id": "b1fdacf6",
   "metadata": {},
   "source": [
    "# Possible features for input physics parameters\n",
    "Coulomb <br>\n",
    "Angle <br>\n",
    "Bond <br>"
   ]
  },
  {
   "cell_type": "code",
   "execution_count": 26,
   "id": "322b1440",
   "metadata": {},
   "outputs": [
    {
     "data": {
      "text/plain": [
       "0     1.669504\n",
       "1     1.782413\n",
       "2     1.649071\n",
       "3     0.650620\n",
       "4     3.868067\n",
       "5     0.710163\n",
       "6     0.672419\n",
       "7     2.198560\n",
       "8     0.846811\n",
       "9     0.855613\n",
       "10    0.719884\n",
       "11    0.506511\n",
       "12    0.814791\n",
       "13    0.740815\n",
       "14    1.235296\n",
       "15    0.513881\n",
       "16    1.206554\n",
       "17    1.510237\n",
       "18    0.702480\n",
       "19    1.451680\n",
       "20    0.901187\n",
       "21    1.992672\n",
       "22    2.123655\n",
       "23    1.157725\n",
       "24    1.043257\n",
       "25    1.493826\n",
       "26    1.075018\n",
       "27    1.930686\n",
       "28    1.305884\n",
       "Name:  Bond, dtype: float64"
      ]
     },
     "execution_count": 26,
     "metadata": {},
     "output_type": "execute_result"
    }
   ],
   "source": [
    "df[' Bond']"
   ]
  }
 ],
 "metadata": {
  "kernelspec": {
   "display_name": "GBNN",
   "language": "python",
   "name": "gbnn"
  },
  "language_info": {
   "codemirror_mode": {
    "name": "ipython",
    "version": 3
   },
   "file_extension": ".py",
   "mimetype": "text/x-python",
   "name": "python",
   "nbconvert_exporter": "python",
   "pygments_lexer": "ipython3",
   "version": "3.8.10"
  }
 },
 "nbformat": 4,
 "nbformat_minor": 5
}
