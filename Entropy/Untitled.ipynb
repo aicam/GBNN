{
 "cells": [
  {
   "cell_type": "code",
   "execution_count": 1,
   "id": "e3d0fc3d",
   "metadata": {},
   "outputs": [],
   "source": [
    "import pandas as pd"
   ]
  },
  {
   "cell_type": "code",
   "execution_count": 10,
   "id": "00c9c3d3",
   "metadata": {},
   "outputs": [],
   "source": [
    "df = pd.read_csv('VM2_data/cb7_gilson_feprocess/cb7_feprocess_complex.csv')"
   ]
  },
  {
   "cell_type": "code",
   "execution_count": 17,
   "id": "62f7a366",
   "metadata": {},
   "outputs": [
    {
     "data": {
      "text/plain": [
       "Index(['run', ' type', ' Ident', ' FE', ' AvgE', ' S', ' U', ' W', ' HO_PE',\n",
       "       ' PB', ' SA', ' Valence', ' Coulomb', ' VdW', ' VdW6', ' VdW12',\n",
       "       ' Bond', ' Angle', ' Pdihed', ' Idihed', ' Tether', ' RunTime',\n",
       "       ' WallTime', ' Converged', ' Crashed'],\n",
       "      dtype='object')"
      ]
     },
     "execution_count": 17,
     "metadata": {},
     "output_type": "execute_result"
    }
   ],
   "source": [
    "df.columns"
   ]
  },
  {
   "cell_type": "markdown",
   "id": "d3c555ba",
   "metadata": {},
   "source": [
    "# Possible features for input physics parameters\n",
    "Coulomb\n",
    "Angle\n"
   ]
  },
  {
   "cell_type": "code",
   "execution_count": 25,
   "id": "2fd88c5f",
   "metadata": {},
   "outputs": [
    {
     "data": {
      "text/plain": [
       "0     145.722592\n",
       "1     128.446703\n",
       "2     145.959710\n",
       "3     122.589658\n",
       "4     129.566844\n",
       "5     123.969629\n",
       "6     124.182580\n",
       "7     145.321032\n",
       "8     124.508481\n",
       "9     123.460130\n",
       "10    123.821286\n",
       "11    122.511630\n",
       "12    123.836746\n",
       "13    124.272000\n",
       "14    127.238341\n",
       "15    122.942825\n",
       "16    127.036084\n",
       "17    124.314640\n",
       "18    123.468649\n",
       "19    123.788993\n",
       "20    123.140643\n",
       "21    125.875067\n",
       "22    125.908672\n",
       "23    123.846580\n",
       "24    124.490200\n",
       "25    125.791122\n",
       "26    124.078959\n",
       "27    126.636871\n",
       "28    125.849689\n",
       "Name:  Angle, dtype: float64"
      ]
     },
     "execution_count": 25,
     "metadata": {},
     "output_type": "execute_result"
    }
   ],
   "source": [
    "df[' Angle']"
   ]
  }
 ],
 "metadata": {
  "kernelspec": {
   "display_name": "GBNN",
   "language": "python",
   "name": "gbnn"
  },
  "language_info": {
   "codemirror_mode": {
    "name": "ipython",
    "version": 3
   },
   "file_extension": ".py",
   "mimetype": "text/x-python",
   "name": "python",
   "nbconvert_exporter": "python",
   "pygments_lexer": "ipython3",
   "version": "3.8.10"
  }
 },
 "nbformat": 4,
 "nbformat_minor": 5
}
