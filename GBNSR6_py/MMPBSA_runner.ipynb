{
 "cells": [
  {
   "cell_type": "code",
   "execution_count": 1,
   "id": "aed9a6c6",
   "metadata": {},
   "outputs": [],
   "source": [
    "import subprocess"
   ]
  },
  {
   "cell_type": "code",
   "execution_count": 2,
   "id": "48fcd7f5",
   "metadata": {},
   "outputs": [
    {
     "name": "stdout",
     "output_type": "stream",
     "text": [
      "/home/ali/PycharmProjects/GBNN/GBNSR6_py/mmpbsa\n"
     ]
    }
   ],
   "source": [
    "AMBERHOME = '/home/ali/Amber/amber22'\n",
    "%cd mmpbsa"
   ]
  },
  {
   "cell_type": "code",
   "execution_count": 3,
   "id": "0e5c51fc",
   "metadata": {},
   "outputs": [],
   "source": [
    "def get_numbers(line, limit = -1):\n",
    "    new_digit = ''\n",
    "    numbers = []\n",
    "    is_neg = False\n",
    "    for i in range(len(line)):\n",
    "        c = line[i]\n",
    "        if i < len(line) - 1 and c == '-' and line[i + 1].isdigit():\n",
    "            is_neg = True\n",
    "        if c.isdigit() or (c == '.' and new_digit != ''):\n",
    "            new_digit += c\n",
    "        if new_digit != '' and c != '.' and (i == len(line) - 1 or not c.isdigit()):\n",
    "            new_num = float(new_digit)\n",
    "            new_num = -new_num if is_neg else new_num\n",
    "            numbers.append(new_num)\n",
    "            if len(numbers) == limit:\n",
    "                return numbers\n",
    "            new_digit = ''\n",
    "    return numbers"
   ]
  },
  {
   "cell_type": "code",
   "execution_count": 4,
   "id": "4bc5d463",
   "metadata": {},
   "outputs": [],
   "source": [
    "def change_inp_endframe(i):\n",
    "    new_lines=[]\n",
    "    for l in open('mmpbsa.in'):\n",
    "        if l.__contains__('endframe'):\n",
    "            new_lines.append('   endframe=' + str(i) + ',\\n')\n",
    "        else:\n",
    "            new_lines.append(l)\n",
    "    f = open('mmpbsa.in', 'w')\n",
    "    for l in new_lines:\n",
    "        f.write(l)\n",
    "    f.close()"
   ]
  },
  {
   "cell_type": "code",
   "execution_count": 5,
   "id": "b4f52314",
   "metadata": {},
   "outputs": [],
   "source": [
    "full_record = []"
   ]
  },
  {
   "cell_type": "code",
   "execution_count": 6,
   "id": "1f1752f5",
   "metadata": {},
   "outputs": [
    {
     "name": "stdout",
     "output_type": "stream",
     "text": [
      "End frame is 1\n",
      "End frame is 2\n",
      "End frame is 3\n",
      "End frame is 4\n",
      "End frame is 5\n",
      "End frame is 6\n",
      "End frame is 7\n",
      "End frame is 8\n",
      "End frame is 9\n",
      "End frame is 10\n",
      "End frame is 11\n",
      "End frame is 12\n",
      "End frame is 13\n",
      "End frame is 14\n",
      "End frame is 15\n",
      "End frame is 16\n",
      "End frame is 17\n",
      "End frame is 18\n",
      "End frame is 19\n"
     ]
    }
   ],
   "source": [
    "mmpbsa_dic = {}\n",
    "for i in range(1, 20):\n",
    "    print(\"End frame is \" + str(i))\n",
    "    change_inp_endframe(i)\n",
    "    subprocess.run(['./run.sh'])\n",
    "    f = open('FINAL_RESULTS_MMPBSA.dat').readlines()\n",
    "    gb = ''.join(f).split('GENERALIZED BORN:')[1].split('POISSON BOLTZMANN:')[0]\n",
    "    mmpbsa_dic = {}\n",
    "    for title in ['Complex', 'Receptor', 'Ligand']:\n",
    "        for param in ['EEL', 'EGB', 'ESURF']:\n",
    "            mmpbsa_dic[title + '_' + param] = get_numbers(gb.split(title)[1].split('TOTAL')[0].split(param)[1].split('\\n')[0])[0]\n",
    "    full_record.append(mmpbsa_dic)"
   ]
  },
  {
   "cell_type": "code",
   "execution_count": 8,
   "id": "5c4b96a0",
   "metadata": {},
   "outputs": [],
   "source": [
    "import pickle\n",
    "with open('prod1_1_20_mmpbsa.pckl', 'wb') as handle:\n",
    "    pickle.dump(full_record, handle, protocol=pickle.HIGHEST_PROTOCOL)"
   ]
  },
  {
   "cell_type": "code",
   "execution_count": 39,
   "id": "f146d436",
   "metadata": {},
   "outputs": [
    {
     "data": {
      "text/plain": [
       "{'Complex_EEL': -17231.1931,\n",
       " 'Complex_EGB': -3313.2849,\n",
       " 'Complex_ESURF': 86.814,\n",
       " 'Receptor_EEL': -11572.6879,\n",
       " 'Receptor_EGB': -2584.014,\n",
       " 'Receptor_ESURF': 60.8072,\n",
       " 'Ligand_EEL': -4670.1313,\n",
       " 'Ligand_EGB': -1694.3062,\n",
       " 'Ligand_ESURF': 36.9751}"
      ]
     },
     "execution_count": 39,
     "metadata": {},
     "output_type": "execute_result"
    }
   ],
   "source": [
    "full_record[0]"
   ]
  }
 ],
 "metadata": {
  "kernelspec": {
   "display_name": "Python 3 (ipykernel)",
   "language": "python",
   "name": "python3"
  },
  "language_info": {
   "codemirror_mode": {
    "name": "ipython",
    "version": 3
   },
   "file_extension": ".py",
   "mimetype": "text/x-python",
   "name": "python",
   "nbconvert_exporter": "python",
   "pygments_lexer": "ipython3",
   "version": "3.8.10"
  }
 },
 "nbformat": 4,
 "nbformat_minor": 5
}
