{
 "cells": [
  {
   "cell_type": "code",
   "execution_count": 1,
   "id": "97a5fef3",
   "metadata": {},
   "outputs": [],
   "source": [
    "from file_parser import parse_traj, read_gbnsr6_output, store_frame_inpcrd, store_single_frame_mdcrd\n",
    "import subprocess"
   ]
  },
  {
   "cell_type": "code",
   "execution_count": 2,
   "id": "4000189a",
   "metadata": {},
   "outputs": [],
   "source": [
    "mdcrd = open('prod1.mdcrd', 'r')\n",
    "lines = mdcrd.readlines()\n",
    "g = parse_traj(lines, 3862, 42193, skip = 1, return_full=True)"
   ]
  },
  {
   "cell_type": "code",
   "execution_count": 3,
   "id": "c56bffbd",
   "metadata": {},
   "outputs": [],
   "source": [
    "def get_numbers(line, limit = -1):\n",
    "    new_digit = ''\n",
    "    numbers = []\n",
    "    is_neg = False\n",
    "    for i in range(len(line)):\n",
    "        c = line[i]\n",
    "        if i < len(line) - 1 and c == '-' and line[i + 1].isdigit():\n",
    "            is_neg = True\n",
    "        if c.isdigit() or (c == '.' and new_digit != ''):\n",
    "            new_digit += c\n",
    "        if new_digit != '' and c != '.' and (i == len(line) - 1 or not c.isdigit()):\n",
    "            new_num = float(new_digit)\n",
    "            new_num = -new_num if is_neg else new_num\n",
    "            numbers.append(new_num)\n",
    "            if len(numbers) == limit:\n",
    "                return numbers\n",
    "            new_digit = ''\n",
    "    return numbers"
   ]
  },
  {
   "cell_type": "code",
   "execution_count": 4,
   "id": "87b39fce",
   "metadata": {},
   "outputs": [
    {
     "name": "stderr",
     "output_type": "stream",
     "text": [
      "Error: in read of Coords frame 1 of trajectory single.mdcrd.\n",
      "Error: Could not set up 'single.mdcrd' for reading.\n",
      "Error: Could not set up input trajectory 'single.mdcrd'.\n",
      "Error: Error(s) occurred during execution.\n",
      "  File \"/home/ali/Amber/amber22/bin/MMPBSA.py\", line 99, in <module>\n",
      "    app.file_setup()\n",
      "  File \"/home/ali/Amber/amber22/lib/python3.9/site-packages/MMPBSA_mods/main.py\", line 155, in file_setup\n",
      "    self.numframes, self.numframes_nmode = make_trajectories(INPUT, FILES,\n",
      "  File \"/home/ali/Amber/amber22/lib/python3.9/site-packages/MMPBSA_mods/make_trajs.py\", line 61, in make_trajectories\n",
      "    traj = Trajectory(FILES.solvated_prmtop, FILES.mdcrd, cpptraj)\n",
      "  File \"/home/ali/Amber/amber22/lib/python3.9/site-packages/MMPBSA_mods/make_trajs.py\", line 469, in __init__\n",
      "    self.Query()\n",
      "  File \"/home/ali/Amber/amber22/lib/python3.9/site-packages/MMPBSA_mods/make_trajs.py\", line 604, in Query\n",
      "    raise TrajError('%s failed when querying %s' % (self.exe, traj))\n",
      "TrajError: /home/ali/Amber/amber22/bin/cpptraj failed when querying single.mdcrd\n",
      "\n",
      "Fatal Error! \n",
      "All files have been retained for your error investigation: \n",
      "You should begin by examining the output files of the first failed calculation.\n",
      "Consult the \"Temporary Files\" subsection of the MMPBSA.py chapter in the\n",
      "manual for file naming conventions.\n"
     ]
    },
    {
     "ename": "IndexError",
     "evalue": "list index out of range",
     "output_type": "error",
     "traceback": [
      "\u001b[0;31m---------------------------------------------------------------------------\u001b[0m",
      "\u001b[0;31mIndexError\u001b[0m                                Traceback (most recent call last)",
      "Input \u001b[0;32mIn [4]\u001b[0m, in \u001b[0;36m<cell line: 2>\u001b[0;34m()\u001b[0m\n\u001b[1;32m      8\u001b[0m \u001b[38;5;28;01mfor\u001b[39;00m title \u001b[38;5;129;01min\u001b[39;00m [\u001b[38;5;124m'\u001b[39m\u001b[38;5;124mComplex\u001b[39m\u001b[38;5;124m'\u001b[39m, \u001b[38;5;124m'\u001b[39m\u001b[38;5;124mReceptor\u001b[39m\u001b[38;5;124m'\u001b[39m, \u001b[38;5;124m'\u001b[39m\u001b[38;5;124mLigand\u001b[39m\u001b[38;5;124m'\u001b[39m]:\n\u001b[1;32m      9\u001b[0m     \u001b[38;5;28;01mfor\u001b[39;00m param \u001b[38;5;129;01min\u001b[39;00m [\u001b[38;5;124m'\u001b[39m\u001b[38;5;124mEEL\u001b[39m\u001b[38;5;124m'\u001b[39m, \u001b[38;5;124m'\u001b[39m\u001b[38;5;124mEGB\u001b[39m\u001b[38;5;124m'\u001b[39m, \u001b[38;5;124m'\u001b[39m\u001b[38;5;124mESURF\u001b[39m\u001b[38;5;124m'\u001b[39m]:\n\u001b[0;32m---> 10\u001b[0m         mmpbsa_dic[title \u001b[38;5;241m+\u001b[39m \u001b[38;5;124m'\u001b[39m\u001b[38;5;124m_\u001b[39m\u001b[38;5;124m'\u001b[39m \u001b[38;5;241m+\u001b[39m param] \u001b[38;5;241m=\u001b[39m \u001b[43mget_numbers\u001b[49m\u001b[43m(\u001b[49m\u001b[43mgb\u001b[49m\u001b[38;5;241;43m.\u001b[39;49m\u001b[43msplit\u001b[49m\u001b[43m(\u001b[49m\u001b[43mtitle\u001b[49m\u001b[43m)\u001b[49m\u001b[43m[\u001b[49m\u001b[38;5;241;43m1\u001b[39;49m\u001b[43m]\u001b[49m\u001b[38;5;241;43m.\u001b[39;49m\u001b[43msplit\u001b[49m\u001b[43m(\u001b[49m\u001b[38;5;124;43m'\u001b[39;49m\u001b[38;5;124;43mTOTAL\u001b[39;49m\u001b[38;5;124;43m'\u001b[39;49m\u001b[43m)\u001b[49m\u001b[43m[\u001b[49m\u001b[38;5;241;43m0\u001b[39;49m\u001b[43m]\u001b[49m\u001b[38;5;241;43m.\u001b[39;49m\u001b[43msplit\u001b[49m\u001b[43m(\u001b[49m\u001b[43mparam\u001b[49m\u001b[43m)\u001b[49m\u001b[43m[\u001b[49m\u001b[38;5;241;43m1\u001b[39;49m\u001b[43m]\u001b[49m\u001b[38;5;241;43m.\u001b[39;49m\u001b[43msplit\u001b[49m\u001b[43m(\u001b[49m\u001b[38;5;124;43m'\u001b[39;49m\u001b[38;5;130;43;01m\\n\u001b[39;49;00m\u001b[38;5;124;43m'\u001b[39;49m\u001b[43m)\u001b[49m\u001b[43m[\u001b[49m\u001b[38;5;241;43m0\u001b[39;49m\u001b[43m]\u001b[49m\u001b[43m)\u001b[49m\u001b[43m[\u001b[49m\u001b[38;5;241;43m0\u001b[39;49m\u001b[43m]\u001b[49m\n\u001b[1;32m     11\u001b[0m full_record\u001b[38;5;241m.\u001b[39mappend(mmpbsa_dic)\n",
      "\u001b[0;31mIndexError\u001b[0m: list index out of range"
     ]
    }
   ],
   "source": [
    "full_record = []\n",
    "for fr in g:\n",
    "    store_single_frame_mdcrd(fr[0], per_line=10, fp='single.mdcrd')\n",
    "    subprocess.run(['./run_mmpbsa.sh'])\n",
    "    f = open('FINAL_RESULTS_MMPBSA.dat').readlines()\n",
    "    gb = ''.join(f).split('GENERALIZED BORN:')[1].split('POISSON BOLTZMANN:')[0]\n",
    "    mmpbsa_dic = {}\n",
    "    for title in ['Complex', 'Receptor', 'Ligand']:\n",
    "        for param in ['EEL', 'EGB', 'ESURF']:\n",
    "            mmpbsa_dic[title + '_' + param] = get_numbers(gb.split(title)[1].split('TOTAL')[0].split(param)[1].split('\\n')[0])[0]\n",
    "    full_record.append(mmpbsa_dic)"
   ]
  },
  {
   "cell_type": "code",
   "execution_count": null,
   "id": "42402d20",
   "metadata": {},
   "outputs": [],
   "source": []
  }
 ],
 "metadata": {
  "kernelspec": {
   "display_name": "Python 3 (ipykernel)",
   "language": "python",
   "name": "python3"
  },
  "language_info": {
   "codemirror_mode": {
    "name": "ipython",
    "version": 3
   },
   "file_extension": ".py",
   "mimetype": "text/x-python",
   "name": "python",
   "nbconvert_exporter": "python",
   "pygments_lexer": "ipython3",
   "version": "3.8.10"
  }
 },
 "nbformat": 4,
 "nbformat_minor": 5
}
