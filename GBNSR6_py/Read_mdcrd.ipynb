{
 "cells": [
  {
   "cell_type": "code",
   "execution_count": 5,
   "id": "76bfe40a",
   "metadata": {},
   "outputs": [],
   "source": [
    "import os\n",
    "from file_parser import parse_traj"
   ]
  },
  {
   "cell_type": "code",
   "execution_count": 1,
   "id": "9112db61",
   "metadata": {},
   "outputs": [],
   "source": [
    "import pickle"
   ]
  },
  {
   "cell_type": "code",
   "execution_count": 5,
   "id": "0c5c6338",
   "metadata": {},
   "outputs": [
    {
     "data": {
      "text/plain": [
       "[{'meta': '1',\n",
       "  'Complex_EEL': -17231.1931,\n",
       "  'Complex_EGB': -3313.2849,\n",
       "  'Complex_ESURF': 86.814,\n",
       "  'Receptor_EEL': -11572.6879,\n",
       "  'Receptor_EGB': -2584.014,\n",
       "  'Receptor_ESURF': 60.8072,\n",
       "  'Ligand_EEL': -4670.1313,\n",
       "  'Ligand_EGB': -1694.3062,\n",
       "  'Ligand_ESURF': 36.9751}]"
      ]
     },
     "execution_count": 5,
     "metadata": {},
     "output_type": "execute_result"
    }
   ],
   "source": [
    "pickle.load(open('prod1.mdcrd-prod2.mdcrd_1_mmpbsa.pkl', 'rb'))"
   ]
  },
  {
   "cell_type": "code",
   "execution_count": 12,
   "id": "76af9a41",
   "metadata": {},
   "outputs": [
    {
     "data": {
      "text/plain": [
       "100"
      ]
     },
     "execution_count": 12,
     "metadata": {},
     "output_type": "execute_result"
    }
   ],
   "source": [
    "cnt"
   ]
  }
 ],
 "metadata": {
  "kernelspec": {
   "display_name": "Python 3 (ipykernel)",
   "language": "python",
   "name": "python3"
  },
  "language_info": {
   "codemirror_mode": {
    "name": "ipython",
    "version": 3
   },
   "file_extension": ".py",
   "mimetype": "text/x-python",
   "name": "python",
   "nbconvert_exporter": "python",
   "pygments_lexer": "ipython3",
   "version": "3.8.10"
  }
 },
 "nbformat": 4,
 "nbformat_minor": 5
}
