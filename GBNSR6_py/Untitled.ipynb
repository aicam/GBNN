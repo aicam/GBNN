{
 "cells": [
  {
   "cell_type": "code",
   "execution_count": 9,
   "id": "f92351ae",
   "metadata": {},
   "outputs": [],
   "source": [
    "import pickle\n",
    "from utils import get_numbers"
   ]
  },
  {
   "cell_type": "code",
   "execution_count": 11,
   "id": "7fb0d971",
   "metadata": {},
   "outputs": [],
   "source": [
    "with open(r\"_1_mmgbsa.pkl\", \"rb\") as input_file:\n",
    "    e = pickle.load(input_file)"
   ]
  },
  {
   "cell_type": "code",
   "execution_count": 12,
   "id": "4ad8a298",
   "metadata": {},
   "outputs": [
    {
     "data": {
      "text/plain": [
       "[{'meta': '1',\n",
       "  'Complex_EEL': -55995.611,\n",
       "  'Complex_EGB': 410.162,\n",
       "  'Complex_ESURF': 253.7691,\n",
       "  'Receptor_EEL': -42345.2,\n",
       "  'Receptor_EGB': -1063.1798,\n",
       "  'Receptor_ESURF': 193.6136,\n",
       "  'Ligand_EEL': -13165.4882,\n",
       "  'Ligand_EGB': 65.5909,\n",
       "  'Ligand_ESURF': 71.7692}]"
      ]
     },
     "execution_count": 12,
     "metadata": {},
     "output_type": "execute_result"
    }
   ],
   "source": [
    "e"
   ]
  },
  {
   "cell_type": "code",
   "execution_count": 6,
   "id": "a5ef72b1",
   "metadata": {},
   "outputs": [],
   "source": [
    "f = open('FINAL_RESULTS_MMPBSA.dat').readlines()\n",
    "gb = ''.join(f).split('GENERALIZED BORN:')[1].split('POISSON BOLTZMANN:')[0]\n",
    "mmgbsa_dic = {}\n",
    "mmgbsa_dic['meta'] = str(1)\n",
    "for title in ['Complex', 'Receptor', 'Ligand']:\n",
    "    for param in ['EEL', 'EGB', 'ESURF']:\n",
    "        mmgbsa_dic[title + '_' + param] = get_numbers(gb.split(title)[1].split('TOTAL')[0].split(param)[1].split('\\n')[0])[0]\n",
    "\n",
    "## PB records\n",
    "pb = ''.join(f).split('POISSON BOLTZMANN:')[1].split('Differences (Complex - Receptor - Ligand):')[1]\n",
    "mmpbsa_dic = {}\n",
    "mmpbsa_dic['meta'] = str(1)\n",
    "for param in ['EEL', 'EPB', 'ENPOLAR', 'EDISPER']:\n",
    "    mmpbsa_dic[param] = get_numbers(pb.split('DELTA G gas')[0].split(param)[1].split('\\n')[0])[0]"
   ]
  },
  {
   "cell_type": "code",
   "execution_count": 7,
   "id": "7ae3e65a",
   "metadata": {},
   "outputs": [
    {
     "data": {
      "text/plain": [
       "{'meta': '1',\n",
       " 'Complex_EEL': -55995.611,\n",
       " 'Complex_EGB': 410.162,\n",
       " 'Complex_ESURF': 253.7691,\n",
       " 'Receptor_EEL': -42345.2,\n",
       " 'Receptor_EGB': -1063.1798,\n",
       " 'Receptor_ESURF': 193.6136,\n",
       " 'Ligand_EEL': -13165.4882,\n",
       " 'Ligand_EGB': 65.5909,\n",
       " 'Ligand_ESURF': 71.7692}"
      ]
     },
     "execution_count": 7,
     "metadata": {},
     "output_type": "execute_result"
    }
   ],
   "source": [
    "mmgbsa_dic"
   ]
  }
 ],
 "metadata": {
  "kernelspec": {
   "display_name": "Python 3 (ipykernel)",
   "language": "python",
   "name": "python3"
  },
  "language_info": {
   "codemirror_mode": {
    "name": "ipython",
    "version": 3
   },
   "file_extension": ".py",
   "mimetype": "text/x-python",
   "name": "python",
   "nbconvert_exporter": "python",
   "pygments_lexer": "ipython3",
   "version": "3.8.10"
  }
 },
 "nbformat": 4,
 "nbformat_minor": 5
}
