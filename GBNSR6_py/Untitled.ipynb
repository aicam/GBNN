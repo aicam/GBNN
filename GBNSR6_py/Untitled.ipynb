{
 "cells": [
  {
   "cell_type": "code",
   "execution_count": 12,
   "id": "083aa09b",
   "metadata": {},
   "outputs": [],
   "source": [
    "from utils import get_numbers\n",
    "import numpy as np"
   ]
  },
  {
   "cell_type": "code",
   "execution_count": 1,
   "id": "47d8aa9e",
   "metadata": {},
   "outputs": [],
   "source": [
    "f_new = open('complex.inpcrd', 'r').readlines()\n",
    "f_org = open('6m0j-606.inpcrd', 'r').readlines()"
   ]
  },
  {
   "cell_type": "code",
   "execution_count": 8,
   "id": "67630a48",
   "metadata": {
    "scrolled": true
   },
   "outputs": [
    {
     "data": {
      "text/plain": [
       "[-31.455, -49.474, -2.505, -32.188, -48.995, -2.001]"
      ]
     },
     "execution_count": 8,
     "metadata": {},
     "output_type": "execute_result"
    }
   ],
   "source": [
    "get_numbers(f_org[2])"
   ]
  },
  {
   "cell_type": "code",
   "execution_count": 9,
   "id": "16291de0",
   "metadata": {},
   "outputs": [],
   "source": [
    "full_len_new = 0\n",
    "for l in f_new:\n",
    "    full_len_new += len(get_numbers(l))\n",
    "full_len_org = 0\n",
    "for l in f_org:\n",
    "    full_len_org += len(get_numbers(l))"
   ]
  },
  {
   "cell_type": "code",
   "execution_count": 13,
   "id": "11a8c9fe",
   "metadata": {},
   "outputs": [],
   "source": [
    "all_nums = []\n",
    "for i in range(2, len(f_new)):\n",
    "    all_nums.append(get_numbers(f_new[i]))"
   ]
  },
  {
   "cell_type": "code",
   "execution_count": 15,
   "id": "ed7780e9",
   "metadata": {},
   "outputs": [
    {
     "name": "stderr",
     "output_type": "stream",
     "text": [
      "/tmp/ipykernel_13064/1068976342.py:1: VisibleDeprecationWarning: Creating an ndarray from ragged nested sequences (which is a list-or-tuple of lists-or-tuples-or ndarrays with different lengths or shapes) is deprecated. If you meant to do this, you must specify 'dtype=object' when creating the ndarray.\n",
      "  np.array(all_nums)\n"
     ]
    },
    {
     "data": {
      "text/plain": [
       "array([list([45.197, 48.596, 93.726, 44.661, 49.395, 93.417]),\n",
       "       list([45.839, 48.277, 93.014, 44.652, 47.767, 93.911]),\n",
       "       list([45.959, 49.059, 94.895, 45.249, 49.496, 95.596]), ...,\n",
       "       list([45.03, 11.508, 56.499, 46.149, 14.716, 54.239]),\n",
       "       list([45.548, 14.986, 53.169, 47.451, 14.869, 54.368]),\n",
       "       list([47.907, 14.551, 55.211])], dtype=object)"
      ]
     },
     "execution_count": 15,
     "metadata": {},
     "output_type": "execute_result"
    }
   ],
   "source": []
  }
 ],
 "metadata": {
  "kernelspec": {
   "display_name": "Python 3 (ipykernel)",
   "language": "python",
   "name": "python3"
  },
  "language_info": {
   "codemirror_mode": {
    "name": "ipython",
    "version": 3
   },
   "file_extension": ".py",
   "mimetype": "text/x-python",
   "name": "python",
   "nbconvert_exporter": "python",
   "pygments_lexer": "ipython3",
   "version": "3.8.10"
  }
 },
 "nbformat": 4,
 "nbformat_minor": 5
}
