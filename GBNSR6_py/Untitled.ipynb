{
 "cells": [
  {
   "cell_type": "code",
   "execution_count": 2,
   "id": "7ae3e65a",
   "metadata": {},
   "outputs": [],
   "source": [
    "f = open('FINAL_RESULTS_MMPBSA.dat', 'r').readlines()"
   ]
  },
  {
   "cell_type": "code",
   "execution_count": 5,
   "id": "38d91477",
   "metadata": {},
   "outputs": [],
   "source": [
    "def get_numbers(line, limit = -1):\n",
    "    new_digit = ''\n",
    "    numbers = []\n",
    "    is_neg = False\n",
    "    for i in range(len(line)):\n",
    "        c = line[i]\n",
    "        if i < len(line) - 1 and c == '-' and line[i + 1].isdigit():\n",
    "            is_neg = True\n",
    "        if c.isdigit() or (c == '.' and new_digit != ''):\n",
    "            new_digit += c\n",
    "        if new_digit != '' and c != '.' and (i == len(line) - 1 or not c.isdigit()):\n",
    "            new_num = float(new_digit)\n",
    "            new_num = -new_num if is_neg else new_num\n",
    "            numbers.append(new_num)\n",
    "            if len(numbers) == limit:\n",
    "                return numbers\n",
    "            new_digit = ''\n",
    "    return numbers"
   ]
  },
  {
   "cell_type": "code",
   "execution_count": 6,
   "id": "23734308",
   "metadata": {},
   "outputs": [],
   "source": [
    "gb = ''.join(f).split('GENERALIZED BORN:')[1].split('POISSON BOLTZMANN:')[0]\n",
    "mmgbsa_dic = {}\n",
    "all_records_mmgbsa = []\n",
    "for title in ['Complex', 'Receptor', 'Ligand']:\n",
    "    for param in ['EEL', 'EGB', 'ESURF']:\n",
    "        mmgbsa_dic[title + '_' + param] = get_numbers(gb.split(title)[1].split('TOTAL')[0].split(param)[1].split('\\n')[0])[0]\n",
    "all_records_mmgbsa.append(mmgbsa_dic)"
   ]
  },
  {
   "cell_type": "code",
   "execution_count": 10,
   "id": "24b2fc35",
   "metadata": {},
   "outputs": [],
   "source": [
    "pb = ''.join(f).split('POISSON BOLTZMANN:')[1].split('Differences (Complex - Receptor - Ligand):')[1]\n",
    "mmpbsa_dic = {}\n",
    "for title in ['Complex', 'Receptor', 'Ligand']:\n",
    "    for param in ['EEL', 'EPB', 'ENPOLAR', 'EDISPER']:\n",
    "        mmpbsa_dic[title + '_' + param] = get_numbers(pb.split('DELTA G gas')[0].split(param)[1].split('\\n')[0])[0]"
   ]
  },
  {
   "cell_type": "code",
   "execution_count": 11,
   "id": "618a7b2a",
   "metadata": {},
   "outputs": [
    {
     "data": {
      "text/plain": [
       "{'Complex_EEL': -1003.44,\n",
       " 'Complex_EPB': 1004.2629,\n",
       " 'Complex_ENPOLAR': -52.8659,\n",
       " 'Complex_EDISPER': 101.5668,\n",
       " 'Receptor_EEL': -1003.44,\n",
       " 'Receptor_EPB': 1004.2629,\n",
       " 'Receptor_ENPOLAR': -52.8659,\n",
       " 'Receptor_EDISPER': 101.5668,\n",
       " 'Ligand_EEL': -1003.44,\n",
       " 'Ligand_EPB': 1004.2629,\n",
       " 'Ligand_ENPOLAR': -52.8659,\n",
       " 'Ligand_EDISPER': 101.5668}"
      ]
     },
     "execution_count": 11,
     "metadata": {},
     "output_type": "execute_result"
    }
   ],
   "source": [
    "mmpbsa_dic"
   ]
  }
 ],
 "metadata": {
  "kernelspec": {
   "display_name": "Python 3 (ipykernel)",
   "language": "python",
   "name": "python3"
  },
  "language_info": {
   "codemirror_mode": {
    "name": "ipython",
    "version": 3
   },
   "file_extension": ".py",
   "mimetype": "text/x-python",
   "name": "python",
   "nbconvert_exporter": "python",
   "pygments_lexer": "ipython3",
   "version": "3.8.10"
  }
 },
 "nbformat": 4,
 "nbformat_minor": 5
}
