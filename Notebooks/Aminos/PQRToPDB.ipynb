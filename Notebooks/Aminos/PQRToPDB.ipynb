{
 "cells": [
  {
   "cell_type": "code",
   "execution_count": 2,
   "id": "c061be40",
   "metadata": {
    "pycharm": {
     "name": "#%%\n"
    }
   },
   "outputs": [],
   "source": [
    "import pandas as pd\n",
    "import tensorflow as tf\n",
    "import numpy as np\n",
    "import os\n",
    "# import conda_installer\n",
    "from rdkit import Chem\n",
    "from deepchem.feat.graph_features import atom_features as get_atom_features\n",
    "import rdkit"
   ]
  },
  {
   "cell_type": "code",
   "execution_count": 6,
   "id": "ee14e7e4",
   "metadata": {
    "pycharm": {
     "name": "#%%\n"
    }
   },
   "outputs": [
    {
     "data": {
      "text/plain": [
       "['trp2-abt.pqr',\n",
       " 'leu-abt.pqr',\n",
       " 'thr2-abt.pqr',\n",
       " 'ser-abt.pqr',\n",
       " 'asp-abt.pqr',\n",
       " 'ala2-abt.pqr',\n",
       " 'tyr-abt.pqr',\n",
       " 'asp2-abt.pqr',\n",
       " 'asn-abt.pqr',\n",
       " 'val2-abt.pqr',\n",
       " 'arg-abt.pqr',\n",
       " 'thr-abt.pqr',\n",
       " 'phe-abt.pqr',\n",
       " 'tyr2-abt.pqr',\n",
       " 'hsd-abt.pqr',\n",
       " 'ala-abt.pqr',\n",
       " 'phe2-abt.pqr',\n",
       " 'met-abt.pqr',\n",
       " 'arg2-abt.pqr',\n",
       " 'glh2-abt.pqr',\n",
       " 'asn2-abt.pqr',\n",
       " 'pro2-abt.pqr',\n",
       " 'ser2-abt.pqr',\n",
       " 'lys-abt.pqr',\n",
       " 'ile-abt.pqr',\n",
       " 'pro-abt.pqr',\n",
       " 'cys-abt.pqr',\n",
       " 'trp-abt.pqr',\n",
       " 'hsd2-abt.pqr',\n",
       " 'gln-abt.pqr',\n",
       " 'gly2-abt.pqr',\n",
       " 'met2-abt.pqr',\n",
       " 'cys2-abt.pqr',\n",
       " 'gln2-abt.pqr',\n",
       " 'ile2-abt.pqr',\n",
       " 'gly-abt.pqr',\n",
       " 'val-abt.pqr',\n",
       " 'ash-abt.pqr',\n",
       " 'glu2-abt.pqr',\n",
       " 'lys2-abt.pqr',\n",
       " 'ash2-abt.pqr',\n",
       " 'glu-abt.pqr',\n",
       " 'glh-abt.pqr',\n",
       " 'leu2-abt.pqr']"
      ]
     },
     "execution_count": 6,
     "metadata": {},
     "output_type": "execute_result"
    }
   ],
   "source": [
    "path = '../../Datasets/Aminos/amino_44/'\n",
    "os.listdir(path + 'pqr/')"
   ]
  },
  {
   "cell_type": "code",
   "execution_count": 8,
   "id": "6c959ac1",
   "metadata": {
    "pycharm": {
     "name": "#%%\n"
    }
   },
   "outputs": [],
   "source": [
    "for f in os.listdir(path + 'pqr/'):\n",
    "    mol = Chem.MolFromPDBFile(path + 'pqr/%s' % f)\n",
    "    Chem.MolToPDBFile(mol, path + 'pdb/%s' % f.split('.')[0] + '.pdb')"
   ]
  }
 ],
 "metadata": {
  "kernelspec": {
   "display_name": "GBNN",
   "language": "python",
   "name": "gbnn"
  },
  "language_info": {
   "codemirror_mode": {
    "name": "ipython",
    "version": 3
   },
   "file_extension": ".py",
   "mimetype": "text/x-python",
   "name": "python",
   "nbconvert_exporter": "python",
   "pygments_lexer": "ipython3",
   "version": "3.8.10"
  }
 },
 "nbformat": 4,
 "nbformat_minor": 5
}