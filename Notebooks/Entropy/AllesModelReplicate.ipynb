{
 "cells": [
  {
   "cell_type": "code",
   "execution_count": 2,
   "id": "d4c0c27a",
   "metadata": {},
   "outputs": [],
   "source": [
    "import pandas as pd\n",
    "import tensorflow as tf\n",
    "import numpy as np\n",
    "import os\n",
    "import conda_installer\n",
    "from rdkit import Chem\n",
    "from deepchem.feat.graph_features import atom_features as get_atom_features\n",
    "import rdkit\n",
    "import pickle\n",
    "import matplotlib.pyplot as plt\n",
    "import deepchem as dc"
   ]
  },
  {
   "cell_type": "code",
   "execution_count": 3,
   "id": "02c4c27b",
   "metadata": {},
   "outputs": [],
   "source": [
    "PDBs = pickle.load(open('PDBs_RDKit.pkl', 'rb'))\n",
    "df = pd.read_csv('T_data.csv')"
   ]
  },
  {
   "cell_type": "code",
   "execution_count": 4,
   "id": "8fad7ad4",
   "metadata": {},
   "outputs": [],
   "source": [
    "training_cols = ['TS_comp', 'TS_host', 'TS_ligand']"
   ]
  },
  {
   "cell_type": "code",
   "execution_count": 5,
   "id": "c1192717",
   "metadata": {},
   "outputs": [],
   "source": [
    "featurizer = dc.feat.ConvMolFeaturizer(per_atom_fragmentation=False)\n",
    "TRAIN_SET = .8"
   ]
  },
  {
   "cell_type": "code",
   "execution_count": 6,
   "id": "c4ae83d4",
   "metadata": {},
   "outputs": [],
   "source": [
    "X = []\n",
    "X_ids = []\n",
    "# one_add = 0 if len(PDBs.keys()) % 2 == 0 else 1\n",
    "for k in PDBs.keys():\n",
    "    X_ids.append(k)\n",
    "    X.append(featurizer.featurize(PDBs[k]))\n",
    "split_index = int(len(X) * TRAIN_SET)\n",
    "X = [x[0] for x in X]\n",
    "X_train_featurized = X[:split_index]\n",
    "X_test_featurized = X[split_index:]"
   ]
  },
  {
   "cell_type": "code",
   "execution_count": 7,
   "id": "5bd7a7ed",
   "metadata": {},
   "outputs": [],
   "source": [
    "pdb_names = [i for i in X_ids]\n",
    "pdb_names_train = pdb_names[:split_index]\n",
    "pdb_names_test = pdb_names[split_index:]"
   ]
  },
  {
   "cell_type": "code",
   "execution_count": 8,
   "id": "131d492e",
   "metadata": {},
   "outputs": [],
   "source": [
    "x_add_train, x_add_test, y_train, y_test = [], [], [], []\n",
    "for i in range(len(pdb_names_train)):\n",
    "    new_df = df[(df['Id'] == pdb_names_train[i])]\n",
    "    y_train.append(new_df['exp'].to_numpy()[0])\n",
    "    x_add_train.append(new_df[training_cols].to_numpy()[0])\n",
    "y_train = np.array(y_train)\n",
    "    \n",
    "for i in range(len(pdb_names_test)):\n",
    "    new_df = df[(df['Id'] == pdb_names_test[i])]\n",
    "    y_test.append(new_df['exp'].to_numpy()[0])\n",
    "    x_add_test.append(new_df[training_cols].to_numpy()[0])\n",
    "y_test = np.array(y_test)"
   ]
  },
  {
   "cell_type": "code",
   "execution_count": 9,
   "id": "dca3568d",
   "metadata": {},
   "outputs": [],
   "source": [
    "x_train_append = []\n",
    "atom_numbers = [x.get_num_atoms() for x in X_train_featurized]\n",
    "for i in range(len(X_train_featurized)):\n",
    "    for _ in range(atom_numbers[i]):\n",
    "        x_train_append.append(-x_add_train[i][0] + x_add_train[i][1] + x_add_train[i][2])\n",
    "x_train_append = np.array(x_train_append).reshape([-1, 1])\n",
    "\n",
    "x_test_append = []\n",
    "atom_numbers = [x.get_num_atoms() for x in X_test_featurized]\n",
    "for i in range(len(X_test_featurized)):\n",
    "    for _ in range(atom_numbers[i]):\n",
    "        x_test_append.append(-x_add_test[i][0] + x_add_test[i][1] + x_add_test[i][2])\n",
    "x_test_append = np.array(x_test_append).reshape([-1, 1])"
   ]
  },
  {
   "cell_type": "code",
   "execution_count": 10,
   "id": "7ab5f752",
   "metadata": {},
   "outputs": [],
   "source": [
    "from deepchem.metrics import to_one_hot\n",
    "from deepchem.feat.mol_graphs import ConvMol\n",
    "\n",
    "x_preprocessed_train, x_preprocessed_test = [], []\n",
    "\n",
    "## for X train\n",
    "multiConvMol = ConvMol.agglomerate_mols(X_train_featurized)\n",
    "test_f = multiConvMol.get_atom_features()\n",
    "x_preprocessed_train = [np.concatenate([multiConvMol.get_atom_features(), x_train_append], 1), \n",
    "                        multiConvMol.deg_slice, np.array(multiConvMol.membership)]\n",
    "for i in range(1, len(multiConvMol.get_deg_adjacency_lists())):\n",
    "    x_preprocessed_train.append(multiConvMol.get_deg_adjacency_lists()[i])\n",
    "x_preprocessed_train.append(np.array(x_add_train))\n",
    "\n",
    "## for X test\n",
    "multiConvMol = ConvMol.agglomerate_mols(X_test_featurized)\n",
    "x_preprocessed_test = [np.concatenate([multiConvMol.get_atom_features(), x_test_append], 1), \n",
    "                       multiConvMol.deg_slice, np.array(multiConvMol.membership)]\n",
    "for i in range(1, len(multiConvMol.get_deg_adjacency_lists())):\n",
    "    x_preprocessed_test.append(multiConvMol.get_deg_adjacency_lists()[i])\n",
    "x_preprocessed_test.append(np.array(x_add_test))"
   ]
  },
  {
   "cell_type": "code",
   "execution_count": 11,
   "id": "315ed13c",
   "metadata": {},
   "outputs": [],
   "source": [
    "x_train = np.full([14, np.max([v.shape[0] for v in x_preprocessed_train]),\n",
    "                  np.max([v.shape[1] for v in x_preprocessed_train if len(v.shape) > 1])], 1.123456)\n",
    "for i,j in enumerate(x_preprocessed_train):\n",
    "    if len(j.shape) > 1:\n",
    "        x_train[i][:j.shape[0],:j.shape[1]] = np.array(j)\n",
    "    else:\n",
    "        x_train[i][:len(j), :1] = np.array(j).reshape(j.shape[0], 1)\n",
    "x_train = x_train.reshape([1] + list(x_train.shape))\n",
    "\n",
    "x_test = np.full([14, np.max([v.shape[0] for v in x_preprocessed_test]),\n",
    "                  np.max([v.shape[1] for v in x_preprocessed_test if len(v.shape) > 1])], 1.123456)\n",
    "for i,j in enumerate(x_preprocessed_test):\n",
    "    if len(j.shape) > 1:\n",
    "        x_test[i][:j.shape[0],:j.shape[1]] = np.array(j)\n",
    "    else:\n",
    "        x_test[i][:len(j), :1] = np.array(j).reshape(j.shape[0], 1)\n",
    "x_test = x_test.reshape([1] + list(x_test.shape))"
   ]
  },
  {
   "cell_type": "code",
   "execution_count": 12,
   "id": "1e70a76e",
   "metadata": {},
   "outputs": [
    {
     "name": "stderr",
     "output_type": "stream",
     "text": [
      "2023-04-10 17:37:49.562583: E tensorflow/compiler/xla/stream_executor/cuda/cuda_driver.cc:266] failed call to cuInit: CUDA_ERROR_NO_DEVICE: no CUDA-capable device is detected\n"
     ]
    }
   ],
   "source": [
    "from deepchem.models.layers import GraphConv, GraphPool, GraphGather\n",
    "import keras.backend as K\n",
    "import tensorflow.keras.layers as layers\n",
    "from tensorflow.keras.layers import Dense, Input, BatchNormalization, Concatenate\n",
    "from tensorflow.keras import initializers\n",
    "import sys\n",
    "import tensorflow as tf\n",
    "import random\n",
    "\n",
    "\n",
    "class GBGraphConvModel(tf.keras.Model):\n",
    "\n",
    "  def modify_graphgather(self, batch_size):\n",
    "    self.readout.batch_size = batch_size\n",
    "    self.batch_size = batch_size\n",
    "    \n",
    "  def __init__(self, batch_size):\n",
    "    super(GBGraphConvModel, self).__init__()\n",
    "    self.input_shapes = None\n",
    "    self.batch_size = batch_size\n",
    "    self.gc1 = GraphConv(64, activation_fn=tf.nn.tanh)\n",
    "    self.batch_norm1 = layers.BatchNormalization()\n",
    "    self.gp1 = GraphPool()\n",
    "\n",
    "    self.gc2 = GraphConv(64, activation_fn=tf.nn.tanh)\n",
    "    self.batch_norm2 = layers.BatchNormalization()\n",
    "    self.gp2 = GraphPool()\n",
    "\n",
    "    self.dense1 = layers.Dense(128, activation=tf.nn.tanh)\n",
    "    self.batch_norm3 = layers.BatchNormalization()\n",
    "    self.readout = GraphGather(batch_size=self.batch_size, activation_fn=tf.nn.tanh)\n",
    "\n",
    "    self.dense2 = layers.Dense(64, activation=tf.nn.sigmoid)\n",
    "    self.dense3 = layers.Dense(1)\n",
    "    \n",
    "    ## Dense for overall\n",
    "#     self.dense4 = layers.Dense(1, \n",
    "#      kernel_initializer=initializers.Constant([.5, -1, 1, 1]),\n",
    "#      bias_initializer=initializers.Zeros(), activation=tf.keras.activations.relu)\n",
    "\n",
    "#     self.dense4 = layers.Dense(1, \n",
    "#          kernel_initializer=initializers.Constant([.5, -1, -1, -1, -1, 1, 1, 1, 1, 1, 1, 1, 1, -1, 1, 1]),\n",
    "#          bias_initializer=initializers.Zeros(), activation=tf.keras.activations.relu)\n",
    "\n",
    "  def call(self, inputs):\n",
    "#     x_feat, x_add = inputs[0], inputs[1]\n",
    "    inputs = inputs[0]\n",
    "    x = []\n",
    "#     input_shapes = [[4822, 75], [11, 2], [4822], [1142, 1], [1635, 2], [2042, 3],\n",
    "#                    [3, 4], [0, 5], [0, 6], [0, 7], [0, 8], [0, 9], [0, 10]]\n",
    "    for i in range(len(self.input_shapes)):\n",
    "        x.append(tf.reshape(inputs[i][inputs[i] != 1.123456], self.input_shapes[i]))\n",
    "    for i in range(1, len(self.input_shapes)):\n",
    "        x[i] = tf.cast(x[i], tf.int32)\n",
    "    x_add = tf.reshape(inputs[13][inputs[13] != 1.123456], [self.batch_size, 3])\n",
    "\n",
    "    gc1_output = self.gc1(x)\n",
    "    batch_norm1_output = self.batch_norm1(gc1_output)\n",
    "    gp1_output = self.gp1([batch_norm1_output] + x[1:])\n",
    "\n",
    "    gc2_output = self.gc2([gp1_output] + x[1:])\n",
    "    batch_norm2_output = self.batch_norm1(gc2_output)\n",
    "    gp2_output = self.gp2([batch_norm2_output] + x[1:])\n",
    "\n",
    "    dense1_output = self.dense1(gp2_output)\n",
    "    batch_norm3_output = self.batch_norm3(dense1_output)\n",
    "    readout_output = self.readout([batch_norm3_output] + x[1:])\n",
    "    \n",
    "    model_var = self.dense2(readout_output)\n",
    "    model_var = self.dense3(model_var)\n",
    "#     binding_affinity = tf.concat([model_var, x_add], axis=1)\n",
    "#     ddg = self.dense4(binding_affinity)\n",
    "\n",
    "#     tf.print(self.dense4.weights, output_stream=\"file://weights.txt\", summarize=30)\n",
    "#     tf.print(binding_affinity[0], output_stream=\"file://binding_a.txt\", summarize=30)\n",
    "#     tf.print(ddg[0], output_stream=\"file://ddg.txt\")\n",
    "#     tf.print(model_var, output_stream=\"file://model_var.txt\", summarize=30)\n",
    "#     tf.print(\"-------------------------\", output_stream=sys.stdout)\n",
    "    return model_var\n",
    "\n",
    "def root_mean_squared_error(y_true, y_pred):\n",
    "        return K.sqrt(K.mean(K.square(y_pred - y_true))) \n",
    "model = GBGraphConvModel(split_index)\n",
    "model.compile(optimizer = \"rmsprop\", loss = root_mean_squared_error)\n",
    "K.set_value(model.optimizer.learning_rate, 0.001)"
   ]
  },
  {
   "cell_type": "code",
   "execution_count": 13,
   "id": "61915cbe",
   "metadata": {},
   "outputs": [
    {
     "name": "stdout",
     "output_type": "stream",
     "text": [
      "Epoch 1/20\n"
     ]
    },
    {
     "name": "stderr",
     "output_type": "stream",
     "text": [
      "2023-04-10 17:37:49.850248: W tensorflow/tsl/framework/cpu_allocator_impl.cc:83] Allocation of 27370336 exceeds 10% of free system memory.\n"
     ]
    },
    {
     "name": "stdout",
     "output_type": "stream",
     "text": [
      "1/1 [==============================] - 5s 5s/step - loss: 1.7928\n",
      "Epoch 2/20\n"
     ]
    },
    {
     "name": "stderr",
     "output_type": "stream",
     "text": [
      "2023-04-10 17:37:54.752312: W tensorflow/tsl/framework/cpu_allocator_impl.cc:83] Allocation of 27370336 exceeds 10% of free system memory.\n",
      "2023-04-10 17:37:54.752687: W tensorflow/tsl/framework/cpu_allocator_impl.cc:83] Allocation of 27370336 exceeds 10% of free system memory.\n",
      "2023-04-10 17:37:54.752813: W tensorflow/tsl/framework/cpu_allocator_impl.cc:83] Allocation of 27370336 exceeds 10% of free system memory.\n",
      "2023-04-10 17:37:54.753011: W tensorflow/tsl/framework/cpu_allocator_impl.cc:83] Allocation of 27370336 exceeds 10% of free system memory.\n"
     ]
    },
    {
     "name": "stdout",
     "output_type": "stream",
     "text": [
      "1/1 [==============================] - 0s 65ms/step - loss: 1.6374\n",
      "Epoch 3/20\n",
      "1/1 [==============================] - 0s 55ms/step - loss: 1.6231\n",
      "Epoch 4/20\n",
      "1/1 [==============================] - 0s 47ms/step - loss: 1.6270\n",
      "Epoch 5/20\n",
      "1/1 [==============================] - 0s 52ms/step - loss: 1.6219\n",
      "Epoch 6/20\n",
      "1/1 [==============================] - 0s 59ms/step - loss: 1.6124\n",
      "Epoch 7/20\n",
      "1/1 [==============================] - 0s 57ms/step - loss: 1.6107\n",
      "Epoch 8/20\n",
      "1/1 [==============================] - 0s 53ms/step - loss: 1.6095\n",
      "Epoch 9/20\n",
      "1/1 [==============================] - 0s 57ms/step - loss: 1.6091\n",
      "Epoch 10/20\n",
      "1/1 [==============================] - 0s 56ms/step - loss: 1.6093\n",
      "Epoch 11/20\n",
      "1/1 [==============================] - 0s 55ms/step - loss: 1.6096\n",
      "Epoch 12/20\n",
      "1/1 [==============================] - 0s 55ms/step - loss: 1.6104\n",
      "Epoch 13/20\n",
      "1/1 [==============================] - 0s 57ms/step - loss: 1.6115\n",
      "Epoch 14/20\n",
      "1/1 [==============================] - 0s 58ms/step - loss: 1.6132\n",
      "Epoch 15/20\n",
      "1/1 [==============================] - 0s 48ms/step - loss: 1.6164\n",
      "Epoch 16/20\n",
      "1/1 [==============================] - 0s 54ms/step - loss: 1.6207\n",
      "Epoch 17/20\n",
      "1/1 [==============================] - 0s 56ms/step - loss: 1.6241\n",
      "Epoch 18/20\n",
      "1/1 [==============================] - 0s 52ms/step - loss: 1.6227\n",
      "Epoch 19/20\n",
      "1/1 [==============================] - 0s 53ms/step - loss: 1.6197\n",
      "Epoch 20/20\n",
      "1/1 [==============================] - 0s 56ms/step - loss: 1.6160\n"
     ]
    }
   ],
   "source": [
    "model.input_shapes = [i.shape for i in x_preprocessed_train]\n",
    "history = model.fit(x_train, y_train.reshape([1, -1]), epochs=20)"
   ]
  },
  {
   "cell_type": "code",
   "execution_count": 14,
   "id": "11717951",
   "metadata": {},
   "outputs": [
    {
     "name": "stdout",
     "output_type": "stream",
     "text": [
      "1/1 [==============================] - 1s 867ms/step - loss: 3.2347\n"
     ]
    },
    {
     "data": {
      "text/plain": [
       "3.234731674194336"
      ]
     },
     "execution_count": 14,
     "metadata": {},
     "output_type": "execute_result"
    }
   ],
   "source": [
    "model.input_shapes = [i.shape for i in x_preprocessed_test]\n",
    "model.modify_graphgather(len(X) - split_index)\n",
    "model.evaluate(x_test, y_test.reshape([1, -1]))"
   ]
  },
  {
   "cell_type": "code",
   "execution_count": 16,
   "id": "f5fcd9dd",
   "metadata": {},
   "outputs": [],
   "source": [
    "with open('JCIM_result/Alles_single.pkl', 'wb') as f:\n",
    "    pickle.dump([history.history['loss'], 3.23], f)"
   ]
  },
  {
   "cell_type": "code",
   "execution_count": 18,
   "id": "cb4f0546",
   "metadata": {
    "scrolled": true
   },
   "outputs": [
    {
     "name": "stderr",
     "output_type": "stream",
     "text": [
      "No artists with labels found to put in legend.  Note that artists whose label start with an underscore are ignored when legend() is called with no argument.\n"
     ]
    },
    {
     "data": {
      "text/plain": [
       "<matplotlib.legend.Legend at 0x7f30902f3970>"
      ]
     },
     "execution_count": 18,
     "metadata": {},
     "output_type": "execute_result"
    },
    {
     "data": {
      "image/png": "[encoded data removed]",
      "text/plain": [
       "<Figure size 432x288 with 1 Axes>"
      ]
     },
     "metadata": {
      "needs_background": "light"
     },
     "output_type": "display_data"
    }
   ],
   "source": [
    "plt.plot(history.history['loss'])\n",
    "plt.xlabel('Epoch')\n",
    "plt.ylabel('Alles Old model RMSE')\n",
    "plt.legend()"
   ]
  }
 ],
 "metadata": {
  "kernelspec": {
   "display_name": "GBNN",
   "language": "python",
   "name": "gbnn"
  },
  "language_info": {
   "codemirror_mode": {
    "name": "ipython",
    "version": 3
   },
   "file_extension": ".py",
   "mimetype": "text/x-python",
   "name": "python",
   "nbconvert_exporter": "python",
   "pygments_lexer": "ipython3",
   "version": "3.8.10"
  }
 },
 "nbformat": 4,
 "nbformat_minor": 5
}
