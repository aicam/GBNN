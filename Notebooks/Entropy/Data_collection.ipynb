{
 "cells": [
  {
   "cell_type": "code",
   "execution_count": 4,
   "id": "e96abd52",
   "metadata": {},
   "outputs": [],
   "source": [
    "import pandas as pd\n",
    "import tensorflow as tf\n",
    "import numpy as np\n",
    "import os\n",
    "import conda_installer\n",
    "# import matplotlib.pyplot as plt\n",
    "# conda_installer.install()\n",
    "# conda_installer.install()\n",
    "# !/root/miniconda/bin/conda info -e\n",
    "from rdkit import Chem\n",
    "from deepchem.feat.graph_features import atom_features as get_atom_features\n",
    "import rdkit"
   ]
  },
  {
   "cell_type": "code",
   "execution_count": 5,
   "id": "ac5f7907",
   "metadata": {},
   "outputs": [],
   "source": [
    "PDBs = {}"
   ]
  },
  {
   "cell_type": "code",
   "execution_count": 6,
   "id": "9e4e4fc8",
   "metadata": {},
   "outputs": [],
   "source": [
    "df_all = pd.DataFrame({'Id': [], 'TS_comp': [], 'TS_host': [], 'TS_ligand': []})"
   ]
  },
  {
   "cell_type": "markdown",
   "id": "a2672770",
   "metadata": {},
   "source": [
    "# cb7_gilson_feprocess"
   ]
  },
  {
   "cell_type": "markdown",
   "id": "1bb3043f",
   "metadata": {},
   "source": [
    "# CSV"
   ]
  },
  {
   "cell_type": "code",
   "execution_count": 7,
   "id": "0e44ef54",
   "metadata": {},
   "outputs": [],
   "source": [
    "df_com = pd.read_csv('../../Datasets/VM2_data/cb7_gilson_feprocess/cb7_feprocess_complex.csv')\n",
    "df_lig = pd.read_csv('../../Datasets/VM2_data/cb7_gilson_feprocess/feprocess_ligand.csv')\n",
    "df_hos = pd.read_csv('../../Datasets/VM2_data/cb7_gilson_feprocess/cb7_feprocess_host.csv')\n",
    "comp_arr = df_com[' S'].to_numpy()\n",
    "lig_arr = df_lig[' S'].to_numpy()\n",
    "hos_arr = df_hos[' S'].to_list()*29\n",
    "Ids = ['gilson_' + df_com.iloc[i][' Ident'] for i in range(len(comp_arr))]\n",
    "\n",
    "df_cb7_gilson = pd.DataFrame({'Id': Ids, 'TS_comp': comp_arr, 'TS_host': hos_arr, 'TS_ligand': lig_arr})\n",
    "df_all = pd.concat([df_all, df_cb7_gilson], ignore_index=True)"
   ]
  },
  {
   "cell_type": "code",
   "execution_count": 8,
   "id": "07cd846a",
   "metadata": {},
   "outputs": [],
   "source": [
    "path = '../../Datasets/VM2_data/cb7_gilson_feprocess/'\n",
    "host_pdb = Chem.SDMolSupplier(path + 'hosts/cb7.sdf')[0]\n",
    "ligands_pdb = Chem.SDMolSupplier(path + 'ligands/cb7_ligands.sdf')\n",
    "PDBs_cb7_gilson = {'gilson_cb7--guest%d' % (i + 1): Chem.CombineMols(host_pdb, ligands_pdb[i]) for i in range(29)}\n",
    "PDBs.update(PDBs_cb7_gilson)"
   ]
  },
  {
   "cell_type": "markdown",
   "id": "b20a18bb",
   "metadata": {},
   "source": [
    "# cd_mobley_set2"
   ]
  },
  {
   "cell_type": "code",
   "execution_count": 9,
   "id": "b6cde643",
   "metadata": {},
   "outputs": [],
   "source": [
    "df_com = pd.read_csv('../../Datasets/VM2_data/cd_mobley_set2/b-cyclodex_feprocess_complex.csv')\n",
    "df_lig = pd.read_csv('../../Datasets/VM2_data/cd_mobley_set2/feprocess_ligand.csv')\n",
    "df_hos = pd.read_csv('../../Datasets/VM2_data/cd_mobley_set2/b-cyclodex_feprocess_host.csv')\n",
    "comp_arr = df_com[' S'].to_numpy()\n",
    "lig_arr = df_lig[' S'].to_numpy()\n",
    "hos_arr = df_hos[' S'].to_list()*21\n",
    "Ids = ['mobley_set2_' + df_com.iloc[i][' Ident'] for i in range(len(comp_arr))]\n",
    "\n",
    "df_mobley_set2 = pd.DataFrame({'Id': Ids, 'TS_comp': comp_arr, 'TS_host': hos_arr, 'TS_ligand': lig_arr})\n",
    "df_all = pd.concat([df_all, df_mobley_set2], ignore_index=True)"
   ]
  },
  {
   "cell_type": "code",
   "execution_count": 10,
   "id": "9f5ec8a0",
   "metadata": {},
   "outputs": [],
   "source": [
    "path = '../../Datasets/VM2_data/cd_mobley_set2/'\n",
    "host_pdb = Chem.SDMolSupplier(path + 'hosts/b-cyclodex.sdf')[0]\n",
    "ligands_pdb = Chem.SDMolSupplier(path + 'ligands/cdset2_ligands.sdf')\n",
    "PDBs_cdset2 = {'mobley_set2_b-cyclodex--guest-%d' % (i + 1) if i < 12 else 'mobley_set2_b-cyclodex--guest-s%d' % (i + 1): Chem.CombineMols(host_pdb, ligands_pdb[i]) for i in range(21)}\n",
    "PDBs.update(PDBs_cdset2)"
   ]
  },
  {
   "cell_type": "markdown",
   "id": "00a81c4b",
   "metadata": {},
   "source": [
    "# Sampl3_h1_and_2_feprocess"
   ]
  },
  {
   "cell_type": "code",
   "execution_count": 11,
   "id": "1b1dc363",
   "metadata": {},
   "outputs": [],
   "source": [
    "df_com = pd.read_csv('../../Datasets/VM2_data/Sampl3_h1_and_2_feprocess/host2_host3_feprocess_complex.csv')\n",
    "df_lig = pd.read_csv('../../Datasets/VM2_data/Sampl3_h1_and_2_feprocess/feprocess_ligand.csv')\n",
    "df_hos = pd.read_csv('../../Datasets/VM2_data/Sampl3_h1_and_2_feprocess/host2_host3_feprocess_host.csv')\n",
    "comp_arr = df_com[' S'].to_numpy()\n",
    "lig_arr = df_lig[' S'].to_list()*2\n",
    "hos_arr = [df_hos[' S'].to_list()[0]]*2 + [df_hos[' S'].to_list()[1]]*2\n",
    "Ids = ['Sampl3_h1_and_2_' + df_com.iloc[i][' Ident'] for i in range(len(comp_arr))]\n",
    "\n",
    "df_Sampl3_h1_and_2 = pd.DataFrame({'Id': Ids, 'TS_comp': comp_arr, 'TS_host': hos_arr, 'TS_ligand': lig_arr})\n",
    "df_all = pd.concat([df_all, df_Sampl3_h1_and_2], ignore_index=True)"
   ]
  },
  {
   "cell_type": "code",
   "execution_count": 12,
   "id": "5e535d9c",
   "metadata": {},
   "outputs": [],
   "source": [
    "path = '../../Datasets/VM2_data/Sampl3_h1_and_2_feprocess/'\n",
    "host2 = Chem.MolFromMolFile(path + 'hosts/host2.mol')\n",
    "host3 = Chem.MolFromMolFile(path + 'hosts/host3.mol')\n",
    "guest8 = Chem.MolFromMolFile(path + 'ligands/guest8.mol')\n",
    "guest9 = Chem.MolFromMolFile(path + 'ligands/guest9.mol')\n",
    "PDBs.update({\n",
    "    'Sampl3_h1_and_2_host2--guest8': Chem.CombineMols(host2, guest8),\n",
    "    'Sampl3_h1_and_2_host2--guest9': Chem.CombineMols(host2, guest9),\n",
    "    'Sampl3_h1_and_2_host3--guest8': Chem.CombineMols(host3, guest8),\n",
    "    'Sampl3_h1_and_2_host3--guest9': Chem.CombineMols(host3, guest9),\n",
    "})"
   ]
  },
  {
   "cell_type": "markdown",
   "id": "1d18b0ad",
   "metadata": {},
   "source": [
    "# Sampl6_OA_feprocess"
   ]
  },
  {
   "cell_type": "code",
   "execution_count": 13,
   "id": "92644126",
   "metadata": {},
   "outputs": [],
   "source": [
    "df_com = pd.read_csv('../../Datasets/VM2_data/Sampl6_OA_feprocess/OA_TEMOA_feprocess_complex.csv')\n",
    "df_lig = pd.read_csv('../../Datasets/VM2_data/Sampl6_OA_feprocess/feprocess_ligand.csv')\n",
    "df_hos = pd.read_csv('../../Datasets/VM2_data/Sampl6_OA_feprocess/OA_TEMOA_feprocess_host.csv')\n",
    "comp_arr = df_com[' S'].to_numpy()\n",
    "lig_arr = df_lig[' S'].to_list()*2\n",
    "hos_arr = [df_hos[' S'].to_list()[0]]*8 + [df_hos[' S'].to_list()[1]]*8\n",
    "Ids = ['Sampl6_OA_' + df_com.iloc[i][' Ident'] for i in range(len(comp_arr))]\n",
    "\n",
    "df_Sampl6_OA_feprocess = pd.DataFrame({'Id': Ids, 'TS_comp': comp_arr, 'TS_host': hos_arr, 'TS_ligand': lig_arr})\n",
    "df_all = pd.concat([df_all, df_Sampl6_OA_feprocess], ignore_index=True)"
   ]
  },
  {
   "cell_type": "code",
   "execution_count": 14,
   "id": "1ff64398",
   "metadata": {},
   "outputs": [],
   "source": [
    "path = '../../Datasets/VM2_data/Sampl6_OA_feprocess/'\n",
    "host_oa = Chem.MolFromMolFile(path + 'hosts/OA.mol')\n",
    "host_temoa = Chem.MolFromMolFile(path + 'hosts/TEMOA.mol')\n",
    "ligands = Chem.SDMolSupplier(path + 'ligands/oa_ligands.sdf.save')\n",
    "PDBs_oa = {'Sampl6_OA_OA--OA-G%d'%i: Chem.CombineMols(host_oa, ligands[i]) for i in range(8)}\n",
    "PDBs_temoa = {'Sampl6_OA_TEMOA--OA-G%d'%i: Chem.CombineMols(host_temoa, ligands[i]) for i in range(8)}\n",
    "PDBs.update(PDBs_oa)\n",
    "PDBs.update(PDBs_temoa)"
   ]
  },
  {
   "cell_type": "markdown",
   "id": "ef9b0b96",
   "metadata": {},
   "source": [
    "# Sampl6_cb8_feprocess"
   ]
  },
  {
   "cell_type": "code",
   "execution_count": 15,
   "id": "3b0113a4",
   "metadata": {},
   "outputs": [],
   "source": [
    "df_com = pd.read_csv('../../Datasets/VM2_data/Sampl6_cb8_feprocess/CB8_feprocess_complex.csv')\n",
    "df_lig = pd.read_csv('../../Datasets/VM2_data/Sampl6_cb8_feprocess/feprocess_ligand.csv')\n",
    "df_hos = pd.read_csv('../../Datasets/VM2_data/Sampl6_cb8_feprocess/CB8_feprocess_host.csv')\n",
    "comp_arr = df_com[' S'].to_numpy()\n",
    "lig_arr = df_lig[' S'].to_numpy()\n",
    "hos_arr = df_hos[' S'].to_list()*11\n",
    "Ids = ['Sampl6_cb8_' + df_com.iloc[i][' Ident'] for i in range(len(comp_arr))]\n",
    "\n",
    "df_Sampl6_cb8_feprocess = pd.DataFrame({'Id': Ids, 'TS_comp': comp_arr, 'TS_host': hos_arr, 'TS_ligand': lig_arr})\n",
    "df_all = pd.concat([df_all, df_Sampl6_cb8_feprocess], ignore_index=True)"
   ]
  },
  {
   "cell_type": "code",
   "execution_count": 16,
   "id": "69bdd602",
   "metadata": {},
   "outputs": [],
   "source": [
    "path = '../../Datasets/VM2_data/Sampl6_cb8_feprocess/'\n",
    "host = Chem.SDMolSupplier(path + 'hosts/CB8.sdf')[0]\n",
    "ligands = [Chem.MolFromMol2File(path + 'ligands/' + f) for f in os.listdir(path + 'ligands') if f.__contains__('mol2')]\n",
    "PDBs_Sampl6_cb8 = {'Sampl6_cb8_CB8--CB8-G%d'%i: Chem.CombineMols(host, ligands[i]) for i in range(11)}\n",
    "PDBs.update(PDBs_Sampl6_cb8)"
   ]
  },
  {
   "cell_type": "code",
   "execution_count": 17,
   "id": "b1f3b667",
   "metadata": {},
   "outputs": [],
   "source": [
    "df_all.loc[np.where(df_all['Id'] == 'gilson_cb7--guest1')[0][0], ['exp']] = -0.9\n",
    "df_all.loc[np.where(df_all['Id'] == 'gilson_cb7--guest2')[0][0], ['exp']] = -0.4\n",
    "df_all.loc[np.where(df_all['Id'] == 'gilson_cb7--guest3')[0][0], ['exp']] = -0.1\n",
    "df_all.loc[np.where(df_all['Id'] == 'gilson_cb7--guest4')[0][0], ['exp']] = 0.6\n",
    "df_all.loc[np.where(df_all['Id'] == 'gilson_cb7--guest5')[0][0], ['exp']] = 0.0\n",
    "df_all.loc[np.where(df_all['Id'] == 'gilson_cb7--guest6')[0][0], ['exp']] = -0.1\n",
    "df_all.loc[np.where(df_all['Id'] == 'gilson_cb7--guest7')[0][0], ['exp']] = -1.2\n",
    "df_all.loc[np.where(df_all['Id'] == 'gilson_cb7--guest8')[0][0], ['exp']] = -0.7\n",
    "df_all.loc[np.where(df_all['Id'] == 'gilson_cb7--guest9')[0][0], ['exp']] = 0.4\n",
    "df_all.loc[np.where(df_all['Id'] == 'gilson_cb7--guest10')[0][0], ['exp']] = -0.5\n",
    "df_all.loc[np.where(df_all['Id'] == 'gilson_cb7--guest11')[0][0], ['exp']] = -0.7\n",
    "df_all.loc[np.where(df_all['Id'] == 'gilson_cb7--guest12')[0][0], ['exp']] = -1.7\n",
    "df_all.loc[np.where(df_all['Id'] == 'gilson_cb7--guest13')[0][0], ['exp']] = 0.4\n",
    "df_all.loc[np.where(df_all['Id'] == 'gilson_cb7--guest14')[0][0], ['exp']] = -0.3\n",
    "df_all.loc[np.where(df_all['Id'] == 'gilson_cb7--guest15')[0][0], ['exp']] = -0.3\n",
    "df_all.loc[np.where(df_all['Id'] == 'gilson_cb7--guest16')[0][0], ['exp']] = 0.9\n",
    "df_all.loc[np.where(df_all['Id'] == 'gilson_cb7--guest17')[0][0], ['exp']] = -0.8\n",
    "df_all.loc[np.where(df_all['Id'] == 'gilson_cb7--guest18')[0][0], ['exp']] = -0.4\n",
    "df_all.loc[np.where(df_all['Id'] == 'gilson_cb7--guest19')[0][0], ['exp']] = -0.5\n",
    "df_all.loc[np.where(df_all['Id'] == 'gilson_cb7--guest19')[0][0], ['exp']] = -0.5\n",
    "df_all.loc[np.where(df_all['Id'] == 'gilson_cb7--guest20')[0][0], ['exp']] = 0.4\n",
    "df_all.loc[np.where(df_all['Id'] == 'gilson_cb7--guest21')[0][0], ['exp']] = -0.6\n",
    "df_all.loc[np.where(df_all['Id'] == 'gilson_cb7--guest22')[0][0], ['exp']] = -0.1\n",
    "df_all.loc[np.where(df_all['Id'] == 'gilson_cb7--guest23')[0][0], ['exp']] = -0.8\n",
    "df_all.loc[np.where(df_all['Id'] == 'gilson_cb7--guest24')[0][0], ['exp']] = -0.8\n",
    "df_all.loc[np.where(df_all['Id'] == 'gilson_cb7--guest25')[0][0], ['exp']] = 0.0\n",
    "df_all.loc[np.where(df_all['Id'] == 'gilson_cb7--guest26')[0][0], ['exp']] = -0.2\n",
    "df_all.loc[np.where(df_all['Id'] == 'gilson_cb7--guest27')[0][0], ['exp']] = -0.6\n",
    "df_all.loc[np.where(df_all['Id'] == 'gilson_cb7--guest28')[0][0], ['exp']] = 0.2\n",
    "df_all.loc[np.where(df_all['Id'] == 'gilson_cb7--guest29')[0][0], ['exp']] = -0.2\n",
    "df_all.loc[np.where(df_all['Id'] == 'mobley_set2_b-cyclodex--guest-1')[0][0], ['exp']] = -3.086\n",
    "df_all.loc[np.where(df_all['Id'] == 'mobley_set2_b-cyclodex--guest-2')[0][0], ['exp']] = -3.105\n",
    "df_all.loc[np.where(df_all['Id'] == 'mobley_set2_b-cyclodex--guest-3')[0][0], ['exp']] = -1.96\n",
    "df_all.loc[np.where(df_all['Id'] == 'mobley_set2_b-cyclodex--guest-4')[0][0], ['exp']] = -2.371\n",
    "df_all.loc[np.where(df_all['Id'] == 'mobley_set2_b-cyclodex--guest-5')[0][0], ['exp']] = -1.6\n",
    "df_all.loc[np.where(df_all['Id'] == 'mobley_set2_b-cyclodex--guest-6')[0][0], ['exp']] = -3.157\n",
    "df_all.loc[np.where(df_all['Id'] == 'mobley_set2_b-cyclodex--guest-7')[0][0], ['exp']] = -3.814\n",
    "df_all.loc[np.where(df_all['Id'] == 'mobley_set2_b-cyclodex--guest-8')[0][0], ['exp']] = -0.87\n",
    "df_all.loc[np.where(df_all['Id'] == 'mobley_set2_b-cyclodex--guest-9')[0][0], ['exp']] = 0.093\n",
    "df_all.loc[np.where(df_all['Id'] == 'mobley_set2_b-cyclodex--guest-10')[0][0], ['exp']] = 0.698\n",
    "df_all.loc[np.where(df_all['Id'] == 'mobley_set2_b-cyclodex--guest-11')[0][0], ['exp']] = -0.552\n",
    "df_all.loc[np.where(df_all['Id'] == 'mobley_set2_b-cyclodex--guest-12')[0][0], ['exp']] = -0.779\n",
    "df_all.loc[np.where(df_all['Id'] == 'mobley_set2_b-cyclodex--guest-s13')[0][0], ['exp']] = -3.027\n",
    "df_all.loc[np.where(df_all['Id'] == 'mobley_set2_b-cyclodex--guest-s14')[0][0], ['exp']] = -2.434\n",
    "df_all.loc[np.where(df_all['Id'] == 'mobley_set2_b-cyclodex--guest-s15')[0][0], ['exp']] = -1.885\n",
    "df_all.loc[np.where(df_all['Id'] == 'mobley_set2_b-cyclodex--guest-s16')[0][0], ['exp']] = -2.049\n",
    "df_all.loc[np.where(df_all['Id'] == 'mobley_set2_b-cyclodex--guest-s17')[0][0], ['exp']] = -1.051\n",
    "df_all.loc[np.where(df_all['Id'] == 'mobley_set2_b-cyclodex--guest-s18')[0][0], ['exp']] = -3.59\n",
    "df_all.loc[np.where(df_all['Id'] == 'mobley_set2_b-cyclodex--guest-s19')[0][0], ['exp']] = 1.292\n",
    "df_all.loc[np.where(df_all['Id'] == 'mobley_set2_b-cyclodex--guest-s20')[0][0], ['exp']] = 0.774\n",
    "df_all.loc[np.where(df_all['Id'] == 'mobley_set2_b-cyclodex--guest-s21')[0][0], ['exp']] = -1.268\n",
    "df_all.loc[np.where(df_all['Id'] == 'Sampl3_h1_and_2_host2--guest8')[0][0], ['exp']] = 2.38\n",
    "df_all.loc[np.where(df_all['Id'] == 'Sampl3_h1_and_2_host2--guest9')[0][0], ['exp']] = -3.63\n",
    "df_all.loc[np.where(df_all['Id'] == 'Sampl3_h1_and_2_host3--guest8')[0][0], ['exp']] = -2.4\n",
    "df_all.loc[np.where(df_all['Id'] == 'Sampl3_h1_and_2_host3--guest9')[0][0], ['exp']] = -4.79\n",
    "df_all.loc[np.where(df_all['Id'] == 'Sampl6_OA_OA--OA-G0')[0][0], ['exp']] = -0.8\n",
    "df_all.loc[np.where(df_all['Id'] == 'Sampl6_OA_OA--OA-G1')[0][0], ['exp']] = 0.9\n",
    "df_all.loc[np.where(df_all['Id'] == 'Sampl6_OA_OA--OA-G2')[0][0], ['exp']] = 3.7\n",
    "df_all.loc[np.where(df_all['Id'] == 'Sampl6_OA_OA--OA-G3')[0][0], ['exp']] = 2.4\n",
    "df_all.loc[np.where(df_all['Id'] == 'Sampl6_OA_OA--OA-G4')[0][0], ['exp']] = -0.2\n",
    "df_all.loc[np.where(df_all['Id'] == 'Sampl6_OA_OA--OA-G5')[0][0], ['exp']] = 0.7\n",
    "df_all.loc[np.where(df_all['Id'] == 'Sampl6_OA_OA--OA-G6')[0][0], ['exp']] = 0.3\n",
    "df_all.loc[np.where(df_all['Id'] == 'Sampl6_OA_OA--OA-G7')[0][0], ['exp']] = 1.2\n",
    "df_all.loc[np.where(df_all['Id'] == 'Sampl6_OA_TEMOA--OA-G0')[0][0], ['exp']] = 1.8\n",
    "df_all.loc[np.where(df_all['Id'] == 'Sampl6_OA_TEMOA--OA-G1')[0][0], ['exp']] = 2.3\n",
    "df_all.loc[np.where(df_all['Id'] == 'Sampl6_OA_TEMOA--OA-G2')[0][0], ['exp']] = 2.5\n",
    "df_all.loc[np.where(df_all['Id'] == 'Sampl6_OA_TEMOA--OA-G3')[0][0], ['exp']] = 3.2\n",
    "df_all.loc[np.where(df_all['Id'] == 'Sampl6_OA_TEMOA--OA-G4')[0][0], ['exp']] = 1.1\n",
    "df_all.loc[np.where(df_all['Id'] == 'Sampl6_OA_TEMOA--OA-G5')[0][0], ['exp']] = 3.8\n",
    "df_all.loc[np.where(df_all['Id'] == 'Sampl6_OA_TEMOA--OA-G6')[0][0], ['exp']] = 0.8\n",
    "df_all.loc[np.where(df_all['Id'] == 'Sampl6_OA_TEMOA--OA-G7')[0][0], ['exp']] = 4.2\n",
    "df_all.loc[np.where(df_all['Id'] == 'Sampl6_cb8_CB8--CB8-G0')[0][0], ['exp']] = -2.5\n",
    "df_all.loc[np.where(df_all['Id'] == 'Sampl6_cb8_CB8--CB8-G1')[0][0], ['exp']] = -2.6\n",
    "df_all.loc[np.where(df_all['Id'] == 'Sampl6_cb8_CB8--CB8-G2')[0][0], ['exp']] = -1.2\n",
    "df_all.loc[np.where(df_all['Id'] == 'Sampl6_cb8_CB8--CB8-G3')[0][0], ['exp']] = -4.0\n",
    "df_all.loc[np.where(df_all['Id'] == 'Sampl6_cb8_CB8--CB8-G4')[0][0], ['exp']] = 2.0\n",
    "df_all.loc[np.where(df_all['Id'] == 'Sampl6_cb8_CB8--CB8-G5')[0][0], ['exp']] = -5.0\n",
    "df_all.loc[np.where(df_all['Id'] == 'Sampl6_cb8_CB8--CB8-G6')[0][0], ['exp']] = -2.6\n",
    "df_all.loc[np.where(df_all['Id'] == 'Sampl6_cb8_CB8--CB8-G7')[0][0], ['exp']] = -3.5\n",
    "df_all.loc[np.where(df_all['Id'] == 'Sampl6_cb8_CB8--CB8-G8')[0][0], ['exp']] = 0.9\n",
    "df_all.loc[np.where(df_all['Id'] == 'Sampl6_cb8_CB8--CB8-G9')[0][0], ['exp']] = -4.0\n",
    "df_all.loc[np.where(df_all['Id'] == 'Sampl6_cb8_CB8--CB8-G10')[0][0], ['exp']] = -5.7"
   ]
  },
  {
   "cell_type": "code",
   "execution_count": 18,
   "id": "424167c5",
   "metadata": {},
   "outputs": [],
   "source": [
    "df = df_all.dropna()"
   ]
  },
  {
   "cell_type": "code",
   "execution_count": 21,
   "id": "80cb5379",
   "metadata": {
    "scrolled": true
   },
   "outputs": [],
   "source": [
    "exp_res = df_all['exp'].to_numpy()\n",
    "nm_res = (- df_all['TS_comp'] + df_all['TS_host'] + df_all['TS_ligand']).to_numpy()"
   ]
  },
  {
   "cell_type": "code",
   "execution_count": 22,
   "id": "76c6b7f0",
   "metadata": {},
   "outputs": [
    {
     "data": {
      "text/plain": [
       "12.007159554106174"
      ]
     },
     "execution_count": 22,
     "metadata": {},
     "output_type": "execute_result"
    }
   ],
   "source": [
    "np.sqrt((exp_res - nm_res)**2).mean()"
   ]
  },
  {
   "cell_type": "code",
   "execution_count": 144,
   "id": "c0fc209c",
   "metadata": {},
   "outputs": [],
   "source": [
    "from dcFeaturizer import atom_features as get_atom_features\n",
    "def featurize(molecule, info):\n",
    "    \n",
    "    atom_features = []\n",
    "    for atom in molecule.GetAtoms():\n",
    "        new_feature = get_atom_features(atom).tolist()\n",
    "        position = molecule.GetConformer().GetAtomPosition(atom.GetIdx())\n",
    "        new_feature += [atom.GetMass(), atom.GetAtomicNum()]\n",
    "        new_feature += [position.x, position.y, position.z]\n",
    "        for neighbor in atom.GetNeighbors()[:2]:\n",
    "            neighbor_idx = neighbor.GetIdx()\n",
    "            new_feature += [neighbor_idx]\n",
    "        for i in range(2 - len(atom.GetNeighbors())):\n",
    "            new_feature += [-1]\n",
    "        atom_features.append(np.concatenate([new_feature, info], 0))\n",
    "    return np.array(atom_features)"
   ]
  },
  {
   "cell_type": "code",
   "execution_count": 140,
   "id": "0b5a1989",
   "metadata": {},
   "outputs": [],
   "source": [
    "X_train, X_test, y_train, y_test = X[:int(.8*len(X))], X[int(.8*len(X)):], y[:int(.8*len(X))], y[int(.8*len(X)):]\n",
    "info_train, info_test = info[:int(.8*len(X))], info[int(.8*len(X)):]"
   ]
  },
  {
   "cell_type": "code",
   "execution_count": 206,
   "id": "b3d748c2",
   "metadata": {},
   "outputs": [],
   "source": [
    "info = []\n",
    "for pdb in list(PDBs.keys()):\n",
    "    info.append(df[df['Id'] == pdb][['TS_comp', 'TS_host', 'TS_ligand']].to_numpy()[0])\n",
    "X = []\n",
    "y = []\n",
    "for i, pdb in enumerate(list(PDBs.keys())):\n",
    "    X.append(featurize(PDBs[pdb], info[i]))\n",
    "    y.append(df[df['Id'] == pdb]['exp'].to_numpy()[0])"
   ]
  },
  {
   "cell_type": "code",
   "execution_count": 152,
   "id": "c97c360e",
   "metadata": {},
   "outputs": [],
   "source": [
    "sample_x_atoms = X[:10]\n",
    "for i in range(len(sample_x_atoms)):\n",
    "    if sample_x_atoms[i].shape[0] < 2000:\n",
    "        new_list = sample_x_atoms[i].tolist()\n",
    "        for j in range(2000 - sample_x_atoms[i].shape[0]):\n",
    "            new_list.append([0.0]*41)\n",
    "#         new_list.append(np.concatenate((info[i], [0]*65)))\n",
    "        sample_x_atoms[i] = np.array(new_list)\n",
    "sample_x_atoms = np.array(sample_x_atoms)"
   ]
  },
  {
   "cell_type": "code",
   "execution_count": 154,
   "id": "70bd368e",
   "metadata": {},
   "outputs": [
    {
     "data": {
      "text/plain": [
       "(10, 2000, 41)"
      ]
     },
     "execution_count": 154,
     "metadata": {},
     "output_type": "execute_result"
    }
   ],
   "source": [
    "sample_x_atoms.shape"
   ]
  },
  {
   "cell_type": "code",
   "execution_count": 125,
   "id": "72d96ff2",
   "metadata": {},
   "outputs": [
    {
     "name": "stdout",
     "output_type": "stream",
     "text": [
      "C:\\Users\\arisheh\\PycharmProjects\\GBNN\\PGGCN\n"
     ]
    }
   ],
   "source": [
    "%cd PGGCN"
   ]
  },
  {
   "cell_type": "code",
   "execution_count": 146,
   "id": "dfc325cb",
   "metadata": {},
   "outputs": [],
   "source": [
    "physics_info = []\n",
    "for i in range(len(X_train)):\n",
    "    physics_info.append(X_train[i][0][38:])"
   ]
  },
  {
   "cell_type": "code",
   "execution_count": 172,
   "id": "830b2979",
   "metadata": {},
   "outputs": [
    {
     "data": {
      "text/plain": [
       "(2000, 41)"
      ]
     },
     "execution_count": 172,
     "metadata": {},
     "output_type": "execute_result"
    }
   ],
   "source": [
    "X_train[32]"
   ]
  },
  {
   "cell_type": "code",
   "execution_count": 171,
   "id": "4e818495",
   "metadata": {},
   "outputs": [
    {
     "data": {
      "text/plain": [
       "85"
      ]
     },
     "execution_count": 171,
     "metadata": {},
     "output_type": "execute_result"
    }
   ],
   "source": [
    "input_shapes[32]"
   ]
  },
  {
   "cell_type": "code",
   "execution_count": 182,
   "id": "dc2fe78d",
   "metadata": {},
   "outputs": [
    {
     "data": {
      "text/plain": [
       "(64, 2000, 41)"
      ]
     },
     "execution_count": 182,
     "metadata": {},
     "output_type": "execute_result"
    }
   ],
   "source": [
    "X_train.shape"
   ]
  },
  {
   "cell_type": "code",
   "execution_count": 207,
   "id": "b67ca696",
   "metadata": {},
   "outputs": [],
   "source": [
    "from sklearn.utils import shuffle\n",
    "X, y = shuffle(X, y)"
   ]
  },
  {
   "cell_type": "code",
   "execution_count": 209,
   "id": "87a56e8a",
   "metadata": {},
   "outputs": [
    {
     "name": "stdout",
     "output_type": "stream",
     "text": [
      "Epoch 1/20\n",
      "1/1 [==============================] - 112s 112s/step - loss: 51.4159\n",
      "Epoch 2/20\n",
      "1/1 [==============================] - 1s 551ms/step - loss: 40.1895\n",
      "Epoch 3/20\n",
      "1/1 [==============================] - 1s 782ms/step - loss: 29.8947\n",
      "Epoch 4/20\n",
      "1/1 [==============================] - 1s 823ms/step - loss: 20.0733\n",
      "Epoch 5/20\n",
      "1/1 [==============================] - 1s 710ms/step - loss: 10.5694\n",
      "Epoch 6/20\n",
      "1/1 [==============================] - 1s 785ms/step - loss: 3.9938\n",
      "Epoch 7/20\n",
      "1/1 [==============================] - 1s 957ms/step - loss: 8.8007\n",
      "Epoch 8/20\n",
      "1/1 [==============================] - 1s 733ms/step - loss: 13.4233\n",
      "Epoch 9/20\n",
      "1/1 [==============================] - 1s 695ms/step - loss: 15.3203\n",
      "Epoch 10/20\n",
      "1/1 [==============================] - 1s 807ms/step - loss: 14.8246\n",
      "Epoch 11/20\n",
      "1/1 [==============================] - 1s 724ms/step - loss: 13.3705\n",
      "Epoch 12/20\n",
      "1/1 [==============================] - 1s 845ms/step - loss: 10.5055\n",
      "Epoch 13/20\n",
      "1/1 [==============================] - 1s 787ms/step - loss: 7.6409\n",
      "Epoch 14/20\n",
      "1/1 [==============================] - 1s 811ms/step - loss: 4.6018\n",
      "Epoch 15/20\n",
      "1/1 [==============================] - 1s 764ms/step - loss: 4.3359\n",
      "Epoch 16/20\n",
      "1/1 [==============================] - 1s 752ms/step - loss: 6.2752\n",
      "Epoch 17/20\n",
      "1/1 [==============================] - 1s 893ms/step - loss: 7.7949\n",
      "Epoch 18/20\n",
      "1/1 [==============================] - 1s 780ms/step - loss: 8.3814\n",
      "Epoch 19/20\n",
      "1/1 [==============================] - 1s 843ms/step - loss: 8.1252\n",
      "Epoch 20/20\n",
      "1/1 [==============================] - 1s 851ms/step - loss: 7.1407\n"
     ]
    }
   ],
   "source": [
    "import layers_update_mobley as layers\n",
    "import importlib\n",
    "# import tensorflow_addons as tfa\n",
    "importlib.reload(layers)\n",
    "\n",
    "\n",
    "class PGGCNModel(tf.keras.Model):\n",
    "    def __init__(self, num_atom_features = 36, r_out_channel = 20, c_out_channel = 128):\n",
    "        super().__init__()\n",
    "        self.ruleGraphConvLayer = layers.RuleGraphConvLayer(r_out_channel, num_atom_features, 0)\n",
    "        self.ruleGraphConvLayer.combination_rules = []\n",
    "        self.conv = layers.ConvLayer(c_out_channel)\n",
    "        self.dense1 = tf.keras.layers.Dense(64, activation='relu', name='dense1')\n",
    "#         self.dense2 = tf.keras.layers.Dense(32, activation='sigmoid')\n",
    "#         self.dense3 = tf.keras.layers.Dense(100, activation='relu')\n",
    "#         self.dense4 = tf.keras.layers.Dense(80, activation='relu')\n",
    "        self.dense5 = tf.keras.layers.Dense(16, name='relu')\n",
    "        self.dense6 = tf.keras.layers.Dense(1, name='dense6')\n",
    "        self.dense7 = tf.keras.layers.Dense(1, name='dense7',\n",
    "                 kernel_initializer=tf.keras.initializers.Constant([-.2, -1, 1, 1]),\n",
    "                 bias_initializer=tf.keras.initializers.Zeros())\n",
    "        self.all_layer_1_weights = []\n",
    "        \n",
    "    def addRule(self, rule, start_index, end_index = None):\n",
    "        self.ruleGraphConvLayer.addRule(rule, start_index, end_index)\n",
    "    \n",
    "    def set_input_shapes(self, i_s):\n",
    "        self.i_s = i_s\n",
    "\n",
    "    def call(self, inputs):\n",
    "        physics_info = inputs[:,0,38:]\n",
    "        x_a = []\n",
    "        for i in range(len(self.i_s)):\n",
    "            x_a.append(inputs[i][:self.i_s[i], :38])\n",
    "#         agg = []\n",
    "#         for i in range(len(x_a)):\n",
    "#             agg.append([x_a[i], self.a_l[i]])\n",
    "        x = self.ruleGraphConvLayer(x_a)\n",
    "        self.all_layer_1_weights.append(self.ruleGraphConvLayer.w_s)\n",
    "        x = self.conv(x)\n",
    "        x = self.dense1(x)\n",
    "#         x = self.dense2(x)\n",
    "#         x = self.dense3(x)\n",
    "#         x = self.dense4(x)\n",
    "        x = self.dense5(x)\n",
    "        model_var = self.dense6(x)\n",
    "        merged = tf.concat([model_var, physics_info], axis=1)\n",
    "        out = self.dense7(merged)\n",
    "        return out\n",
    "\n",
    "m = PGGCNModel()\n",
    "m.addRule(\"sum\", 0, 31)\n",
    "m.addRule(\"multiply\", 31, 33)\n",
    "m.addRule(\"distance\", 33, 36)\n",
    "\n",
    "import keras.backend as K\n",
    "def root_mean_squared_error(y_true, y_pred):\n",
    "        return K.sqrt(K.mean(K.square(y_pred[0] - y_true))) + K.abs(1 / K.mean(.2 + y_pred[1]))\n",
    "def pure_rmse(y_true, y_pred):\n",
    "    return K.sqrt(K.mean(K.square(y_pred - y_true)))\n",
    "    \n",
    "\n",
    "# optimizers = [\n",
    "#     tf.keras.optimizers.Adam(learning_rate=0.1),\n",
    "#     tf.keras.optimizers.Adam(learning_rate=0.005)\n",
    "# ]\n",
    "# optimizers_and_layers = [(optimizers[0], m.layers[:len(m.layers) - 1]), \n",
    "#                          (optimizers[1], m.layers[len(m.layers) - 1])]    \n",
    "# optimizer = tfa.optimizers.MultiOptimizer(optimizers_and_layers)\n",
    "\n",
    "# opt = tf.keras.optimizers.Adam(learning_rate=1e-4)\n",
    "m.compile(loss=pure_rmse, optimizer='adam')#opt)\n",
    "X_train, X_test, y_train, y_test = X[:int(.8*len(X))], X[int(.8*len(X)):], y[:int(.8*len(X))], y[int(.8*len(X)):]\n",
    "info_train, info_test = info[:int(.8*len(X))], info[int(.8*len(X)):]\n",
    "\n",
    "input_shapes = []\n",
    "for i in range(len(X_train)):\n",
    "    input_shapes.append(np.array(X_train[i]).shape[0])\n",
    "m.set_input_shapes(input_shapes)\n",
    "for i in range(len(X_train)):\n",
    "    if X_train[i].shape[0] < 2000:\n",
    "        new_list = np.zeros([2000 - X_train[i].shape[0], 41])\n",
    "        X_train[i] = np.concatenate([X_train[i], new_list], 0)\n",
    "X_train = np.array(X_train)\n",
    "y_train = np.array(y_train)\n",
    "hist = m.fit(X_train, y_train, epochs = 20, batch_size=64)"
   ]
  },
  {
   "cell_type": "code",
   "execution_count": 211,
   "id": "674dcdeb",
   "metadata": {},
   "outputs": [
    {
     "data": {
      "text/plain": [
       "[<matplotlib.lines.Line2D at 0x29366d725e0>]"
      ]
     },
     "execution_count": 211,
     "metadata": {},
     "output_type": "execute_result"
    },
    {
     "data": {
      "image/png": "[encoded data removed]",
      "text/plain": [
       "<Figure size 432x288 with 1 Axes>"
      ]
     },
     "metadata": {
      "needs_background": "light"
     },
     "output_type": "display_data"
    }
   ],
   "source": [
    "import matplotlib.pyplot as plt\n",
    "plt.plot(hist.history['loss'])"
   ]
  },
  {
   "cell_type": "code",
   "execution_count": 198,
   "id": "48018a79",
   "metadata": {
    "scrolled": true
   },
   "outputs": [
    {
     "name": "stdout",
     "output_type": "stream",
     "text": [
      "(None, 2000, 41)\n"
     ]
    },
    {
     "data": {
      "text/plain": [
       "array([[114.11706 ],\n",
       "       [113.69073 ],\n",
       "       [112.69825 ],\n",
       "       [112.9737  ],\n",
       "       [113.586586],\n",
       "       [113.34208 ],\n",
       "       [106.58047 ],\n",
       "       [107.82093 ],\n",
       "       [112.5232  ],\n",
       "       [108.93421 ],\n",
       "       [104.92666 ],\n",
       "       [114.16779 ],\n",
       "       [110.83976 ],\n",
       "       [111.63029 ],\n",
       "       [108.10816 ],\n",
       "       [112.228615],\n",
       "       [113.33961 ]], dtype=float32)"
      ]
     },
     "execution_count": 198,
     "metadata": {},
     "output_type": "execute_result"
    }
   ],
   "source": [
    "m.predict(X_test)"
   ]
  },
  {
   "cell_type": "code",
   "execution_count": 210,
   "id": "50df5491",
   "metadata": {},
   "outputs": [
    {
     "name": "stdout",
     "output_type": "stream",
     "text": [
      "1/1 [==============================] - 14s 14s/step - loss: 5.3466\n"
     ]
    },
    {
     "data": {
      "text/plain": [
       "5.346636772155762"
      ]
     },
     "execution_count": 210,
     "metadata": {},
     "output_type": "execute_result"
    }
   ],
   "source": [
    "input_shapes = []\n",
    "y_test = y[int(.8*len(X)):]\n",
    "for i in range(len(X_test)):\n",
    "    input_shapes.append(np.array(X_test[i]).shape[0])\n",
    "m.set_input_shapes(input_shapes)\n",
    "for i in range(len(X_test)):\n",
    "    if X_test[i].shape[0] < 2000:\n",
    "        new_list = np.zeros([2000 - X_test[i].shape[0], 41])\n",
    "#         for j in range(2000 - X_atoms[i].shape[0]):\n",
    "#             new_list.append(np.zeros(53))\n",
    "#         new_list.append(np.concatenate((info[i], [0]*65)))\n",
    "        X_test[i] = np.concatenate([X_test[i], new_list], 0)\n",
    "X_test = np.array(X_test)\n",
    "y_test = np.array(y_test)\n",
    "m.evaluate(X_test, y_test)"
   ]
  }
 ],
 "metadata": {
  "kernelspec": {
   "display_name": "GBNN",
   "language": "python",
   "name": "gbnn"
  },
  "language_info": {
   "codemirror_mode": {
    "name": "ipython",
    "version": 3
   },
   "file_extension": ".py",
   "mimetype": "text/x-python",
   "name": "python",
   "nbconvert_exporter": "python",
   "pygments_lexer": "ipython3",
   "version": "3.9.13"
  }
 },
 "nbformat": 4,
 "nbformat_minor": 5
}
