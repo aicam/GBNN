{
 "cells": [
  {
   "cell_type": "code",
   "execution_count": 199,
   "id": "e96abd52",
   "metadata": {},
   "outputs": [],
   "source": [
    "import pandas as pd\n",
    "import numpy as np"
   ]
  },
  {
   "cell_type": "code",
   "execution_count": 173,
   "id": "9e4e4fc8",
   "metadata": {},
   "outputs": [],
   "source": [
    "df_all = pd.DataFrame({'Id': [], 'TS_comp': [], 'TS_host': [], 'TS_ligand': []})"
   ]
  },
  {
   "cell_type": "markdown",
   "id": "a2672770",
   "metadata": {},
   "source": [
    "# cb7_gilson_feprocess"
   ]
  },
  {
   "cell_type": "code",
   "execution_count": 174,
   "id": "0e44ef54",
   "metadata": {},
   "outputs": [],
   "source": [
    "df_com = pd.read_csv('../../Datasets/VM2_data/cb7_gilson_feprocess/cb7_feprocess_complex.csv')\n",
    "df_lig = pd.read_csv('../../Datasets/VM2_data/cb7_gilson_feprocess/feprocess_ligand.csv')\n",
    "df_hos = pd.read_csv('../../Datasets/VM2_data/cb7_gilson_feprocess/cb7_feprocess_host.csv')"
   ]
  },
  {
   "cell_type": "code",
   "execution_count": 175,
   "id": "e6e4a5ee",
   "metadata": {},
   "outputs": [],
   "source": [
    "comp_arr = df_com[' S'].to_numpy()\n",
    "lig_arr = df_lig[' S'].to_numpy()\n",
    "hos_arr = df_hos[' S'].to_list()*29\n",
    "Ids = ['gilson_' + df_com.iloc[i][' Ident'] for i in range(len(comp_arr))]"
   ]
  },
  {
   "cell_type": "code",
   "execution_count": 176,
   "id": "07cd846a",
   "metadata": {},
   "outputs": [],
   "source": [
    "df_cb7_gilson = pd.DataFrame({'Id': Ids, 'TS_comp': comp_arr, 'TS_host': hos_arr, 'TS_ligand': lig_arr})\n",
    "df_all = pd.concat([df_all, df_cb7_gilson], ignore_index=True)"
   ]
  },
  {
   "cell_type": "markdown",
   "id": "b20a18bb",
   "metadata": {},
   "source": [
    "# cd_mobley_set2"
   ]
  },
  {
   "cell_type": "code",
   "execution_count": 177,
   "id": "b6cde643",
   "metadata": {},
   "outputs": [],
   "source": [
    "df_com = pd.read_csv('../../Datasets/VM2_data/cd_mobley_set2/b-cyclodex_feprocess_complex.csv')\n",
    "df_lig = pd.read_csv('../../Datasets/VM2_data/cd_mobley_set2/feprocess_ligand.csv')\n",
    "df_hos = pd.read_csv('../../Datasets/VM2_data/cd_mobley_set2/b-cyclodex_feprocess_host.csv')"
   ]
  },
  {
   "cell_type": "code",
   "execution_count": 178,
   "id": "3c19dc60",
   "metadata": {},
   "outputs": [],
   "source": [
    "comp_arr = df_com[' S'].to_numpy()\n",
    "lig_arr = df_lig[' S'].to_numpy()\n",
    "hos_arr = df_hos[' S'].to_list()*21\n",
    "Ids = ['mobley_set2_' + df_com.iloc[i][' Ident'] for i in range(len(comp_arr))]"
   ]
  },
  {
   "cell_type": "code",
   "execution_count": 179,
   "id": "cd72b42d",
   "metadata": {},
   "outputs": [],
   "source": [
    "df_mobley_set2 = pd.DataFrame({'Id': Ids, 'TS_comp': comp_arr, 'TS_host': hos_arr, 'TS_ligand': lig_arr})\n",
    "df_all = pd.concat([df_all, df_mobley_set2], ignore_index=True)"
   ]
  },
  {
   "cell_type": "markdown",
   "id": "00a81c4b",
   "metadata": {},
   "source": [
    "# Sampl3_h1_and_2_feprocess"
   ]
  },
  {
   "cell_type": "code",
   "execution_count": 215,
   "id": "1b1dc363",
   "metadata": {},
   "outputs": [],
   "source": [
    "df_com = pd.read_csv('../../Datasets/VM2_data/Sampl3_h1_and_2_feprocess/host2_host3_feprocess_complex.csv')\n",
    "df_lig = pd.read_csv('../../Datasets/VM2_data/Sampl3_h1_and_2_feprocess/feprocess_ligand.csv')\n",
    "df_hos = pd.read_csv('../../Datasets/VM2_data/Sampl3_h1_and_2_feprocess/host2_host3_feprocess_host.csv')"
   ]
  },
  {
   "cell_type": "code",
   "execution_count": 181,
   "id": "5e535d9c",
   "metadata": {},
   "outputs": [],
   "source": [
    "comp_arr = df_com[' S'].to_numpy()\n",
    "lig_arr = df_lig[' S'].to_list()*2\n",
    "hos_arr = [df_hos[' S'].to_list()[0]]*2 + [df_hos[' S'].to_list()[1]]*2\n",
    "Ids = ['Sampl3_h1_and_2_' + df_com.iloc[i][' Ident'] for i in range(len(comp_arr))]"
   ]
  },
  {
   "cell_type": "code",
   "execution_count": 182,
   "id": "37938160",
   "metadata": {},
   "outputs": [],
   "source": [
    "df_Sampl3_h1_and_2 = pd.DataFrame({'Id': Ids, 'TS_comp': comp_arr, 'TS_host': hos_arr, 'TS_ligand': lig_arr})\n",
    "df_all = pd.concat([df_all, df_Sampl3_h1_and_2], ignore_index=True)"
   ]
  },
  {
   "cell_type": "markdown",
   "id": "1d18b0ad",
   "metadata": {},
   "source": [
    "# Sampl6_OA_feprocess"
   ]
  },
  {
   "cell_type": "code",
   "execution_count": 183,
   "id": "92644126",
   "metadata": {},
   "outputs": [],
   "source": [
    "df_com = pd.read_csv('../../Datasets/VM2_data/Sampl6_OA_feprocess/OA_TEMOA_feprocess_complex.csv')\n",
    "df_lig = pd.read_csv('../../Datasets/VM2_data/Sampl6_OA_feprocess/feprocess_ligand.csv')\n",
    "df_hos = pd.read_csv('../../Datasets/VM2_data/Sampl6_OA_feprocess/OA_TEMOA_feprocess_host.csv')"
   ]
  },
  {
   "cell_type": "code",
   "execution_count": 184,
   "id": "af8c8e87",
   "metadata": {},
   "outputs": [],
   "source": [
    "comp_arr = df_com[' S'].to_numpy()\n",
    "lig_arr = df_lig[' S'].to_list()*2\n",
    "hos_arr = [df_hos[' S'].to_list()[0]]*8 + [df_hos[' S'].to_list()[1]]*8\n",
    "Ids = ['Sampl6_OA_' + df_com.iloc[i][' Ident'] for i in range(len(comp_arr))]"
   ]
  },
  {
   "cell_type": "code",
   "execution_count": 185,
   "id": "1ff64398",
   "metadata": {},
   "outputs": [],
   "source": [
    "df_Sampl6_OA_feprocess = pd.DataFrame({'Id': Ids, 'TS_comp': comp_arr, 'TS_host': hos_arr, 'TS_ligand': lig_arr})\n",
    "df_all = pd.concat([df_all, df_Sampl6_OA_feprocess], ignore_index=True)"
   ]
  },
  {
   "cell_type": "markdown",
   "id": "ef9b0b96",
   "metadata": {},
   "source": [
    "# Sampl6_cb8_feprocess"
   ]
  },
  {
   "cell_type": "code",
   "execution_count": 186,
   "id": "3b0113a4",
   "metadata": {},
   "outputs": [],
   "source": [
    "df_com = pd.read_csv('../../Datasets/VM2_data/Sampl6_cb8_feprocess/CB8_feprocess_complex.csv')\n",
    "df_lig = pd.read_csv('../../Datasets/VM2_data/Sampl6_cb8_feprocess/feprocess_ligand.csv')\n",
    "df_hos = pd.read_csv('../../Datasets/VM2_data/Sampl6_cb8_feprocess/CB8_feprocess_host.csv')"
   ]
  },
  {
   "cell_type": "code",
   "execution_count": 187,
   "id": "d1240cb3",
   "metadata": {},
   "outputs": [],
   "source": [
    "comp_arr = df_com[' S'].to_numpy()\n",
    "lig_arr = df_lig[' S'].to_numpy()\n",
    "hos_arr = df_hos[' S'].to_list()*11\n",
    "Ids = ['Sampl6_cb8_' + df_com.iloc[i][' Ident'] for i in range(len(comp_arr))]"
   ]
  },
  {
   "cell_type": "code",
   "execution_count": 188,
   "id": "f510e610",
   "metadata": {},
   "outputs": [],
   "source": [
    "df_Sampl6_cb8_feprocess = pd.DataFrame({'Id': Ids, 'TS_comp': comp_arr, 'TS_host': hos_arr, 'TS_ligand': lig_arr})\n",
    "df_all = pd.concat([df_all, df_Sampl6_cb8_feprocess], ignore_index=True)"
   ]
  },
  {
   "cell_type": "code",
   "execution_count": 217,
   "id": "b1f3b667",
   "metadata": {},
   "outputs": [],
   "source": [
    "df_all.loc[np.where(df_all['Id'] == 'gilson_cb7--guest1')[0][0], ['exp']] = -0.9\n",
    "df_all.loc[np.where(df_all['Id'] == 'gilson_cb7--guest2')[0][0], ['exp']] = -0.4\n",
    "df_all.loc[np.where(df_all['Id'] == 'gilson_cb7--guest3')[0][0], ['exp']] = -0.1\n",
    "df_all.loc[np.where(df_all['Id'] == 'gilson_cb7--guest4')[0][0], ['exp']] = 0.6\n",
    "df_all.loc[np.where(df_all['Id'] == 'gilson_cb7--guest5')[0][0], ['exp']] = 0.0\n",
    "df_all.loc[np.where(df_all['Id'] == 'gilson_cb7--guest6')[0][0], ['exp']] = -0.1\n",
    "df_all.loc[np.where(df_all['Id'] == 'gilson_cb7--guest7')[0][0], ['exp']] = -1.2\n",
    "df_all.loc[np.where(df_all['Id'] == 'gilson_cb7--guest8')[0][0], ['exp']] = -0.7\n",
    "df_all.loc[np.where(df_all['Id'] == 'gilson_cb7--guest9')[0][0], ['exp']] = 0.4\n",
    "df_all.loc[np.where(df_all['Id'] == 'gilson_cb7--guest10')[0][0], ['exp']] = -0.5\n",
    "df_all.loc[np.where(df_all['Id'] == 'gilson_cb7--guest11')[0][0], ['exp']] = -0.7\n",
    "df_all.loc[np.where(df_all['Id'] == 'gilson_cb7--guest12')[0][0], ['exp']] = -1.7\n",
    "df_all.loc[np.where(df_all['Id'] == 'gilson_cb7--guest13')[0][0], ['exp']] = 0.4\n",
    "df_all.loc[np.where(df_all['Id'] == 'gilson_cb7--guest14')[0][0], ['exp']] = -0.3\n",
    "df_all.loc[np.where(df_all['Id'] == 'gilson_cb7--guest15')[0][0], ['exp']] = -0.3\n",
    "df_all.loc[np.where(df_all['Id'] == 'gilson_cb7--guest16')[0][0], ['exp']] = 0.9\n",
    "df_all.loc[np.where(df_all['Id'] == 'gilson_cb7--guest17')[0][0], ['exp']] = -0.8\n",
    "df_all.loc[np.where(df_all['Id'] == 'gilson_cb7--guest18')[0][0], ['exp']] = -0.4\n",
    "df_all.loc[np.where(df_all['Id'] == 'gilson_cb7--guest19')[0][0], ['exp']] = -0.5\n",
    "df_all.loc[np.where(df_all['Id'] == 'gilson_cb7--guest19')[0][0], ['exp']] = -0.5\n",
    "df_all.loc[np.where(df_all['Id'] == 'gilson_cb7--guest20')[0][0], ['exp']] = 0.4\n",
    "df_all.loc[np.where(df_all['Id'] == 'gilson_cb7--guest21')[0][0], ['exp']] = -0.6\n",
    "df_all.loc[np.where(df_all['Id'] == 'gilson_cb7--guest22')[0][0], ['exp']] = -0.1\n",
    "df_all.loc[np.where(df_all['Id'] == 'gilson_cb7--guest23')[0][0], ['exp']] = -0.8\n",
    "df_all.loc[np.where(df_all['Id'] == 'gilson_cb7--guest24')[0][0], ['exp']] = -0.8\n",
    "df_all.loc[np.where(df_all['Id'] == 'gilson_cb7--guest25')[0][0], ['exp']] = 0.0\n",
    "df_all.loc[np.where(df_all['Id'] == 'gilson_cb7--guest26')[0][0], ['exp']] = -0.2\n",
    "df_all.loc[np.where(df_all['Id'] == 'gilson_cb7--guest27')[0][0], ['exp']] = -0.6\n",
    "df_all.loc[np.where(df_all['Id'] == 'gilson_cb7--guest28')[0][0], ['exp']] = 0.2\n",
    "df_all.loc[np.where(df_all['Id'] == 'gilson_cb7--guest29')[0][0], ['exp']] = -0.2\n",
    "df_all.loc[np.where(df_all['Id'] == 'mobley_set2_b-cyclodex--guest-1')[0][0], ['exp']] = -3.086\n",
    "df_all.loc[np.where(df_all['Id'] == 'mobley_set2_b-cyclodex--guest-2')[0][0], ['exp']] = -3.105\n",
    "df_all.loc[np.where(df_all['Id'] == 'mobley_set2_b-cyclodex--guest-3')[0][0], ['exp']] = -1.96\n",
    "df_all.loc[np.where(df_all['Id'] == 'mobley_set2_b-cyclodex--guest-4')[0][0], ['exp']] = -2.371\n",
    "df_all.loc[np.where(df_all['Id'] == 'mobley_set2_b-cyclodex--guest-5')[0][0], ['exp']] = -1.6\n",
    "df_all.loc[np.where(df_all['Id'] == 'mobley_set2_b-cyclodex--guest-6')[0][0], ['exp']] = -3.157\n",
    "df_all.loc[np.where(df_all['Id'] == 'mobley_set2_b-cyclodex--guest-7')[0][0], ['exp']] = -3.814\n",
    "df_all.loc[np.where(df_all['Id'] == 'mobley_set2_b-cyclodex--guest-8')[0][0], ['exp']] = -0.87\n",
    "df_all.loc[np.where(df_all['Id'] == 'mobley_set2_b-cyclodex--guest-9')[0][0], ['exp']] = 0.093\n",
    "df_all.loc[np.where(df_all['Id'] == 'mobley_set2_b-cyclodex--guest-10')[0][0], ['exp']] = 0.698\n",
    "df_all.loc[np.where(df_all['Id'] == 'mobley_set2_b-cyclodex--guest-11')[0][0], ['exp']] = -0.552\n",
    "df_all.loc[np.where(df_all['Id'] == 'mobley_set2_b-cyclodex--guest-12')[0][0], ['exp']] = -0.779\n",
    "df_all.loc[np.where(df_all['Id'] == 'mobley_set2_b-cyclodex--guest-s13')[0][0], ['exp']] = -3.027\n",
    "df_all.loc[np.where(df_all['Id'] == 'mobley_set2_b-cyclodex--guest-s14')[0][0], ['exp']] = -2.434\n",
    "df_all.loc[np.where(df_all['Id'] == 'mobley_set2_b-cyclodex--guest-s15')[0][0], ['exp']] = -1.885\n",
    "df_all.loc[np.where(df_all['Id'] == 'mobley_set2_b-cyclodex--guest-s16')[0][0], ['exp']] = -2.049\n",
    "df_all.loc[np.where(df_all['Id'] == 'mobley_set2_b-cyclodex--guest-s17')[0][0], ['exp']] = -1.051\n",
    "df_all.loc[np.where(df_all['Id'] == 'mobley_set2_b-cyclodex--guest-s18')[0][0], ['exp']] = -3.59\n",
    "df_all.loc[np.where(df_all['Id'] == 'mobley_set2_b-cyclodex--guest-s19')[0][0], ['exp']] = 1.292\n",
    "df_all.loc[np.where(df_all['Id'] == 'mobley_set2_b-cyclodex--guest-s20')[0][0], ['exp']] = 0.774\n",
    "df_all.loc[np.where(df_all['Id'] == 'mobley_set2_b-cyclodex--guest-s21')[0][0], ['exp']] = -1.268\n",
    "df_all.loc[np.where(df_all['Id'] == 'Sampl3_h1_and_2_host2--guest8')[0][0], ['exp']] = 2.38\n",
    "df_all.loc[np.where(df_all['Id'] == 'Sampl3_h1_and_2_host2--guest9')[0][0], ['exp']] = -3.63\n",
    "df_all.loc[np.where(df_all['Id'] == 'Sampl3_h1_and_2_host3--guest8')[0][0], ['exp']] = -2.4\n",
    "df_all.loc[np.where(df_all['Id'] == 'Sampl3_h1_and_2_host3--guest9')[0][0], ['exp']] = -4.79\n",
    "df_all.loc[np.where(df_all['Id'] == 'Sampl6_OA_OA--OA-G0')[0][0], ['exp']] = -0.8\n",
    "df_all.loc[np.where(df_all['Id'] == 'Sampl6_OA_OA--OA-G1')[0][0], ['exp']] = 0.9\n",
    "df_all.loc[np.where(df_all['Id'] == 'Sampl6_OA_OA--OA-G2')[0][0], ['exp']] = 3.7\n",
    "df_all.loc[np.where(df_all['Id'] == 'Sampl6_OA_OA--OA-G3')[0][0], ['exp']] = 2.4\n",
    "df_all.loc[np.where(df_all['Id'] == 'Sampl6_OA_OA--OA-G4')[0][0], ['exp']] = -0.2\n",
    "df_all.loc[np.where(df_all['Id'] == 'Sampl6_OA_OA--OA-G5')[0][0], ['exp']] = 0.7\n",
    "df_all.loc[np.where(df_all['Id'] == 'Sampl6_OA_OA--OA-G6')[0][0], ['exp']] = 0.3\n",
    "df_all.loc[np.where(df_all['Id'] == 'Sampl6_OA_OA--OA-G7')[0][0], ['exp']] = 1.2\n",
    "df_all.loc[np.where(df_all['Id'] == 'Sampl6_OA_TEMOA--OA-G0')[0][0], ['exp']] = 1.8\n",
    "df_all.loc[np.where(df_all['Id'] == 'Sampl6_OA_TEMOA--OA-G1')[0][0], ['exp']] = 2.3\n",
    "df_all.loc[np.where(df_all['Id'] == 'Sampl6_OA_TEMOA--OA-G2')[0][0], ['exp']] = 2.5\n",
    "df_all.loc[np.where(df_all['Id'] == 'Sampl6_OA_TEMOA--OA-G3')[0][0], ['exp']] = 3.2\n",
    "df_all.loc[np.where(df_all['Id'] == 'Sampl6_OA_TEMOA--OA-G4')[0][0], ['exp']] = 1.1\n",
    "df_all.loc[np.where(df_all['Id'] == 'Sampl6_OA_TEMOA--OA-G5')[0][0], ['exp']] = 3.8\n",
    "df_all.loc[np.where(df_all['Id'] == 'Sampl6_OA_TEMOA--OA-G6')[0][0], ['exp']] = 0.8\n",
    "df_all.loc[np.where(df_all['Id'] == 'Sampl6_OA_TEMOA--OA-G7')[0][0], ['exp']] = 4.2\n",
    "df_all.loc[np.where(df_all['Id'] == 'Sampl6_cb8_CB8--CB8-G0')[0][0], ['exp']] = -2.5\n",
    "df_all.loc[np.where(df_all['Id'] == 'Sampl6_cb8_CB8--CB8-G1')[0][0], ['exp']] = -2.6\n",
    "df_all.loc[np.where(df_all['Id'] == 'Sampl6_cb8_CB8--CB8-G2')[0][0], ['exp']] = -1.2\n",
    "df_all.loc[np.where(df_all['Id'] == 'Sampl6_cb8_CB8--CB8-G3')[0][0], ['exp']] = -4.0\n",
    "df_all.loc[np.where(df_all['Id'] == 'Sampl6_cb8_CB8--CB8-G4')[0][0], ['exp']] = 2.0\n",
    "df_all.loc[np.where(df_all['Id'] == 'Sampl6_cb8_CB8--CB8-G5')[0][0], ['exp']] = -5.0\n",
    "df_all.loc[np.where(df_all['Id'] == 'Sampl6_cb8_CB8--CB8-G6')[0][0], ['exp']] = -2.6\n",
    "df_all.loc[np.where(df_all['Id'] == 'Sampl6_cb8_CB8--CB8-G7')[0][0], ['exp']] = -3.5\n",
    "df_all.loc[np.where(df_all['Id'] == 'Sampl6_cb8_CB8--CB8-G8')[0][0], ['exp']] = 0.9\n",
    "df_all.loc[np.where(df_all['Id'] == 'Sampl6_cb8_CB8--CB8-G9')[0][0], ['exp']] = -4.0\n",
    "df_all.loc[np.where(df_all['Id'] == 'Sampl6_cb8_CB8--CB8-G10')[0][0], ['exp']] = -5.7"
   ]
  },
  {
   "cell_type": "code",
   "execution_count": 212,
   "id": "80cb5379",
   "metadata": {},
   "outputs": [],
   "source": [
    "df_all = df_all.dropna()"
   ]
  },
  {
   "cell_type": "code",
   "execution_count": 214,
   "id": "6db367d6",
   "metadata": {},
   "outputs": [
    {
     "data": {
      "text/html": [
       "<div>\n",
       "<style scoped>\n",
       "    .dataframe tbody tr th:only-of-type {\n",
       "        vertical-align: middle;\n",
       "    }\n",
       "\n",
       "    .dataframe tbody tr th {\n",
       "        vertical-align: top;\n",
       "    }\n",
       "\n",
       "    .dataframe thead th {\n",
       "        text-align: right;\n",
       "    }\n",
       "</style>\n",
       "<table border=\"1\" class=\"dataframe\">\n",
       "  <thead>\n",
       "    <tr style=\"text-align: right;\">\n",
       "      <th></th>\n",
       "      <th>Id</th>\n",
       "      <th>TS_comp</th>\n",
       "      <th>TS_host</th>\n",
       "      <th>TS_ligand</th>\n",
       "      <th>exp</th>\n",
       "    </tr>\n",
       "  </thead>\n",
       "  <tbody>\n",
       "  </tbody>\n",
       "</table>\n",
       "</div>"
      ],
      "text/plain": [
       "Empty DataFrame\n",
       "Columns: [Id, TS_comp, TS_host, TS_ligand, exp]\n",
       "Index: []"
      ]
     },
     "execution_count": 214,
     "metadata": {},
     "output_type": "execute_result"
    }
   ],
   "source": [
    "df_all[df_all['exp'] == None]"
   ]
  }
 ],
 "metadata": {
  "kernelspec": {
   "display_name": "GBNN",
   "language": "python",
   "name": "gbnn"
  },
  "language_info": {
   "codemirror_mode": {
    "name": "ipython",
    "version": 3
   },
   "file_extension": ".py",
   "mimetype": "text/x-python",
   "name": "python",
   "nbconvert_exporter": "python",
   "pygments_lexer": "ipython3",
   "version": "3.8.10"
  }
 },
 "nbformat": 4,
 "nbformat_minor": 5
}
