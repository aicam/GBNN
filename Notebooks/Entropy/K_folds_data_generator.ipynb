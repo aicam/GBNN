{
 "cells": [
  {
   "cell_type": "code",
   "execution_count": 1,
   "id": "e7772b18",
   "metadata": {},
   "outputs": [],
   "source": [
    "import pandas as pd\n",
    "import numpy as np\n",
    "import pickle\n",
    "from sklearn.utils import shuffle\n",
    "import random\n",
    "\n",
    "PDBs = pickle.load(open('PDBs_RDKit.pkl', 'rb'))\n",
    "df = pd.read_csv('T_data.csv')"
   ]
  },
  {
   "cell_type": "code",
   "execution_count": 3,
   "id": "f0f5650f",
   "metadata": {},
   "outputs": [],
   "source": [
    "y = []\n",
    "x_add = []\n",
    "for i, pdb in enumerate(list(PDBs.keys())):\n",
    "    y.append(df[df['Id'] == pdb]['exp'].to_numpy()[0])\n",
    "    x_add.append(df[df['Id'] == pdb][['TS_comp', 'TS_host', 'TS_ligand']].to_numpy()[0])"
   ]
  },
  {
   "cell_type": "code",
   "execution_count": 4,
   "id": "9335bd23",
   "metadata": {},
   "outputs": [],
   "source": [
    "PDB_keys = list(PDBs.keys())\n",
    "PDB_keys_shuffled, y_shuffled, x_add_shuffled = shuffle(PDB_keys, y, x_add)\n",
    "PDBs_shuffled = {k: PDBs[k] for k in PDB_keys_shuffled}"
   ]
  },
  {
   "cell_type": "code",
   "execution_count": 5,
   "id": "4f684e1d-9dac-4601-bb53-8f3419e59c57",
   "metadata": {},
   "outputs": [],
   "source": [
    "# to create a shuffled dataframe\n",
    "x_add_shuffled = np.array(x_add_shuffled)\n",
    "y_shuffled = np.array(y_shuffled)\n",
    "df_shuffled = pd.DataFrame(data = {'Id': PDB_keys_shuffled, 'TS_comp': x_add_shuffled[:,0], 'TS_host': x_add_shuffled[:,1], 'TS_ligand': x_add_shuffled[:,2], 'exp': y_shuffled})\n",
    "df_shuffled.to_csv('T_data_shuffled.csv')\n",
    "pickle.dump(PDBs_shuffled, open('PDBs_RDKit_shuffled.pkl', 'wb'))"
   ]
  },
  {
   "cell_type": "code",
   "execution_count": 6,
   "id": "88d4d966-8b14-4b5c-b088-411a8ca3f316",
   "metadata": {},
   "outputs": [],
   "source": [
    "VM2_res =  - df['TS_comp'].to_numpy() + df['TS_host'].to_numpy() + df['TS_ligand'].to_numpy()"
   ]
  },
  {
   "cell_type": "code",
   "execution_count": 7,
   "id": "43d97c4c-20e2-4ca3-9c7f-c715bf7e69f1",
   "metadata": {},
   "outputs": [
    {
     "data": {
      "text/plain": [
       "12.553096362253406"
      ]
     },
     "execution_count": 7,
     "metadata": {},
     "output_type": "execute_result"
    }
   ],
   "source": [
    "(df['exp'].to_numpy() - VM2_res).mean()"
   ]
  },
  {
   "cell_type": "code",
   "execution_count": 8,
   "id": "863059f7-bc45-4629-b773-b37582d13e98",
   "metadata": {},
   "outputs": [
    {
     "data": {
      "text/plain": [
       "KendalltauResult(correlation=0.058043213605073606, pvalue=0.38627572173895197)"
      ]
     },
     "execution_count": 8,
     "metadata": {},
     "output_type": "execute_result"
    }
   ],
   "source": [
    "from scipy import stats\n",
    "stats.kendalltau(df['exp'].to_numpy(), VM2_res)"
   ]
  },
  {
   "cell_type": "code",
   "execution_count": 9,
   "id": "8c99abe7",
   "metadata": {},
   "outputs": [],
   "source": [
    "K = 5\n",
    "fold_size = len(PDBs) // K\n",
    "PDBs_folds = [[PDBs[k] for k in PDB_keys_shuffled[i*fold_size:(i + 1)*fold_size]] for i in range(K)]\n",
    "y_folds = [y_shuffled[i*fold_size:(i + 1)*fold_size] for i in range(K)]\n",
    "x_add_folds = [x_add_shuffled[i*fold_size:(i + 1)*fold_size] for i in range(K)]"
   ]
  },
  {
   "cell_type": "code",
   "execution_count": 10,
   "id": "f7be99b6",
   "metadata": {},
   "outputs": [],
   "source": [
    "dbfile = open('PDBs_folds_%d.pkl' % K, 'wb')\n",
    "pickle.dump(PDBs_folds, dbfile)                     \n",
    "dbfile.close()\n",
    "dbfile = open('y_folds_%d.pkl' % K, 'wb')\n",
    "pickle.dump(y_folds, dbfile)                     \n",
    "dbfile.close()\n",
    "dbfile = open('x_add_folds_%d.pkl' % K, 'wb')\n",
    "pickle.dump(x_add_folds, dbfile)                     \n",
    "dbfile.close()"
   ]
  },
  {
   "cell_type": "code",
   "execution_count": 5,
   "id": "c2d5f831",
   "metadata": {},
   "outputs": [
    {
     "name": "stdout",
     "output_type": "stream",
     "text": [
      "/home/ali/GBNN/PGGCN\n"
     ]
    }
   ],
   "source": [
    "%cd ../../PGGCN/"
   ]
  },
  {
   "cell_type": "code",
   "execution_count": 4,
   "id": "b9a461a7",
   "metadata": {},
   "outputs": [
    {
     "name": "stderr",
     "output_type": "stream",
     "text": [
      "2023-04-07 18:34:07.137300: I tensorflow/tsl/cuda/cudart_stub.cc:28] Could not find cuda drivers on your machine, GPU will not be used.\n",
      "2023-04-07 18:34:07.175387: I tensorflow/tsl/cuda/cudart_stub.cc:28] Could not find cuda drivers on your machine, GPU will not be used.\n",
      "2023-04-07 18:34:07.176233: I tensorflow/core/platform/cpu_feature_guard.cc:182] This TensorFlow binary is optimized to use available CPU instructions in performance-critical operations.\n",
      "To enable the following instructions: AVX2 FMA, in other operations, rebuild TensorFlow with the appropriate compiler flags.\n",
      "2023-04-07 18:34:07.808609: W tensorflow/compiler/tf2tensorrt/utils/py_utils.cc:38] TF-TRT Warning: Could not find TensorRT\n"
     ]
    },
    {
     "name": "stdout",
     "output_type": "stream",
     "text": [
      "Data collected\n",
      "Input data prepared\n"
     ]
    }
   ],
   "source": [
    "from models.dcFeaturizer import atom_features as get_atom_features\n",
    "\n",
    "\n",
    "print('Data collected')\n",
    "\n",
    "info = []\n",
    "for pdb in list(PDBs.keys()):\n",
    "    info.append(df[df['Id'] == pdb][['TS_comp', 'TS_host', 'TS_ligand']].to_numpy()[0])\n",
    "\n",
    "\n",
    "\n",
    "def featurize(molecule, info):\n",
    "    atom_features = []\n",
    "    for atom in molecule.GetAtoms():\n",
    "        new_feature = get_atom_features(atom).tolist()\n",
    "        position = molecule.GetConformer().GetAtomPosition(atom.GetIdx())\n",
    "        new_feature += [atom.GetMass(), atom.GetAtomicNum()]\n",
    "        new_feature += [position.x, position.y, position.z]\n",
    "        for neighbor in atom.GetNeighbors()[:2]:\n",
    "            neighbor_idx = neighbor.GetIdx()\n",
    "            new_feature += [neighbor_idx]\n",
    "        for i in range(2 - len(atom.GetNeighbors())):\n",
    "            new_feature += [-1]\n",
    "        atom_features.append(np.concatenate([new_feature, info], 0))\n",
    "    return np.array(atom_features)\n",
    "\n",
    "X = []\n",
    "y = []\n",
    "for i, pdb in enumerate(list(PDBs.keys())):\n",
    "    X.append(featurize(PDBs[pdb], info[i]))\n",
    "    y.append(df[df['Id'] == pdb]['exp'].to_numpy()[0])\n",
    "\n",
    "print('Input data prepared')\n",
    "X, y = shuffle(X, y)\n",
    "K = 4\n",
    "fold_size = len(X) // K\n",
    "X_folds = [X[i*fold_size:(i + 1)*fold_size] for i in range(K)]\n",
    "y_folds = [y[i*fold_size:(i + 1)*fold_size] for i in range(K)]"
   ]
  },
  {
   "cell_type": "code",
   "execution_count": 18,
   "id": "742b51cc",
   "metadata": {},
   "outputs": [],
   "source": [
    "dbfile = open('X_folds_4.pkl', 'wb')\n",
    "pickle.dump(X_folds, dbfile)                     \n",
    "dbfile.close()"
   ]
  },
  {
   "cell_type": "code",
   "execution_count": 19,
   "id": "054b8ad7",
   "metadata": {},
   "outputs": [],
   "source": [
    "dbfile = open('y_folds_4.pkl', 'wb')\n",
    "pickle.dump(y_folds, dbfile)                     \n",
    "dbfile.close()"
   ]
  },
  {
   "cell_type": "code",
   "execution_count": 20,
   "id": "bdd63f84",
   "metadata": {},
   "outputs": [],
   "source": [
    "x_f = pickle.load(open('X_folds_4.pkl', 'rb'))"
   ]
  },
  {
   "cell_type": "code",
   "execution_count": 21,
   "id": "cad7b41a",
   "metadata": {},
   "outputs": [
    {
     "data": {
      "text/plain": [
       "(140, 41)"
      ]
     },
     "execution_count": 21,
     "metadata": {},
     "output_type": "execute_result"
    }
   ],
   "source": [
    "x_f[0][0].shape"
   ]
  },
  {
   "cell_type": "code",
   "execution_count": 2,
   "id": "bfadada0",
   "metadata": {},
   "outputs": [],
   "source": [
    "hists = pickle.load(open('PGCN_K_fold_hists.pkl', 'rb'))\n",
    "loss = pickle.load(open('PGCN_K_fold_test.pkl', 'rb'))"
   ]
  },
  {
   "cell_type": "code",
   "execution_count": 3,
   "id": "37ef398e",
   "metadata": {},
   "outputs": [],
   "source": [
    "import matplotlib.pyplot as plt"
   ]
  },
  {
   "cell_type": "code",
   "execution_count": 4,
   "id": "75c38411",
   "metadata": {},
   "outputs": [
    {
     "name": "stderr",
     "output_type": "stream",
     "text": [
      "No artists with labels found to put in legend.  Note that artists whose label start with an underscore are ignored when legend() is called with no argument.\n"
     ]
    },
    {
     "data": {
      "text/plain": [
       "<matplotlib.legend.Legend at 0x7f49d93e9a60>"
      ]
     },
     "execution_count": 4,
     "metadata": {},
     "output_type": "execute_result"
    },
    {
     "data": {
      "image/png": "[encoded data removed]",
      "text/plain": [
       "<Figure size 432x288 with 1 Axes>"
      ]
     },
     "metadata": {
      "needs_background": "light"
     },
     "output_type": "display_data"
    }
   ],
   "source": [
    "plt.plot(hists[0])\n",
    "plt.xlabel('K = 1')\n",
    "plt.legend()"
   ]
  },
  {
   "cell_type": "code",
   "execution_count": 5,
   "id": "10ad4385",
   "metadata": {},
   "outputs": [
    {
     "name": "stderr",
     "output_type": "stream",
     "text": [
      "No artists with labels found to put in legend.  Note that artists whose label start with an underscore are ignored when legend() is called with no argument.\n"
     ]
    },
    {
     "data": {
      "text/plain": [
       "<matplotlib.legend.Legend at 0x7f49d960f1c0>"
      ]
     },
     "execution_count": 5,
     "metadata": {},
     "output_type": "execute_result"
    },
    {
     "data": {
      "image/png": "[encoded data removed]",
      "text/plain": [
       "<Figure size 432x288 with 1 Axes>"
      ]
     },
     "metadata": {
      "needs_background": "light"
     },
     "output_type": "display_data"
    }
   ],
   "source": [
    "plt.plot(hists[1])\n",
    "plt.xlabel('K = 2')\n",
    "plt.legend()"
   ]
  },
  {
   "cell_type": "code",
   "execution_count": 6,
   "id": "3fa3310c",
   "metadata": {},
   "outputs": [
    {
     "name": "stderr",
     "output_type": "stream",
     "text": [
      "No artists with labels found to put in legend.  Note that artists whose label start with an underscore are ignored when legend() is called with no argument.\n"
     ]
    },
    {
     "data": {
      "text/plain": [
       "<matplotlib.legend.Legend at 0x7f49d9451220>"
      ]
     },
     "execution_count": 6,
     "metadata": {},
     "output_type": "execute_result"
    },
    {
     "data": {
      "image/png": "[encoded data removed]",
      "text/plain": [
       "<Figure size 432x288 with 1 Axes>"
      ]
     },
     "metadata": {
      "needs_background": "light"
     },
     "output_type": "display_data"
    }
   ],
   "source": [
    "plt.plot(hists[2])\n",
    "plt.xlabel('K = 3')\n",
    "plt.legend()"
   ]
  },
  {
   "cell_type": "code",
   "execution_count": 7,
   "id": "768ca7b6",
   "metadata": {},
   "outputs": [
    {
     "name": "stderr",
     "output_type": "stream",
     "text": [
      "No artists with labels found to put in legend.  Note that artists whose label start with an underscore are ignored when legend() is called with no argument.\n"
     ]
    },
    {
     "data": {
      "text/plain": [
       "<matplotlib.legend.Legend at 0x7f49d975c2b0>"
      ]
     },
     "execution_count": 7,
     "metadata": {},
     "output_type": "execute_result"
    },
    {
     "data": {
      "image/png": "[encoded data removed]",
      "text/plain": [
       "<Figure size 432x288 with 1 Axes>"
      ]
     },
     "metadata": {
      "needs_background": "light"
     },
     "output_type": "display_data"
    }
   ],
   "source": [
    "plt.plot(hists[3])\n",
    "plt.xlabel('K = 4')\n",
    "plt.legend()"
   ]
  },
  {
   "cell_type": "code",
   "execution_count": 1,
   "id": "cf1f9d06",
   "metadata": {},
   "outputs": [],
   "source": [
    "import pickle"
   ]
  },
  {
   "cell_type": "code",
   "execution_count": 2,
   "id": "ca3c53f6",
   "metadata": {},
   "outputs": [],
   "source": [
    "loss = pickle.load(open('PGCN_K_fold_test.pkl', 'rb'))"
   ]
  },
  {
   "cell_type": "code",
   "execution_count": 3,
   "id": "e184339d",
   "metadata": {},
   "outputs": [
    {
     "data": {
      "text/plain": [
       "[3.968169689178467, 4.4309234619140625, 3.518411636352539, 3.904867649078369]"
      ]
     },
     "execution_count": 3,
     "metadata": {},
     "output_type": "execute_result"
    }
   ],
   "source": [
    "loss"
   ]
  }
 ],
 "metadata": {
  "kernelspec": {
   "display_name": "GBNN",
   "language": "python",
   "name": "gbnn"
  },
  "language_info": {
   "codemirror_mode": {
    "name": "ipython",
    "version": 3
   },
   "file_extension": ".py",
   "mimetype": "text/x-python",
   "name": "python",
   "nbconvert_exporter": "python",
   "pygments_lexer": "ipython3",
   "version": "3.8.10"
  }
 },
 "nbformat": 4,
 "nbformat_minor": 5
}
