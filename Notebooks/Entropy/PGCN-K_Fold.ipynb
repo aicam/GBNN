{
 "cells": [
  {
   "cell_type": "code",
   "execution_count": 1,
   "id": "1b398ed0",
   "metadata": {},
   "outputs": [
    {
     "name": "stderr",
     "output_type": "stream",
     "text": [
      "2023-12-18 17:45:47.547395: I tensorflow/tsl/cuda/cudart_stub.cc:28] Could not find cuda drivers on your machine, GPU will not be used.\n",
      "2023-12-18 17:45:47.753987: I tensorflow/tsl/cuda/cudart_stub.cc:28] Could not find cuda drivers on your machine, GPU will not be used.\n",
      "2023-12-18 17:45:47.755990: I tensorflow/core/platform/cpu_feature_guard.cc:182] This TensorFlow binary is optimized to use available CPU instructions in performance-critical operations.\n",
      "To enable the following instructions: AVX2 FMA, in other operations, rebuild TensorFlow with the appropriate compiler flags.\n",
      "2023-12-18 17:45:48.616506: W tensorflow/compiler/tf2tensorrt/utils/py_utils.cc:38] TF-TRT Warning: Could not find TensorRT\n"
     ]
    }
   ],
   "source": [
    "import pandas as pd\n",
    "import tensorflow as tf\n",
    "import numpy as np\n",
    "import os\n",
    "import conda_installer\n",
    "from rdkit import Chem\n",
    "from deepchem.feat.graph_features import atom_features as get_atom_features\n",
    "import rdkit\n",
    "import pickle\n",
    "import matplotlib.pyplot as plt\n",
    "tf.data.experimental.enable_debug_mode()"
   ]
  },
  {
   "cell_type": "code",
   "execution_count": 2,
   "id": "c9af576d",
   "metadata": {},
   "outputs": [],
   "source": [
    "PDBs_folds = pickle.load(open('PDBs_folds_5.pkl', 'rb'))\n",
    "y_folds = pickle.load(open('y_folds_5.pkl', 'rb'))\n",
    "x_add_folds = pickle.load(open('x_add_folds_5.pkl', 'rb'))"
   ]
  },
  {
   "cell_type": "code",
   "execution_count": 12,
   "id": "a07cd29f",
   "metadata": {},
   "outputs": [
    {
     "name": "stdout",
     "output_type": "stream",
     "text": [
      "/home/ali/GBNN/PGGCN\n"
     ]
    }
   ],
   "source": [
    "%cd ../../PGGCN/"
   ]
  },
  {
   "cell_type": "code",
   "execution_count": 14,
   "id": "7e3e9dec",
   "metadata": {},
   "outputs": [
    {
     "data": {
      "text/plain": [
       "<module 'models.PGCN_model_entropy' from '/home/ali/GBNN/PGGCN/models/PGCN_model_entropy.py'>"
      ]
     },
     "execution_count": 14,
     "metadata": {},
     "output_type": "execute_result"
    }
   ],
   "source": [
    "import models.PGCN_model_entropy as pg\n",
    "import importlib\n",
    "importlib.reload(pg)"
   ]
  },
  {
   "cell_type": "code",
   "execution_count": null,
   "id": "a8cee444",
   "metadata": {},
   "outputs": [
    {
     "name": "stderr",
     "output_type": "stream",
     "text": [
      "2023-12-18 17:52:23.323711: E tensorflow/compiler/xla/stream_executor/cuda/cuda_driver.cc:266] failed call to cuInit: CUDA_ERROR_NO_DEVICE: no CUDA-capable device is detected\n"
     ]
    },
    {
     "name": "stdout",
     "output_type": "stream",
     "text": [
      "Epoch 1/25\n",
      "1/1 [==============================] - 86s 86s/step - loss: 1.8244\n",
      "Epoch 2/25\n",
      "1/1 [==============================] - 0s 370ms/step - loss: 1.8233\n",
      "Epoch 3/25\n",
      "1/1 [==============================] - 1s 733ms/step - loss: 1.8222\n",
      "Epoch 4/25\n",
      "1/1 [==============================] - 1s 715ms/step - loss: 1.8211\n",
      "Epoch 5/25\n",
      "1/1 [==============================] - 1s 689ms/step - loss: 1.8201\n",
      "Epoch 6/25\n",
      "1/1 [==============================] - 1s 693ms/step - loss: 1.8190\n",
      "Epoch 7/25\n",
      "1/1 [==============================] - 1s 693ms/step - loss: 1.8180\n",
      "Epoch 8/25\n",
      "1/1 [==============================] - 1s 701ms/step - loss: 1.8169\n",
      "Epoch 9/25\n",
      "1/1 [==============================] - 1s 715ms/step - loss: 1.8159\n",
      "Epoch 10/25\n",
      "1/1 [==============================] - 1s 686ms/step - loss: 1.8149\n",
      "Epoch 11/25\n",
      "1/1 [==============================] - 1s 689ms/step - loss: 1.8139\n",
      "Epoch 12/25\n",
      "1/1 [==============================] - 1s 691ms/step - loss: 1.8130\n",
      "Epoch 13/25\n",
      "1/1 [==============================] - 1s 696ms/step - loss: 1.8120\n",
      "Epoch 14/25\n",
      "1/1 [==============================] - 1s 708ms/step - loss: 1.8111\n",
      "Epoch 15/25\n",
      "1/1 [==============================] - 1s 676ms/step - loss: 1.8101\n",
      "Epoch 16/25\n",
      "1/1 [==============================] - 1s 689ms/step - loss: 1.8092\n",
      "Epoch 17/25\n",
      "1/1 [==============================] - 1s 709ms/step - loss: 1.8083\n",
      "Epoch 18/25\n",
      "1/1 [==============================] - 1s 688ms/step - loss: 1.8075\n",
      "Epoch 19/25\n",
      "1/1 [==============================] - 1s 718ms/step - loss: 1.8066\n",
      "Epoch 20/25\n",
      "1/1 [==============================] - 1s 699ms/step - loss: 1.8058\n",
      "Epoch 21/25\n",
      "1/1 [==============================] - 1s 679ms/step - loss: 1.8049\n",
      "Epoch 22/25\n",
      "1/1 [==============================] - 1s 739ms/step - loss: 1.8041\n",
      "Epoch 23/25\n",
      "1/1 [==============================] - 1s 752ms/step - loss: 1.8033\n",
      "Epoch 24/25\n",
      "1/1 [==============================] - 1s 716ms/step - loss: 1.8025\n",
      "Epoch 25/25\n",
      "1/1 [==============================] - 1s 802ms/step - loss: 1.8018\n",
      "1/1 [==============================] - 32s 32s/step\n",
      "1/1 [==============================] - 7s 7s/step - loss: 2.2594\n",
      "1/1 [==============================] - 7s 7s/step\n",
      "Epoch 1/25\n"
     ]
    }
   ],
   "source": [
    "hists = []\n",
    "predicts_train = []\n",
    "predicts_test = []\n",
    "loss = []\n",
    "K = 5\n",
    "for k in range(K):\n",
    "    X_train = []\n",
    "    x_add_train = []\n",
    "    for i in range(K):\n",
    "        if i != k:\n",
    "            X_train += PDBs_folds[i]\n",
    "            x_add_train += [np.array(x) for x in x_add_folds[i]]\n",
    "    X_test = PDBs_folds[k]\n",
    "    x_add_test = x_add_folds[i]\n",
    "    y_train = np.concatenate(np.array([y_folds[i] for i in range(K) if i != k]), 0)\n",
    "    y_test = np.array(y_folds[k])\n",
    "    x_train_parsed = pg.data_generator(X_train, x_add_train)\n",
    "    x_test_parsed = pg.data_generator(X_test, x_add_test)\n",
    "    hs, m, x_converted = pg.get_trained_model(x_train_parsed, np.array(y_train), epochs=25)\n",
    "    predicts_train.append(m.predict(x_converted, batch_size=len(X_train)))\n",
    "    hists.append(hs)\n",
    "    k_loss, x_converted = pg.test_model(x_test_parsed, y_test, m)\n",
    "    loss.append(k_loss)\n",
    "    predicts_test.append(m.predict(x_converted, batch_size=len(X_test)))\n",
    "    "
   ]
  },
  {
   "cell_type": "code",
   "execution_count": 5,
   "id": "5a1c5671",
   "metadata": {},
   "outputs": [],
   "source": [
    "from dcFeaturizer import atom_features as get_atom_features\n",
    "def featurize(molecule, info):\n",
    "    \n",
    "    atom_features = []\n",
    "    for atom in molecule.GetAtoms():\n",
    "        new_feature = get_atom_features(atom).tolist()\n",
    "        position = molecule.GetConformer().GetAtomPosition(atom.GetIdx())\n",
    "        new_feature += [atom.GetMass(), atom.GetAtomicNum()]\n",
    "        new_feature += [position.x, position.y, position.z]\n",
    "        for neighbor in atom.GetNeighbors()[:2]:\n",
    "            neighbor_idx = neighbor.GetIdx()\n",
    "            new_feature += [neighbor_idx]\n",
    "        for i in range(2 - len(atom.GetNeighbors())):\n",
    "            new_feature += [-1]\n",
    "        atom_features.append(np.concatenate([new_feature, info], 0))\n",
    "    return np.array(atom_features)"
   ]
  },
  {
   "cell_type": "code",
   "execution_count": 6,
   "id": "76a7111a",
   "metadata": {},
   "outputs": [],
   "source": [
    "from PGCN_model_entropy import get_trained_model, test_model"
   ]
  },
  {
   "cell_type": "code",
   "execution_count": 8,
   "id": "f0872429",
   "metadata": {},
   "outputs": [],
   "source": [
    "X = []\n",
    "y = []\n",
    "for i, pdb in enumerate(list(PDBs.keys())):\n",
    "    X.append(featurize(PDBs[pdb], info[i]))\n",
    "    y.append(df[df['Id'] == pdb]['exp'].to_numpy()[0])"
   ]
  },
  {
   "cell_type": "code",
   "execution_count": 9,
   "id": "aa81da34",
   "metadata": {},
   "outputs": [],
   "source": [
    "K = 4\n",
    "fold_size = len(X) // K\n",
    "X_folds = [X[i*fold_size:(i + 1)*fold_size] for i in range(K)]\n",
    "y_folds = [y[i*fold_size:(i + 1)*fold_size] for i in range(K)]"
   ]
  },
  {
   "cell_type": "code",
   "execution_count": null,
   "id": "6c847e04",
   "metadata": {},
   "outputs": [
    {
     "name": "stdout",
     "output_type": "stream",
     "text": [
      "Epoch 1/20\n"
     ]
    },
    {
     "name": "stderr",
     "output_type": "stream",
     "text": [
      "2023-04-07 15:45:47.204883: E tensorflow/compiler/xla/stream_executor/cuda/cuda_driver.cc:266] failed call to cuInit: CUDA_ERROR_NO_DEVICE: no CUDA-capable device is detected\n",
      "2023-04-07 15:45:47.312748: W tensorflow/tsl/framework/cpu_allocator_impl.cc:83] Allocation of 19680000 exceeds 10% of free system memory.\n",
      "2023-04-07 15:46:49.759955: W tensorflow/tsl/framework/cpu_allocator_impl.cc:83] Allocation of 19680000 exceeds 10% of free system memory.\n",
      "2023-04-07 15:46:49.760100: W tensorflow/tsl/framework/cpu_allocator_impl.cc:83] Allocation of 19680000 exceeds 10% of free system memory.\n",
      "2023-04-07 15:46:49.760183: W tensorflow/tsl/framework/cpu_allocator_impl.cc:83] Allocation of 19680000 exceeds 10% of free system memory.\n",
      "2023-04-07 15:46:49.761308: W tensorflow/tsl/framework/cpu_allocator_impl.cc:83] Allocation of 19680000 exceeds 10% of free system memory.\n"
     ]
    },
    {
     "name": "stdout",
     "output_type": "stream",
     "text": [
      "1/1 [==============================] - 63s 63s/step - loss: 6.9158\n",
      "Epoch 2/20\n",
      "1/1 [==============================] - 0s 257ms/step - loss: 7.4083\n",
      "Epoch 3/20\n",
      "1/1 [==============================] - 1s 517ms/step - loss: 6.8534\n",
      "Epoch 4/20\n",
      "1/1 [==============================] - 1s 565ms/step - loss: 4.2013\n",
      "Epoch 5/20\n",
      "1/1 [==============================] - 1s 571ms/step - loss: 5.7269\n",
      "Epoch 6/20\n",
      "1/1 [==============================] - 1s 516ms/step - loss: 6.2983\n",
      "Epoch 7/20\n",
      "1/1 [==============================] - 1s 514ms/step - loss: 5.0216\n",
      "Epoch 8/20\n",
      "1/1 [==============================] - 1s 640ms/step - loss: 3.8203\n",
      "Epoch 9/20\n",
      "1/1 [==============================] - 1s 546ms/step - loss: 4.4421\n",
      "Epoch 10/20\n",
      "1/1 [==============================] - 1s 541ms/step - loss: 5.1593\n",
      "Epoch 11/20\n",
      "1/1 [==============================] - 1s 557ms/step - loss: 4.5454\n",
      "Epoch 12/20\n",
      "1/1 [==============================] - 1s 579ms/step - loss: 4.2135\n",
      "Epoch 13/20\n",
      "1/1 [==============================] - 0s 473ms/step - loss: 4.2924\n",
      "Epoch 14/20\n",
      "1/1 [==============================] - 1s 569ms/step - loss: 4.6342\n",
      "Epoch 15/20\n",
      "1/1 [==============================] - 0s 423ms/step - loss: 4.7609\n",
      "Epoch 16/20\n",
      "1/1 [==============================] - 1s 583ms/step - loss: 3.9672\n",
      "Epoch 17/20\n",
      "1/1 [==============================] - 1s 544ms/step - loss: 4.1243\n",
      "Epoch 18/20\n",
      "1/1 [==============================] - 0s 454ms/step - loss: 4.4370\n",
      "Epoch 19/20\n",
      "1/1 [==============================] - 0s 458ms/step - loss: 4.2016\n",
      "Epoch 20/20\n",
      "1/1 [==============================] - 0s 462ms/step - loss: 4.1994\n",
      "1/1 [==============================] - 9s 9s/step - loss: 3.4925\n",
      "Epoch 1/20\n",
      "1/1 [==============================] - 66s 66s/step - loss: 41.3777\n",
      "Epoch 2/20\n",
      "1/1 [==============================] - 2s 2s/step - loss: 81.1431\n",
      "Epoch 3/20\n",
      "1/1 [==============================] - 3s 3s/step - loss: 73.3880\n",
      "Epoch 4/20\n",
      "1/1 [==============================] - 3s 3s/step - loss: 28.4991\n",
      "Epoch 5/20\n",
      "1/1 [==============================] - 3s 3s/step - loss: 38.6713\n",
      "Epoch 6/20\n",
      "1/1 [==============================] - 3s 3s/step - loss: 58.1198\n",
      "Epoch 7/20\n",
      "1/1 [==============================] - 3s 3s/step - loss: 51.0281\n",
      "Epoch 8/20\n",
      "1/1 [==============================] - 3s 3s/step - loss: 26.3182\n",
      "Epoch 9/20\n",
      "1/1 [==============================] - 3s 3s/step - loss: 17.0409\n",
      "Epoch 10/20\n",
      "1/1 [==============================] - 3s 3s/step - loss: 32.2423\n",
      "Epoch 11/20\n",
      "1/1 [==============================] - 3s 3s/step - loss: 32.1388\n",
      "Epoch 12/20\n",
      "1/1 [==============================] - 3s 3s/step - loss: 18.5111\n",
      "Epoch 13/20\n",
      "1/1 [==============================] - 3s 3s/step - loss: 12.4818\n",
      "Epoch 14/20\n",
      "1/1 [==============================] - 3s 3s/step - loss: 22.9957\n",
      "Epoch 15/20\n",
      "1/1 [==============================] - 3s 3s/step - loss: 21.4464\n",
      "Epoch 16/20\n",
      "1/1 [==============================] - 3s 3s/step - loss: 10.9266\n",
      "Epoch 17/20\n",
      "1/1 [==============================] - 3s 3s/step - loss: 14.9482\n",
      "Epoch 18/20\n",
      "1/1 [==============================] - 3s 3s/step - loss: 21.0682\n",
      "Epoch 19/20\n",
      "1/1 [==============================] - 3s 3s/step - loss: 16.0727\n",
      "Epoch 20/20\n",
      "1/1 [==============================] - 3s 3s/step - loss: 7.8139\n",
      "1/1 [==============================] - 7s 7s/step - loss: 9.8217\n",
      "Epoch 1/20\n",
      "1/1 [==============================] - 66s 66s/step - loss: 193.4335\n",
      "Epoch 2/20\n",
      "1/1 [==============================] - 7s 7s/step - loss: 31.3625\n",
      "Epoch 3/20\n",
      "1/1 [==============================] - 6s 6s/step - loss: 129.7931\n",
      "Epoch 4/20\n",
      "1/1 [==============================] - 6s 6s/step - loss: 169.5213\n",
      "Epoch 5/20\n",
      "1/1 [==============================] - 6s 6s/step - loss: 151.5148\n",
      "Epoch 6/20\n",
      "1/1 [==============================] - 7s 7s/step - loss: 100.6504\n",
      "Epoch 7/20\n",
      "1/1 [==============================] - 7s 7s/step - loss: 28.7554\n",
      "Epoch 8/20\n",
      "1/1 [==============================] - 6s 6s/step - loss: 57.5452\n",
      "Epoch 9/20\n",
      "1/1 [==============================] - 6s 6s/step - loss: 100.8689\n",
      "Epoch 10/20\n",
      "1/1 [==============================] - 4s 4s/step - loss: 112.7800\n",
      "Epoch 11/20\n",
      "1/1 [==============================] - 7s 7s/step - loss: 101.2343\n",
      "Epoch 12/20\n",
      "1/1 [==============================] - 44s 44s/step - loss: 69.9442\n",
      "Epoch 13/20\n",
      "1/1 [==============================] - 4s 4s/step - loss: 25.3332\n",
      "Epoch 14/20\n",
      "1/1 [==============================] - 9s 9s/step - loss: 33.1614\n",
      "Epoch 15/20\n",
      "1/1 [==============================] - 8s 8s/step - loss: 64.3387\n",
      "Epoch 16/20\n",
      "1/1 [==============================] - 6s 6s/step - loss: 74.7530\n",
      "Epoch 17/20\n",
      "1/1 [==============================] - 4s 4s/step - loss: 66.7849\n",
      "Epoch 18/20\n",
      "1/1 [==============================] - 6s 6s/step - loss: 45.4033\n",
      "Epoch 19/20\n",
      "1/1 [==============================] - 6s 6s/step - loss: 12.4025\n",
      "Epoch 20/20\n",
      "1/1 [==============================] - 6s 6s/step - loss: 33.0424\n",
      "1/1 [==============================] - 9s 9s/step - loss: 14.0593\n",
      "Epoch 1/20\n"
     ]
    }
   ],
   "source": [
    "hists = []\n",
    "test_loss = []\n",
    "for k in range(K):\n",
    "    X_train = []\n",
    "    for i in range(K):\n",
    "        if i != k:\n",
    "            X_train += X_folds[i]\n",
    "    X_test = X_folds[k]\n",
    "    y_train = np.concatenate(np.array([y_folds[i] for i in range(K) if i != k]), 0)\n",
    "    y_test = np.array(y_folds[k])\n",
    "    hist, m = get_trained_model(X_train, y_train, epochs=20)\n",
    "    hists.append(hist)\n",
    "    test_loss.append(test_model(X_test, y_test, m))"
   ]
  },
  {
   "cell_type": "code",
   "execution_count": 9,
   "id": "98453f6e",
   "metadata": {},
   "outputs": [
    {
     "data": {
      "text/plain": [
       "[<matplotlib.lines.Line2D at 0x7f91c154f040>]"
      ]
     },
     "execution_count": 9,
     "metadata": {},
     "output_type": "execute_result"
    },
    {
     "data": {
      "image/png": "[encoded data removed]",
      "text/plain": [
       "<Figure size 432x288 with 1 Axes>"
      ]
     },
     "metadata": {
      "needs_background": "light"
     },
     "output_type": "display_data"
    }
   ],
   "source": [
    "plt.plot(hist.history['loss'])"
   ]
  },
  {
   "cell_type": "code",
   "execution_count": 11,
   "id": "d2728f16",
   "metadata": {},
   "outputs": [
    {
     "name": "stdout",
     "output_type": "stream",
     "text": [
      "1/1 [==============================] - 6s 6s/step - loss: 5.1557\n"
     ]
    },
    {
     "data": {
      "text/plain": [
       "5.155716419219971"
      ]
     },
     "execution_count": 11,
     "metadata": {},
     "output_type": "execute_result"
    }
   ],
   "source": [
    "input_shapes = []\n",
    "y_test = y[int(.8*len(X)):]\n",
    "for i in range(len(X_test)):\n",
    "    input_shapes.append(np.array(X_test[i]).shape[0])\n",
    "m.set_input_shapes(input_shapes)\n",
    "for i in range(len(X_test)):\n",
    "    if X_test[i].shape[0] < 2000:\n",
    "        new_list = np.zeros([2000 - X_test[i].shape[0], 41])\n",
    "        X_test[i] = np.concatenate([X_test[i], new_list], 0)\n",
    "X_test = np.array(X_test)\n",
    "y_test = np.array(y_test)\n",
    "m.evaluate(X_test, y_test)"
   ]
  }
 ],
 "metadata": {
  "kernelspec": {
   "display_name": "GBNN",
   "language": "python",
   "name": "gbnn"
  },
  "language_info": {
   "codemirror_mode": {
    "name": "ipython",
    "version": 3
   },
   "file_extension": ".py",
   "mimetype": "text/x-python",
   "name": "python",
   "nbconvert_exporter": "python",
   "pygments_lexer": "ipython3",
   "version": "3.8.10"
  }
 },
 "nbformat": 4,
 "nbformat_minor": 5
}
