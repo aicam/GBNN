{
 "cells": [
  {
   "cell_type": "code",
   "execution_count": 16,
   "id": "1b398ed0",
   "metadata": {},
   "outputs": [],
   "source": [
    "import pandas as pd\n",
    "import tensorflow as tf\n",
    "import numpy as np\n",
    "import os\n",
    "import conda_installer\n",
    "from rdkit import Chem\n",
    "from deepchem.feat.graph_features import atom_features as get_atom_features\n",
    "import rdkit\n",
    "import pickle\n",
    "import matplotlib.pyplot as plt"
   ]
  },
  {
   "cell_type": "code",
   "execution_count": 7,
   "id": "c9af576d",
   "metadata": {},
   "outputs": [],
   "source": [
    "PDBs = pickle.load(open('PDBs_RDKit.pkl', 'rb'))\n",
    "df = pd.read_csv('T_data.csv')"
   ]
  },
  {
   "cell_type": "code",
   "execution_count": 8,
   "id": "a07cd29f",
   "metadata": {},
   "outputs": [
    {
     "name": "stdout",
     "output_type": "stream",
     "text": [
      "/home/ali/GBNN/PGGCN\n"
     ]
    }
   ],
   "source": [
    "%cd ../../PGGCN/"
   ]
  },
  {
   "cell_type": "code",
   "execution_count": 9,
   "id": "7e3e9dec",
   "metadata": {},
   "outputs": [],
   "source": [
    "info = []\n",
    "for pdb in list(PDBs.keys()):\n",
    "    info.append(df[df['Id'] == pdb][['TS_comp', 'TS_host', 'TS_ligand']].to_numpy()[0])"
   ]
  },
  {
   "cell_type": "code",
   "execution_count": 10,
   "id": "5a1c5671",
   "metadata": {},
   "outputs": [],
   "source": [
    "from dcFeaturizer import atom_features as get_atom_features\n",
    "def featurize(molecule, info):\n",
    "    \n",
    "    atom_features = []\n",
    "    for atom in molecule.GetAtoms():\n",
    "        new_feature = get_atom_features(atom).tolist()\n",
    "        position = molecule.GetConformer().GetAtomPosition(atom.GetIdx())\n",
    "        new_feature += [atom.GetMass(), atom.GetAtomicNum()]\n",
    "        new_feature += [position.x, position.y, position.z]\n",
    "        for neighbor in atom.GetNeighbors()[:2]:\n",
    "            neighbor_idx = neighbor.GetIdx()\n",
    "            new_feature += [neighbor_idx]\n",
    "        for i in range(2 - len(atom.GetNeighbors())):\n",
    "            new_feature += [-1]\n",
    "        atom_features.append(np.concatenate([new_feature, info], 0))\n",
    "    return np.array(atom_features)"
   ]
  },
  {
   "cell_type": "code",
   "execution_count": 11,
   "id": "5d6e0f86",
   "metadata": {},
   "outputs": [],
   "source": [
    "X = []\n",
    "y = []\n",
    "for i, pdb in enumerate(list(PDBs.keys())):\n",
    "    X.append(featurize(PDBs[pdb], info[i]))\n",
    "    y.append(df[df['Id'] == pdb]['exp'].to_numpy()[0])"
   ]
  },
  {
   "cell_type": "code",
   "execution_count": 12,
   "id": "c8dca819",
   "metadata": {},
   "outputs": [],
   "source": [
    "X_train, X_test, y_train, y_test = X[:int(.8*len(X))], X[int(.8*len(X)):], y[:int(.8*len(X))], y[int(.8*len(X)):]\n",
    "info_train, info_test = info[:int(.8*len(X))], info[int(.8*len(X)):]"
   ]
  },
  {
   "cell_type": "code",
   "execution_count": 13,
   "id": "981c3573",
   "metadata": {},
   "outputs": [],
   "source": [
    "from sklearn.utils import shuffle\n",
    "X, y = shuffle(X, y)"
   ]
  },
  {
   "cell_type": "code",
   "execution_count": 14,
   "id": "76a7111a",
   "metadata": {},
   "outputs": [
    {
     "name": "stdout",
     "output_type": "stream",
     "text": [
      "Epoch 1/20\n"
     ]
    },
    {
     "name": "stderr",
     "output_type": "stream",
     "text": [
      "2023-04-04 14:28:49.148604: E tensorflow/compiler/xla/stream_executor/cuda/cuda_driver.cc:266] failed call to cuInit: CUDA_ERROR_NO_DEVICE: no CUDA-capable device is detected\n"
     ]
    },
    {
     "name": "stdout",
     "output_type": "stream",
     "text": [
      "1/1 [==============================] - 75s 75s/step - loss: 37.2838\n",
      "Epoch 2/20\n",
      "1/1 [==============================] - 0s 323ms/step - loss: 27.0225\n",
      "Epoch 3/20\n",
      "1/1 [==============================] - 1s 575ms/step - loss: 17.1015\n",
      "Epoch 4/20\n",
      "1/1 [==============================] - 1s 603ms/step - loss: 7.7112\n",
      "Epoch 5/20\n",
      "1/1 [==============================] - 1s 552ms/step - loss: 5.1952\n",
      "Epoch 6/20\n",
      "1/1 [==============================] - 1s 556ms/step - loss: 9.7303\n",
      "Epoch 7/20\n",
      "1/1 [==============================] - 1s 547ms/step - loss: 12.1054\n",
      "Epoch 8/20\n",
      "1/1 [==============================] - 1s 529ms/step - loss: 12.1525\n",
      "Epoch 9/20\n",
      "1/1 [==============================] - 1s 564ms/step - loss: 10.8854\n",
      "Epoch 10/20\n",
      "1/1 [==============================] - 1s 567ms/step - loss: 8.3176\n",
      "Epoch 11/20\n",
      "1/1 [==============================] - 1s 576ms/step - loss: 5.4661\n",
      "Epoch 12/20\n",
      "1/1 [==============================] - 1s 539ms/step - loss: 4.2275\n",
      "Epoch 13/20\n",
      "1/1 [==============================] - 1s 522ms/step - loss: 5.0655\n",
      "Epoch 14/20\n",
      "1/1 [==============================] - 1s 536ms/step - loss: 6.7694\n",
      "Epoch 15/20\n",
      "1/1 [==============================] - 1s 545ms/step - loss: 7.6109\n",
      "Epoch 16/20\n",
      "1/1 [==============================] - 1s 618ms/step - loss: 7.5789\n",
      "Epoch 17/20\n",
      "1/1 [==============================] - 1s 609ms/step - loss: 6.8010\n",
      "Epoch 18/20\n",
      "1/1 [==============================] - 1s 592ms/step - loss: 5.6918\n",
      "Epoch 19/20\n",
      "1/1 [==============================] - 1s 666ms/step - loss: 4.0967\n",
      "Epoch 20/20\n",
      "1/1 [==============================] - 1s 603ms/step - loss: 4.0844\n"
     ]
    }
   ],
   "source": [
    "import layers_update_mobley as layers\n",
    "import importlib\n",
    "# import tensorflow_addons as tfa\n",
    "importlib.reload(layers)\n",
    "\n",
    "\n",
    "class PGGCNModel(tf.keras.Model):\n",
    "    def __init__(self, num_atom_features = 36, r_out_channel = 20, c_out_channel = 128):\n",
    "        super().__init__()\n",
    "        self.ruleGraphConvLayer = layers.RuleGraphConvLayer(r_out_channel, num_atom_features, 0)\n",
    "        self.ruleGraphConvLayer.combination_rules = []\n",
    "        self.conv = layers.ConvLayer(c_out_channel)\n",
    "        self.dense1 = tf.keras.layers.Dense(64, activation='relu', name='dense1')\n",
    "#         self.dense2 = tf.keras.layers.Dense(32, activation='sigmoid')\n",
    "#         self.dense3 = tf.keras.layers.Dense(100, activation='relu')\n",
    "#         self.dense4 = tf.keras.layers.Dense(80, activation='relu')\n",
    "        self.dense5 = tf.keras.layers.Dense(16, name='relu')\n",
    "        self.dense6 = tf.keras.layers.Dense(1, name='dense6')\n",
    "        self.dense7 = tf.keras.layers.Dense(1, name='dense7',\n",
    "                 kernel_initializer=tf.keras.initializers.Constant([-.2, -1, 1, 1]),\n",
    "                 bias_initializer=tf.keras.initializers.Zeros())\n",
    "        self.all_layer_1_weights = []\n",
    "        \n",
    "    def addRule(self, rule, start_index, end_index = None):\n",
    "        self.ruleGraphConvLayer.addRule(rule, start_index, end_index)\n",
    "    \n",
    "    def set_input_shapes(self, i_s):\n",
    "        self.i_s = i_s\n",
    "\n",
    "    def call(self, inputs):\n",
    "        physics_info = inputs[:,0,38:]\n",
    "        x_a = []\n",
    "        for i in range(len(self.i_s)):\n",
    "            x_a.append(inputs[i][:self.i_s[i], :38])\n",
    "#         agg = []\n",
    "#         for i in range(len(x_a)):\n",
    "#             agg.append([x_a[i], self.a_l[i]])\n",
    "        x = self.ruleGraphConvLayer(x_a)\n",
    "        self.all_layer_1_weights.append(self.ruleGraphConvLayer.w_s)\n",
    "        x = self.conv(x)\n",
    "        x = self.dense1(x)\n",
    "#         x = self.dense2(x)\n",
    "#         x = self.dense3(x)\n",
    "#         x = self.dense4(x)\n",
    "        x = self.dense5(x)\n",
    "        model_var = self.dense6(x)\n",
    "        merged = tf.concat([model_var, physics_info], axis=1)\n",
    "        out = self.dense7(merged)\n",
    "        return out\n",
    "\n",
    "m = PGGCNModel()\n",
    "m.addRule(\"sum\", 0, 31)\n",
    "m.addRule(\"multiply\", 31, 33)\n",
    "m.addRule(\"distance\", 33, 36)\n",
    "\n",
    "import keras.backend as K\n",
    "def root_mean_squared_error(y_true, y_pred):\n",
    "        return K.sqrt(K.mean(K.square(y_pred[0] - y_true))) + K.abs(1 / K.mean(.2 + y_pred[1]))\n",
    "def pure_rmse(y_true, y_pred):\n",
    "    return K.sqrt(K.mean(K.square(y_pred - y_true)))\n",
    "    \n",
    "\n",
    "# optimizers = [\n",
    "#     tf.keras.optimizers.Adam(learning_rate=0.1),\n",
    "#     tf.keras.optimizers.Adam(learning_rate=0.005)\n",
    "# ]\n",
    "# optimizers_and_layers = [(optimizers[0], m.layers[:len(m.layers) - 1]), \n",
    "#                          (optimizers[1], m.layers[len(m.layers) - 1])]    \n",
    "# optimizer = tfa.optimizers.MultiOptimizer(optimizers_and_layers)\n",
    "\n",
    "# opt = tf.keras.optimizers.Adam(learning_rate=1e-4)\n",
    "m.compile(loss=pure_rmse, optimizer='adam')#opt)\n",
    "X_train, X_test, y_train, y_test = X[:int(.8*len(X))], X[int(.8*len(X)):], y[:int(.8*len(X))], y[int(.8*len(X)):]\n",
    "info_train, info_test = info[:int(.8*len(X))], info[int(.8*len(X)):]\n",
    "\n",
    "input_shapes = []\n",
    "for i in range(len(X_train)):\n",
    "    input_shapes.append(np.array(X_train[i]).shape[0])\n",
    "m.set_input_shapes(input_shapes)\n",
    "for i in range(len(X_train)):\n",
    "    if X_train[i].shape[0] < 2000:\n",
    "        new_list = np.zeros([2000 - X_train[i].shape[0], 41])\n",
    "        X_train[i] = np.concatenate([X_train[i], new_list], 0)\n",
    "X_train = np.array(X_train)\n",
    "y_train = np.array(y_train)\n",
    "hist = m.fit(X_train, y_train, epochs = 20, batch_size=64)"
   ]
  },
  {
   "cell_type": "code",
   "execution_count": 17,
   "id": "98453f6e",
   "metadata": {},
   "outputs": [
    {
     "data": {
      "text/plain": [
       "[<matplotlib.lines.Line2D at 0x7f0f31f28970>]"
      ]
     },
     "execution_count": 17,
     "metadata": {},
     "output_type": "execute_result"
    },
    {
     "data": {
      "image/png": "[encoded data removed]",
      "text/plain": [
       "<Figure size 432x288 with 1 Axes>"
      ]
     },
     "metadata": {
      "needs_background": "light"
     },
     "output_type": "display_data"
    }
   ],
   "source": [
    "plt.plot(hist.history['loss'])"
   ]
  },
  {
   "cell_type": "code",
   "execution_count": 18,
   "id": "d2728f16",
   "metadata": {},
   "outputs": [
    {
     "name": "stdout",
     "output_type": "stream",
     "text": [
      "1/1 [==============================] - 6s 6s/step - loss: 3.1007\n"
     ]
    },
    {
     "data": {
      "text/plain": [
       "3.10066294670105"
      ]
     },
     "execution_count": 18,
     "metadata": {},
     "output_type": "execute_result"
    }
   ],
   "source": [
    "input_shapes = []\n",
    "y_test = y[int(.8*len(X)):]\n",
    "for i in range(len(X_test)):\n",
    "    input_shapes.append(np.array(X_test[i]).shape[0])\n",
    "m.set_input_shapes(input_shapes)\n",
    "for i in range(len(X_test)):\n",
    "    if X_test[i].shape[0] < 2000:\n",
    "        new_list = np.zeros([2000 - X_test[i].shape[0], 41])\n",
    "        X_test[i] = np.concatenate([X_test[i], new_list], 0)\n",
    "X_test = np.array(X_test)\n",
    "y_test = np.array(y_test)\n",
    "m.evaluate(X_test, y_test)"
   ]
  }
 ],
 "metadata": {
  "kernelspec": {
   "display_name": "GBNN",
   "language": "python",
   "name": "gbnn"
  },
  "language_info": {
   "codemirror_mode": {
    "name": "ipython",
    "version": 3
   },
   "file_extension": ".py",
   "mimetype": "text/x-python",
   "name": "python",
   "nbconvert_exporter": "python",
   "pygments_lexer": "ipython3",
   "version": "3.8.10"
  }
 },
 "nbformat": 4,
 "nbformat_minor": 5
}
