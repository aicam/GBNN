{
 "cells": [
  {
   "cell_type": "code",
   "execution_count": 1,
   "id": "1b398ed0",
   "metadata": {
    "scrolled": false
   },
   "outputs": [
    {
     "name": "stderr",
     "output_type": "stream",
     "text": [
      "2023-04-10 17:12:45.892803: I tensorflow/tsl/cuda/cudart_stub.cc:28] Could not find cuda drivers on your machine, GPU will not be used.\n",
      "2023-04-10 17:12:45.930452: I tensorflow/tsl/cuda/cudart_stub.cc:28] Could not find cuda drivers on your machine, GPU will not be used.\n",
      "2023-04-10 17:12:45.931014: I tensorflow/core/platform/cpu_feature_guard.cc:182] This TensorFlow binary is optimized to use available CPU instructions in performance-critical operations.\n",
      "To enable the following instructions: AVX2 FMA, in other operations, rebuild TensorFlow with the appropriate compiler flags.\n",
      "2023-04-10 17:12:46.479610: W tensorflow/compiler/tf2tensorrt/utils/py_utils.cc:38] TF-TRT Warning: Could not find TensorRT\n"
     ]
    }
   ],
   "source": [
    "import pandas as pd\n",
    "import tensorflow as tf\n",
    "import numpy as np\n",
    "import os\n",
    "import conda_installer\n",
    "from rdkit import Chem\n",
    "from deepchem.feat.graph_features import atom_features as get_atom_features\n",
    "import rdkit\n",
    "import pickle\n",
    "import matplotlib.pyplot as plt"
   ]
  },
  {
   "cell_type": "code",
   "execution_count": 2,
   "id": "c9af576d",
   "metadata": {
    "scrolled": false
   },
   "outputs": [],
   "source": [
    "PDBs = pickle.load(open('PDBs_RDKit.pkl', 'rb'))\n",
    "df = pd.read_csv('T_data.csv')"
   ]
  },
  {
   "cell_type": "code",
   "execution_count": 3,
   "id": "a07cd29f",
   "metadata": {
    "scrolled": false
   },
   "outputs": [
    {
     "name": "stdout",
     "output_type": "stream",
     "text": [
      "/home/ali/GBNN/PGGCN\n"
     ]
    }
   ],
   "source": [
    "%cd ../../PGGCN/"
   ]
  },
  {
   "cell_type": "code",
   "execution_count": 4,
   "id": "7e3e9dec",
   "metadata": {},
   "outputs": [],
   "source": [
    "info = []\n",
    "for pdb in list(PDBs.keys()):\n",
    "    info.append(df[df['Id'] == pdb][['TS_comp', 'TS_host', 'TS_ligand']].to_numpy()[0])"
   ]
  },
  {
   "cell_type": "code",
   "execution_count": 5,
   "id": "5a1c5671",
   "metadata": {},
   "outputs": [],
   "source": [
    "from models.dcFeaturizer import atom_features as get_atom_features\n",
    "def featurize(molecule, info):\n",
    "    \n",
    "    atom_features = []\n",
    "    for atom in molecule.GetAtoms():\n",
    "        new_feature = get_atom_features(atom).tolist()\n",
    "        position = molecule.GetConformer().GetAtomPosition(atom.GetIdx())\n",
    "        new_feature += [atom.GetMass(), atom.GetAtomicNum()]\n",
    "        new_feature += [position.x, position.y, position.z]\n",
    "        for neighbor in atom.GetNeighbors()[:2]:\n",
    "            neighbor_idx = neighbor.GetIdx()\n",
    "            new_feature += [neighbor_idx]\n",
    "        for i in range(2 - len(atom.GetNeighbors())):\n",
    "            new_feature += [-1]\n",
    "        atom_features.append(np.concatenate([new_feature, info], 0))\n",
    "    return np.array(atom_features)"
   ]
  },
  {
   "cell_type": "code",
   "execution_count": 6,
   "id": "5d6e0f86",
   "metadata": {},
   "outputs": [],
   "source": [
    "X = []\n",
    "y = []\n",
    "for i, pdb in enumerate(list(PDBs.keys())):\n",
    "    X.append(featurize(PDBs[pdb], info[i]))\n",
    "    y.append(df[df['Id'] == pdb]['exp'].to_numpy()[0])"
   ]
  },
  {
   "cell_type": "code",
   "execution_count": 7,
   "id": "c8dca819",
   "metadata": {},
   "outputs": [],
   "source": [
    "X_train, X_test, y_train, y_test = X[:int(.8*len(X))], X[int(.8*len(X)):], y[:int(.8*len(X))], y[int(.8*len(X)):]\n",
    "info_train, info_test = info[:int(.8*len(X))], info[int(.8*len(X)):]"
   ]
  },
  {
   "cell_type": "code",
   "execution_count": 8,
   "id": "dac98d01",
   "metadata": {},
   "outputs": [],
   "source": [
    "X_c = X.copy()\n",
    "y_c = y.copy()"
   ]
  },
  {
   "cell_type": "code",
   "execution_count": 15,
   "id": "981c3573",
   "metadata": {},
   "outputs": [],
   "source": [
    "from sklearn.utils import shuffle\n",
    "X, y = shuffle(X, y)"
   ]
  },
  {
   "cell_type": "code",
   "execution_count": 21,
   "id": "76a7111a",
   "metadata": {},
   "outputs": [
    {
     "name": "stdout",
     "output_type": "stream",
     "text": [
      "Epoch 1/50\n",
      "1/1 [==============================] - 65s 65s/step - loss: 114.0008\n",
      "Epoch 2/50\n",
      "1/1 [==============================] - 0s 256ms/step - loss: 67.3415\n",
      "Epoch 3/50\n",
      "1/1 [==============================] - 1s 506ms/step - loss: 21.5069\n",
      "Epoch 4/50\n",
      "1/1 [==============================] - 0s 499ms/step - loss: 24.7728\n",
      "Epoch 5/50\n",
      "1/1 [==============================] - 0s 472ms/step - loss: 43.2476\n",
      "Epoch 6/50\n",
      "1/1 [==============================] - 0s 487ms/step - loss: 45.7825\n",
      "Epoch 7/50\n",
      "1/1 [==============================] - 1s 507ms/step - loss: 37.9580\n",
      "Epoch 8/50\n",
      "1/1 [==============================] - 0s 471ms/step - loss: 23.2608\n",
      "Epoch 9/50\n",
      "1/1 [==============================] - 0s 497ms/step - loss: 3.9960\n",
      "Epoch 10/50\n",
      "1/1 [==============================] - 0s 489ms/step - loss: 19.2351\n",
      "Epoch 11/50\n",
      "1/1 [==============================] - 0s 489ms/step - loss: 31.7480\n",
      "Epoch 12/50\n",
      "1/1 [==============================] - 0s 491ms/step - loss: 36.1609\n",
      "Epoch 13/50\n",
      "1/1 [==============================] - 0s 493ms/step - loss: 34.0381\n",
      "Epoch 14/50\n",
      "1/1 [==============================] - 0s 496ms/step - loss: 26.5754\n",
      "Epoch 15/50\n",
      "1/1 [==============================] - 0s 484ms/step - loss: 14.7562\n",
      "Epoch 16/50\n",
      "1/1 [==============================] - 0s 472ms/step - loss: 2.0966\n",
      "Epoch 17/50\n",
      "1/1 [==============================] - 0s 474ms/step - loss: 12.8115\n",
      "Epoch 18/50\n",
      "1/1 [==============================] - 0s 485ms/step - loss: 17.8505\n",
      "Epoch 19/50\n",
      "1/1 [==============================] - 1s 500ms/step - loss: 17.3571\n",
      "Epoch 20/50\n",
      "1/1 [==============================] - 1s 501ms/step - loss: 12.0280\n",
      "Epoch 21/50\n",
      "1/1 [==============================] - 0s 480ms/step - loss: 3.0605\n",
      "Epoch 22/50\n",
      "1/1 [==============================] - 0s 498ms/step - loss: 9.9340\n",
      "Epoch 23/50\n",
      "1/1 [==============================] - 0s 478ms/step - loss: 16.0832\n",
      "Epoch 24/50\n",
      "1/1 [==============================] - 0s 484ms/step - loss: 17.0740\n",
      "Epoch 25/50\n",
      "1/1 [==============================] - 0s 483ms/step - loss: 13.4923\n",
      "Epoch 26/50\n",
      "1/1 [==============================] - 1s 507ms/step - loss: 6.0635\n",
      "Epoch 27/50\n",
      "1/1 [==============================] - 0s 491ms/step - loss: 5.5825\n",
      "Epoch 28/50\n",
      "1/1 [==============================] - 1s 528ms/step - loss: 11.1384\n",
      "Epoch 29/50\n",
      "1/1 [==============================] - 0s 490ms/step - loss: 11.7654\n",
      "Epoch 30/50\n",
      "1/1 [==============================] - 0s 488ms/step - loss: 8.2881\n",
      "Epoch 31/50\n",
      "1/1 [==============================] - 1s 510ms/step - loss: 1.9840\n",
      "Epoch 32/50\n",
      "1/1 [==============================] - 0s 494ms/step - loss: 7.7833\n",
      "Epoch 33/50\n",
      "1/1 [==============================] - 1s 506ms/step - loss: 10.8563\n",
      "Epoch 34/50\n",
      "1/1 [==============================] - 1s 567ms/step - loss: 9.5578\n",
      "Epoch 35/50\n",
      "1/1 [==============================] - 1s 532ms/step - loss: 4.5300\n",
      "Epoch 36/50\n",
      "1/1 [==============================] - 0s 405ms/step - loss: 4.9048\n",
      "Epoch 37/50\n",
      "1/1 [==============================] - 1s 507ms/step - loss: 8.6035\n",
      "Epoch 38/50\n",
      "1/1 [==============================] - 0s 494ms/step - loss: 7.9626\n",
      "Epoch 39/50\n",
      "1/1 [==============================] - 0s 488ms/step - loss: 3.5889\n",
      "Epoch 40/50\n",
      "1/1 [==============================] - 0s 493ms/step - loss: 4.9570\n",
      "Epoch 41/50\n",
      "1/1 [==============================] - 1s 514ms/step - loss: 7.8942\n",
      "Epoch 42/50\n",
      "1/1 [==============================] - 1s 574ms/step - loss: 6.6230\n",
      "Epoch 43/50\n",
      "1/1 [==============================] - 0s 468ms/step - loss: 2.2945\n",
      "Epoch 44/50\n",
      "1/1 [==============================] - 1s 500ms/step - loss: 5.9806\n",
      "Epoch 45/50\n",
      "1/1 [==============================] - 0s 492ms/step - loss: 8.2222\n",
      "Epoch 46/50\n",
      "1/1 [==============================] - 0s 485ms/step - loss: 6.4423\n",
      "Epoch 47/50\n",
      "1/1 [==============================] - 0s 489ms/step - loss: 1.9205\n",
      "Epoch 48/50\n",
      "1/1 [==============================] - 0s 488ms/step - loss: 5.9549\n",
      "Epoch 49/50\n",
      "1/1 [==============================] - 0s 489ms/step - loss: 7.3685\n",
      "Epoch 50/50\n",
      "1/1 [==============================] - 0s 460ms/step - loss: 4.9646\n"
     ]
    }
   ],
   "source": [
    "import models.layers_update_mobley as layers\n",
    "import importlib\n",
    "# import tensorflow_addons as tfa\n",
    "importlib.reload(layers)\n",
    "\n",
    "\n",
    "class PGGCNModel(tf.keras.Model):\n",
    "    def __init__(self, num_atom_features = 36, r_out_channel = 20, c_out_channel = 128):\n",
    "        super().__init__()\n",
    "        self.ruleGraphConvLayer = layers.RuleGraphConvLayer(r_out_channel, num_atom_features, 0)\n",
    "        self.ruleGraphConvLayer.combination_rules = []\n",
    "        self.conv = layers.ConvLayer(c_out_channel)\n",
    "        self.dense1 = tf.keras.layers.Dense(64, activation='relu', name='dense1')\n",
    "#         self.dense2 = tf.keras.layers.Dense(32, activation='sigmoid')\n",
    "#         self.dense3 = tf.keras.layers.Dense(100, activation='relu')\n",
    "#         self.dense4 = tf.keras.layers.Dense(80, activation='relu')\n",
    "        self.dense5 = tf.keras.layers.Dense(16, name='relu')\n",
    "        self.dense6 = tf.keras.layers.Dense(1, name='dense6')\n",
    "#         self.dense7 = tf.keras.layers.Dense(1, name='dense7',\n",
    "#                  kernel_initializer=tf.keras.initializers.Constant([-.2, -1, 1, 1]),\n",
    "#                  bias_initializer=tf.keras.initializers.Zeros())\n",
    "        self.all_layer_1_weights = []\n",
    "        \n",
    "    def addRule(self, rule, start_index, end_index = None):\n",
    "        self.ruleGraphConvLayer.addRule(rule, start_index, end_index)\n",
    "    \n",
    "    def set_input_shapes(self, i_s):\n",
    "        self.i_s = i_s\n",
    "\n",
    "    def call(self, inputs):\n",
    "        physics_info = inputs[:,0,38:]\n",
    "        x_a = []\n",
    "        for i in range(len(self.i_s)):\n",
    "            x_a.append(inputs[i][:self.i_s[i], :38])\n",
    "#         agg = []\n",
    "#         for i in range(len(x_a)):\n",
    "#             agg.append([x_a[i], self.a_l[i]])\n",
    "        x = self.ruleGraphConvLayer(x_a)\n",
    "        self.all_layer_1_weights.append(self.ruleGraphConvLayer.w_s)\n",
    "        x = self.conv(x)\n",
    "        x = self.dense1(x)\n",
    "#         x = self.dense2(x)\n",
    "#         x = self.dense3(x)\n",
    "#         x = self.dense4(x)\n",
    "        x = self.dense5(x)\n",
    "        model_var = self.dense6(x)\n",
    "#         merged = tf.concat([model_var, physics_info], axis=1)\n",
    "#         out = self.dense7(merged)\n",
    "        return model_var\n",
    "\n",
    "m = PGGCNModel()\n",
    "m.addRule(\"sum\", 0, 31)\n",
    "m.addRule(\"multiply\", 31, 33)\n",
    "m.addRule(\"distance\", 33, 36)\n",
    "\n",
    "import keras.backend as K\n",
    "def root_mean_squared_error(y_true, y_pred):\n",
    "        return K.sqrt(K.mean(K.square(y_pred[0] - y_true))) + K.abs(1 / K.mean(.2 + y_pred[1]))\n",
    "def pure_rmse(y_true, y_pred):\n",
    "    return K.sqrt(K.mean(K.square(y_pred - y_true)))\n",
    "    \n",
    "\n",
    "# optimizers = [\n",
    "#     tf.keras.optimizers.Adam(learning_rate=0.1),\n",
    "#     tf.keras.optimizers.Adam(learning_rate=0.005)\n",
    "# ]\n",
    "# optimizers_and_layers = [(optimizers[0], m.layers[:len(m.layers) - 1]), \n",
    "#                          (optimizers[1], m.layers[len(m.layers) - 1])]    \n",
    "# optimizer = tfa.optimizers.MultiOptimizer(optimizers_and_layers)\n",
    "\n",
    "# opt = tf.keras.optimizers.Adam(learning_rate=1e-4)\n",
    "m.compile(loss=pure_rmse, optimizer='adam')#opt)\n",
    "X_train, X_test, y_train, y_test = X[:int(.8*len(X))], X[int(.8*len(X)):], y[:int(.8*len(X))], y[int(.8*len(X)):]\n",
    "info_train, info_test = info[:int(.8*len(X))], info[int(.8*len(X)):]\n",
    "\n",
    "input_shapes = []\n",
    "for i in range(len(X_train)):\n",
    "    input_shapes.append(np.array(X_train[i]).shape[0])\n",
    "m.set_input_shapes(input_shapes)\n",
    "for i in range(len(X_train)):\n",
    "    if X_train[i].shape[0] < 2000:\n",
    "        new_list = np.zeros([2000 - X_train[i].shape[0], 41])\n",
    "        X_train[i] = np.concatenate([X_train[i], new_list], 0)\n",
    "X_train = np.array(X_train)\n",
    "y_train = np.array(y_train)\n",
    "# callback = tf.keras.callbacks.EarlyStopping(monitor='loss', patience=3)\n",
    "hist = m.fit(X_train, y_train, epochs = 50, batch_size=64)"
   ]
  },
  {
   "cell_type": "code",
   "execution_count": 23,
   "id": "98453f6e",
   "metadata": {},
   "outputs": [
    {
     "data": {
      "text/plain": [
       "[<matplotlib.lines.Line2D at 0x7f6bc3d4be50>]"
      ]
     },
     "execution_count": 23,
     "metadata": {},
     "output_type": "execute_result"
    },
    {
     "data": {
      "image/png": "[encoded data removed]",
      "text/plain": [
       "<Figure size 432x288 with 1 Axes>"
      ]
     },
     "metadata": {
      "needs_background": "light"
     },
     "output_type": "display_data"
    }
   ],
   "source": [
    "plt.plot(hist.history['loss'])"
   ]
  },
  {
   "cell_type": "code",
   "execution_count": 22,
   "id": "d2728f16",
   "metadata": {},
   "outputs": [
    {
     "name": "stdout",
     "output_type": "stream",
     "text": [
      "1/1 [==============================] - 6s 6s/step - loss: 3.0139\n"
     ]
    },
    {
     "data": {
      "text/plain": [
       "3.013862371444702"
      ]
     },
     "execution_count": 22,
     "metadata": {},
     "output_type": "execute_result"
    }
   ],
   "source": [
    "input_shapes = []\n",
    "y_test = y[int(.8*len(X)):]\n",
    "for i in range(len(X_test)):\n",
    "    input_shapes.append(np.array(X_test[i]).shape[0])\n",
    "m.set_input_shapes(input_shapes)\n",
    "for i in range(len(X_test)):\n",
    "    if X_test[i].shape[0] < 2000:\n",
    "        new_list = np.zeros([2000 - X_test[i].shape[0], 41])\n",
    "        X_test[i] = np.concatenate([X_test[i], new_list], 0)\n",
    "X_test = np.array(X_test)\n",
    "y_test = np.array(y_test)\n",
    "m.evaluate(X_test, y_test)"
   ]
  },
  {
   "cell_type": "code",
   "execution_count": 24,
   "id": "5f6c4276",
   "metadata": {},
   "outputs": [],
   "source": [
    "with open('PGCN_DD_single.pkl', 'wb') as f:\n",
    "    pickle.dump([hist.history['loss'], 3.01], f)"
   ]
  }
 ],
 "metadata": {
  "kernelspec": {
   "display_name": "GBNN",
   "language": "python",
   "name": "gbnn"
  },
  "language_info": {
   "codemirror_mode": {
    "name": "ipython",
    "version": 3
   },
   "file_extension": ".py",
   "mimetype": "text/x-python",
   "name": "python",
   "nbconvert_exporter": "python",
   "pygments_lexer": "ipython3",
   "version": "3.8.10"
  }
 },
 "nbformat": 4,
 "nbformat_minor": 5
}
