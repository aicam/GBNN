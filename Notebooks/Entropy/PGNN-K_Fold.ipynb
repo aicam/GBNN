{
 "cells": [
  {
   "cell_type": "code",
   "execution_count": 1,
   "id": "933e9ff4",
   "metadata": {},
   "outputs": [
    {
     "name": "stderr",
     "output_type": "stream",
     "text": [
      "2023-12-20 19:05:54.021500: I tensorflow/tsl/cuda/cudart_stub.cc:28] Could not find cuda drivers on your machine, GPU will not be used.\n",
      "2023-12-20 19:05:54.186762: I tensorflow/tsl/cuda/cudart_stub.cc:28] Could not find cuda drivers on your machine, GPU will not be used.\n",
      "2023-12-20 19:05:54.187615: I tensorflow/core/platform/cpu_feature_guard.cc:182] This TensorFlow binary is optimized to use available CPU instructions in performance-critical operations.\n",
      "To enable the following instructions: AVX2 FMA, in other operations, rebuild TensorFlow with the appropriate compiler flags.\n",
      "2023-12-20 19:05:55.059270: W tensorflow/compiler/tf2tensorrt/utils/py_utils.cc:38] TF-TRT Warning: Could not find TensorRT\n"
     ]
    }
   ],
   "source": [
    "import pandas as pd\n",
    "import tensorflow as tf\n",
    "import numpy as np\n",
    "import os\n",
    "import conda_installer\n",
    "from rdkit import Chem\n",
    "from deepchem.feat.graph_features import atom_features as get_atom_features\n",
    "import rdkit\n",
    "import pickle\n",
    "import matplotlib.pyplot as plt\n",
    "import deepchem as dc\n"
   ]
  },
  {
   "cell_type": "code",
   "execution_count": 2,
   "id": "a6789816",
   "metadata": {},
   "outputs": [],
   "source": [
    "PDBs_folds = pickle.load(open('PDBs_folds_5.pkl', 'rb'))\n",
    "y_folds = pickle.load(open('y_folds_5.pkl', 'rb'))\n",
    "x_add_folds = pickle.load(open('x_add_folds_5.pkl', 'rb'))"
   ]
  },
  {
   "cell_type": "code",
   "execution_count": 4,
   "id": "8b3bfc3e",
   "metadata": {},
   "outputs": [
    {
     "name": "stdout",
     "output_type": "stream",
     "text": [
      "/home/ali/GBNN/PGGCN\n"
     ]
    }
   ],
   "source": [
    "%cd ../../PGGCN"
   ]
  },
  {
   "cell_type": "code",
   "execution_count": 6,
   "id": "72e9ace1",
   "metadata": {},
   "outputs": [
    {
     "data": {
      "text/plain": [
       "<module 'models.PGNN_model_entropy' from '/home/ali/GBNN/PGGCN/models/PGNN_model_entropy.py'>"
      ]
     },
     "execution_count": 6,
     "metadata": {},
     "output_type": "execute_result"
    }
   ],
   "source": [
    "import models.PGNN_model_entropy as pg\n",
    "import importlib\n",
    "importlib.reload(pg)"
   ]
  },
  {
   "cell_type": "code",
   "execution_count": 7,
   "id": "0e88ef89",
   "metadata": {},
   "outputs": [
    {
     "name": "stdout",
     "output_type": "stream",
     "text": [
      "Epoch 1/25\n"
     ]
    },
    {
     "name": "stderr",
     "output_type": "stream",
     "text": [
      "2023-12-20 19:06:45.761751: E tensorflow/compiler/xla/stream_executor/cuda/cuda_driver.cc:266] failed call to cuInit: CUDA_ERROR_NO_DEVICE: no CUDA-capable device is detected\n",
      "2023-12-20 19:06:45.833261: W tensorflow/tsl/framework/cpu_allocator_impl.cc:83] Allocation of 32722200 exceeds 10% of free system memory.\n"
     ]
    },
    {
     "name": "stdout",
     "output_type": "stream",
     "text": [
      "1/1 [==============================] - 5s 5s/step - loss: 13.0841\n",
      "Epoch 2/25\n"
     ]
    },
    {
     "name": "stderr",
     "output_type": "stream",
     "text": [
      "2023-12-20 19:06:50.977323: W tensorflow/tsl/framework/cpu_allocator_impl.cc:83] Allocation of 32722200 exceeds 10% of free system memory.\n",
      "2023-12-20 19:06:50.977427: W tensorflow/tsl/framework/cpu_allocator_impl.cc:83] Allocation of 32722200 exceeds 10% of free system memory.\n",
      "2023-12-20 19:06:50.977564: W tensorflow/tsl/framework/cpu_allocator_impl.cc:83] Allocation of 32722200 exceeds 10% of free system memory.\n",
      "2023-12-20 19:06:50.977639: W tensorflow/tsl/framework/cpu_allocator_impl.cc:83] Allocation of 32722200 exceeds 10% of free system memory.\n"
     ]
    },
    {
     "name": "stdout",
     "output_type": "stream",
     "text": [
      "1/1 [==============================] - 0s 64ms/step - loss: 11.3194\n",
      "Epoch 3/25\n",
      "1/1 [==============================] - 0s 60ms/step - loss: 10.0483\n",
      "Epoch 4/25\n",
      "1/1 [==============================] - 0s 62ms/step - loss: 8.9686\n",
      "Epoch 5/25\n",
      "1/1 [==============================] - 0s 60ms/step - loss: 8.0384\n",
      "Epoch 6/25\n",
      "1/1 [==============================] - 0s 65ms/step - loss: 7.2399\n",
      "Epoch 7/25\n",
      "1/1 [==============================] - 0s 66ms/step - loss: 6.5820\n",
      "Epoch 8/25\n",
      "1/1 [==============================] - 0s 66ms/step - loss: 5.9494\n",
      "Epoch 9/25\n",
      "1/1 [==============================] - 0s 67ms/step - loss: 5.4114\n",
      "Epoch 10/25\n",
      "1/1 [==============================] - 0s 67ms/step - loss: 4.9597\n",
      "Epoch 11/25\n",
      "1/1 [==============================] - 0s 65ms/step - loss: 4.5691\n",
      "Epoch 12/25\n",
      "1/1 [==============================] - 0s 63ms/step - loss: 4.2420\n",
      "Epoch 13/25\n",
      "1/1 [==============================] - 0s 63ms/step - loss: 3.9937\n",
      "Epoch 14/25\n",
      "1/1 [==============================] - 0s 67ms/step - loss: 3.7946\n",
      "Epoch 15/25\n",
      "1/1 [==============================] - 0s 67ms/step - loss: 3.6310\n",
      "Epoch 16/25\n",
      "1/1 [==============================] - 0s 63ms/step - loss: 3.5027\n",
      "Epoch 17/25\n",
      "1/1 [==============================] - 0s 63ms/step - loss: 3.4032\n",
      "Epoch 18/25\n",
      "1/1 [==============================] - 0s 63ms/step - loss: 3.3357\n",
      "Epoch 19/25\n",
      "1/1 [==============================] - 0s 63ms/step - loss: 3.2731\n",
      "Epoch 20/25\n",
      "1/1 [==============================] - 0s 64ms/step - loss: 3.2264\n",
      "Epoch 21/25\n",
      "1/1 [==============================] - 0s 63ms/step - loss: 3.1855\n",
      "Epoch 22/25\n",
      "1/1 [==============================] - 0s 62ms/step - loss: 3.1486\n",
      "Epoch 23/25\n",
      "1/1 [==============================] - 0s 64ms/step - loss: 3.1157\n",
      "Epoch 24/25\n",
      "1/1 [==============================] - 0s 59ms/step - loss: 3.1001\n",
      "Epoch 25/25\n",
      "1/1 [==============================] - 0s 64ms/step - loss: 3.1008\n",
      "1/1 [==============================] - 1s 624ms/step\n",
      "1/1 [==============================] - 1s 610ms/step - loss: 4.0906\n",
      "Epoch 1/25\n",
      "1/1 [==============================] - 5s 5s/step - loss: 12.9710\n",
      "Epoch 2/25\n",
      "1/1 [==============================] - 0s 65ms/step - loss: 11.1143\n",
      "Epoch 3/25\n",
      "1/1 [==============================] - 0s 64ms/step - loss: 9.7768\n",
      "Epoch 4/25\n",
      "1/1 [==============================] - 0s 64ms/step - loss: 8.7062\n",
      "Epoch 5/25\n",
      "1/1 [==============================] - 0s 61ms/step - loss: 7.7864\n",
      "Epoch 6/25\n",
      "1/1 [==============================] - 0s 63ms/step - loss: 6.9819\n",
      "Epoch 7/25\n",
      "1/1 [==============================] - 0s 67ms/step - loss: 6.2957\n",
      "Epoch 8/25\n",
      "1/1 [==============================] - 0s 66ms/step - loss: 5.6835\n",
      "Epoch 9/25\n",
      "1/1 [==============================] - 0s 67ms/step - loss: 5.1674\n",
      "Epoch 10/25\n",
      "1/1 [==============================] - 0s 67ms/step - loss: 4.7081\n",
      "Epoch 11/25\n",
      "1/1 [==============================] - 0s 65ms/step - loss: 4.3271\n",
      "Epoch 12/25\n",
      "1/1 [==============================] - 0s 69ms/step - loss: 3.9996\n",
      "Epoch 13/25\n",
      "1/1 [==============================] - 0s 67ms/step - loss: 3.7540\n",
      "Epoch 14/25\n",
      "1/1 [==============================] - 0s 71ms/step - loss: 3.5451\n",
      "Epoch 15/25\n",
      "1/1 [==============================] - 0s 65ms/step - loss: 3.3872\n",
      "Epoch 16/25\n",
      "1/1 [==============================] - 0s 70ms/step - loss: 3.2700\n",
      "Epoch 17/25\n",
      "1/1 [==============================] - 0s 71ms/step - loss: 3.1781\n",
      "Epoch 18/25\n",
      "1/1 [==============================] - 0s 67ms/step - loss: 3.1038\n",
      "Epoch 19/25\n",
      "1/1 [==============================] - 0s 67ms/step - loss: 3.0424\n",
      "Epoch 20/25\n",
      "1/1 [==============================] - 0s 68ms/step - loss: 3.0019\n",
      "Epoch 21/25\n",
      "1/1 [==============================] - 0s 69ms/step - loss: 2.9631\n",
      "Epoch 22/25\n",
      "1/1 [==============================] - 0s 68ms/step - loss: 2.9234\n",
      "Epoch 23/25\n",
      "1/1 [==============================] - 0s 69ms/step - loss: 2.8769\n",
      "Epoch 24/25\n",
      "1/1 [==============================] - 0s 65ms/step - loss: 2.8460\n",
      "Epoch 25/25\n",
      "1/1 [==============================] - 0s 105ms/step - loss: 2.8207\n",
      "1/1 [==============================] - 1s 602ms/step\n",
      "1/1 [==============================] - 1s 637ms/step - loss: 3.7800\n",
      "Epoch 1/25\n",
      "1/1 [==============================] - 5s 5s/step - loss: 13.4271\n",
      "Epoch 2/25\n",
      "1/1 [==============================] - 0s 58ms/step - loss: 11.6336\n",
      "Epoch 3/25\n",
      "1/1 [==============================] - 0s 60ms/step - loss: 10.4325\n",
      "Epoch 4/25\n",
      "1/1 [==============================] - 0s 61ms/step - loss: 9.4414\n",
      "Epoch 5/25\n",
      "1/1 [==============================] - 0s 61ms/step - loss: 8.5505\n",
      "Epoch 6/25\n",
      "1/1 [==============================] - 0s 63ms/step - loss: 7.8032\n",
      "Epoch 7/25\n",
      "1/1 [==============================] - 0s 57ms/step - loss: 7.1048\n",
      "Epoch 8/25\n",
      "1/1 [==============================] - 0s 65ms/step - loss: 6.4955\n",
      "Epoch 9/25\n",
      "1/1 [==============================] - 0s 65ms/step - loss: 5.9458\n",
      "Epoch 10/25\n",
      "1/1 [==============================] - 0s 68ms/step - loss: 5.4698\n",
      "Epoch 11/25\n",
      "1/1 [==============================] - 0s 64ms/step - loss: 5.0371\n",
      "Epoch 12/25\n",
      "1/1 [==============================] - 0s 64ms/step - loss: 4.6795\n",
      "Epoch 13/25\n",
      "1/1 [==============================] - 0s 61ms/step - loss: 4.3672\n",
      "Epoch 14/25\n",
      "1/1 [==============================] - 0s 71ms/step - loss: 4.1235\n",
      "Epoch 15/25\n",
      "1/1 [==============================] - 0s 63ms/step - loss: 3.9176\n",
      "Epoch 16/25\n",
      "1/1 [==============================] - 0s 72ms/step - loss: 3.7564\n",
      "Epoch 17/25\n",
      "1/1 [==============================] - 0s 68ms/step - loss: 3.6289\n",
      "Epoch 18/25\n",
      "1/1 [==============================] - 0s 71ms/step - loss: 3.5364\n",
      "Epoch 19/25\n",
      "1/1 [==============================] - 0s 64ms/step - loss: 3.4561\n",
      "Epoch 20/25\n",
      "1/1 [==============================] - 0s 66ms/step - loss: 3.3935\n",
      "Epoch 21/25\n",
      "1/1 [==============================] - 0s 80ms/step - loss: 3.3445\n",
      "Epoch 22/25\n",
      "1/1 [==============================] - 0s 122ms/step - loss: 3.2997\n",
      "Epoch 23/25\n",
      "1/1 [==============================] - 0s 81ms/step - loss: 3.2626\n",
      "Epoch 24/25\n",
      "1/1 [==============================] - 0s 76ms/step - loss: 3.2309\n",
      "Epoch 25/25\n",
      "1/1 [==============================] - 0s 66ms/step - loss: 3.2087\n",
      "1/1 [==============================] - 1s 655ms/step\n",
      "1/1 [==============================] - 1s 722ms/step - loss: 3.9658\n",
      "Epoch 1/25\n",
      "1/1 [==============================] - 5s 5s/step - loss: 13.6240\n",
      "Epoch 2/25\n",
      "1/1 [==============================] - 0s 59ms/step - loss: 11.7925\n",
      "Epoch 3/25\n",
      "1/1 [==============================] - 0s 61ms/step - loss: 10.4584\n",
      "Epoch 4/25\n",
      "1/1 [==============================] - 0s 59ms/step - loss: 9.3964\n",
      "Epoch 5/25\n",
      "1/1 [==============================] - 0s 56ms/step - loss: 8.4889\n",
      "Epoch 6/25\n",
      "1/1 [==============================] - 0s 60ms/step - loss: 7.6957\n",
      "Epoch 7/25\n",
      "1/1 [==============================] - 0s 61ms/step - loss: 7.0265\n",
      "Epoch 8/25\n",
      "1/1 [==============================] - 0s 62ms/step - loss: 6.4288\n",
      "Epoch 9/25\n",
      "1/1 [==============================] - 0s 61ms/step - loss: 5.8739\n",
      "Epoch 10/25\n",
      "1/1 [==============================] - 0s 63ms/step - loss: 5.4130\n",
      "Epoch 11/25\n",
      "1/1 [==============================] - 0s 60ms/step - loss: 5.0100\n",
      "Epoch 12/25\n",
      "1/1 [==============================] - 0s 60ms/step - loss: 4.6602\n",
      "Epoch 13/25\n",
      "1/1 [==============================] - 0s 58ms/step - loss: 4.3736\n",
      "Epoch 14/25\n",
      "1/1 [==============================] - 0s 103ms/step - loss: 4.1367\n",
      "Epoch 15/25\n",
      "1/1 [==============================] - 0s 72ms/step - loss: 3.9476\n",
      "Epoch 16/25\n",
      "1/1 [==============================] - 0s 64ms/step - loss: 3.7895\n",
      "Epoch 17/25\n",
      "1/1 [==============================] - 0s 60ms/step - loss: 3.6792\n",
      "Epoch 18/25\n",
      "1/1 [==============================] - 0s 61ms/step - loss: 3.5829\n",
      "Epoch 19/25\n",
      "1/1 [==============================] - 0s 63ms/step - loss: 3.5050\n",
      "Epoch 20/25\n",
      "1/1 [==============================] - 0s 62ms/step - loss: 3.4434\n",
      "Epoch 21/25\n",
      "1/1 [==============================] - 0s 63ms/step - loss: 3.3894\n",
      "Epoch 22/25\n",
      "1/1 [==============================] - 0s 56ms/step - loss: 3.3441\n",
      "Epoch 23/25\n",
      "1/1 [==============================] - 0s 58ms/step - loss: 3.3001\n",
      "Epoch 24/25\n",
      "1/1 [==============================] - 0s 57ms/step - loss: 3.2656\n",
      "Epoch 25/25\n",
      "1/1 [==============================] - 0s 61ms/step - loss: 3.2352\n",
      "1/1 [==============================] - 1s 586ms/step\n",
      "1/1 [==============================] - 1s 614ms/step - loss: 3.6858\n",
      "Epoch 1/25\n",
      "1/1 [==============================] - 4s 4s/step - loss: 13.1532\n",
      "Epoch 2/25\n",
      "1/1 [==============================] - 0s 61ms/step - loss: 11.3016\n",
      "Epoch 3/25\n",
      "1/1 [==============================] - 0s 59ms/step - loss: 10.0162\n",
      "Epoch 4/25\n",
      "1/1 [==============================] - 0s 58ms/step - loss: 8.9619\n",
      "Epoch 5/25\n",
      "1/1 [==============================] - 0s 59ms/step - loss: 8.0688\n",
      "Epoch 6/25\n",
      "1/1 [==============================] - 0s 61ms/step - loss: 7.3259\n",
      "Epoch 7/25\n",
      "1/1 [==============================] - 0s 60ms/step - loss: 6.6487\n",
      "Epoch 8/25\n",
      "1/1 [==============================] - 0s 61ms/step - loss: 6.0499\n",
      "Epoch 9/25\n",
      "1/1 [==============================] - 0s 66ms/step - loss: 5.5426\n",
      "Epoch 10/25\n",
      "1/1 [==============================] - 0s 69ms/step - loss: 5.1062\n",
      "Epoch 11/25\n",
      "1/1 [==============================] - 0s 64ms/step - loss: 4.7378\n",
      "Epoch 12/25\n",
      "1/1 [==============================] - 0s 62ms/step - loss: 4.4285\n",
      "Epoch 13/25\n",
      "1/1 [==============================] - 0s 65ms/step - loss: 4.1735\n",
      "Epoch 14/25\n",
      "1/1 [==============================] - 0s 66ms/step - loss: 3.9694\n",
      "Epoch 15/25\n",
      "1/1 [==============================] - 0s 62ms/step - loss: 3.8098\n",
      "Epoch 16/25\n",
      "1/1 [==============================] - 0s 63ms/step - loss: 3.6826\n",
      "Epoch 17/25\n",
      "1/1 [==============================] - 0s 68ms/step - loss: 3.5821\n",
      "Epoch 18/25\n",
      "1/1 [==============================] - 0s 68ms/step - loss: 3.4952\n",
      "Epoch 19/25\n",
      "1/1 [==============================] - 0s 60ms/step - loss: 3.4239\n",
      "Epoch 20/25\n",
      "1/1 [==============================] - 0s 60ms/step - loss: 3.3704\n",
      "Epoch 21/25\n",
      "1/1 [==============================] - 0s 62ms/step - loss: 3.3071\n",
      "Epoch 22/25\n",
      "1/1 [==============================] - 0s 60ms/step - loss: 3.2568\n",
      "Epoch 23/25\n",
      "1/1 [==============================] - 0s 62ms/step - loss: 3.2199\n",
      "Epoch 24/25\n",
      "1/1 [==============================] - 0s 59ms/step - loss: 3.1801\n",
      "Epoch 25/25\n",
      "1/1 [==============================] - 0s 66ms/step - loss: 3.1493\n",
      "WARNING:tensorflow:5 out of the last 5 calls to <function Model.make_predict_function.<locals>.predict_function at 0x7f10dcd771f0> triggered tf.function retracing. Tracing is expensive and the excessive number of tracings could be due to (1) creating @tf.function repeatedly in a loop, (2) passing tensors with different shapes, (3) passing Python objects instead of tensors. For (1), please define your @tf.function outside of the loop. For (2), @tf.function has reduce_retracing=True option that can avoid unnecessary retracing. For (3), please refer to https://www.tensorflow.org/guide/function#controlling_retracing and https://www.tensorflow.org/api_docs/python/tf/function for  more details.\n",
      "1/1 [==============================] - 1s 604ms/step\n",
      "WARNING:tensorflow:5 out of the last 5 calls to <function Model.make_test_function.<locals>.test_function at 0x7f10d85cc430> triggered tf.function retracing. Tracing is expensive and the excessive number of tracings could be due to (1) creating @tf.function repeatedly in a loop, (2) passing tensors with different shapes, (3) passing Python objects instead of tensors. For (1), please define your @tf.function outside of the loop. For (2), @tf.function has reduce_retracing=True option that can avoid unnecessary retracing. For (3), please refer to https://www.tensorflow.org/guide/function#controlling_retracing and https://www.tensorflow.org/api_docs/python/tf/function for  more details.\n",
      "1/1 [==============================] - 1s 956ms/step - loss: 3.2560\n"
     ]
    }
   ],
   "source": [
    "hists = []\n",
    "predicts_train = []\n",
    "predicts_test = []\n",
    "loss = []\n",
    "K = 5\n",
    "for k in range(K):\n",
    "    X_train = []\n",
    "    x_add_train = []\n",
    "    for i in range(K):\n",
    "        if i != k:\n",
    "            X_train += PDBs_folds[i]\n",
    "            x_add_train += [np.array(x) for x in x_add_folds[i]]\n",
    "    X_test = PDBs_folds[k]\n",
    "    x_add_test = x_add_folds[i]\n",
    "    y_train = np.concatenate(np.array([y_folds[i] for i in range(K) if i != k]), 0)\n",
    "    y_test = np.array(y_folds[k])\n",
    "    x_train_parsed, shape_train = pg.data_generator(X_train, x_add_train)\n",
    "    x_test_parsed, shape_test = pg.data_generator(X_test, x_add_test)\n",
    "    hs, m = pg.get_trained_model(x_train_parsed, np.array(y_train), shape_train, len(X_train))\n",
    "    with open('weights_info/PGNN_PG_K%d.pkl' % k, 'wb') as f:\n",
    "        pickle.dump(m.layers[0].W_list, f)\n",
    "        f.close()\n",
    "    predicts_train.append(m.predict(x_train_parsed))\n",
    "    hists.append(hs)\n",
    "    loss.append(pg.test_model(x_test_parsed, y_test, len(y_folds[k]), shape_test, m))\n",
    "    predicts_test.append(x_test_parsed)\n",
    "    "
   ]
  },
  {
   "cell_type": "code",
   "execution_count": 10,
   "id": "b0dd295f",
   "metadata": {},
   "outputs": [
    {
     "data": {
      "text/plain": [
       "TensorShape([75, 64])"
      ]
     },
     "execution_count": 10,
     "metadata": {},
     "output_type": "execute_result"
    }
   ],
   "source": [
    "m.layers[0].weights[0].shape"
   ]
  },
  {
   "cell_type": "code",
   "execution_count": 15,
   "id": "7af715f6",
   "metadata": {},
   "outputs": [],
   "source": [
    "with open('PGNN_PG_K5_hists.pkl', 'wb') as f:\n",
    "    pickle.dump(hists, f)"
   ]
  },
  {
   "cell_type": "code",
   "execution_count": 11,
   "id": "4ec04340",
   "metadata": {},
   "outputs": [],
   "source": [
    "with open('PGNN_PG_K5_loss.pkl', 'wb') as f:\n",
    "    pickle.dump(loss, f)"
   ]
  },
  {
   "cell_type": "code",
   "execution_count": 12,
   "id": "ef4d18b3",
   "metadata": {},
   "outputs": [],
   "source": [
    "with open('PGNN_PG_K5_predicts_train.pkl', 'wb') as f:\n",
    "    pickle.dump(predicts_train, f)"
   ]
  },
  {
   "cell_type": "code",
   "execution_count": 12,
   "id": "9b18e851",
   "metadata": {},
   "outputs": [
    {
     "data": {
      "text/plain": [
       "(80, 1)"
      ]
     },
     "execution_count": 12,
     "metadata": {},
     "output_type": "execute_result"
    }
   ],
   "source": [
    "predicts_train[0].shape"
   ]
  }
 ],
 "metadata": {
  "kernelspec": {
   "display_name": "GBNN",
   "language": "python",
   "name": "gbnn"
  },
  "language_info": {
   "codemirror_mode": {
    "name": "ipython",
    "version": 3
   },
   "file_extension": ".py",
   "mimetype": "text/x-python",
   "name": "python",
   "nbconvert_exporter": "python",
   "pygments_lexer": "ipython3",
   "version": "3.8.10"
  }
 },
 "nbformat": 4,
 "nbformat_minor": 5
}
