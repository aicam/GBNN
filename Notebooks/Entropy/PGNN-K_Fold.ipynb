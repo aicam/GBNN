{
 "cells": [
  {
   "cell_type": "code",
   "execution_count": 1,
   "id": "933e9ff4",
   "metadata": {},
   "outputs": [
    {
     "name": "stderr",
     "output_type": "stream",
     "text": [
      "2023-04-17 17:19:15.982104: I tensorflow/tsl/cuda/cudart_stub.cc:28] Could not find cuda drivers on your machine, GPU will not be used.\n",
      "2023-04-17 17:19:16.017243: I tensorflow/tsl/cuda/cudart_stub.cc:28] Could not find cuda drivers on your machine, GPU will not be used.\n",
      "2023-04-17 17:19:16.018099: I tensorflow/core/platform/cpu_feature_guard.cc:182] This TensorFlow binary is optimized to use available CPU instructions in performance-critical operations.\n",
      "To enable the following instructions: AVX2 FMA, in other operations, rebuild TensorFlow with the appropriate compiler flags.\n",
      "2023-04-17 17:19:16.715970: W tensorflow/compiler/tf2tensorrt/utils/py_utils.cc:38] TF-TRT Warning: Could not find TensorRT\n"
     ]
    }
   ],
   "source": [
    "import pandas as pd\n",
    "import tensorflow as tf\n",
    "import numpy as np\n",
    "import os\n",
    "import conda_installer\n",
    "from rdkit import Chem\n",
    "from deepchem.feat.graph_features import atom_features as get_atom_features\n",
    "import rdkit\n",
    "import pickle\n",
    "import matplotlib.pyplot as plt\n",
    "import deepchem as dc\n"
   ]
  },
  {
   "cell_type": "code",
   "execution_count": 2,
   "id": "a6789816",
   "metadata": {},
   "outputs": [],
   "source": [
    "PDBs_folds = pickle.load(open('PDBs_folds_5.pkl', 'rb'))\n",
    "y_folds = pickle.load(open('y_folds_5.pkl', 'rb'))\n",
    "x_add_folds = pickle.load(open('x_add_folds_5.pkl', 'rb'))"
   ]
  },
  {
   "cell_type": "code",
   "execution_count": 3,
   "id": "8b3bfc3e",
   "metadata": {},
   "outputs": [
    {
     "name": "stdout",
     "output_type": "stream",
     "text": [
      "/home/ali/GBNN/PGGCN\n"
     ]
    }
   ],
   "source": [
    "%cd ../../PGGCN"
   ]
  },
  {
   "cell_type": "code",
   "execution_count": 15,
   "id": "72e9ace1",
   "metadata": {},
   "outputs": [
    {
     "data": {
      "text/plain": [
       "<module 'models.PGNN_model_entropy' from '/home/ali/GBNN/PGGCN/models/PGNN_model_entropy.py'>"
      ]
     },
     "execution_count": 15,
     "metadata": {},
     "output_type": "execute_result"
    }
   ],
   "source": [
    "import models.PGNN_model_entropy as pg\n",
    "import importlib\n",
    "importlib.reload(pg)"
   ]
  },
  {
   "cell_type": "code",
   "execution_count": 16,
   "id": "0e88ef89",
   "metadata": {},
   "outputs": [
    {
     "name": "stdout",
     "output_type": "stream",
     "text": [
      "Epoch 1/25\n",
      "1/1 [==============================] - 4s 4s/step - loss: 12.5548\n",
      "Epoch 2/25\n",
      "1/1 [==============================] - 0s 58ms/step - loss: 10.6969\n",
      "Epoch 3/25\n",
      "1/1 [==============================] - 0s 55ms/step - loss: 9.3816\n",
      "Epoch 4/25\n",
      "1/1 [==============================] - 0s 49ms/step - loss: 8.2798\n",
      "Epoch 5/25\n",
      "1/1 [==============================] - 0s 55ms/step - loss: 7.3429\n",
      "Epoch 6/25\n",
      "1/1 [==============================] - 0s 52ms/step - loss: 6.5773\n",
      "Epoch 7/25\n",
      "1/1 [==============================] - 0s 52ms/step - loss: 5.8884\n",
      "Epoch 8/25\n",
      "1/1 [==============================] - 0s 51ms/step - loss: 5.2993\n",
      "Epoch 9/25\n",
      "1/1 [==============================] - 0s 53ms/step - loss: 4.7978\n",
      "Epoch 10/25\n",
      "1/1 [==============================] - 0s 60ms/step - loss: 4.3854\n",
      "Epoch 11/25\n",
      "1/1 [==============================] - 0s 54ms/step - loss: 4.0546\n",
      "Epoch 12/25\n",
      "1/1 [==============================] - 0s 56ms/step - loss: 3.7996\n",
      "Epoch 13/25\n",
      "1/1 [==============================] - 0s 52ms/step - loss: 3.6054\n",
      "Epoch 14/25\n",
      "1/1 [==============================] - 0s 52ms/step - loss: 3.4596\n",
      "Epoch 15/25\n",
      "1/1 [==============================] - 0s 56ms/step - loss: 3.3524\n",
      "Epoch 16/25\n",
      "1/1 [==============================] - 0s 52ms/step - loss: 3.2667\n",
      "Epoch 17/25\n",
      "1/1 [==============================] - 0s 53ms/step - loss: 3.2008\n",
      "Epoch 18/25\n",
      "1/1 [==============================] - 0s 52ms/step - loss: 3.1473\n",
      "Epoch 19/25\n",
      "1/1 [==============================] - 0s 54ms/step - loss: 3.1039\n",
      "Epoch 20/25\n",
      "1/1 [==============================] - 0s 51ms/step - loss: 3.0634\n",
      "Epoch 21/25\n",
      "1/1 [==============================] - 0s 50ms/step - loss: 3.0271\n",
      "Epoch 22/25\n",
      "1/1 [==============================] - 0s 50ms/step - loss: 2.9946\n",
      "Epoch 23/25\n",
      "1/1 [==============================] - 0s 51ms/step - loss: 2.9723\n",
      "Epoch 24/25\n",
      "1/1 [==============================] - 0s 50ms/step - loss: 2.9572\n",
      "Epoch 25/25\n",
      "1/1 [==============================] - 0s 55ms/step - loss: 2.9436\n",
      "1/1 [==============================] - 1s 574ms/step\n",
      "1/1 [==============================] - 1s 585ms/step - loss: 3.4282\n",
      "Epoch 1/25\n",
      "1/1 [==============================] - 5s 5s/step - loss: 12.6649\n",
      "Epoch 2/25\n",
      "1/1 [==============================] - 0s 55ms/step - loss: 10.6914\n",
      "Epoch 3/25\n",
      "1/1 [==============================] - 0s 52ms/step - loss: 9.3886\n",
      "Epoch 4/25\n",
      "1/1 [==============================] - 0s 48ms/step - loss: 8.3009\n",
      "Epoch 5/25\n",
      "1/1 [==============================] - 0s 50ms/step - loss: 7.3966\n",
      "Epoch 6/25\n",
      "1/1 [==============================] - 0s 50ms/step - loss: 6.6217\n",
      "Epoch 7/25\n",
      "1/1 [==============================] - 0s 49ms/step - loss: 5.9276\n",
      "Epoch 8/25\n",
      "1/1 [==============================] - 0s 51ms/step - loss: 5.3472\n",
      "Epoch 9/25\n",
      "1/1 [==============================] - 0s 56ms/step - loss: 4.8390\n",
      "Epoch 10/25\n",
      "1/1 [==============================] - 0s 52ms/step - loss: 4.4075\n",
      "Epoch 11/25\n",
      "1/1 [==============================] - 0s 53ms/step - loss: 4.0608\n",
      "Epoch 12/25\n",
      "1/1 [==============================] - 0s 59ms/step - loss: 3.7813\n",
      "Epoch 13/25\n",
      "1/1 [==============================] - 0s 52ms/step - loss: 3.5728\n",
      "Epoch 14/25\n",
      "1/1 [==============================] - 0s 50ms/step - loss: 3.4153\n",
      "Epoch 15/25\n",
      "1/1 [==============================] - 0s 52ms/step - loss: 3.3017\n",
      "Epoch 16/25\n",
      "1/1 [==============================] - 0s 50ms/step - loss: 3.2165\n",
      "Epoch 17/25\n",
      "1/1 [==============================] - 0s 50ms/step - loss: 3.1441\n",
      "Epoch 18/25\n",
      "1/1 [==============================] - 0s 51ms/step - loss: 3.0843\n",
      "Epoch 19/25\n",
      "1/1 [==============================] - 0s 52ms/step - loss: 3.0485\n",
      "Epoch 20/25\n",
      "1/1 [==============================] - 0s 51ms/step - loss: 3.0143\n",
      "Epoch 21/25\n",
      "1/1 [==============================] - 0s 51ms/step - loss: 2.9781\n",
      "Epoch 22/25\n",
      "1/1 [==============================] - 0s 53ms/step - loss: 2.9478\n",
      "Epoch 23/25\n",
      "1/1 [==============================] - 0s 50ms/step - loss: 2.9195\n",
      "Epoch 24/25\n",
      "1/1 [==============================] - 0s 49ms/step - loss: 2.9023\n",
      "Epoch 25/25\n",
      "1/1 [==============================] - 0s 47ms/step - loss: 2.8927\n",
      "1/1 [==============================] - 1s 579ms/step\n",
      "1/1 [==============================] - 1s 608ms/step - loss: 4.0013\n",
      "Epoch 1/25\n",
      "1/1 [==============================] - 5s 5s/step - loss: 12.6331\n",
      "Epoch 2/25\n",
      "1/1 [==============================] - 0s 52ms/step - loss: 10.8134\n",
      "Epoch 3/25\n",
      "1/1 [==============================] - 0s 52ms/step - loss: 9.4236\n",
      "Epoch 4/25\n",
      "1/1 [==============================] - 0s 49ms/step - loss: 8.3304\n",
      "Epoch 5/25\n",
      "1/1 [==============================] - 0s 49ms/step - loss: 7.4712\n",
      "Epoch 6/25\n",
      "1/1 [==============================] - 0s 50ms/step - loss: 6.6972\n",
      "Epoch 7/25\n",
      "1/1 [==============================] - 0s 50ms/step - loss: 6.0786\n",
      "Epoch 8/25\n",
      "1/1 [==============================] - 0s 49ms/step - loss: 5.4915\n",
      "Epoch 9/25\n",
      "1/1 [==============================] - 0s 50ms/step - loss: 4.9872\n",
      "Epoch 10/25\n",
      "1/1 [==============================] - 0s 51ms/step - loss: 4.5704\n",
      "Epoch 11/25\n",
      "1/1 [==============================] - 0s 67ms/step - loss: 4.2188\n",
      "Epoch 12/25\n",
      "1/1 [==============================] - 0s 63ms/step - loss: 3.9394\n",
      "Epoch 13/25\n",
      "1/1 [==============================] - 0s 62ms/step - loss: 3.7180\n",
      "Epoch 14/25\n",
      "1/1 [==============================] - 0s 54ms/step - loss: 3.5529\n",
      "Epoch 15/25\n",
      "1/1 [==============================] - 0s 48ms/step - loss: 3.4301\n",
      "Epoch 16/25\n",
      "1/1 [==============================] - 0s 58ms/step - loss: 3.3423\n",
      "Epoch 17/25\n",
      "1/1 [==============================] - 0s 64ms/step - loss: 3.2631\n",
      "Epoch 18/25\n",
      "1/1 [==============================] - 0s 63ms/step - loss: 3.2121\n",
      "Epoch 19/25\n",
      "1/1 [==============================] - 0s 65ms/step - loss: 3.1596\n",
      "Epoch 20/25\n",
      "1/1 [==============================] - 0s 54ms/step - loss: 3.1167\n",
      "Epoch 21/25\n",
      "1/1 [==============================] - 0s 53ms/step - loss: 3.0793\n",
      "Epoch 22/25\n",
      "1/1 [==============================] - 0s 51ms/step - loss: 3.0543\n",
      "Epoch 23/25\n",
      "1/1 [==============================] - 0s 48ms/step - loss: 3.0207\n",
      "Epoch 24/25\n",
      "1/1 [==============================] - 0s 49ms/step - loss: 2.9970\n",
      "Epoch 25/25\n",
      "1/1 [==============================] - 0s 63ms/step - loss: 2.9742\n",
      "1/1 [==============================] - 1s 616ms/step\n",
      "1/1 [==============================] - 1s 628ms/step - loss: 3.5897\n",
      "Epoch 1/25\n",
      "1/1 [==============================] - 4s 4s/step - loss: 12.7706\n",
      "Epoch 2/25\n",
      "1/1 [==============================] - 0s 52ms/step - loss: 10.8242\n",
      "Epoch 3/25\n",
      "1/1 [==============================] - 0s 54ms/step - loss: 9.4364\n",
      "Epoch 4/25\n",
      "1/1 [==============================] - 0s 53ms/step - loss: 8.3406\n",
      "Epoch 5/25\n",
      "1/1 [==============================] - 0s 54ms/step - loss: 7.4553\n",
      "Epoch 6/25\n",
      "1/1 [==============================] - 0s 54ms/step - loss: 6.6674\n",
      "Epoch 7/25\n",
      "1/1 [==============================] - 0s 56ms/step - loss: 6.0005\n",
      "Epoch 8/25\n",
      "1/1 [==============================] - 0s 51ms/step - loss: 5.4419\n",
      "Epoch 9/25\n",
      "1/1 [==============================] - 0s 50ms/step - loss: 4.9579\n",
      "Epoch 10/25\n",
      "1/1 [==============================] - 0s 51ms/step - loss: 4.5624\n",
      "Epoch 11/25\n",
      "1/1 [==============================] - 0s 50ms/step - loss: 4.2284\n",
      "Epoch 12/25\n",
      "1/1 [==============================] - 0s 56ms/step - loss: 3.9685\n",
      "Epoch 13/25\n",
      "1/1 [==============================] - 0s 52ms/step - loss: 3.7637\n",
      "Epoch 14/25\n",
      "1/1 [==============================] - 0s 51ms/step - loss: 3.6021\n",
      "Epoch 15/25\n",
      "1/1 [==============================] - 0s 52ms/step - loss: 3.4809\n",
      "Epoch 16/25\n",
      "1/1 [==============================] - 0s 56ms/step - loss: 3.3745\n",
      "Epoch 17/25\n",
      "1/1 [==============================] - 0s 52ms/step - loss: 3.2964\n",
      "Epoch 18/25\n",
      "1/1 [==============================] - 0s 50ms/step - loss: 3.2223\n",
      "Epoch 19/25\n",
      "1/1 [==============================] - 0s 53ms/step - loss: 3.1623\n",
      "Epoch 20/25\n",
      "1/1 [==============================] - 0s 55ms/step - loss: 3.1090\n",
      "Epoch 21/25\n",
      "1/1 [==============================] - 0s 51ms/step - loss: 3.0767\n",
      "Epoch 22/25\n",
      "1/1 [==============================] - 0s 50ms/step - loss: 3.0411\n",
      "Epoch 23/25\n",
      "1/1 [==============================] - 0s 54ms/step - loss: 3.0115\n",
      "Epoch 24/25\n",
      "1/1 [==============================] - 0s 49ms/step - loss: 2.9897\n",
      "Epoch 25/25\n"
     ]
    },
    {
     "name": "stdout",
     "output_type": "stream",
     "text": [
      "1/1 [==============================] - 0s 53ms/step - loss: 2.9707\n",
      "1/1 [==============================] - 1s 581ms/step\n",
      "1/1 [==============================] - 1s 592ms/step - loss: 3.2451\n",
      "Epoch 1/25\n",
      "1/1 [==============================] - 5s 5s/step - loss: 11.7975\n",
      "Epoch 2/25\n",
      "1/1 [==============================] - 0s 51ms/step - loss: 9.9627\n",
      "Epoch 3/25\n",
      "1/1 [==============================] - 0s 56ms/step - loss: 8.6150\n",
      "Epoch 4/25\n",
      "1/1 [==============================] - 0s 53ms/step - loss: 7.5489\n",
      "Epoch 5/25\n",
      "1/1 [==============================] - 0s 51ms/step - loss: 6.6498\n",
      "Epoch 6/25\n",
      "1/1 [==============================] - 0s 50ms/step - loss: 5.9020\n",
      "Epoch 7/25\n",
      "1/1 [==============================] - 0s 51ms/step - loss: 5.2682\n",
      "Epoch 8/25\n",
      "1/1 [==============================] - 0s 59ms/step - loss: 4.7277\n",
      "Epoch 9/25\n",
      "1/1 [==============================] - 0s 63ms/step - loss: 4.2806\n",
      "Epoch 10/25\n",
      "1/1 [==============================] - 0s 58ms/step - loss: 3.9206\n",
      "Epoch 11/25\n",
      "1/1 [==============================] - 0s 60ms/step - loss: 3.6351\n",
      "Epoch 12/25\n",
      "1/1 [==============================] - 0s 61ms/step - loss: 3.4102\n",
      "Epoch 13/25\n",
      "1/1 [==============================] - 0s 59ms/step - loss: 3.2429\n",
      "Epoch 14/25\n",
      "1/1 [==============================] - 0s 78ms/step - loss: 3.1173\n",
      "Epoch 15/25\n",
      "1/1 [==============================] - 0s 85ms/step - loss: 3.0350\n",
      "Epoch 16/25\n",
      "1/1 [==============================] - 0s 92ms/step - loss: 2.9459\n",
      "Epoch 17/25\n",
      "1/1 [==============================] - 0s 89ms/step - loss: 2.8762\n",
      "Epoch 18/25\n",
      "1/1 [==============================] - 0s 68ms/step - loss: 2.8172\n",
      "Epoch 19/25\n",
      "1/1 [==============================] - 0s 90ms/step - loss: 2.7730\n",
      "Epoch 20/25\n",
      "1/1 [==============================] - 0s 101ms/step - loss: 2.7388\n",
      "Epoch 21/25\n",
      "1/1 [==============================] - 0s 73ms/step - loss: 2.7132\n",
      "Epoch 22/25\n",
      "1/1 [==============================] - 0s 66ms/step - loss: 2.6920\n",
      "Epoch 23/25\n",
      "1/1 [==============================] - 0s 62ms/step - loss: 2.6756\n",
      "Epoch 24/25\n",
      "1/1 [==============================] - 0s 60ms/step - loss: 2.6623\n",
      "Epoch 25/25\n",
      "1/1 [==============================] - 0s 53ms/step - loss: 2.6518\n",
      "1/1 [==============================] - 1s 887ms/step\n",
      "1/1 [==============================] - 1s 623ms/step - loss: 4.1034\n"
     ]
    }
   ],
   "source": [
    "hists = []\n",
    "predicts_train = []\n",
    "predicts_test = []\n",
    "loss = []\n",
    "K = 5\n",
    "for k in range(K):\n",
    "    X_train = []\n",
    "    x_add_train = []\n",
    "    for i in range(K):\n",
    "        if i != k:\n",
    "            X_train += PDBs_folds[i]\n",
    "            x_add_train += x_add_folds[i]\n",
    "    X_test = PDBs_folds[k]\n",
    "    x_add_test = x_add_folds[i]\n",
    "    y_train = np.concatenate(np.array([y_folds[i] for i in range(K) if i != k]), 0)\n",
    "    y_test = np.array(y_folds[k])\n",
    "    x_train_parsed, shape_train = pg.data_generator(X_train, x_add_train)\n",
    "    x_test_parsed, shape_test = pg.data_generator(X_test, x_add_test)\n",
    "    hs, m = pg.get_trained_model(x_train_parsed, np.array(y_train), shape_train, len(X_train))\n",
    "    with open('weights_info/PGNN_PG_K%d.pkl' % k, 'wb') as f:\n",
    "        pickle.dump(m.layers[0].W_list, f)\n",
    "        f.close()\n",
    "    predicts_train.append(m.predict(x_train_parsed))\n",
    "    hists.append(hs)\n",
    "    loss.append(pg.test_model(x_test_parsed, y_test, len(y_folds[k]), shape_test, m))\n",
    "    predicts_test.append(x_test_parsed)\n",
    "    "
   ]
  },
  {
   "cell_type": "code",
   "execution_count": 16,
   "id": "b0dd295f",
   "metadata": {},
   "outputs": [
    {
     "data": {
      "text/plain": [
       "TensorShape([75, 64])"
      ]
     },
     "execution_count": 16,
     "metadata": {},
     "output_type": "execute_result"
    }
   ],
   "source": [
    "m.layers[0].weights[0].shape"
   ]
  },
  {
   "cell_type": "code",
   "execution_count": 12,
   "id": "7af715f6",
   "metadata": {},
   "outputs": [],
   "source": [
    "with open('PGNN_DD_K5_hists.pkl', 'wb') as f:\n",
    "    pickle.dump(hists, f)"
   ]
  },
  {
   "cell_type": "code",
   "execution_count": 13,
   "id": "4ec04340",
   "metadata": {},
   "outputs": [],
   "source": [
    "with open('PGNN_DD_K5_loss.pkl', 'wb') as f:\n",
    "    pickle.dump(loss, f)"
   ]
  },
  {
   "cell_type": "code",
   "execution_count": 14,
   "id": "ef4d18b3",
   "metadata": {},
   "outputs": [],
   "source": [
    "with open('PGNN_DD_K5_predicts_train.pkl', 'wb') as f:\n",
    "    pickle.dump(predicts_train, f)"
   ]
  },
  {
   "cell_type": "code",
   "execution_count": 9,
   "id": "9b18e851",
   "metadata": {},
   "outputs": [
    {
     "data": {
      "text/plain": [
       "-0.8791333333333333"
      ]
     },
     "execution_count": 9,
     "metadata": {},
     "output_type": "execute_result"
    }
   ],
   "source": [
    "y_train.mean()"
   ]
  }
 ],
 "metadata": {
  "kernelspec": {
   "display_name": "GBNN",
   "language": "python",
   "name": "gbnn"
  },
  "language_info": {
   "codemirror_mode": {
    "name": "ipython",
    "version": 3
   },
   "file_extension": ".py",
   "mimetype": "text/x-python",
   "name": "python",
   "nbconvert_exporter": "python",
   "pygments_lexer": "ipython3",
   "version": "3.8.10"
  }
 },
 "nbformat": 4,
 "nbformat_minor": 5
}
