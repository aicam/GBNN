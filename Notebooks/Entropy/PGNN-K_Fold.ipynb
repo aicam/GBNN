{
 "cells": [
  {
   "cell_type": "code",
   "execution_count": 1,
   "id": "933e9ff4",
   "metadata": {},
   "outputs": [
    {
     "name": "stderr",
     "output_type": "stream",
     "text": [
      "2023-12-14 14:33:28.652207: I tensorflow/tsl/cuda/cudart_stub.cc:28] Could not find cuda drivers on your machine, GPU will not be used.\n",
      "2023-12-14 14:33:28.900756: I tensorflow/tsl/cuda/cudart_stub.cc:28] Could not find cuda drivers on your machine, GPU will not be used.\n",
      "2023-12-14 14:33:28.901821: I tensorflow/core/platform/cpu_feature_guard.cc:182] This TensorFlow binary is optimized to use available CPU instructions in performance-critical operations.\n",
      "To enable the following instructions: AVX2 FMA, in other operations, rebuild TensorFlow with the appropriate compiler flags.\n",
      "2023-12-14 14:33:31.415539: W tensorflow/compiler/tf2tensorrt/utils/py_utils.cc:38] TF-TRT Warning: Could not find TensorRT\n"
     ]
    }
   ],
   "source": [
    "import pandas as pd\n",
    "import tensorflow as tf\n",
    "import numpy as np\n",
    "import os\n",
    "import conda_installer\n",
    "from rdkit import Chem\n",
    "from deepchem.feat.graph_features import atom_features as get_atom_features\n",
    "import rdkit\n",
    "import pickle\n",
    "import matplotlib.pyplot as plt\n",
    "import deepchem as dc\n"
   ]
  },
  {
   "cell_type": "code",
   "execution_count": 2,
   "id": "a6789816",
   "metadata": {},
   "outputs": [],
   "source": [
    "PDBs_folds = pickle.load(open('PDBs_folds_5.pkl', 'rb'))\n",
    "y_folds = pickle.load(open('y_folds_5.pkl', 'rb'))\n",
    "x_add_folds = pickle.load(open('x_add_folds_5.pkl', 'rb'))"
   ]
  },
  {
   "cell_type": "code",
   "execution_count": 3,
   "id": "8b3bfc3e",
   "metadata": {},
   "outputs": [
    {
     "name": "stdout",
     "output_type": "stream",
     "text": [
      "/home/ali/GBNN/PGGCN\n"
     ]
    }
   ],
   "source": [
    "%cd ../../PGGCN"
   ]
  },
  {
   "cell_type": "code",
   "execution_count": 4,
   "id": "72e9ace1",
   "metadata": {},
   "outputs": [
    {
     "data": {
      "text/plain": [
       "<module 'models.PGNN_model_entropy' from '/home/ali/GBNN/PGGCN/models/PGNN_model_entropy.py'>"
      ]
     },
     "execution_count": 4,
     "metadata": {},
     "output_type": "execute_result"
    }
   ],
   "source": [
    "import models.PGNN_model_entropy as pg\n",
    "import importlib\n",
    "importlib.reload(pg)"
   ]
  },
  {
   "cell_type": "code",
   "execution_count": 9,
   "id": "0e88ef89",
   "metadata": {},
   "outputs": [
    {
     "name": "stdout",
     "output_type": "stream",
     "text": [
      "Epoch 1/25\n"
     ]
    },
    {
     "name": "stderr",
     "output_type": "stream",
     "text": [
      "2023-11-05 16:16:14.365463: E tensorflow/compiler/xla/stream_executor/cuda/cuda_driver.cc:266] failed call to cuInit: CUDA_ERROR_NO_DEVICE: no CUDA-capable device is detected\n"
     ]
    },
    {
     "name": "stdout",
     "output_type": "stream",
     "text": [
      "1/1 [==============================] - 5s 5s/step - loss: 13.4102\n",
      "Epoch 2/25\n",
      "1/1 [==============================] - 0s 78ms/step - loss: 11.5890\n",
      "Epoch 3/25\n",
      "1/1 [==============================] - 0s 80ms/step - loss: 10.2845\n",
      "Epoch 4/25\n",
      "1/1 [==============================] - 0s 80ms/step - loss: 9.2836\n",
      "Epoch 5/25\n",
      "1/1 [==============================] - 0s 78ms/step - loss: 8.3921\n",
      "Epoch 6/25\n",
      "1/1 [==============================] - 0s 79ms/step - loss: 7.6365\n",
      "Epoch 7/25\n",
      "1/1 [==============================] - 0s 83ms/step - loss: 6.9719\n",
      "Epoch 8/25\n",
      "1/1 [==============================] - 0s 79ms/step - loss: 6.3988\n",
      "Epoch 9/25\n",
      "1/1 [==============================] - 0s 85ms/step - loss: 5.9096\n",
      "Epoch 10/25\n",
      "1/1 [==============================] - 0s 83ms/step - loss: 5.4498\n",
      "Epoch 11/25\n",
      "1/1 [==============================] - 0s 79ms/step - loss: 5.0749\n",
      "Epoch 12/25\n",
      "1/1 [==============================] - 0s 80ms/step - loss: 4.7344\n",
      "Epoch 13/25\n",
      "1/1 [==============================] - 0s 88ms/step - loss: 4.4629\n",
      "Epoch 14/25\n",
      "1/1 [==============================] - 0s 76ms/step - loss: 4.2384\n",
      "Epoch 15/25\n",
      "1/1 [==============================] - 0s 84ms/step - loss: 4.0634\n",
      "Epoch 16/25\n",
      "1/1 [==============================] - 0s 78ms/step - loss: 3.9290\n",
      "Epoch 17/25\n",
      "1/1 [==============================] - 0s 84ms/step - loss: 3.8208\n",
      "Epoch 18/25\n",
      "1/1 [==============================] - 0s 78ms/step - loss: 3.7262\n",
      "Epoch 19/25\n",
      "1/1 [==============================] - 0s 87ms/step - loss: 3.6527\n",
      "Epoch 20/25\n",
      "1/1 [==============================] - 0s 82ms/step - loss: 3.5958\n",
      "Epoch 21/25\n",
      "1/1 [==============================] - 0s 76ms/step - loss: 3.5494\n",
      "Epoch 22/25\n",
      "1/1 [==============================] - 0s 77ms/step - loss: 3.5026\n",
      "Epoch 23/25\n",
      "1/1 [==============================] - 0s 81ms/step - loss: 3.4710\n",
      "Epoch 24/25\n",
      "1/1 [==============================] - 0s 89ms/step - loss: 3.4307\n",
      "Epoch 25/25\n",
      "1/1 [==============================] - 0s 99ms/step - loss: 3.3996\n",
      "1/1 [==============================] - 1s 1s/step\n",
      "1/1 [==============================] - 1s 796ms/step - loss: 4.2897\n",
      "Epoch 1/25\n",
      "1/1 [==============================] - 6s 6s/step - loss: 13.3811\n",
      "Epoch 2/25\n",
      "1/1 [==============================] - 0s 105ms/step - loss: 11.5486\n",
      "Epoch 3/25\n",
      "1/1 [==============================] - 0s 97ms/step - loss: 10.2817\n",
      "Epoch 4/25\n",
      "1/1 [==============================] - 0s 86ms/step - loss: 9.2519\n",
      "Epoch 5/25\n",
      "1/1 [==============================] - 0s 81ms/step - loss: 8.3461\n",
      "Epoch 6/25\n",
      "1/1 [==============================] - 0s 79ms/step - loss: 7.5663\n",
      "Epoch 7/25\n",
      "1/1 [==============================] - 0s 79ms/step - loss: 6.8518\n",
      "Epoch 8/25\n",
      "1/1 [==============================] - 0s 81ms/step - loss: 6.2600\n",
      "Epoch 9/25\n",
      "1/1 [==============================] - 0s 77ms/step - loss: 5.7607\n",
      "Epoch 10/25\n",
      "1/1 [==============================] - 0s 81ms/step - loss: 5.2803\n",
      "Epoch 11/25\n",
      "1/1 [==============================] - 0s 83ms/step - loss: 4.8752\n",
      "Epoch 12/25\n",
      "1/1 [==============================] - 0s 76ms/step - loss: 4.5411\n",
      "Epoch 13/25\n",
      "1/1 [==============================] - 0s 82ms/step - loss: 4.2626\n",
      "Epoch 14/25\n",
      "1/1 [==============================] - 0s 84ms/step - loss: 4.0523\n",
      "Epoch 15/25\n",
      "1/1 [==============================] - 0s 78ms/step - loss: 3.8856\n",
      "Epoch 16/25\n",
      "1/1 [==============================] - 0s 80ms/step - loss: 3.7608\n",
      "Epoch 17/25\n",
      "1/1 [==============================] - 0s 79ms/step - loss: 3.6638\n",
      "Epoch 18/25\n",
      "1/1 [==============================] - 0s 72ms/step - loss: 3.5901\n",
      "Epoch 19/25\n",
      "1/1 [==============================] - 0s 78ms/step - loss: 3.5417\n",
      "Epoch 20/25\n",
      "1/1 [==============================] - 0s 77ms/step - loss: 3.4986\n",
      "Epoch 21/25\n",
      "1/1 [==============================] - 0s 76ms/step - loss: 3.4622\n",
      "Epoch 22/25\n",
      "1/1 [==============================] - 0s 74ms/step - loss: 3.4313\n",
      "Epoch 23/25\n",
      "1/1 [==============================] - 0s 72ms/step - loss: 3.4098\n",
      "Epoch 24/25\n",
      "1/1 [==============================] - 0s 76ms/step - loss: 3.3816\n",
      "Epoch 25/25\n",
      "1/1 [==============================] - 0s 68ms/step - loss: 3.3567\n",
      "1/1 [==============================] - 1s 609ms/step\n",
      "1/1 [==============================] - 1s 609ms/step - loss: 4.2703\n",
      "Epoch 1/25\n",
      "1/1 [==============================] - 5s 5s/step - loss: 13.7843\n",
      "Epoch 2/25\n",
      "1/1 [==============================] - 0s 78ms/step - loss: 12.0416\n",
      "Epoch 3/25\n",
      "1/1 [==============================] - 0s 74ms/step - loss: 10.8040\n",
      "Epoch 4/25\n",
      "1/1 [==============================] - 0s 75ms/step - loss: 9.8242\n",
      "Epoch 5/25\n",
      "1/1 [==============================] - 0s 76ms/step - loss: 8.9872\n",
      "Epoch 6/25\n",
      "1/1 [==============================] - 0s 72ms/step - loss: 8.2056\n",
      "Epoch 7/25\n",
      "1/1 [==============================] - 0s 72ms/step - loss: 7.5305\n",
      "Epoch 8/25\n",
      "1/1 [==============================] - 0s 76ms/step - loss: 6.9280\n",
      "Epoch 9/25\n",
      "1/1 [==============================] - 0s 77ms/step - loss: 6.3764\n",
      "Epoch 10/25\n",
      "1/1 [==============================] - 0s 74ms/step - loss: 5.8970\n",
      "Epoch 11/25\n",
      "1/1 [==============================] - 0s 73ms/step - loss: 5.4778\n",
      "Epoch 12/25\n",
      "1/1 [==============================] - 0s 77ms/step - loss: 5.0868\n",
      "Epoch 13/25\n",
      "1/1 [==============================] - 0s 74ms/step - loss: 4.7530\n",
      "Epoch 14/25\n",
      "1/1 [==============================] - 0s 76ms/step - loss: 4.4697\n",
      "Epoch 15/25\n",
      "1/1 [==============================] - 0s 77ms/step - loss: 4.2328\n",
      "Epoch 16/25\n",
      "1/1 [==============================] - 0s 78ms/step - loss: 4.0338\n",
      "Epoch 17/25\n",
      "1/1 [==============================] - 0s 76ms/step - loss: 3.8760\n",
      "Epoch 18/25\n",
      "1/1 [==============================] - 0s 75ms/step - loss: 3.7452\n",
      "Epoch 19/25\n",
      "1/1 [==============================] - 0s 73ms/step - loss: 3.6410\n",
      "Epoch 20/25\n",
      "1/1 [==============================] - 0s 71ms/step - loss: 3.5593\n",
      "Epoch 21/25\n",
      "1/1 [==============================] - 0s 78ms/step - loss: 3.5003\n",
      "Epoch 22/25\n",
      "1/1 [==============================] - 0s 78ms/step - loss: 3.4417\n",
      "Epoch 23/25\n",
      "1/1 [==============================] - 0s 72ms/step - loss: 3.3952\n",
      "Epoch 24/25\n",
      "1/1 [==============================] - 0s 71ms/step - loss: 3.3590\n",
      "Epoch 25/25\n",
      "1/1 [==============================] - 0s 71ms/step - loss: 3.3497\n",
      "1/1 [==============================] - 1s 621ms/step\n",
      "1/1 [==============================] - 1s 955ms/step - loss: 4.0262\n",
      "Epoch 1/25\n",
      "1/1 [==============================] - 4s 4s/step - loss: 12.8292\n",
      "Epoch 2/25\n",
      "1/1 [==============================] - 0s 82ms/step - loss: 10.9928\n",
      "Epoch 3/25\n",
      "1/1 [==============================] - 0s 75ms/step - loss: 9.7385\n",
      "Epoch 4/25\n",
      "1/1 [==============================] - 0s 76ms/step - loss: 8.6317\n",
      "Epoch 5/25\n",
      "1/1 [==============================] - 0s 81ms/step - loss: 7.7451\n",
      "Epoch 6/25\n",
      "1/1 [==============================] - 0s 75ms/step - loss: 6.9833\n",
      "Epoch 7/25\n",
      "1/1 [==============================] - 0s 75ms/step - loss: 6.2971\n",
      "Epoch 8/25\n",
      "1/1 [==============================] - 0s 77ms/step - loss: 5.7439\n",
      "Epoch 9/25\n",
      "1/1 [==============================] - 0s 81ms/step - loss: 5.2594\n",
      "Epoch 10/25\n",
      "1/1 [==============================] - 0s 75ms/step - loss: 4.8514\n",
      "Epoch 11/25\n",
      "1/1 [==============================] - 0s 94ms/step - loss: 4.5130\n",
      "Epoch 12/25\n",
      "1/1 [==============================] - 0s 97ms/step - loss: 4.2403\n",
      "Epoch 13/25\n",
      "1/1 [==============================] - 0s 93ms/step - loss: 4.0259\n",
      "Epoch 14/25\n",
      "1/1 [==============================] - 0s 75ms/step - loss: 3.8564\n",
      "Epoch 15/25\n",
      "1/1 [==============================] - 0s 77ms/step - loss: 3.7300\n",
      "Epoch 16/25\n",
      "1/1 [==============================] - 0s 78ms/step - loss: 3.6381\n",
      "Epoch 17/25\n",
      "1/1 [==============================] - 0s 78ms/step - loss: 3.5677\n",
      "Epoch 18/25\n",
      "1/1 [==============================] - 0s 71ms/step - loss: 3.5136\n",
      "Epoch 19/25\n",
      "1/1 [==============================] - 0s 72ms/step - loss: 3.4685\n",
      "Epoch 20/25\n",
      "1/1 [==============================] - 0s 73ms/step - loss: 3.4292\n",
      "Epoch 21/25\n",
      "1/1 [==============================] - 0s 72ms/step - loss: 3.3998\n",
      "Epoch 22/25\n",
      "1/1 [==============================] - 0s 76ms/step - loss: 3.3715\n",
      "Epoch 23/25\n",
      "1/1 [==============================] - 0s 75ms/step - loss: 3.3429\n",
      "Epoch 24/25\n",
      "1/1 [==============================] - 0s 73ms/step - loss: 3.3180\n",
      "Epoch 25/25\n",
      "1/1 [==============================] - 0s 71ms/step - loss: 3.2974\n",
      "1/1 [==============================] - 1s 613ms/step\n",
      "1/1 [==============================] - 1s 607ms/step - loss: 4.0431\n",
      "Epoch 1/25\n",
      "1/1 [==============================] - 5s 5s/step - loss: 13.1963\n",
      "Epoch 2/25\n",
      "1/1 [==============================] - 0s 73ms/step - loss: 11.4131\n",
      "Epoch 3/25\n",
      "1/1 [==============================] - 0s 77ms/step - loss: 10.1113\n",
      "Epoch 4/25\n",
      "1/1 [==============================] - 0s 76ms/step - loss: 9.0262\n",
      "Epoch 5/25\n",
      "1/1 [==============================] - 0s 74ms/step - loss: 8.1323\n",
      "Epoch 6/25\n",
      "1/1 [==============================] - 0s 73ms/step - loss: 7.3699\n",
      "Epoch 7/25\n",
      "1/1 [==============================] - 0s 78ms/step - loss: 6.6799\n",
      "Epoch 8/25\n",
      "1/1 [==============================] - 0s 76ms/step - loss: 6.1009\n",
      "Epoch 9/25\n",
      "1/1 [==============================] - 0s 75ms/step - loss: 5.6109\n",
      "Epoch 10/25\n",
      "1/1 [==============================] - 0s 75ms/step - loss: 5.1566\n",
      "Epoch 11/25\n",
      "1/1 [==============================] - 0s 78ms/step - loss: 4.7923\n",
      "Epoch 12/25\n",
      "1/1 [==============================] - 0s 78ms/step - loss: 4.4836\n",
      "Epoch 13/25\n",
      "1/1 [==============================] - 0s 74ms/step - loss: 4.2357\n",
      "Epoch 14/25\n",
      "1/1 [==============================] - 0s 75ms/step - loss: 4.0283\n",
      "Epoch 15/25\n",
      "1/1 [==============================] - 0s 85ms/step - loss: 3.8698\n",
      "Epoch 16/25\n",
      "1/1 [==============================] - 0s 77ms/step - loss: 3.7473\n",
      "Epoch 17/25\n",
      "1/1 [==============================] - 0s 80ms/step - loss: 3.6508\n",
      "Epoch 18/25\n",
      "1/1 [==============================] - 0s 71ms/step - loss: 3.5810\n",
      "Epoch 19/25\n",
      "1/1 [==============================] - 0s 71ms/step - loss: 3.5274\n",
      "Epoch 20/25\n",
      "1/1 [==============================] - 0s 76ms/step - loss: 3.4759\n",
      "Epoch 21/25\n",
      "1/1 [==============================] - 0s 75ms/step - loss: 3.4338\n",
      "Epoch 22/25\n",
      "1/1 [==============================] - 0s 71ms/step - loss: 3.3955\n",
      "Epoch 23/25\n",
      "1/1 [==============================] - 0s 72ms/step - loss: 3.3603\n",
      "Epoch 24/25\n",
      "1/1 [==============================] - 0s 75ms/step - loss: 3.3272\n",
      "Epoch 25/25\n",
      "1/1 [==============================] - 0s 70ms/step - loss: 3.3031\n",
      "WARNING:tensorflow:5 out of the last 5 calls to <function Model.make_predict_function.<locals>.predict_function at 0x7f4eb9e45af0> triggered tf.function retracing. Tracing is expensive and the excessive number of tracings could be due to (1) creating @tf.function repeatedly in a loop, (2) passing tensors with different shapes, (3) passing Python objects instead of tensors. For (1), please define your @tf.function outside of the loop. For (2), @tf.function has reduce_retracing=True option that can avoid unnecessary retracing. For (3), please refer to https://www.tensorflow.org/guide/function#controlling_retracing and https://www.tensorflow.org/api_docs/python/tf/function for  more details.\n",
      "1/1 [==============================] - 1s 954ms/step\n",
      "WARNING:tensorflow:5 out of the last 5 calls to <function Model.make_test_function.<locals>.test_function at 0x7f4ea474b430> triggered tf.function retracing. Tracing is expensive and the excessive number of tracings could be due to (1) creating @tf.function repeatedly in a loop, (2) passing tensors with different shapes, (3) passing Python objects instead of tensors. For (1), please define your @tf.function outside of the loop. For (2), @tf.function has reduce_retracing=True option that can avoid unnecessary retracing. For (3), please refer to https://www.tensorflow.org/guide/function#controlling_retracing and https://www.tensorflow.org/api_docs/python/tf/function for  more details.\n",
      "1/1 [==============================] - 1s 613ms/step - loss: 4.2066\n"
     ]
    }
   ],
   "source": [
    "hists = []\n",
    "predicts_train = []\n",
    "predicts_test = []\n",
    "loss = []\n",
    "K = 5\n",
    "for k in range(K):\n",
    "    X_train = []\n",
    "    x_add_train = []\n",
    "    for i in range(K):\n",
    "        if i != k:\n",
    "            X_train += PDBs_folds[i]\n",
    "            x_add_train += x_add_folds[i]\n",
    "    X_test = PDBs_folds[k]\n",
    "    x_add_test = x_add_folds[i]\n",
    "    y_train = np.concatenate(np.array([y_folds[i] for i in range(K) if i != k]), 0)\n",
    "    y_test = np.array(y_folds[k])\n",
    "    x_train_parsed, shape_train = pg.data_generator(X_train, x_add_train)\n",
    "    x_test_parsed, shape_test = pg.data_generator(X_test, x_add_test)\n",
    "    hs, m = pg.get_trained_model(x_train_parsed, np.array(y_train), shape_train, len(X_train))\n",
    "    with open('weights_info/PGNN_PG_K%d.pkl' % k, 'wb') as f:\n",
    "        pickle.dump(m.layers[0].W_list, f)\n",
    "        f.close()\n",
    "    predicts_train.append(m.predict(x_train_parsed))\n",
    "    hists.append(hs)\n",
    "    loss.append(pg.test_model(x_test_parsed, y_test, len(y_folds[k]), shape_test, m))\n",
    "    predicts_test.append(x_test_parsed)\n",
    "    "
   ]
  },
  {
   "cell_type": "code",
   "execution_count": 10,
   "id": "b0dd295f",
   "metadata": {},
   "outputs": [
    {
     "data": {
      "text/plain": [
       "TensorShape([75, 64])"
      ]
     },
     "execution_count": 10,
     "metadata": {},
     "output_type": "execute_result"
    }
   ],
   "source": [
    "m.layers[0].weights[0].shape"
   ]
  },
  {
   "cell_type": "code",
   "execution_count": 21,
   "id": "7af715f6",
   "metadata": {},
   "outputs": [],
   "source": [
    "with open('PGNN_PG_K5_hists.pkl', 'wb') as f:\n",
    "    pickle.dump(hists, f)"
   ]
  },
  {
   "cell_type": "code",
   "execution_count": 19,
   "id": "4ec04340",
   "metadata": {},
   "outputs": [],
   "source": [
    "with open('PGNN_PG_K5_loss.pkl', 'wb') as f:\n",
    "    pickle.dump(loss, f)"
   ]
  },
  {
   "cell_type": "code",
   "execution_count": 20,
   "id": "ef4d18b3",
   "metadata": {},
   "outputs": [],
   "source": [
    "with open('PGNN_PG_K5_predicts_train.pkl', 'wb') as f:\n",
    "    pickle.dump(predicts_train, f)"
   ]
  },
  {
   "cell_type": "code",
   "execution_count": 9,
   "id": "9b18e851",
   "metadata": {},
   "outputs": [
    {
     "data": {
      "text/plain": [
       "-0.8791333333333333"
      ]
     },
     "execution_count": 9,
     "metadata": {},
     "output_type": "execute_result"
    }
   ],
   "source": [
    "y_train.mean()"
   ]
  }
 ],
 "metadata": {
  "kernelspec": {
   "display_name": "GBNN",
   "language": "python",
   "name": "gbnn"
  },
  "language_info": {
   "codemirror_mode": {
    "name": "ipython",
    "version": 3
   },
   "file_extension": ".py",
   "mimetype": "text/x-python",
   "name": "python",
   "nbconvert_exporter": "python",
   "pygments_lexer": "ipython3",
   "version": "3.8.10"
  }
 },
 "nbformat": 4,
 "nbformat_minor": 5
}
