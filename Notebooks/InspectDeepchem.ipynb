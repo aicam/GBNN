{
 "cells": [
  {
   "cell_type": "code",
   "execution_count": 28,
   "metadata": {},
   "outputs": [],
   "source": [
    "import tensorflow as tf\n",
    "import numpy as np\n",
    "\n",
    "class PGGCN(tf.keras.Model):\n",
    "    def __init__(self,):\n",
    "        super(PGGCN, self).__init__()\n",
    "\n",
    "    def call(self, inputs, training=False):\n",
    "        atom_features = inputs[0]\n",
    "        degree_slice = tf.cast(inputs[1], dtype=tf.int32)\n",
    "        membership = tf.cast(inputs[2], dtype=tf.int32)\n",
    "        n_samples = tf.cast(inputs[3], dtype=tf.int32)\n",
    "        deg_adjs = [tf.cast(deg_adj, dtype=tf.int32) for deg_adj in inputs[4:]]"
   ]
  },
  {
   "cell_type": "code",
   "execution_count": 29,
   "metadata": {},
   "outputs": [
    {
     "name": "stderr",
     "output_type": "stream",
     "text": [
      "all packages are already installed\n"
     ]
    }
   ],
   "source": [
    "# !curl -Lo conda_installer.py https://raw.githubusercontent.com/deepchem/deepchem/master/scripts/colab_install.py\n",
    "import conda_installer\n",
    "# conda_installer.install()\n",
    "conda_installer.install()\n",
    "# !/root/miniconda/bin/conda info -e"
   ]
  },
  {
   "cell_type": "code",
   "execution_count": 30,
   "metadata": {},
   "outputs": [],
   "source": [
    "import rdkit\n",
    "import deepchem as dc\n",
    "from rdkit import Chem"
   ]
  },
  {
   "cell_type": "code",
   "execution_count": 31,
   "metadata": {},
   "outputs": [],
   "source": [
    "co2 = Chem.MolFromSmiles('C(=O)=O')\n",
    "ethanol = Chem.MolFromSmiles('CCO')\n",
    "benzene = Chem.MolFromSmiles('c1ccccc1')"
   ]
  },
  {
   "cell_type": "code",
   "execution_count": 32,
   "metadata": {},
   "outputs": [],
   "source": [
    "featurizer = dc.feat.ConvMolFeaturizer(per_atom_fragmentation=False)"
   ]
  },
  {
   "cell_type": "code",
   "execution_count": 33,
   "metadata": {},
   "outputs": [],
   "source": [
    "co2_f = featurizer(co2)[0]\n",
    "ethanol_f = featurizer(ethanol)[0]\n",
    "benzene_f = featurizer(benzene)[0]\n",
    "mols = [co2_f, ethanol_f, benzene_f]"
   ]
  },
  {
   "cell_type": "code",
   "execution_count": 46,
   "metadata": {},
   "outputs": [
    {
     "data": {
      "image/png": "[encoded data removed]",
      "text/plain": [
       "<rdkit.Chem.rdchem.Mol at 0x7fd93eec93a0>"
      ]
     },
     "execution_count": 46,
     "metadata": {},
     "output_type": "execute_result"
    }
   ],
   "source": [
    "co2"
   ]
  },
  {
   "cell_type": "code",
   "execution_count": 51,
   "metadata": {},
   "outputs": [],
   "source": [
    "a = np.array([[1, 2], [3, 4]])"
   ]
  },
  {
   "cell_type": "code",
   "execution_count": 50,
   "metadata": {},
   "outputs": [
    {
     "data": {
      "text/plain": [
       "array([[0, 0],\n",
       "       [0, 2],\n",
       "       [2, 1],\n",
       "       [0, 0],\n",
       "       [0, 0],\n",
       "       [0, 0],\n",
       "       [0, 0],\n",
       "       [0, 0],\n",
       "       [0, 0],\n",
       "       [0, 0],\n",
       "       [0, 0]], dtype=int32)"
      ]
     },
     "execution_count": 50,
     "metadata": {},
     "output_type": "execute_result"
    }
   ],
   "source": [
    "co2_f.deg_slice"
   ]
  },
  {
   "cell_type": "code",
   "execution_count": 49,
   "metadata": {},
   "outputs": [
    {
     "data": {
      "text/plain": [
       "2"
      ]
     },
     "execution_count": 49,
     "metadata": {},
     "output_type": "execute_result"
    }
   ],
   "source": [
    "co2_f.deg_slice[1, 1]"
   ]
  },
  {
   "cell_type": "code",
   "execution_count": 35,
   "metadata": {},
   "outputs": [
    {
     "data": {
      "text/plain": [
       "[1, 1, 2]"
      ]
     },
     "execution_count": 35,
     "metadata": {},
     "output_type": "execute_result"
    }
   ],
   "source": [
    "ethanol_f.degree_list"
   ]
  },
  {
   "cell_type": "code",
   "execution_count": 59,
   "metadata": {},
   "outputs": [
    {
     "data": {
      "text/plain": [
       "[array([], shape=(0, 0), dtype=int32),\n",
       " array([], shape=(0, 1), dtype=int32),\n",
       " array([[1, 5],\n",
       "        [0, 2],\n",
       "        [1, 3],\n",
       "        [2, 4],\n",
       "        [3, 5],\n",
       "        [4, 0]], dtype=int32),\n",
       " array([], shape=(0, 3), dtype=int32),\n",
       " array([], shape=(0, 4), dtype=int32),\n",
       " array([], shape=(0, 5), dtype=int32),\n",
       " array([], shape=(0, 6), dtype=int32),\n",
       " array([], shape=(0, 7), dtype=int32),\n",
       " array([], shape=(0, 8), dtype=int32),\n",
       " array([], shape=(0, 9), dtype=int32),\n",
       " array([], shape=(0, 10), dtype=int32)]"
      ]
     },
     "execution_count": 59,
     "metadata": {},
     "output_type": "execute_result"
    }
   ],
   "source": [
    "benzene_f.deg_adj_lists"
   ]
  },
  {
   "cell_type": "code",
   "execution_count": 37,
   "metadata": {},
   "outputs": [],
   "source": [
    "from deepchem.feat.mol_graphs import ConvMol\n",
    "multiConvMol = ConvMol.agglomerate_mols(mols)"
   ]
  },
  {
   "cell_type": "code",
   "execution_count": 38,
   "metadata": {},
   "outputs": [
    {
     "data": {
      "text/plain": [
       "array([0, 0, 1, 1, 0, 1, 2, 2, 2, 2, 2, 2], dtype=int32)"
      ]
     },
     "execution_count": 38,
     "metadata": {},
     "output_type": "execute_result"
    }
   ],
   "source": [
    "multiConvMol.membership"
   ]
  },
  {
   "cell_type": "code",
   "execution_count": 60,
   "metadata": {},
   "outputs": [
    {
     "data": {
      "text/plain": [
       "array([[ 0,  0],\n",
       "       [ 0,  4],\n",
       "       [ 4,  8],\n",
       "       [12,  0],\n",
       "       [12,  0],\n",
       "       [12,  0],\n",
       "       [12,  0],\n",
       "       [12,  0],\n",
       "       [12,  0],\n",
       "       [12,  0],\n",
       "       [12,  0]])"
      ]
     },
     "execution_count": 60,
     "metadata": {},
     "output_type": "execute_result"
    }
   ],
   "source": [
    "multiConvMol.deg_slice"
   ]
  },
  {
   "cell_type": "code",
   "execution_count": 58,
   "metadata": {},
   "outputs": [
    {
     "data": {
      "text/plain": [
       "[array([], shape=(0, 0), dtype=int32),\n",
       " array([[4],\n",
       "        [4],\n",
       "        [5],\n",
       "        [5]], dtype=int32),\n",
       " array([[ 0,  1],\n",
       "        [ 2,  3],\n",
       "        [ 7, 11],\n",
       "        [ 6,  8],\n",
       "        [ 7,  9],\n",
       "        [ 8, 10],\n",
       "        [ 9, 11],\n",
       "        [10,  6]], dtype=int32),\n",
       " array([], shape=(0, 3), dtype=int32),\n",
       " array([], shape=(0, 4), dtype=int32),\n",
       " array([], shape=(0, 5), dtype=int32),\n",
       " array([], shape=(0, 6), dtype=int32),\n",
       " array([], shape=(0, 7), dtype=int32),\n",
       " array([], shape=(0, 8), dtype=int32),\n",
       " array([], shape=(0, 9), dtype=int32),\n",
       " array([], shape=(0, 10), dtype=int32)]"
      ]
     },
     "execution_count": 58,
     "metadata": {},
     "output_type": "execute_result"
    }
   ],
   "source": [
    "multiConvMol.deg_adj_lists"
   ]
  },
  {
   "cell_type": "code",
   "execution_count": 40,
   "metadata": {},
   "outputs": [],
   "source": [
    "num_mols = len(mols)\n",
    "atoms_by_deg = np.concatenate([x.atom_features for x in mols])\n",
    "degree_vector = np.concatenate([x.degree_list for x in mols], axis=0)"
   ]
  },
  {
   "cell_type": "code",
   "execution_count": 41,
   "metadata": {},
   "outputs": [],
   "source": [
    "order = degree_vector.argsort(kind='mergesort')"
   ]
  },
  {
   "cell_type": "code",
   "execution_count": 42,
   "metadata": {},
   "outputs": [],
   "source": [
    "ordered = np.empty(order.shape, np.int32)\n",
    "ordered[order] = np.arange(order.shape[0], dtype=np.int32)"
   ]
  },
  {
   "cell_type": "code",
   "execution_count": 27,
   "metadata": {},
   "outputs": [],
   "source": [
    "mol_atom_map = []\n",
    "index_start = 0\n",
    "for mol in mols:\n",
    "    mol_atom_map.append(\n",
    "      ordered[index_start:index_start + mol.get_num_atoms()])\n",
    "    index_start += mol.get_num_atoms()"
   ]
  },
  {
   "cell_type": "code",
   "execution_count": 23,
   "metadata": {},
   "outputs": [
    {
     "data": {
      "text/plain": [
       "[array([0, 1, 4], dtype=int32),\n",
       " array([2, 3, 5], dtype=int32),\n",
       " array([ 6,  7,  8,  9, 10, 11], dtype=int32)]"
      ]
     },
     "execution_count": 23,
     "metadata": {},
     "output_type": "execute_result"
    }
   ],
   "source": [
    "mol_atom_map"
   ]
  },
  {
   "cell_type": "code",
   "execution_count": 24,
   "metadata": {},
   "outputs": [],
   "source": [
    "max_deg = 10\n",
    "min_deg = 0\n",
    "mol_deg_sz = np.zeros([max_deg - min_deg + 1, num_mols], dtype=np.int32)\n",
    "for i, mol in enumerate(mols):\n",
    "    mol_deg_sz[:, i] += mol.deg_slice[:, 1]"
   ]
  },
  {
   "cell_type": "code",
   "execution_count": 25,
   "metadata": {},
   "outputs": [],
   "source": [
    "deg_sizes = np.sum(mol_deg_sz, axis=1)"
   ]
  },
  {
   "cell_type": "code",
   "execution_count": 35,
   "metadata": {},
   "outputs": [
    {
     "data": {
      "text/plain": [
       "array([0, 4, 8, 0, 0, 0, 0, 0, 0, 0, 0])"
      ]
     },
     "execution_count": 35,
     "metadata": {},
     "output_type": "execute_result"
    }
   ],
   "source": [
    "deg_sizes"
   ]
  }
 ],
 "metadata": {
  "kernelspec": {
   "display_name": "Python 3 (ipykernel)",
   "language": "python",
   "name": "python3"
  },
  "language_info": {
   "codemirror_mode": {
    "name": "ipython",
    "version": 3
   },
   "file_extension": ".py",
   "mimetype": "text/x-python",
   "name": "python",
   "nbconvert_exporter": "python",
   "pygments_lexer": "ipython3",
   "version": "3.8.10"
  }
 },
 "nbformat": 4,
 "nbformat_minor": 4
}
