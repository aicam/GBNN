{
 "cells": [
  {
   "cell_type": "code",
   "execution_count": 1,
   "metadata": {},
   "outputs": [],
   "source": [
    "import numpy as np\n",
    "import pandas as pd"
   ]
  },
  {
   "cell_type": "code",
   "execution_count": 2,
   "metadata": {},
   "outputs": [
    {
     "name": "stderr",
     "output_type": "stream",
     "text": [
      "add /home/ali/miniconda/lib/python3.6/site-packages to PYTHONPATH\n",
      "all packages are already installed\n"
     ]
    }
   ],
   "source": [
    "# !curl -Lo conda_installer.py https://raw.githubusercontent.com/deepchem/deepchem/master/scripts/colab_install.py\n",
    "import conda_installer\n",
    "# conda_installer.install()\n",
    "conda_installer.install()\n",
    "# !/root/miniconda/bin/conda info -e\n",
    "import rdkit\n",
    "import deepchem as dc"
   ]
  },
  {
   "cell_type": "code",
   "execution_count": 3,
   "metadata": {},
   "outputs": [],
   "source": [
    "pdb = rdkit.Chem.MolFromPDBFile('../Datasets/PDBBindSmallSet/1a30-ligand.pdb')"
   ]
  },
  {
   "cell_type": "code",
   "execution_count": 4,
   "metadata": {},
   "outputs": [],
   "source": [
    "ligand = pd.read_csv('../Datasets/PDBBindSmallSet/csv-files/1a30-info.csv')"
   ]
  },
  {
   "cell_type": "code",
   "execution_count": 14,
   "metadata": {},
   "outputs": [
    {
     "data": {
      "text/html": [
       "<div>\n",
       "<style scoped>\n",
       "    .dataframe tbody tr th:only-of-type {\n",
       "        vertical-align: middle;\n",
       "    }\n",
       "\n",
       "    .dataframe tbody tr th {\n",
       "        vertical-align: top;\n",
       "    }\n",
       "\n",
       "    .dataframe thead th {\n",
       "        text-align: right;\n",
       "    }\n",
       "</style>\n",
       "<table border=\"1\" class=\"dataframe\">\n",
       "  <thead>\n",
       "    <tr style=\"text-align: right;\">\n",
       "      <th></th>\n",
       "      <th>Unnamed: 0</th>\n",
       "      <th>x</th>\n",
       "      <th>y</th>\n",
       "      <th>z</th>\n",
       "      <th>atomic-charge</th>\n",
       "      <th>atomic-radius</th>\n",
       "      <th>effective-born-radii</th>\n",
       "    </tr>\n",
       "  </thead>\n",
       "  <tbody>\n",
       "    <tr>\n",
       "      <th>0</th>\n",
       "      <td>0</td>\n",
       "      <td>28.714</td>\n",
       "      <td>40.271</td>\n",
       "      <td>5.327</td>\n",
       "      <td>-0.2020</td>\n",
       "      <td>1.55</td>\n",
       "      <td>0.390811</td>\n",
       "    </tr>\n",
       "    <tr>\n",
       "      <th>1</th>\n",
       "      <td>1</td>\n",
       "      <td>29.274</td>\n",
       "      <td>41.102</td>\n",
       "      <td>5.453</td>\n",
       "      <td>0.3120</td>\n",
       "      <td>1.30</td>\n",
       "      <td>0.607797</td>\n",
       "    </tr>\n",
       "    <tr>\n",
       "      <th>2</th>\n",
       "      <td>2</td>\n",
       "      <td>27.976</td>\n",
       "      <td>40.469</td>\n",
       "      <td>4.658</td>\n",
       "      <td>0.3120</td>\n",
       "      <td>1.30</td>\n",
       "      <td>0.431638</td>\n",
       "    </tr>\n",
       "    <tr>\n",
       "      <th>3</th>\n",
       "      <td>3</td>\n",
       "      <td>28.138</td>\n",
       "      <td>39.883</td>\n",
       "      <td>6.633</td>\n",
       "      <td>-0.0120</td>\n",
       "      <td>1.70</td>\n",
       "      <td>0.339602</td>\n",
       "    </tr>\n",
       "    <tr>\n",
       "      <th>4</th>\n",
       "      <td>4</td>\n",
       "      <td>27.051</td>\n",
       "      <td>39.953</td>\n",
       "      <td>6.613</td>\n",
       "      <td>0.1000</td>\n",
       "      <td>1.20</td>\n",
       "      <td>0.286345</td>\n",
       "    </tr>\n",
       "    <tr>\n",
       "      <th>...</th>\n",
       "      <td>...</td>\n",
       "      <td>...</td>\n",
       "      <td>...</td>\n",
       "      <td>...</td>\n",
       "      <td>...</td>\n",
       "      <td>...</td>\n",
       "      <td>...</td>\n",
       "    </tr>\n",
       "    <tr>\n",
       "      <th>3183</th>\n",
       "      <td>3183</td>\n",
       "      <td>9.154</td>\n",
       "      <td>25.597</td>\n",
       "      <td>1.832</td>\n",
       "      <td>0.0195</td>\n",
       "      <td>1.20</td>\n",
       "      <td>0.168857</td>\n",
       "    </tr>\n",
       "    <tr>\n",
       "      <th>3184</th>\n",
       "      <td>3184</td>\n",
       "      <td>9.573</td>\n",
       "      <td>24.390</td>\n",
       "      <td>0.628</td>\n",
       "      <td>0.0195</td>\n",
       "      <td>1.20</td>\n",
       "      <td>0.164129</td>\n",
       "    </tr>\n",
       "    <tr>\n",
       "      <th>3185</th>\n",
       "      <td>3185</td>\n",
       "      <td>8.311</td>\n",
       "      <td>21.948</td>\n",
       "      <td>2.155</td>\n",
       "      <td>0.0195</td>\n",
       "      <td>1.20</td>\n",
       "      <td>0.187242</td>\n",
       "    </tr>\n",
       "    <tr>\n",
       "      <th>3186</th>\n",
       "      <td>3186</td>\n",
       "      <td>9.906</td>\n",
       "      <td>21.862</td>\n",
       "      <td>1.417</td>\n",
       "      <td>0.0195</td>\n",
       "      <td>1.20</td>\n",
       "      <td>0.214430</td>\n",
       "    </tr>\n",
       "    <tr>\n",
       "      <th>3187</th>\n",
       "      <td>3187</td>\n",
       "      <td>9.706</td>\n",
       "      <td>21.516</td>\n",
       "      <td>3.134</td>\n",
       "      <td>0.0195</td>\n",
       "      <td>1.20</td>\n",
       "      <td>0.151506</td>\n",
       "    </tr>\n",
       "  </tbody>\n",
       "</table>\n",
       "<p>3188 rows × 7 columns</p>\n",
       "</div>"
      ],
      "text/plain": [
       "      Unnamed: 0       x       y      z  atomic-charge  atomic-radius  \\\n",
       "0              0  28.714  40.271  5.327        -0.2020           1.55   \n",
       "1              1  29.274  41.102  5.453         0.3120           1.30   \n",
       "2              2  27.976  40.469  4.658         0.3120           1.30   \n",
       "3              3  28.138  39.883  6.633        -0.0120           1.70   \n",
       "4              4  27.051  39.953  6.613         0.1000           1.20   \n",
       "...          ...     ...     ...    ...            ...            ...   \n",
       "3183        3183   9.154  25.597  1.832         0.0195           1.20   \n",
       "3184        3184   9.573  24.390  0.628         0.0195           1.20   \n",
       "3185        3185   8.311  21.948  2.155         0.0195           1.20   \n",
       "3186        3186   9.906  21.862  1.417         0.0195           1.20   \n",
       "3187        3187   9.706  21.516  3.134         0.0195           1.20   \n",
       "\n",
       "      effective-born-radii  \n",
       "0                 0.390811  \n",
       "1                 0.607797  \n",
       "2                 0.431638  \n",
       "3                 0.339602  \n",
       "4                 0.286345  \n",
       "...                    ...  \n",
       "3183              0.168857  \n",
       "3184              0.164129  \n",
       "3185              0.187242  \n",
       "3186              0.214430  \n",
       "3187              0.151506  \n",
       "\n",
       "[3188 rows x 7 columns]"
      ]
     },
     "execution_count": 14,
     "metadata": {},
     "output_type": "execute_result"
    }
   ],
   "source": [
    "ligand"
   ]
  },
  {
   "cell_type": "code",
   "execution_count": 8,
   "metadata": {},
   "outputs": [],
   "source": [
    "rdkit_order = None\n",
    "for c in pdb.GetConformers():\n",
    "    rdkit_order = c.GetPositions()"
   ]
  },
  {
   "cell_type": "code",
   "execution_count": 10,
   "metadata": {},
   "outputs": [],
   "source": [
    "f = None\n",
    "df = pd.DataFrame(columns=ligand.columns)\n",
    "for i, atom_pos in enumerate(rdkit_order):\n",
    "#     print(i, \" \", atom_pos)\n",
    "#     print(ligand['x'].iloc[0])\n",
    "#     print(ligand[(ligand['x'] == atom_pos[0]) & (ligand['y'] == atom_pos[1]) & (ligand['z'] == atom_pos[2])])\n",
    "    df = df.append(ligand[(ligand['x'] == atom_pos[0]) & (ligand['y'] == atom_pos[1]) & (ligand['z'] == atom_pos[2])], ignore_index=True)\n",
    "#     break"
   ]
  },
  {
   "cell_type": "code",
   "execution_count": 11,
   "metadata": {},
   "outputs": [],
   "source": [
    "featurizer = dc.feat.ConvMolFeaturizer(per_atom_fragmentation=False)"
   ]
  },
  {
   "cell_type": "code",
   "execution_count": 12,
   "metadata": {},
   "outputs": [],
   "source": [
    "c_f = featurizer.featurize(pdb)[0]"
   ]
  },
  {
   "cell_type": "code",
   "execution_count": 27,
   "metadata": {},
   "outputs": [],
   "source": [
    "import os\n",
    "pdb_files = [\"../Datasets/PDBBindSmallSet/\" + pdb for pdb in os.listdir(\"../Datasets/PDBBindSmallSet\") if pdb.__contains__('.pdb')]\n",
    "atoms_csvs = [\"../Datasets/PDBBindSmallSet/csv-files/\" + atom_csv for atom_csv in os.listdir(\"../Datasets/PDBBindSmallSet/csv-files/\") if atom_csv.__contains__('.csv')]\n",
    "physics_df = pd.read_csv('../Datasets/PDBBindSmallSet/polished.csv')"
   ]
  },
  {
   "cell_type": "code",
   "execution_count": 28,
   "metadata": {},
   "outputs": [],
   "source": [
    "physics_df = physics_df[physics_df['dataset group name'] == 'pdbbind']"
   ]
  },
  {
   "cell_type": "code",
   "execution_count": 33,
   "metadata": {},
   "outputs": [
    {
     "name": "stderr",
     "output_type": "stream",
     "text": [
      "RDKit WARNING: [19:26:57] Cannot determine element for PDB atom #3177\n",
      "RDKit WARNING: [19:26:57] Cannot determine element for PDB atom #6016\n",
      "RDKit WARNING: [19:27:47] Cannot determine element for PDB atom #3862\n",
      "RDKit WARNING: [19:27:48] Cannot determine element for PDB atom #21503\n",
      "RDKit WARNING: [19:27:56] Cannot determine element for PDB atom #3395\n",
      "RDKit WARNING: [19:27:56] Cannot determine element for PDB atom #3160\n",
      "RDKit WARNING: [19:27:56] Cannot determine element for PDB atom #5566\n",
      "RDKit WARNING: [19:27:56] Cannot determine element for PDB atom #3174\n",
      "RDKit WARNING: [19:27:56] Cannot determine element for PDB atom #13170\n"
     ]
    }
   ],
   "source": [
    "mols_dict = {}\n",
    "for pdb in pdb_files:\n",
    "    mols_dict.update({pdb.split('/')[-1].split('.')[0].split('-')[0]: rdkit.Chem.MolFromPDBFile(pdb)})"
   ]
  },
  {
   "cell_type": "code",
   "execution_count": 36,
   "metadata": {},
   "outputs": [
    {
     "name": "stderr",
     "output_type": "stream",
     "text": [
      "RDKit WARNING: [19:29:49] Cannot determine element for PDB atom #3177\n"
     ]
    }
   ],
   "source": [
    "rdkit.Chem.MolFromPDBFile(pdb_files[0])"
   ]
  },
  {
   "cell_type": "code",
   "execution_count": 34,
   "metadata": {},
   "outputs": [
    {
     "data": {
      "text/plain": [
       "{'1a94': None,\n",
       " '1a4r': None,\n",
       " '1a8i': <rdkit.Chem.rdchem.Mol at 0x7efee1fd9120>,\n",
       " '1a4w': None,\n",
       " '1a30': <rdkit.Chem.rdchem.Mol at 0x7efee2a74850>,\n",
       " '1a69': None,\n",
       " '1a99': <rdkit.Chem.rdchem.Mol at 0x7efee2ccba30>,\n",
       " '1a1e': None,\n",
       " '1a9m': None,\n",
       " '1add': None,\n",
       " '1aaq': None,\n",
       " '1a4k': None}"
      ]
     },
     "execution_count": 34,
     "metadata": {},
     "output_type": "execute_result"
    }
   ],
   "source": [
    "mols_dict"
   ]
  }
 ],
 "metadata": {
  "kernelspec": {
   "display_name": "Python 3",
   "language": "python",
   "name": "python3"
  },
  "language_info": {
   "codemirror_mode": {
    "name": "ipython",
    "version": 3
   },
   "file_extension": ".py",
   "mimetype": "text/x-python",
   "name": "python",
   "nbconvert_exporter": "python",
   "pygments_lexer": "ipython3",
   "version": "3.6.9"
  }
 },
 "nbformat": 4,
 "nbformat_minor": 4
}
