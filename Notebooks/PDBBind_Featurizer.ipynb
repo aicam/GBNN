{
 "cells": [
  {
   "cell_type": "code",
   "execution_count": 1,
   "metadata": {},
   "outputs": [],
   "source": [
    "import numpy as np\n",
    "import pandas as pd"
   ]
  },
  {
   "cell_type": "code",
   "execution_count": 2,
   "metadata": {},
   "outputs": [
    {
     "name": "stderr",
     "output_type": "stream",
     "text": [
      "add /home/ali/miniconda/lib/python3.6/site-packages to PYTHONPATH\n",
      "all packages are already installed\n"
     ]
    }
   ],
   "source": [
    "# !curl -Lo conda_installer.py https://raw.githubusercontent.com/deepchem/deepchem/master/scripts/colab_install.py\n",
    "import conda_installer\n",
    "# conda_installer.install()\n",
    "conda_installer.install()\n",
    "# !/root/miniconda/bin/conda info -e\n",
    "import rdkit\n",
    "import deepchem as dc"
   ]
  },
  {
   "cell_type": "code",
   "execution_count": 3,
   "metadata": {},
   "outputs": [],
   "source": [
    "pdb = rdkit.Chem.MolFromPDBFile('../Datasets/PDBBindSmallSet/1a30-ligand.pdb')"
   ]
  },
  {
   "cell_type": "code",
   "execution_count": 62,
   "metadata": {},
   "outputs": [],
   "source": [
    "ligand = pd.read_csv('../Datasets/PDBBindSmallSet/csv-files/1a94-info.csv')"
   ]
  },
  {
   "cell_type": "code",
   "execution_count": 64,
   "metadata": {},
   "outputs": [
    {
     "data": {
      "text/plain": [
       "Unnamed: 0               0.000\n",
       "x                       67.671\n",
       "y                        9.696\n",
       "z                       12.088\n",
       "atomic-charge           -0.202\n",
       "atomic-radius            1.550\n",
       "effective-born-radii     0.409\n",
       "Name: 0, dtype: float64"
      ]
     },
     "execution_count": 64,
     "metadata": {},
     "output_type": "execute_result"
    }
   ],
   "source": [
    "ligand.round(3).iloc[0]"
   ]
  },
  {
   "cell_type": "code",
   "execution_count": 8,
   "metadata": {},
   "outputs": [],
   "source": [
    "rdkit_order = None\n",
    "for c in pdb.GetConformers():\n",
    "    rdkit_order = c.GetPositions()"
   ]
  },
  {
   "cell_type": "code",
   "execution_count": 10,
   "metadata": {},
   "outputs": [],
   "source": [
    "f = None\n",
    "df = pd.DataFrame(columns=ligand.columns)\n",
    "for i, atom_pos in enumerate(rdkit_order):\n",
    "#     print(i, \" \", atom_pos)\n",
    "#     print(ligand['x'].iloc[0])\n",
    "#     print(ligand[(ligand['x'] == atom_pos[0]) & (ligand['y'] == atom_pos[1]) & (ligand['z'] == atom_pos[2])])\n",
    "    df = df.append(ligand[(ligand['x'] == atom_pos[0]) & (ligand['y'] == atom_pos[1]) & (ligand['z'] == atom_pos[2])], ignore_index=True)\n",
    "#     break"
   ]
  },
  {
   "cell_type": "code",
   "execution_count": 11,
   "metadata": {},
   "outputs": [],
   "source": [
    "featurizer = dc.feat.ConvMolFeaturizer(per_atom_fragmentation=False)"
   ]
  },
  {
   "cell_type": "code",
   "execution_count": 12,
   "metadata": {},
   "outputs": [],
   "source": [
    "c_f = featurizer.featurize(pdb)[0]"
   ]
  },
  {
   "cell_type": "code",
   "execution_count": 44,
   "metadata": {},
   "outputs": [],
   "source": [
    "import os\n",
    "pdb_files = [\"../Datasets/PDBBindSmallSet/\" + pdb for pdb in os.listdir(\"../Datasets/PDBBindSmallSet\") if pdb.__contains__('.pdb')]\n",
    "atoms_csvs = [\"../Datasets/PDBBindSmallSet/csv-files/\" + atom_csv for atom_csv in os.listdir(\"../Datasets/PDBBindSmallSet/csv-files/\") if atom_csv.__contains__('.csv')]\n",
    "physics_df = pd.read_csv('../Datasets/PDBBindSmallSet/polished.csv')"
   ]
  },
  {
   "cell_type": "code",
   "execution_count": 38,
   "metadata": {},
   "outputs": [],
   "source": [
    "physics_df = physics_df[physics_df['dataset group name'] == 'pdbbind']"
   ]
  },
  {
   "cell_type": "code",
   "execution_count": 65,
   "metadata": {},
   "outputs": [],
   "source": [
    "atoms_csvs_dict = {atoms_csv.split('/')[-1].split('.')[0].split('-')[0]: pd.read_csv(atoms_csv).round(3) for atoms_csv in atoms_csvs}"
   ]
  },
  {
   "cell_type": "code",
   "execution_count": 55,
   "metadata": {},
   "outputs": [],
   "source": [
    "mols_dict = {}\n",
    "for pdb in pdb_files:\n",
    "    mols_dict.update({pdb.split('/')[-1].split('.')[0].split('-')[0]: rdkit.Chem.MolFromPDBFile(pdb)})"
   ]
  },
  {
   "cell_type": "code",
   "execution_count": 104,
   "metadata": {},
   "outputs": [],
   "source": [
    "def convertBONDtoOneHotVector(bond_type):\n",
    "    BOND_DICT = {dir(rdkit.Chem.rdchem.BondType)[i]: i for i in range(22)}\n",
    "    one_hot = np.zeros(22)\n",
    "    one_hot[BOND_DICT[str(bond_type)]] = 1\n",
    "    return one_hot"
   ]
  },
  {
   "cell_type": "code",
   "execution_count": 107,
   "metadata": {},
   "outputs": [
    {
     "name": "stdout",
     "output_type": "stream",
     "text": [
      "[[1, array([0., 0., 0., 0., 0., 0., 0., 0., 0., 0., 0., 0., 0., 0., 0., 1., 0.,\n",
      "       0., 0., 0., 0., 0.])], [4, array([0., 0., 0., 0., 0., 0., 0., 0., 0., 0., 0., 0., 0., 0., 0., 1., 0.,\n",
      "       0., 0., 0., 0., 0.])]]\n"
     ]
    }
   ],
   "source": [
    "for mol_name, mol in mols_dict.items():\n",
    "    mol_f = featurizer.featurize(mol)[0]\n",
    "    atoms_gb = atoms_csvs_dict[mol_name]\n",
    "    \n",
    "    for c in mol.GetConformers():\n",
    "        rdkit_order = c.GetPositions()\n",
    "    df = pd.DataFrame(columns=atoms_gb.columns)\n",
    "    for i, atom_pos in enumerate(rdkit_order):\n",
    "        df = df.append(atoms_gb[(atoms_gb['x'] == atom_pos[0]) & (atoms_gb['y'] == atom_pos[1]) & (atoms_gb['z'] == atom_pos[2])], ignore_index=True)\n",
    "    atoms_gb = df\n",
    "    atom_physics_features = atoms_gb[['atomic-charge', 'atomic-radius', 'effective-born-radii']].to_numpy()\n",
    "    atom_features = np.concatenate([mol_f.atom_features, atom_physics_features], axis = 1)\n",
    "    \n",
    "    adjacency_list = []\n",
    "    for atom in mol.GetAtoms():\n",
    "        atom_bonds = []\n",
    "        for neighbor in atom.GetNeighbors():\n",
    "            bond_type = mol.GetBondBetweenAtoms(atom.GetIdx(), neighbor.GetIdx()).GetBondType()\n",
    "            neighbor_idx = neighbor.GetIdx()\n",
    "            atom_bonds.append([neighbor_idx, convertBONDtoOneHotVector(bond_type)])\n",
    "        adjacency_list.append(atom_bonds)\n",
    "    "
   ]
  },
  {
   "cell_type": "code",
   "execution_count": 85,
   "metadata": {},
   "outputs": [
    {
     "data": {
      "text/plain": [
       "[1, 7, 8]"
      ]
     },
     "execution_count": 85,
     "metadata": {},
     "output_type": "execute_result"
    }
   ],
   "source": [
    "atom = mols_dict['1a1e'].GetAtomWithIdx(6)\n",
    "[x.GetIdx() for x in atom.GetNeighbors()]"
   ]
  }
 ],
 "metadata": {
  "kernelspec": {
   "display_name": "Python 3",
   "language": "python",
   "name": "python3"
  },
  "language_info": {
   "codemirror_mode": {
    "name": "ipython",
    "version": 3
   },
   "file_extension": ".py",
   "mimetype": "text/x-python",
   "name": "python",
   "nbconvert_exporter": "python",
   "pygments_lexer": "ipython3",
   "version": "3.6.9"
  }
 },
 "nbformat": 4,
 "nbformat_minor": 4
}
