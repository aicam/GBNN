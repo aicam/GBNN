{
 "cells": [
  {
   "cell_type": "code",
   "execution_count": 1,
   "id": "9f58ba55",
   "metadata": {},
   "outputs": [
    {
     "name": "stderr",
     "output_type": "stream",
     "text": [
      "2022-12-20 08:47:34.954987: I tensorflow/core/platform/cpu_feature_guard.cc:193] This TensorFlow binary is optimized with oneAPI Deep Neural Network Library (oneDNN) to use the following CPU instructions in performance-critical operations:  AVX2 FMA\n",
      "To enable them in other operations, rebuild TensorFlow with the appropriate compiler flags.\n",
      "2022-12-20 08:47:35.076821: W tensorflow/compiler/xla/stream_executor/platform/default/dso_loader.cc:64] Could not load dynamic library 'libcudart.so.11.0'; dlerror: libcudart.so.11.0: cannot open shared object file: No such file or directory\n",
      "2022-12-20 08:47:35.076843: I tensorflow/compiler/xla/stream_executor/cuda/cudart_stub.cc:29] Ignore above cudart dlerror if you do not have a GPU set up on your machine.\n",
      "2022-12-20 08:47:35.603903: W tensorflow/compiler/xla/stream_executor/platform/default/dso_loader.cc:64] Could not load dynamic library 'libnvinfer.so.7'; dlerror: libnvinfer.so.7: cannot open shared object file: No such file or directory\n",
      "2022-12-20 08:47:35.603945: W tensorflow/compiler/xla/stream_executor/platform/default/dso_loader.cc:64] Could not load dynamic library 'libnvinfer_plugin.so.7'; dlerror: libnvinfer_plugin.so.7: cannot open shared object file: No such file or directory\n",
      "2022-12-20 08:47:35.603949: W tensorflow/compiler/tf2tensorrt/utils/py_utils.cc:38] TF-TRT Warning: Cannot dlopen some TensorRT libraries. If you would like to use Nvidia GPU with TensorRT, please make sure the missing libraries mentioned above are installed properly.\n",
      "add /home/ali/miniconda/lib/python3.8/site-packages to PYTHONPATH\n",
      "all packages are already installed\n"
     ]
    }
   ],
   "source": [
    "import tensorflow as tf\n",
    "import numpy as np\n",
    "import pandas as pd\n",
    "# !curl -Lo conda_installer.py https://raw.githubusercontent.com/deepchem/deepchem/master/scripts/colab_install.py\n",
    "import conda_installer\n",
    "# conda_installer.install()\n",
    "conda_installer.install()\n",
    "# !/root/miniconda/bin/conda info -e\n",
    "import rdkit\n",
    "\n",
    "from deepchem.feat.graph_features import atom_features as get_atom_features"
   ]
  },
  {
   "cell_type": "code",
   "execution_count": 2,
   "id": "26180b7c",
   "metadata": {},
   "outputs": [],
   "source": [
    "sample_structure = rdkit.Chem.rdmolfiles.MolFromPDBFile('../Datasets/pdb-test/1a1e.pdb')"
   ]
  },
  {
   "cell_type": "code",
   "execution_count": 3,
   "id": "f9f0ad5d",
   "metadata": {},
   "outputs": [],
   "source": [
    "df = pd.read_csv('../Datasets/pdbbind.csv')"
   ]
  },
  {
   "cell_type": "code",
   "execution_count": 4,
   "id": "7140e48f",
   "metadata": {},
   "outputs": [],
   "source": [
    "cols = [x for x in df.columns if (x.__contains__('gb-') or x.__contains__('vdwaals')) and not x.__contains__('etot')]"
   ]
  },
  {
   "cell_type": "code",
   "execution_count": 5,
   "id": "9bf15552",
   "metadata": {},
   "outputs": [],
   "source": [
    "sample_info = df[df['complex-name'] == '1a1e'][cols].to_numpy()\n",
    "sample_info = np.array(sample_info[0])"
   ]
  },
  {
   "cell_type": "code",
   "execution_count": 6,
   "id": "4dd3e079",
   "metadata": {},
   "outputs": [
    {
     "data": {
      "text/plain": [
       "array([ 7.03070120e+03, -1.35150036e+04, -3.34937910e+03,  5.65130000e+01,\n",
       "        7.18952230e+03, -1.33669577e+04, -3.37817030e+03,  5.62103000e+01,\n",
       "       -1.58821000e+02, -9.66715000e+01, -6.91305000e+01,  4.45980000e+00,\n",
       "       -1.95158170e+03, -1.90104860e+03, -1.14008000e+01])"
      ]
     },
     "execution_count": 6,
     "metadata": {},
     "output_type": "execute_result"
    }
   ],
   "source": [
    "sample_info"
   ]
  },
  {
   "cell_type": "code",
   "execution_count": 7,
   "id": "0d3122a3",
   "metadata": {},
   "outputs": [],
   "source": [
    "def convertBONDtoOneHotVector(bond_type):\n",
    "    BOND_DICT = {dir(rdkit.Chem.rdchem.BondType)[i]: i for i in range(22)}\n",
    "    one_hot = np.zeros(22)\n",
    "    one_hot[BOND_DICT[str(bond_type)]] = 1\n",
    "    return one_hot"
   ]
  },
  {
   "cell_type": "code",
   "execution_count": 8,
   "id": "c4b28fcf",
   "metadata": {},
   "outputs": [],
   "source": [
    "atom_features = []\n",
    "adjacency_list = []\n",
    "for atom in sample_structure.GetAtoms():\n",
    "    new_feature = get_atom_features(atom).tolist()\n",
    "    position = sample_structure.GetConformer().GetAtomPosition(atom.GetIdx())\n",
    "    new_feature += [atom.GetMass(), atom.GetAtomicNum()]\n",
    "    new_feature += [position.x, position.y, position.z]\n",
    "    atom_features.append(new_feature)\n",
    "atom_features = np.array(atom_features)"
   ]
  },
  {
   "cell_type": "code",
   "execution_count": 9,
   "id": "f4a4b714",
   "metadata": {},
   "outputs": [],
   "source": [
    "for atom in sample_structure.GetAtoms():\n",
    "    atom_bonds = []\n",
    "    for neighbor in atom.GetNeighbors():\n",
    "        bond_type = sample_structure.GetBondBetweenAtoms(atom.GetIdx(), neighbor.GetIdx()).GetBondType()\n",
    "        neighbor_idx = neighbor.GetIdx()\n",
    "        atom_bonds.append([neighbor_idx, convertBONDtoOneHotVector(bond_type)])\n",
    "    adjacency_list.append(atom_bonds)"
   ]
  },
  {
   "cell_type": "code",
   "execution_count": 10,
   "id": "507b445f",
   "metadata": {},
   "outputs": [
    {
     "name": "stdout",
     "output_type": "stream",
     "text": [
      "/home/ali/PycharmProjects/GBNN\n"
     ]
    }
   ],
   "source": [
    "%cd .."
   ]
  },
  {
   "cell_type": "code",
   "execution_count": 11,
   "id": "7cc1c408",
   "metadata": {},
   "outputs": [],
   "source": [
    "from PGGCN.layers import RuleGraphConvLayer, ConvLayer"
   ]
  },
  {
   "cell_type": "code",
   "execution_count": 13,
   "id": "b6194009",
   "metadata": {},
   "outputs": [],
   "source": [
    "class ConvLayer(tf.keras.Model):\n",
    "    def __init__(self, out_channel, num_features=40):\n",
    "        super(ConvLayer, self).__init__()\n",
    "        self.out_channel = out_channel\n",
    "        self.num_features = num_features\n",
    "        self.w = tf.Variable(tf.initializers.glorot_uniform()\n",
    "                             (shape=[num_features, out_channel]), shape=[num_features, out_channel], trainable=True)\n",
    "\n",
    "    def _call_single(self, inp):\n",
    "        features = inp[0]\n",
    "        out = [0] * self.out_channel\n",
    "        for feature in features:\n",
    "            feature = tf.reshape(feature, [1, -1])\n",
    "            out += tf.nn.softmax(tf.matmul(feature, self.w))\n",
    "        return tf.reshape(out, [-1])\n",
    "\n",
    "    def call(self, inputs):\n",
    "        output = []\n",
    "        for inp in inputs:\n",
    "            output.append(self._call_single(inp))\n",
    "        return tf.reshape(output, [len(inputs), -1])"
   ]
  },
  {
   "cell_type": "code",
   "execution_count": 26,
   "id": "9ea063e3",
   "metadata": {},
   "outputs": [],
   "source": [
    "class PGGCN(tf.keras.Model):\n",
    "    def __init__(self, num_atom_features = 80, r_out_channel = 40, c_out_channel = 1024):\n",
    "        super().__init__()\n",
    "        self.ruleGraphConvLayer = RuleGraphConvLayer(r_out_channel, num_atom_features)\n",
    "        self.conv = ConvLayer(c_out_channel)\n",
    "        self.dense1 = tf.keras.layers.Dense(650, activation='sigmoid')\n",
    "        self.dense2 = tf.keras.layers.Dense(1, activation='relu')\n",
    "        self.dense3 = tf.keras.layers.Dense(1,\n",
    "                 kernel_initializer=tf.keras.initializers.Constant([.5, 1, 1, 1, 1, -1, -1, -1, -1, -1, -1, -1, -1, 1, -1, -1]),\n",
    "                 bias_initializer=tf.keras.initializers.Zeros(), activation=tf.keras.activations.relu)\n",
    "\n",
    "    def set_physics_info(self, info):\n",
    "        self.physics_info = info.reshape([-1, 15])\n",
    "\n",
    "    def addRule(self, rule, start_index, end_index = None):\n",
    "        self.ruleGraphConvLayer.addRule(rule, start_index, end_index)\n",
    "\n",
    "    def call(self, inputs):\n",
    "        x = self.ruleGraphConvLayer(inputs)\n",
    "        x = self.conv(x)\n",
    "        x = self.dense1(x)\n",
    "        model_var = self.dense2(x)\n",
    "        print(\"model var shape \", model_var.shape)\n",
    "        merged = tf.concat([model_var, self.physics_info], axis=1)\n",
    "        print(\"merged shape\", merged.shape)\n",
    "        out = self.dense3(merged)\n",
    "        return out\n",
    "\n",
    "m = PGGCN()\n",
    "m.addRule(\"sum\", 0, 75)\n",
    "m.addRule(\"multiply\", 75, 77)\n",
    "m.addRule(\"distance\", 77, 80)\n",
    "m.set_physics_info(sample_info)"
   ]
  },
  {
   "cell_type": "code",
   "execution_count": 27,
   "id": "0feefc01",
   "metadata": {},
   "outputs": [
    {
     "name": "stdout",
     "output_type": "stream",
     "text": [
      "model var shape  (1, 1)\n",
      "merged shape (1, 16)\n"
     ]
    }
   ],
   "source": [
    "out = m([[atom_features, adjacency_list]])"
   ]
  },
  {
   "cell_type": "code",
   "execution_count": 32,
   "id": "dbd9f33c",
   "metadata": {},
   "outputs": [
    {
     "data": {
      "text/html": [
       "<div>\n",
       "<style scoped>\n",
       "    .dataframe tbody tr th:only-of-type {\n",
       "        vertical-align: middle;\n",
       "    }\n",
       "\n",
       "    .dataframe tbody tr th {\n",
       "        vertical-align: top;\n",
       "    }\n",
       "\n",
       "    .dataframe thead th {\n",
       "        text-align: right;\n",
       "    }\n",
       "</style>\n",
       "<table border=\"1\" class=\"dataframe\">\n",
       "  <thead>\n",
       "    <tr style=\"text-align: right;\">\n",
       "      <th></th>\n",
       "      <th>complex-name</th>\n",
       "      <th>gb-complex-etot</th>\n",
       "      <th>gb-complex-1-4-eel</th>\n",
       "      <th>gb-complex-eelec</th>\n",
       "      <th>gb-complex-egb</th>\n",
       "      <th>gb-complex-esurf</th>\n",
       "      <th>gb-protein-etot</th>\n",
       "      <th>gb-protein-1-4-eel</th>\n",
       "      <th>gb-protein-eelect</th>\n",
       "      <th>gb-protein-egb</th>\n",
       "      <th>...</th>\n",
       "      <th>pb-protein-epb</th>\n",
       "      <th>pb-protein-ecavity</th>\n",
       "      <th>pb-ligand-etot</th>\n",
       "      <th>pb-ligand-vdwaals</th>\n",
       "      <th>pb-ligand-eelec</th>\n",
       "      <th>pb-ligand-epb</th>\n",
       "      <th>pb-ligand-ecavity</th>\n",
       "      <th>ddg</th>\n",
       "      <th>enthalpy-gb</th>\n",
       "      <th>entropy</th>\n",
       "    </tr>\n",
       "  </thead>\n",
       "  <tbody>\n",
       "  </tbody>\n",
       "</table>\n",
       "<p>0 rows × 34 columns</p>\n",
       "</div>"
      ],
      "text/plain": [
       "Empty DataFrame\n",
       "Columns: [complex-name, gb-complex-etot, gb-complex-1-4-eel, gb-complex-eelec, gb-complex-egb, gb-complex-esurf, gb-protein-etot, gb-protein-1-4-eel, gb-protein-eelect, gb-protein-egb, gb-protein-esurf, gb-ligand-etot, gb-ligand-1-4-eel, gb-ligand-eelec, gb-ligand-egb, gb-ligand-esurf, pb-complex-etot, pb-complex-vdwaals, pb-complex-eelect, pb-complex-epb, pb-complex-ecavity, pb-protein-etot, pb-protein-vdwaals, pb-protein-eelec, pb-protein-epb, pb-protein-ecavity, pb-ligand-etot, pb-ligand-vdwaals, pb-ligand-eelec, pb-ligand-epb, pb-ligand-ecavity, ddg, enthalpy-gb, entropy]\n",
       "Index: []\n",
       "\n",
       "[0 rows x 34 columns]"
      ]
     },
     "execution_count": 32,
     "metadata": {},
     "output_type": "execute_result"
    }
   ],
   "source": []
  }
 ],
 "metadata": {
  "kernelspec": {
   "display_name": "Python 3 (ipykernel)",
   "language": "python",
   "name": "python3"
  },
  "language_info": {
   "codemirror_mode": {
    "name": "ipython",
    "version": 3
   },
   "file_extension": ".py",
   "mimetype": "text/x-python",
   "name": "python",
   "nbconvert_exporter": "python",
   "pygments_lexer": "ipython3",
   "version": "3.8.10"
  }
 },
 "nbformat": 4,
 "nbformat_minor": 5
}
