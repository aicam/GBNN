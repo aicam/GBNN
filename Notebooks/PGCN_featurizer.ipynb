{
 "cells": [
  {
   "cell_type": "code",
   "execution_count": 2,
   "id": "9f58ba55",
   "metadata": {
    "pycharm": {
     "name": "#%%\n"
    }
   },
   "outputs": [
    {
     "name": "stderr",
     "output_type": "stream",
     "text": [
      "all packages are already installed\n"
     ]
    }
   ],
   "source": [
    "import tensorflow as tf\n",
    "import numpy as np\n",
    "import pandas as pd\n",
    "# !curl -Lo conda_installer.py https://raw.githubusercontent.com/deepchem/deepchem/master/scripts/colab_install.py\n",
    "import conda_installer\n",
    "# conda_installer.install()\n",
    "conda_installer.install()\n",
    "# !/root/miniconda/bin/conda info -e\n",
    "import rdkit\n",
    "\n",
    "from deepchem.feat.graph_features import atom_features as get_atom_features"
   ]
  },
  {
   "cell_type": "code",
   "execution_count": 3,
   "id": "26180b7c",
   "metadata": {
    "pycharm": {
     "name": "#%%\n"
    }
   },
   "outputs": [],
   "source": [
    "sample_structure = rdkit.Chem.rdmolfiles.MolFromPDBFile('../Datasets/pdb-test/1a1e.pdb')"
   ]
  },
  {
   "cell_type": "code",
   "execution_count": 4,
   "id": "8c613c4b",
   "metadata": {
    "pycharm": {
     "name": "#%%\n"
    }
   },
   "outputs": [],
   "source": [
    "df = pd.read_csv('../Datasets/pdbbind.csv')"
   ]
  },
  {
   "cell_type": "code",
   "execution_count": 5,
   "id": "f8dce087",
   "metadata": {
    "pycharm": {
     "name": "#%%\n"
    }
   },
   "outputs": [],
   "source": [
    "cols = [x for x in df.columns if (x.__contains__('gb-') or x.__contains__('vdwaals')) and not x.__contains__('etot')]"
   ]
  },
  {
   "cell_type": "code",
   "execution_count": 6,
   "id": "601f3ec3",
   "metadata": {
    "pycharm": {
     "name": "#%%\n"
    }
   },
   "outputs": [],
   "source": [
    "sample_info = df[df['complex-name'] == '1a1e'][cols].to_numpy()\n",
    "sample_info = np.array(sample_info[0])"
   ]
  },
  {
   "cell_type": "code",
   "execution_count": 7,
   "id": "25840db9",
   "metadata": {
    "pycharm": {
     "name": "#%%\n"
    }
   },
   "outputs": [
    {
     "data": {
      "text/plain": [
       "array([ 7.03070120e+03, -1.35150036e+04, -3.34937910e+03,  5.65130000e+01,\n",
       "        7.18952230e+03, -1.33669577e+04, -3.37817030e+03,  5.62103000e+01,\n",
       "       -1.58821000e+02, -9.66715000e+01, -6.91305000e+01,  4.45980000e+00,\n",
       "       -1.95158170e+03, -1.90104860e+03, -1.14008000e+01])"
      ]
     },
     "execution_count": 7,
     "metadata": {},
     "output_type": "execute_result"
    }
   ],
   "source": [
    "sample_info"
   ]
  },
  {
   "cell_type": "code",
   "execution_count": 8,
   "id": "0d3122a3",
   "metadata": {
    "pycharm": {
     "name": "#%%\n"
    }
   },
   "outputs": [],
   "source": [
    "def convertBONDtoOneHotVector(bond_type):\n",
    "    BOND_DICT = {dir(rdkit.Chem.rdchem.BondType)[i]: i for i in range(22)}\n",
    "    one_hot = np.zeros(22)\n",
    "    one_hot[BOND_DICT[str(bond_type)]] = 1\n",
    "    return one_hot"
   ]
  },
  {
   "cell_type": "code",
   "execution_count": 9,
   "id": "c4b28fcf",
   "metadata": {
    "pycharm": {
     "name": "#%%\n"
    }
   },
   "outputs": [],
   "source": [
    "atom_features = []\n",
    "adjacency_list = []\n",
    "for atom in sample_structure.GetAtoms():\n",
    "    new_feature = get_atom_features(atom).tolist()\n",
    "    position = sample_structure.GetConformer().GetAtomPosition(atom.GetIdx())\n",
    "    new_feature += [atom.GetMass(), atom.GetAtomicNum()]\n",
    "    new_feature += [position.x, position.y, position.z]\n",
    "    atom_features.append(new_feature)\n",
    "atom_features = np.array(atom_features)"
   ]
  },
  {
   "cell_type": "code",
   "execution_count": 10,
   "id": "f4a4b714",
   "metadata": {
    "pycharm": {
     "name": "#%%\n"
    }
   },
   "outputs": [],
   "source": [
    "for atom in sample_structure.GetAtoms():\n",
    "    atom_bonds = []\n",
    "    for neighbor in atom.GetNeighbors():\n",
    "        bond_type = sample_structure.GetBondBetweenAtoms(atom.GetIdx(), neighbor.GetIdx()).GetBondType()\n",
    "        neighbor_idx = neighbor.GetIdx()\n",
    "        atom_bonds.append([neighbor_idx, convertBONDtoOneHotVector(bond_type)])\n",
    "    adjacency_list.append(atom_bonds)"
   ]
  },
  {
   "cell_type": "code",
   "execution_count": 11,
   "id": "507b445f",
   "metadata": {
    "pycharm": {
     "name": "#%%\n"
    }
   },
   "outputs": [
    {
     "name": "stdout",
     "output_type": "stream",
     "text": [
      "/home/ali/PycharmProjects/GBNN\n"
     ]
    }
   ],
   "source": [
    "%cd .."
   ]
  },
  {
   "cell_type": "code",
   "execution_count": 12,
   "id": "7cc1c408",
   "metadata": {
    "pycharm": {
     "name": "#%%\n"
    }
   },
   "outputs": [],
   "source": [
    "from PGGCN.layers import RuleGraphConvLayer, ConvLayer"
   ]
  },
  {
   "cell_type": "code",
   "execution_count": 13,
   "id": "2046ec8c",
   "metadata": {
    "pycharm": {
     "name": "#%%\n"
    }
   },
   "outputs": [],
   "source": [
    "class ConvLayer(tf.keras.Model):\n",
    "    def __init__(self, out_channel, num_features=40):\n",
    "        super(ConvLayer, self).__init__()\n",
    "        self.out_channel = out_channel\n",
    "        self.num_features = num_features\n",
    "        self.w = tf.Variable(tf.initializers.glorot_uniform()\n",
    "                             (shape=[num_features, out_channel]), shape=[num_features, out_channel], trainable=True)\n",
    "\n",
    "    def _call_single(self, inp):\n",
    "        features = inp[0]\n",
    "        out = [0] * self.out_channel\n",
    "        for feature in features:\n",
    "            feature = tf.reshape(feature, [1, -1])\n",
    "            out += tf.nn.softmax(tf.matmul(feature, self.w))\n",
    "        return tf.reshape(out, [-1])\n",
    "\n",
    "    def call(self, inputs):\n",
    "        output = []\n",
    "        for inp in inputs:\n",
    "            output.append(self._call_single(inp))\n",
    "        return tf.reshape(output, [len(inputs), -1])"
   ]
  },
  {
   "cell_type": "code",
   "execution_count": 14,
   "id": "0efa0c2b",
   "metadata": {
    "pycharm": {
     "name": "#%%\n"
    }
   },
   "outputs": [
    {
     "name": "stderr",
     "output_type": "stream",
     "text": [
      "2022-12-20 09:10:19.689283: W tensorflow/compiler/xla/stream_executor/platform/default/dso_loader.cc:64] Could not load dynamic library 'libcuda.so.1'; dlerror: libcuda.so.1: cannot open shared object file: No such file or directory\n",
      "2022-12-20 09:10:19.689318: W tensorflow/compiler/xla/stream_executor/cuda/cuda_driver.cc:265] failed call to cuInit: UNKNOWN ERROR (303)\n",
      "2022-12-20 09:10:19.689341: I tensorflow/compiler/xla/stream_executor/cuda/cuda_diagnostics.cc:156] kernel driver does not appear to be running on this host (ali-ThinkPad-E14-Gen-2): /proc/driver/nvidia/version does not exist\n",
      "2022-12-20 09:10:19.689678: I tensorflow/core/platform/cpu_feature_guard.cc:193] This TensorFlow binary is optimized with oneAPI Deep Neural Network Library (oneDNN) to use the following CPU instructions in performance-critical operations:  AVX2 FMA\n",
      "To enable them in other operations, rebuild TensorFlow with the appropriate compiler flags.\n"
     ]
    }
   ],
   "source": [
    "class PGGCN(tf.keras.Model):\n",
    "    def __init__(self, num_atom_features = 80, r_out_channel = 40, c_out_channel = 1024):\n",
    "        super().__init__()\n",
    "        self.ruleGraphConvLayer = RuleGraphConvLayer(r_out_channel, num_atom_features)\n",
    "        self.conv = ConvLayer(c_out_channel)\n",
    "        self.dense1 = tf.keras.layers.Dense(650, activation='sigmoid')\n",
    "        self.dense2 = tf.keras.layers.Dense(1, activation='relu')\n",
    "        self.dense3 = tf.keras.layers.Dense(1,\n",
    "                 kernel_initializer=tf.keras.initializers.Constant([.5, 1, 1, 1, 1, -1, -1, -1, -1, -1, -1, -1, -1, 1, -1, -1]),\n",
    "                 bias_initializer=tf.keras.initializers.Zeros(), activation=tf.keras.activations.relu)\n",
    "\n",
    "    def set_physics_info(self, info):\n",
    "        self.physics_info = info.reshape([-1, 15])\n",
    "\n",
    "    def addRule(self, rule, start_index, end_index = None):\n",
    "        self.ruleGraphConvLayer.addRule(rule, start_index, end_index)\n",
    "\n",
    "    def call(self, inputs):\n",
    "        x = self.ruleGraphConvLayer(inputs)\n",
    "        x = self.conv(x)\n",
    "        x = self.dense1(x)\n",
    "        model_var = self.dense2(x)\n",
    "        print(\"model var shape \", model_var.shape)\n",
    "        merged = tf.concat([model_var, self.physics_info], axis=1)\n",
    "        print(\"merged shape\", merged.shape)\n",
    "        print(\"model var\", model_var)\n",
    "        out = self.dense3(merged)\n",
    "        return out\n",
    "\n",
    "m = PGGCN()\n",
    "m.addRule(\"sum\", 0, 75)\n",
    "m.addRule(\"multiply\", 75, 77)\n",
    "m.addRule(\"distance\", 77, 80)\n",
    "m.set_physics_info(sample_info)"
   ]
  },
  {
   "cell_type": "code",
   "execution_count": 15,
   "id": "79ef3cab",
   "metadata": {
    "pycharm": {
     "name": "#%%\n"
    }
   },
   "outputs": [
    {
     "name": "stdout",
     "output_type": "stream",
     "text": [
      "model var shape  (1, 1)\n",
      "merged shape (1, 16)\n",
      "model var tf.Tensor([[0.3215393]], shape=(1, 1), dtype=float32)\n"
     ]
    }
   ],
   "source": [
    "out = m([[atom_features, adjacency_list]])"
   ]
  },
  {
   "cell_type": "code",
   "execution_count": 34,
   "id": "beaf4e68",
   "metadata": {
    "pycharm": {
     "name": "#%%\n"
    }
   },
   "outputs": [
    {
     "data": {
      "text/html": [
       "<div>\n",
       "<style scoped>\n",
       "    .dataframe tbody tr th:only-of-type {\n",
       "        vertical-align: middle;\n",
       "    }\n",
       "\n",
       "    .dataframe tbody tr th {\n",
       "        vertical-align: top;\n",
       "    }\n",
       "\n",
       "    .dataframe thead th {\n",
       "        text-align: right;\n",
       "    }\n",
       "</style>\n",
       "<table border=\"1\" class=\"dataframe\">\n",
       "  <thead>\n",
       "    <tr style=\"text-align: right;\">\n",
       "      <th></th>\n",
       "      <th>complex-name</th>\n",
       "      <th>gb-complex-etot</th>\n",
       "      <th>gb-complex-1-4-eel</th>\n",
       "      <th>gb-complex-eelec</th>\n",
       "      <th>gb-complex-egb</th>\n",
       "      <th>gb-complex-esurf</th>\n",
       "      <th>gb-protein-etot</th>\n",
       "      <th>gb-protein-1-4-eel</th>\n",
       "      <th>gb-protein-eelect</th>\n",
       "      <th>gb-protein-egb</th>\n",
       "      <th>...</th>\n",
       "      <th>pb-protein-epb</th>\n",
       "      <th>pb-protein-ecavity</th>\n",
       "      <th>pb-ligand-etot</th>\n",
       "      <th>pb-ligand-vdwaals</th>\n",
       "      <th>pb-ligand-eelec</th>\n",
       "      <th>pb-ligand-epb</th>\n",
       "      <th>pb-ligand-ecavity</th>\n",
       "      <th>ddg</th>\n",
       "      <th>enthalpy-gb</th>\n",
       "      <th>entropy</th>\n",
       "    </tr>\n",
       "  </thead>\n",
       "  <tbody>\n",
       "    <tr>\n",
       "      <th>1</th>\n",
       "      <td>1a1e</td>\n",
       "      <td>-9777.1684</td>\n",
       "      <td>7030.7012</td>\n",
       "      <td>-13515.0036</td>\n",
       "      <td>-3349.3791</td>\n",
       "      <td>56.513</td>\n",
       "      <td>-9499.3955</td>\n",
       "      <td>7189.5223</td>\n",
       "      <td>-13366.9577</td>\n",
       "      <td>-3378.1703</td>\n",
       "      <td>...</td>\n",
       "      <td>-3333.0961</td>\n",
       "      <td>56.2103</td>\n",
       "      <td>-173.519</td>\n",
       "      <td>-11.4008</td>\n",
       "      <td>-96.6715</td>\n",
       "      <td>-69.9064</td>\n",
       "      <td>4.4598</td>\n",
       "      <td>-8.289306</td>\n",
       "      <td>3.2580999999991</td>\n",
       "      <td>11.5474063349991</td>\n",
       "    </tr>\n",
       "  </tbody>\n",
       "</table>\n",
       "<p>1 rows × 34 columns</p>\n",
       "</div>"
      ],
      "text/plain": [
       "  complex-name  gb-complex-etot  gb-complex-1-4-eel  gb-complex-eelec  \\\n",
       "1         1a1e       -9777.1684           7030.7012       -13515.0036   \n",
       "\n",
       "   gb-complex-egb  gb-complex-esurf  gb-protein-etot  gb-protein-1-4-eel  \\\n",
       "1      -3349.3791            56.513       -9499.3955           7189.5223   \n",
       "\n",
       "   gb-protein-eelect  gb-protein-egb  ...  pb-protein-epb  pb-protein-ecavity  \\\n",
       "1        -13366.9577      -3378.1703  ...      -3333.0961             56.2103   \n",
       "\n",
       "   pb-ligand-etot  pb-ligand-vdwaals  pb-ligand-eelec  pb-ligand-epb  \\\n",
       "1        -173.519           -11.4008         -96.6715       -69.9064   \n",
       "\n",
       "   pb-ligand-ecavity       ddg      enthalpy-gb           entropy  \n",
       "1             4.4598 -8.289306  3.2580999999991  11.5474063349991  \n",
       "\n",
       "[1 rows x 34 columns]"
      ]
     },
     "execution_count": 34,
     "metadata": {},
     "output_type": "execute_result"
    }
   ],
   "source": [
    "df[df['complex-name'] == '1a1e']"
   ]
  },
  {
   "cell_type": "code",
   "execution_count": 16,
   "id": "3a448a4a",
   "metadata": {
    "pycharm": {
     "name": "#%%\n"
    }
   },
   "outputs": [
    {
     "data": {
      "text/plain": [
       "<tf.Tensor: shape=(1, 1), dtype=float32, numpy=array([[3.4177675]], dtype=float32)>"
      ]
     },
     "execution_count": 16,
     "metadata": {},
     "output_type": "execute_result"
    }
   ],
   "source": [
    "out"
   ]
  }
 ],
 "metadata": {
  "kernelspec": {
   "display_name": "Python 3 (ipykernel)",
   "language": "python",
   "name": "python3"
  },
  "language_info": {
   "codemirror_mode": {
    "name": "ipython",
    "version": 3
   },
   "file_extension": ".py",
   "mimetype": "text/x-python",
   "name": "python",
   "nbconvert_exporter": "python",
   "pygments_lexer": "ipython3",
   "version": "3.8.10"
  }
 },
 "nbformat": 4,
 "nbformat_minor": 5
}