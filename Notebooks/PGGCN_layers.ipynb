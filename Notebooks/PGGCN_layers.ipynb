{
 "cells": [
  {
   "cell_type": "code",
   "execution_count": 1,
   "metadata": {},
   "outputs": [
    {
     "name": "stderr",
     "output_type": "stream",
     "text": [
      "2021-12-16 20:13:14.871565: W tensorflow/stream_executor/platform/default/dso_loader.cc:64] Could not load dynamic library 'libcudart.so.11.0'; dlerror: libcudart.so.11.0: cannot open shared object file: No such file or directory\n",
      "2021-12-16 20:13:14.871606: I tensorflow/stream_executor/cuda/cudart_stub.cc:29] Ignore above cudart dlerror if you do not have a GPU set up on your machine.\n"
     ]
    }
   ],
   "source": [
    "import tensorflow as tf\n",
    "import numpy as np"
   ]
  },
  {
   "cell_type": "code",
   "execution_count": 2,
   "metadata": {},
   "outputs": [],
   "source": [
    "import pickle"
   ]
  },
  {
   "cell_type": "code",
   "execution_count": 3,
   "metadata": {},
   "outputs": [],
   "source": [
    "with open('../X_smallset.pkl', 'rb') as inp:\n",
    "    inputs = pickle.load(inp)"
   ]
  },
  {
   "cell_type": "code",
   "execution_count": 4,
   "metadata": {},
   "outputs": [],
   "source": [
    "single_input = inputs[0]"
   ]
  },
  {
   "cell_type": "code",
   "execution_count": 5,
   "metadata": {},
   "outputs": [],
   "source": [
    "test_input = [np.array([[0, 1, 1, 0, 0, 1.5],\n",
    "             [1, 0, 0, 1, 0, 1.2],\n",
    "             [1, 0, 0, 1, 0, 1.4]]),\n",
    "             [[[1, [0, 0, 1]], [2, [0, 1, 0]]],\n",
    "             [[0, [0, 0, 1]]],\n",
    "             [[0, [0, 1, 0]]]],\n",
    "             np.array([3, 2, 4, 7])]"
   ]
  },
  {
   "cell_type": "code",
   "execution_count": 6,
   "metadata": {},
   "outputs": [],
   "source": [
    "features = single_input[0]\n",
    "adjacency_list = single_input[1]\n",
    "physics_features = single_input[2]"
   ]
  },
  {
   "cell_type": "code",
   "execution_count": 8,
   "metadata": {},
   "outputs": [],
   "source": [
    "w_s = tf.Variable(initial_value=tf.initializers.glorot_uniform()(shape=[81, 80], dtype='double'),shape=[81, 80])\n",
    "w_n = tf.Variable(initial_value=tf.initializers.glorot_uniform()(shape=[103, 80], dtype='double'),shape=[103, 80])"
   ]
  },
  {
   "cell_type": "code",
   "execution_count": 9,
   "metadata": {},
   "outputs": [
    {
     "data": {
      "text/plain": [
       "array([0.031, 1.55 , 0.452])"
      ]
     },
     "execution_count": 9,
     "metadata": {},
     "output_type": "execute_result"
    }
   ],
   "source": [
    "features[0][-3:]"
   ]
  },
  {
   "cell_type": "code",
   "execution_count": 10,
   "metadata": {},
   "outputs": [],
   "source": [
    "combination_orders = ([[0, -6], tf.math.add], [[-6, -3], 'position'], [[-3], tf.multiply])"
   ]
  },
  {
   "cell_type": "code",
   "execution_count": 11,
   "metadata": {},
   "outputs": [],
   "source": [
    "def AtomDistance(x, y):\n",
    "    return tf.sqrt(tf.reduce_sum(tf.square(x - y)))"
   ]
  },
  {
   "cell_type": "code",
   "execution_count": 12,
   "metadata": {},
   "outputs": [],
   "source": [
    "new_features = len(features)*[None]\n",
    "for i, adj in enumerate(adjacency_list):\n",
    "    self_features = tf.reshape(features[i], [1, 81])\n",
    "    self_conv_features = tf.matmul(self_features, w_s)\n",
    "    new_features[i] = self_conv_features\n",
    "    for neighbour in adj:\n",
    "        neighbour_features = features[neighbour[0]]\n",
    "        neighbour_bond = neighbour[1]\n",
    "        new_ordered_features = []\n",
    "        distance = None\n",
    "        for j, order in enumerate(combination_orders):\n",
    "            order_function = order[1]\n",
    "            indices = order[0]\n",
    "            if j == len(combination_orders) - 1 and len(indices) == 1:\n",
    "                new_ordered_features.append(order_function(self_features[0][indices[0]:], \n",
    "                                                                 neighbour_features[indices[0]:]))\n",
    "            else:\n",
    "                if order_function == 'position':\n",
    "                    distance = AtomDistance(self_features[0][indices[0]:indices[1]], \n",
    "                                                                   neighbour_features[indices[0]:indices[1]])\n",
    "                    new_ordered_features.append(neighbour_features[indices[0]:indices[1]])\n",
    "                else:\n",
    "                    new_ordered_features.append(order_function(self_features[0][indices[0]:indices[1]], \n",
    "                                                                   neighbour_features[indices[0]:indices[1]]))\n",
    "        new_ordered_features = tf.concat(new_ordered_features, axis=0)\n",
    "        if distance != None:\n",
    "            new_ordered_features /= distance**2\n",
    "        new_ordered_features = tf.concat([new_ordered_features, neighbour_bond], axis=0)\n",
    "        new_ordered_features = tf.reshape(new_ordered_features, [1, 103])\n",
    "        new_features[i] += tf.matmul(new_ordered_features, w_n)"
   ]
  },
  {
   "cell_type": "code",
   "execution_count": 13,
   "metadata": {},
   "outputs": [],
   "source": [
    "import tensorflow as tf\n",
    "\n",
    "class MultiGraphConvLayer(tf.keras.Model):\n",
    "    def __init__(self,\n",
    "                 out_channel,\n",
    "                 num_features=81,\n",
    "                 num_bond=22,\n",
    "                 activation_fn=None,\n",
    "                 combination_rules = []\n",
    "                 ):\n",
    "        super(MultiGraphConvLayer, self).__init__()\n",
    "        self.out_channel = out_channel\n",
    "        self.num_features = num_features\n",
    "        self.num_bond = num_bond\n",
    "        self.activation_fn = activation_fn\n",
    "        self.combination_rules = combination_rules\n",
    "        self.w_s = tf.Variable(initial_value=tf.initializers.glorot_uniform()\n",
    "        (shape=[num_features, out_channel]), shape=[num_features, out_channel], trainable=True)\n",
    "        self.w_n = tf.Variable(initial_value=tf.initializers.glorot_uniform()\n",
    "        (shape=[num_features + num_bond, out_channel]),\n",
    "                               shape=[num_features + num_bond, out_channel], trainable=True)\n",
    "\n",
    "    def AtomDistance(self, x, y):\n",
    "        return tf.sqrt(tf.reduce_sum(tf.square(x - y)))\n",
    "\n",
    "    def addRule(self, rule, start_index, end_index = None):\n",
    "        rules_dict = {\n",
    "            \"sum\": tf.math.add,\n",
    "            \"multiply\": tf.math.multiply,\n",
    "            \"distance\": \"distance\",\n",
    "            \"divide\": tf.math.divide,\n",
    "            \"subtract\": tf.math.subtract,\n",
    "        }\n",
    "        if type(rule) == str:\n",
    "            rule = rules_dict[rule]\n",
    "        if end_index == None:\n",
    "            self.combination_rules.append([[start_index], rule])\n",
    "        else:\n",
    "            self.combination_rules.append([[start_index, end_index], rule])\n",
    "\n",
    "    def _call_single(self, inp):\n",
    "        features = inp[0]\n",
    "        adjacency_list = inp[1]\n",
    "        new_features = len(features) * [None]\n",
    "        for i, adj in enumerate(adjacency_list):\n",
    "            self_features = tf.reshape(features[i], [1, self.num_features])\n",
    "            self_conv_features = tf.matmul(self_features, self.w_s)\n",
    "            new_features[i] = self_conv_features\n",
    "            for neighbour in adj:\n",
    "                neighbour_features = features[neighbour[0]]\n",
    "                neighbour_bond = neighbour[1]\n",
    "                new_ordered_features = []\n",
    "                distance = None\n",
    "                for j, rule in enumerate(self.combination_rules):\n",
    "                    rule_function = rule[1]\n",
    "                    indices = rule[0]\n",
    "                    if j == len(self.combination_rules) - 1 and len(indices) == 1:\n",
    "                        new_ordered_features.append(rule_function(self_features[0][indices[0]:],\n",
    "                                                                  neighbour_features[indices[0]:]))\n",
    "                    else:\n",
    "                        if rule_function == 'distance':\n",
    "                            distance = self.AtomDistance(x=self_features[0][indices[0]:indices[1]],\n",
    "                                                    y=neighbour_features[indices[0]:indices[1]])\n",
    "                            new_ordered_features.append(neighbour_features[indices[0]:indices[1]])\n",
    "                        else:\n",
    "                            new_ordered_features.append(rule_function(self_features[0][indices[0]:indices[1]],\n",
    "                                                                      neighbour_features[indices[0]:indices[1]]))\n",
    "                new_ordered_features = tf.concat(new_ordered_features, axis=0)\n",
    "                if distance != None:\n",
    "                    new_ordered_features /= distance ** 2\n",
    "                new_ordered_features = tf.concat([new_ordered_features, neighbour_bond], axis=0)\n",
    "                new_ordered_features = tf.reshape(new_ordered_features, [1, self.num_features + self.num_bond])\n",
    "                new_features[i] += tf.matmul(new_ordered_features, self.w_n)\n",
    "                new_features[i] = new_features[i][0]\n",
    "        return ([tf.Variable(new_features, trainable=False), adjacency_list, inp[2]])\n",
    "\n",
    "    def call(self, inputs):\n",
    "        output = []\n",
    "        for inp in inputs:\n",
    "            output.append(self._call_single(inp))\n",
    "        return output"
   ]
  },
  {
   "cell_type": "code",
   "execution_count": 14,
   "metadata": {},
   "outputs": [],
   "source": [
    "combination_orders = ([[0, -6], tf.math.add], [[-6, -3], 'distance'], [[-3], tf.multiply])\n",
    "m = MultiGraphConvLayer(80)\n",
    "m.addRule(\"sum\", 0, -6)\n",
    "m.addRule(\"distance\", -6, -3)\n",
    "m.addRule(\"multiply\", -3)"
   ]
  },
  {
   "cell_type": "code",
   "execution_count": 15,
   "metadata": {},
   "outputs": [],
   "source": [
    "outs = m(inputs)"
   ]
  },
  {
   "cell_type": "code",
   "execution_count": 67,
   "metadata": {},
   "outputs": [],
   "source": [
    "##!!!!!!!!!!!!! new inputs\n",
    "inputs = outs\n",
    "features = inputs[0]\n",
    "adj_list = inputs[1]\n",
    "new_features = len(features) * [None]"
   ]
  },
  {
   "cell_type": "code",
   "execution_count": 66,
   "metadata": {},
   "outputs": [],
   "source": [
    "w_s = tf.Variable(initial_value=tf.initializers.glorot_uniform()\n",
    "        (shape=[80, 50]), shape=[80, 50], trainable=True)\n",
    "w_n = tf.Variable(initial_value=tf.initializers.glorot_uniform()\n",
    "        (shape=[80, 50]), shape=[80, 50], trainable=True)"
   ]
  },
  {
   "cell_type": "code",
   "execution_count": 78,
   "metadata": {},
   "outputs": [],
   "source": [
    "import tensorflow as tf\n",
    "\n",
    "class GraphConvLayer(tf.keras.Model):\n",
    "    def __init__(self,\n",
    "                 out_channel,\n",
    "                 num_features=80,\n",
    "                 activation_fn=tf.keras.activations.relu,\n",
    "                 ):\n",
    "        super(GraphConvLayer, self).__init__()\n",
    "        self.out_channel = out_channel\n",
    "        self.num_features = num_features\n",
    "        self.activation_fn = activation_fn\n",
    "        self.w_s = tf.Variable(initial_value=tf.initializers.glorot_uniform()\n",
    "        (shape=[num_features, out_channel]), shape=[num_features, out_channel], trainable=True)\n",
    "        self.w_n = tf.Variable(initial_value=tf.initializers.glorot_uniform()\n",
    "        (shape=[num_features, out_channel]),\n",
    "                               shape=[num_features, out_channel], trainable=True)\n",
    "\n",
    "\n",
    "    def _call_single(self, inp):\n",
    "        features = inp[0]\n",
    "        adjacency_list = inp[1]\n",
    "        new_features = features.shape[0] * [None]\n",
    "        for i, adj in enumerate(adjacency_list):\n",
    "            self_features = tf.reshape(features[i], [1, self.num_features])\n",
    "            self_conv_features = tf.matmul(self_features, self.w_s)\n",
    "            new_features[i] = self_conv_features\n",
    "            for neighbour in adj:\n",
    "                neighbour_features = features[neighbour[0]]\n",
    "                neighbour_bond = neighbour[1]\n",
    "                neighbour_features = tf.reshape(neighbour_features, [1, self.num_features])\n",
    "                new_features[i] += tf.matmul(neighbour_features, self.w_n)\n",
    "                new_features[i] = new_features[i][0]\n",
    "                if self.activation_fn != None:\n",
    "                    new_features[i] = self.activation_fn(new_features[i])\n",
    "        return ([tf.Variable(new_features, trainable=False), adjacency_list, inp[2]])\n",
    "\n",
    "    def call(self, inputs):\n",
    "        output = []\n",
    "        for inp in inputs:\n",
    "            output.append(self._call_single(inp))\n",
    "        return output"
   ]
  },
  {
   "cell_type": "code",
   "execution_count": 79,
   "metadata": {},
   "outputs": [],
   "source": [
    "gcl = GraphConvLayer(40)"
   ]
  },
  {
   "cell_type": "code",
   "execution_count": 80,
   "metadata": {},
   "outputs": [],
   "source": [
    "outs = gcl(inputs)"
   ]
  }
 ],
 "metadata": {
  "kernelspec": {
   "display_name": "Python 3 (ipykernel)",
   "language": "python",
   "name": "python3"
  },
  "language_info": {
   "codemirror_mode": {
    "name": "ipython",
    "version": 3
   },
   "file_extension": ".py",
   "mimetype": "text/x-python",
   "name": "python",
   "nbconvert_exporter": "python",
   "pygments_lexer": "ipython3",
   "version": "3.8.10"
  }
 },
 "nbformat": 4,
 "nbformat_minor": 4
}
