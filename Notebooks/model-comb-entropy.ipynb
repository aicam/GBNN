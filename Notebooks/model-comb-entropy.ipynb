{
 "cells": [
  {
   "cell_type": "code",
   "execution_count": 1,
   "metadata": {},
   "outputs": [],
   "source": [
    "import rdkit\n",
    "import deepchem as dc\n",
    "import pandas as pd\n",
    "import numpy as np\n",
    "import tensorflow as tf\n",
    "import sklearn\n",
    "max_epoch = 100\n",
    "# optimizer = tf.keras.optimizers.Adam(0.001)\n",
    "# optimizer = tf.keras.optimizers.Adagrad(0.003)"
   ]
  },
  {
   "cell_type": "code",
   "execution_count": 2,
   "metadata": {},
   "outputs": [
    {
     "data": {
      "text/plain": [
       "'2021.03.5'"
      ]
     },
     "execution_count": 2,
     "metadata": {},
     "output_type": "execute_result"
    }
   ],
   "source": [
    "rdkit.__version__"
   ]
  },
  {
   "cell_type": "code",
   "execution_count": 3,
   "metadata": {},
   "outputs": [
    {
     "data": {
      "text/plain": [
       "'2.5.0'"
      ]
     },
     "execution_count": 3,
     "metadata": {},
     "output_type": "execute_result"
    }
   ],
   "source": [
    "dc.__version__"
   ]
  },
  {
   "cell_type": "code",
   "execution_count": 4,
   "metadata": {},
   "outputs": [
    {
     "data": {
      "text/plain": [
       "'1.19.5'"
      ]
     },
     "execution_count": 4,
     "metadata": {},
     "output_type": "execute_result"
    }
   ],
   "source": [
    "np.__version__"
   ]
  },
  {
   "cell_type": "code",
   "execution_count": 5,
   "metadata": {},
   "outputs": [
    {
     "data": {
      "text/plain": [
       "'2.6.0'"
      ]
     },
     "execution_count": 5,
     "metadata": {},
     "output_type": "execute_result"
    }
   ],
   "source": [
    "tf.__version__"
   ]
  },
  {
   "cell_type": "code",
   "execution_count": 6,
   "metadata": {},
   "outputs": [],
   "source": [
    "df = pd.read_csv('molecule_parameters.csv')\n",
    "df.dropna(how='any', inplace=True)"
   ]
  },
  {
   "cell_type": "code",
   "execution_count": 7,
   "metadata": {},
   "outputs": [
    {
     "data": {
      "text/plain": [
       "2.697637870606162"
      ]
     },
     "execution_count": 7,
     "metadata": {},
     "output_type": "execute_result"
    }
   ],
   "source": [
    "np.std(df.ddg)"
   ]
  },
  {
   "cell_type": "code",
   "execution_count": 219,
   "metadata": {},
   "outputs": [
    {
     "data": {
      "text/plain": [
       "2.7570329320098512"
      ]
     },
     "execution_count": 219,
     "metadata": {},
     "output_type": "execute_result"
    }
   ],
   "source": [
    "np.sqrt(df['entropy'].astype(np.float).mean())"
   ]
  },
  {
   "cell_type": "code",
   "execution_count": 221,
   "metadata": {},
   "outputs": [],
   "source": [
    "# df['entropy'].astype(np.float) + np.random.normal(np.sqrt(df['entropy'].astype(np.float).mean()), 1, len(df))"
   ]
  },
  {
   "cell_type": "code",
   "execution_count": 8,
   "metadata": {},
   "outputs": [],
   "source": [
    "# ddg = enthalpy - entropy\n",
    "# entropy = enthalpy - ddg\n",
    "# dh complex - (dh p + dh L)\n",
    "# \n",
    "# df['entropy'] = df.enthalpy - df.ddg\n",
    "# df.head()"
   ]
  },
  {
   "cell_type": "markdown",
   "metadata": {},
   "source": [
    "<h1>Reading Mobley PDB files</h1>\n",
    "<p>Here each PDB file will be read and saved in Mol data type defined in RDKit and used by DeepChem</p>"
   ]
  },
  {
   "cell_type": "code",
   "execution_count": 9,
   "metadata": {},
   "outputs": [
    {
     "name": "stdout",
     "output_type": "stream",
     "text": [
      "1bai\n",
      "1bdq\n",
      "1bnv\n",
      "1a1e\n",
      "1bnq\n",
      "1bn4\n",
      "1bn3\n",
      "1bhf\n",
      "1c87\n",
      "1c1r\n",
      "1bgq\n",
      "1c1u\n",
      "1c86\n",
      "1c88\n",
      "1a4r\n",
      "1bnw\n",
      "1ai4\n",
      "1b6l\n",
      "1ajp\n",
      "1b6k\n",
      "1d3d\n",
      "1bp0\n",
      "1b5j\n",
      "1ceb\n",
      "1aid\n",
      "1b3f\n",
      "1b3h\n",
      "1ciz\n",
      "1ajx\n",
      "1ajq\n",
      "1b6j\n",
      "1ajv\n",
      "1ai5\n",
      "1b0h\n",
      "1b3g\n",
      "1b52\n",
      "1d3p\n",
      "1b55\n",
      "1add\n",
      "1amw\n",
      "1b46\n",
      "1b4z\n",
      "1b4h\n",
      "1adl\n",
      "1b40\n",
      "1d4l\n",
      "1cbx\n",
      "1d4k\n",
      "1b8y\n",
      "1d7j\n",
      "1b7h\n",
      "1d4p\n",
      "1bq4\n",
      "1bwa\n",
      "1d4y\n",
      "1c5n\n",
      "1bcd\n",
      "1c5s\n",
      "1a99\n",
      "1c3x\n",
      "1a30\n",
      "1c5o\n",
      "1bjv\n",
      "1ax0\n",
      "1a4w\n",
      "1bnu\n",
      "1c84\n",
      "1ctt\n",
      "1c70\n",
      "1c83\n",
      "1atl\n",
      "1a4k\n",
      "1bnn\n",
      "1bma\n",
      "1dgm\n",
      "1dhi\n",
      "1c4u\n",
      "1bn1\n",
      "1ctu\n",
      "1bm7\n",
      "1bnt\n",
      "1bhx\n",
      "1b57\n",
      "1d9i\n",
      "1b3l\n",
      "1b32\n",
      "1b6h\n",
      "1ai7\n",
      "1bzc\n",
      "1cet\n",
      "1d6v\n",
      "1b5i\n",
      "1b58\n",
      "1afk\n",
      "1d09\n",
      "1bv7\n",
      "1afl\n",
      "1bzy\n",
      "1ajn\n",
      "1alw\n",
      "1bv9\n",
      "1b51\n",
      "1b05\n",
      "1aj7\n",
      "1d6w\n",
      "1b5h\n",
      "1b9j\n",
      "1d2e\n",
      "1b8n\n",
      "1aaq\n",
      "1cnx\n",
      "1cgl\n",
      "1bxr\n",
      "1b1h\n",
      "1bty\n",
      "1br6\n",
      "1b8o\n",
      "1bwb\n",
      "1cnw\n",
      "1ado\n",
      "1cny\n",
      "1d7i\n",
      "1b2h\n",
      "1apv\n",
      "1c5c\n",
      "1bcu\n",
      "1c5q\n",
      "1df8\n",
      "1c5x\n",
      "1cps\n",
      "1bju\n",
      "1a9m\n",
      "1avn\n",
      "1det\n",
      "1c5y\n",
      "1a94\n",
      "1a69\n",
      "1c5p\n"
     ]
    }
   ],
   "source": [
    "# Dictionary with complex names as keys and molecule as values\n",
    "PDBs = {}\n",
    "from os import listdir\n",
    "from os.path import isfile, join\n",
    "# mypath = '../../../../../../Documents/GitHub/Binding-Free-Energy-Prediction-Host-Guest-System/pdbbind/raw-data/'\n",
    "mypath = '../dataset/'\n",
    "onlyfiles = [f for f in listdir(mypath) if f not in ('.DS_Store') and f in (df['complex-name'].tolist())]\n",
    "for f in onlyfiles:\n",
    "    print(f)\n",
    "    PDBs.update({f: rdkit.Chem.rdmolfiles.MolFromPDBFile(mypath + f + '/com_new.pqr')})\n",
    "\n",
    "for key, value in dict(PDBs).items():\n",
    "    if value is None:\n",
    "        del PDBs[key]\n",
    "        "
   ]
  },
  {
   "cell_type": "code",
   "execution_count": 10,
   "metadata": {},
   "outputs": [],
   "source": [
    "# Randomly shuffling the PDBs\n",
    "import random\n",
    "l = list(PDBs.items())\n",
    "random.shuffle(l)\n",
    "PDBs = dict(l)"
   ]
  },
  {
   "cell_type": "markdown",
   "metadata": {},
   "source": [
    "<h1>Featurizing</h1>\n",
    "<p>GraphConv model needs ConvMolFeaturizer</p>"
   ]
  },
  {
   "cell_type": "code",
   "execution_count": 11,
   "metadata": {},
   "outputs": [],
   "source": [
    "featurizer = dc.feat.ConvMolFeaturizer(per_atom_fragmentation=False)\n",
    "# featurizer = dc.feat.MolGraphConvFeaturizer(use_)\n",
    "TRAIN_SET = .7\n",
    "VAL_SET = .3"
   ]
  },
  {
   "cell_type": "code",
   "execution_count": 12,
   "metadata": {},
   "outputs": [
    {
     "name": "stdout",
     "output_type": "stream",
     "text": [
      "0.3\n"
     ]
    }
   ],
   "source": [
    "print(VAL_SET)"
   ]
  },
  {
   "cell_type": "code",
   "execution_count": 13,
   "metadata": {},
   "outputs": [],
   "source": [
    "# PDBs.pop('1dl7',None)"
   ]
  },
  {
   "cell_type": "code",
   "execution_count": 14,
   "metadata": {},
   "outputs": [],
   "source": [
    "# # Test on a few pdb firs\n",
    "# PDB_subset = {key:PDBs[key] for key in ['1bai',\n",
    "# '1bdq',\n",
    "# '1bnv',\n",
    "# '1a1e',\n",
    "# '1bnq',\n",
    "# '1bn4',\n",
    "# '1bn3',\n",
    "# '1bhf',\n",
    "# '1c87',\n",
    "# '1c1r']}"
   ]
  },
  {
   "cell_type": "code",
   "execution_count": 15,
   "metadata": {},
   "outputs": [],
   "source": [
    "# PDB_subset.pop('',None)\n",
    "# X = []\n",
    "# X_ids = []\n",
    "# # one_add = 0 if len(PDBs.keys()) % 2 == 0 else 1\n",
    "# for k in PDB_subset.keys():\n",
    "#     X_ids.append(k)\n",
    "#     X.append(featurizer.featurize(PDB_subset[k]))\n",
    "# train_split_index = int(len(X) * TRAIN_SET)\n",
    "# val_split_index = int(len(X) * VAL_SET)\n",
    "# X = [x[0] for x in X]\n",
    "# X_train_featurized = X[:train_split_index]\n",
    "# # X_val_featurized = X[train_split_index: (train_split_index + val_split_index)]\n",
    "# X_val_featurized = X[train_split_index:]\n",
    "# X_test_featurized = X[train_split_index:]\n"
   ]
  },
  {
   "cell_type": "code",
   "execution_count": 16,
   "metadata": {},
   "outputs": [],
   "source": [
    "PDBs.pop('',None)\n",
    "X = []\n",
    "X_ids = []\n",
    "# one_add = 0 if len(PDBs.keys()) % 2 == 0 else 1\n",
    "for k in PDBs.keys():\n",
    "    X_ids.append(k)\n",
    "    X.append(featurizer.featurize(PDBs[k]))\n",
    "train_split_index = int(len(X) * TRAIN_SET)\n",
    "val_split_index = int(len(X) * VAL_SET)\n",
    "X = [x[0] for x in X]\n",
    "X_train_featurized = X[:train_split_index]\n",
    "# X_val_featurized = X[train_split_index: (train_split_index + val_split_index)]\n",
    "X_val_featurized = X[train_split_index:]\n",
    "X_test_featurized = X[train_split_index:]"
   ]
  },
  {
   "cell_type": "code",
   "execution_count": 17,
   "metadata": {},
   "outputs": [],
   "source": [
    "host_names = [i.split('-')[0] for i in X_ids]\n",
    "# guest_names = ['guest-' + (i.split('-')[1].replace('s', '')) for i in X_ids]"
   ]
  },
  {
   "cell_type": "code",
   "execution_count": 18,
   "metadata": {},
   "outputs": [],
   "source": [
    "# train\n",
    "pdb_names_train = host_names[:train_split_index]\n",
    "# guest_names_train = guest_names[:train_split_index]\n",
    "# Val\n",
    "# host_names_val = host_names[train_split_index:(train_split_index + val_split_index)]\n",
    "# guest_names_val = guest_names[train_split_index:(train_split_index + val_split_index)]\n",
    "pdb_names_val = host_names[train_split_index:]\n",
    "# guest_names_val = guest_names[train_split_index:]\n",
    "# test\n",
    "pdb_names_test = host_names[train_split_index:]\n",
    "# guest_names_test = guest_names[train_split_index:]\n"
   ]
  },
  {
   "cell_type": "code",
   "execution_count": 19,
   "metadata": {},
   "outputs": [],
   "source": [
    "x_add_train, x_add_val, x_add_test, y_train, y_val, y_test = [], [], [], [], [], []\n",
    "# Train\n",
    "for i in range(len(pdb_names_train)):\n",
    "    new_df = df[(df['complex-name'] == pdb_names_train[i])]\n",
    "    y_train.append(new_df['ddg'].to_numpy()[0])\n",
    "    x_add_train.append(new_df[[c for c in df.columns if ('etot' not in c) and ('delta' not in c) and\n",
    "                               ('gb-' in c or 'vdwaals' in c or 'entropy' in c)]].to_numpy()[0])\n",
    "y_train = np.array(y_train)\n",
    "# Val\n",
    "for i in range(len(pdb_names_val)):\n",
    "    new_df = df[(df['complex-name'] == pdb_names_val[i])]\n",
    "    y_val.append(new_df['ddg'].to_numpy()[0])\n",
    "    x_add_val.append(new_df[[c for c in df.columns if ('etot' not in c) and ('delta' not in c)\n",
    "                         and ('gb-' in c or 'vdwaals' in c or 'entropy' in c)]].to_numpy()[0])\n",
    "y_val = np.array(y_val)\n",
    "\n",
    "# Test\n",
    "for i in range(len(pdb_names_test)):\n",
    "    new_df = df[(df['complex-name'] == pdb_names_test[i])]\n",
    "    y_test.append(new_df['ddg'].to_numpy()[0])\n",
    "    x_add_test.append(new_df[[c for c in df.columns if ('etot' not in c) and ('delta' not in c)\n",
    "                         and ('gb-' in c or 'vdwaals' in c or 'entropy' in c)]].to_numpy()[0])\n",
    "y_test = np.array(y_test)"
   ]
  },
  {
   "cell_type": "code",
   "execution_count": 20,
   "metadata": {},
   "outputs": [
    {
     "data": {
      "text/html": [
       "<div>\n",
       "<style scoped>\n",
       "    .dataframe tbody tr th:only-of-type {\n",
       "        vertical-align: middle;\n",
       "    }\n",
       "\n",
       "    .dataframe tbody tr th {\n",
       "        vertical-align: top;\n",
       "    }\n",
       "\n",
       "    .dataframe thead th {\n",
       "        text-align: right;\n",
       "    }\n",
       "</style>\n",
       "<table border=\"1\" class=\"dataframe\">\n",
       "  <thead>\n",
       "    <tr style=\"text-align: right;\">\n",
       "      <th></th>\n",
       "      <th>gb-complex-1-4-eel</th>\n",
       "      <th>gb-complex-eelec</th>\n",
       "      <th>gb-complex-egb</th>\n",
       "      <th>gb-complex-esurf</th>\n",
       "      <th>gb-protein-1-4-eel</th>\n",
       "      <th>gb-protein-eelect</th>\n",
       "      <th>gb-protein-egb</th>\n",
       "      <th>gb-protein-esurf</th>\n",
       "      <th>gb-ligand-1-4-eel</th>\n",
       "      <th>gb-ligand-eelec</th>\n",
       "      <th>gb-ligand-egb</th>\n",
       "      <th>gb-ligand-esurf</th>\n",
       "      <th>pb-complex-vdwaals</th>\n",
       "      <th>pb-protein-vdwaals</th>\n",
       "      <th>pb-ligand-vdwaals</th>\n",
       "      <th>entropy</th>\n",
       "    </tr>\n",
       "  </thead>\n",
       "  <tbody>\n",
       "    <tr>\n",
       "      <th>136</th>\n",
       "      <td>20732.9098</td>\n",
       "      <td>-30373.2656</td>\n",
       "      <td>-4428.3601</td>\n",
       "      <td>101.9718</td>\n",
       "      <td>20728.906</td>\n",
       "      <td>-30323.7424</td>\n",
       "      <td>-4383.172</td>\n",
       "      <td>102.3131</td>\n",
       "      <td>4.0038</td>\n",
       "      <td>-46.6953</td>\n",
       "      <td>-97.3686</td>\n",
       "      <td>3.4958</td>\n",
       "      <td>-525.2142</td>\n",
       "      <td>-477.6023</td>\n",
       "      <td>-4.0711</td>\n",
       "      <td>10.49877001</td>\n",
       "    </tr>\n",
       "  </tbody>\n",
       "</table>\n",
       "</div>"
      ],
      "text/plain": [
       "     gb-complex-1-4-eel  gb-complex-eelec  gb-complex-egb  gb-complex-esurf  \\\n",
       "136          20732.9098       -30373.2656      -4428.3601          101.9718   \n",
       "\n",
       "     gb-protein-1-4-eel  gb-protein-eelect  gb-protein-egb  gb-protein-esurf  \\\n",
       "136           20728.906        -30323.7424       -4383.172          102.3131   \n",
       "\n",
       "     gb-ligand-1-4-eel  gb-ligand-eelec  gb-ligand-egb  gb-ligand-esurf  \\\n",
       "136             4.0038         -46.6953       -97.3686           3.4958   \n",
       "\n",
       "     pb-complex-vdwaals  pb-protein-vdwaals  pb-ligand-vdwaals      entropy  \n",
       "136           -525.2142           -477.6023            -4.0711  10.49877001  "
      ]
     },
     "execution_count": 20,
     "metadata": {},
     "output_type": "execute_result"
    }
   ],
   "source": [
    "new_df[[c for c in df.columns if ('etot' not in c) and ('delta' not in c)\n",
    "                         and ('gb-' in c or 'vdwaals' in c or 'entropy' in c)]]"
   ]
  },
  {
   "cell_type": "code",
   "execution_count": 21,
   "metadata": {},
   "outputs": [],
   "source": [
    "# X_train_featurized[0].get_atoms_with_deg(9)"
   ]
  },
  {
   "cell_type": "code",
   "execution_count": 22,
   "metadata": {},
   "outputs": [],
   "source": [
    "from deepchem.metrics import to_one_hot\n",
    "from deepchem.feat.mol_graphs import ConvMol\n",
    "\n",
    "x_preprocessed_train, x_preprocessed_val, x_preprocessed_test = [], [], []\n",
    "\n",
    "## for X train\n",
    "multiConvMol = ConvMol.agglomerate_mols(X_train_featurized)\n",
    "x_preprocessed_train = [multiConvMol.get_atom_features(), multiConvMol.deg_slice, np.array(multiConvMol.membership)]\n",
    "for i in range(1, len(multiConvMol.get_deg_adjacency_lists())):\n",
    "    x_preprocessed_train.append(multiConvMol.get_deg_adjacency_lists()[i])\n",
    "x_preprocessed_train.append(np.array(x_add_train))\n",
    "\n",
    "## for X val\n",
    "multiConvMol = ConvMol.agglomerate_mols(X_val_featurized)\n",
    "x_preprocessed_val = [multiConvMol.get_atom_features(), multiConvMol.deg_slice, np.array(multiConvMol.membership)]\n",
    "for i in range(1, len(multiConvMol.get_deg_adjacency_lists())):\n",
    "    x_preprocessed_val.append(multiConvMol.get_deg_adjacency_lists()[i])\n",
    "x_preprocessed_val.append(np.array(x_add_val))\n",
    "\n",
    "\n",
    "## for X test\n",
    "multiConvMol = ConvMol.agglomerate_mols(X_test_featurized)\n",
    "x_preprocessed_test = [multiConvMol.get_atom_features(), multiConvMol.deg_slice, np.array(multiConvMol.membership)]\n",
    "for i in range(1, len(multiConvMol.get_deg_adjacency_lists())):\n",
    "    x_preprocessed_test.append(multiConvMol.get_deg_adjacency_lists()[i])\n",
    "x_preprocessed_test.append(np.array(x_add_test))"
   ]
  },
  {
   "cell_type": "code",
   "execution_count": 23,
   "metadata": {},
   "outputs": [],
   "source": [
    "# Train\n",
    "x_train = np.full([15, np.max([v.shape[0] for v in x_preprocessed_train]),\n",
    "                  np.max([v.shape[1] for v in x_preprocessed_train if len(v.shape) > 1])], 1.123456)\n",
    "\n",
    "for i,j in enumerate(x_preprocessed_train):\n",
    "    if len(j.shape) > 1:\n",
    "        x_train[i][:j.shape[0],:j.shape[1]] = np.array(j)\n",
    "    else:\n",
    "        x_train[i][:len(j), :1] = np.array(j).reshape(j.shape[0], 1)\n",
    "x_train = x_train.reshape([1] + list(x_train.shape))\n",
    "\n",
    "# Validation\n",
    "x_val = np.full([15, np.max([v.shape[0] for v in x_preprocessed_val]),\n",
    "                  np.max([v.shape[1] for v in x_preprocessed_val if len(v.shape) > 1])], 1.123456)\n",
    "for i,j in enumerate(x_preprocessed_val):\n",
    "    if len(j.shape) > 1:\n",
    "        x_val[i][:j.shape[0],:j.shape[1]] = np.array(j)\n",
    "    else:\n",
    "        x_val[i][:len(j), :1] = np.array(j).reshape(j.shape[0], 1)\n",
    "x_val = x_val.reshape([1] + list(x_val.shape))\n",
    "\n",
    "# Test\n",
    "x_test = np.full([15, np.max([v.shape[0] for v in x_preprocessed_test]),\n",
    "                  np.max([v.shape[1] for v in x_preprocessed_test if len(v.shape) > 1])], 1.123456)\n",
    "for i,j in enumerate(x_preprocessed_test):\n",
    "    if len(j.shape) > 1:\n",
    "        x_test[i][:j.shape[0],:j.shape[1]] = np.array(j)\n",
    "    else:\n",
    "        x_test[i][:len(j), :1] = np.array(j).reshape(j.shape[0], 1)\n",
    "x_test = x_test.reshape([1] + list(x_test.shape))"
   ]
  },
  {
   "cell_type": "markdown",
   "metadata": {},
   "source": [
    "<h1>Physics Guided Neural Network Model</h1>"
   ]
  },
  {
   "cell_type": "code",
   "execution_count": 24,
   "metadata": {},
   "outputs": [],
   "source": [
    "sahar_pgnn_test_accuracy = []\n",
    "sahar_pgnn_train_accuracy = []"
   ]
  },
  {
   "cell_type": "code",
   "execution_count": 25,
   "metadata": {},
   "outputs": [
    {
     "data": {
      "text/plain": [
       "24"
      ]
     },
     "execution_count": 25,
     "metadata": {},
     "output_type": "execute_result"
    }
   ],
   "source": [
    "## !!!!!!!! important\n",
    "## !!!!!!!! important\n",
    "## !!!!!!!! important\n",
    "## !!!!!!!! important\n",
    "batch_size = int(len(pdb_names_train)/4)\n",
    "batch_size\n",
    "# batch_size=10"
   ]
  },
  {
   "cell_type": "code",
   "execution_count": 26,
   "metadata": {},
   "outputs": [
    {
     "name": "stderr",
     "output_type": "stream",
     "text": [
      "2022-03-26 21:29:52.145248: I tensorflow/core/platform/cpu_feature_guard.cc:142] This TensorFlow binary is optimized with oneAPI Deep Neural Network Library (oneDNN) to use the following CPU instructions in performance-critical operations:  AVX2 FMA\n",
      "To enable them in other operations, rebuild TensorFlow with the appropriate compiler flags.\n"
     ]
    }
   ],
   "source": [
    "from deepchem.models.layers import GraphConv, GraphPool, GraphGather\n",
    "import tensorflow as tf\n",
    "import tensorflow.keras.layers as layers\n",
    "from tensorflow.keras.layers import Dense, Input, BatchNormalization, Concatenate\n",
    "from tensorflow.keras import initializers\n",
    "\n",
    "\n",
    "class GBGraphConvModel(tf.keras.Model):\n",
    "\n",
    "  def modify_graphgather(self, batch_size):\n",
    "    self.readout.batch_size = batch_size\n",
    "    self.batch_size = batch_size\n",
    "  def __init__(self, batch_size):\n",
    "    super(GBGraphConvModel, self).__init__()\n",
    "    self.input_shapes = None\n",
    "    self.batch_size = batch_size\n",
    "    self.gc1 = GraphConv(128, activation_fn=tf.nn.tanh)\n",
    "    self.batch_norm1 = layers.BatchNormalization()\n",
    "    self.gp1 = GraphPool()\n",
    "\n",
    "    self.gc2 = GraphConv(128, activation_fn=tf.nn.tanh)\n",
    "    self.batch_norm2 = layers.BatchNormalization()\n",
    "    self.gp2 = GraphPool()\n",
    "\n",
    "    self.dense1 = layers.Dense(128, activation=tf.nn.tanh)\n",
    "    self.batch_norm3 = layers.BatchNormalization()\n",
    "    self.readout = GraphGather(batch_size=self.batch_size, activation_fn=tf.nn.tanh)\n",
    "\n",
    "    self.dense2 = layers.Dense(1)\n",
    "    self.dense3 = layers.Dense(1, \n",
    "         kernel_initializer=initializers.Constant([0.5, 1, 1, 1, 1, -1, -1, -1, -1, -1, -1, -1, -1, 1, -1, -1, -1]),\n",
    "         bias_initializer=initializers.Zeros())\n",
    "\n",
    "  def call(self, inputs):\n",
    "    inputs = inputs[0]\n",
    "    x = []\n",
    "#     input_shapes = [[4822, 75], [11, 2], [4822], [1142, 1], [1635, 2], [2042, 3],\n",
    "#                    [3, 4], [0, 5], [0, 6], [0, 7], [0, 8], [0, 9], [0, 10]]\n",
    "    for i in range(len(self.input_shapes)):\n",
    "        x.append(tf.reshape(inputs[i][inputs[i] != 1.123456], self.input_shapes[i]))\n",
    "    for i in range(1, len(self.input_shapes)):\n",
    "        x[i] = tf.cast(x[i], tf.int32)\n",
    "    x_add = tf.reshape(inputs[13][inputs[13] != 1.123456], [self.batch_size, 16])\n",
    "    gc1_output = self.gc1(x)\n",
    "    batch_norm1_output = self.batch_norm1(gc1_output)\n",
    "    gp1_output = self.gp1([batch_norm1_output] + x[1:])\n",
    "\n",
    "    gc2_output = self.gc2([gp1_output] + x[1:])\n",
    "    batch_norm2_output = self.batch_norm1(gc2_output)\n",
    "    gp2_output = self.gp2([batch_norm2_output] + x[1:])\n",
    "\n",
    "    dense1_output = self.dense1(gp2_output)\n",
    "    batch_norm3_output = self.batch_norm3(dense1_output)\n",
    "    readout_output = self.readout([batch_norm3_output] + x[1:])\n",
    "    \n",
    "    model_var = self.dense2(readout_output)\n",
    "    binding_affinity = tf.concat([model_var, x_add], axis=1)\n",
    "    return self.dense3(binding_affinity)\n",
    "hybrid_model = GBGraphConvModel(train_split_index)\n",
    "hybrid_model.compile(loss='mse', optimizer='adam')"
   ]
  },
  {
   "cell_type": "code",
   "execution_count": 27,
   "metadata": {},
   "outputs": [
    {
     "name": "stderr",
     "output_type": "stream",
     "text": [
      "2022-03-26 21:29:53.116345: I tensorflow/compiler/mlir/mlir_graph_optimization_pass.cc:185] None of the MLIR Optimization Passes are enabled (registered 2)\n",
      "/Users/misspotato/opt/miniconda3/envs/rdkit-deepchem-jupyter/lib/python3.9/site-packages/tensorflow/python/framework/indexed_slices.py:447: UserWarning: Converting sparse IndexedSlices(IndexedSlices(indices=Tensor(\"gradient_tape/gb_graph_conv_model/graph_pool_1/Reshape_14:0\", shape=(83387,), dtype=int32), values=Tensor(\"gradient_tape/gb_graph_conv_model/graph_pool_1/Reshape_13:0\", shape=(83387, 128), dtype=float32), dense_shape=Tensor(\"gradient_tape/gb_graph_conv_model/graph_pool_1/Cast_4:0\", shape=(2,), dtype=int32))) to a dense Tensor of unknown shape. This may consume a large amount of memory.\n",
      "  warnings.warn(\n",
      "/Users/misspotato/opt/miniconda3/envs/rdkit-deepchem-jupyter/lib/python3.9/site-packages/tensorflow/python/framework/indexed_slices.py:447: UserWarning: Converting sparse IndexedSlices(IndexedSlices(indices=Tensor(\"gradient_tape/gb_graph_conv_model/graph_pool_1/Reshape_17:0\", shape=(205678,), dtype=int32), values=Tensor(\"gradient_tape/gb_graph_conv_model/graph_pool_1/Reshape_16:0\", shape=(205678, 128), dtype=float32), dense_shape=Tensor(\"gradient_tape/gb_graph_conv_model/graph_pool_1/Cast_5:0\", shape=(2,), dtype=int32))) to a dense Tensor of unknown shape. This may consume a large amount of memory.\n",
      "  warnings.warn(\n",
      "/Users/misspotato/opt/miniconda3/envs/rdkit-deepchem-jupyter/lib/python3.9/site-packages/tensorflow/python/framework/indexed_slices.py:447: UserWarning: Converting sparse IndexedSlices(IndexedSlices(indices=Tensor(\"gradient_tape/gb_graph_conv_model/graph_pool_1/Reshape_20:0\", shape=(290367,), dtype=int32), values=Tensor(\"gradient_tape/gb_graph_conv_model/graph_pool_1/Reshape_19:0\", shape=(290367, 128), dtype=float32), dense_shape=Tensor(\"gradient_tape/gb_graph_conv_model/graph_pool_1/Cast_6:0\", shape=(2,), dtype=int32))) to a dense Tensor of unknown shape. This may consume a large amount of memory.\n",
      "  warnings.warn(\n",
      "/Users/misspotato/opt/miniconda3/envs/rdkit-deepchem-jupyter/lib/python3.9/site-packages/tensorflow/python/framework/indexed_slices.py:447: UserWarning: Converting sparse IndexedSlices(IndexedSlices(indices=Tensor(\"gradient_tape/gb_graph_conv_model/graph_pool_1/Reshape_23:0\", shape=(188,), dtype=int32), values=Tensor(\"gradient_tape/gb_graph_conv_model/graph_pool_1/Reshape_22:0\", shape=(188, 128), dtype=float32), dense_shape=Tensor(\"gradient_tape/gb_graph_conv_model/graph_pool_1/Cast_7:0\", shape=(2,), dtype=int32))) to a dense Tensor of unknown shape. This may consume a large amount of memory.\n",
      "  warnings.warn(\n",
      "/Users/misspotato/opt/miniconda3/envs/rdkit-deepchem-jupyter/lib/python3.9/site-packages/tensorflow/python/framework/indexed_slices.py:447: UserWarning: Converting sparse IndexedSlices(IndexedSlices(indices=Tensor(\"gradient_tape/gb_graph_conv_model/graph_conv_1/Reshape_11:0\", shape=(83387,), dtype=int32), values=Tensor(\"gradient_tape/gb_graph_conv_model/graph_conv_1/Reshape_10:0\", shape=(83387, 128), dtype=float32), dense_shape=Tensor(\"gradient_tape/gb_graph_conv_model/graph_conv_1/Cast:0\", shape=(2,), dtype=int32))) to a dense Tensor of unknown shape. This may consume a large amount of memory.\n",
      "  warnings.warn(\n",
      "/Users/misspotato/opt/miniconda3/envs/rdkit-deepchem-jupyter/lib/python3.9/site-packages/tensorflow/python/framework/indexed_slices.py:447: UserWarning: Converting sparse IndexedSlices(IndexedSlices(indices=Tensor(\"gradient_tape/gb_graph_conv_model/graph_conv_1/Reshape_13:0\", shape=(205678,), dtype=int32), values=Tensor(\"gradient_tape/gb_graph_conv_model/graph_conv_1/Reshape_12:0\", shape=(205678, 128), dtype=float32), dense_shape=Tensor(\"gradient_tape/gb_graph_conv_model/graph_conv_1/Cast_1:0\", shape=(2,), dtype=int32))) to a dense Tensor of unknown shape. This may consume a large amount of memory.\n",
      "  warnings.warn(\n",
      "/Users/misspotato/opt/miniconda3/envs/rdkit-deepchem-jupyter/lib/python3.9/site-packages/tensorflow/python/framework/indexed_slices.py:447: UserWarning: Converting sparse IndexedSlices(IndexedSlices(indices=Tensor(\"gradient_tape/gb_graph_conv_model/graph_conv_1/Reshape_15:0\", shape=(290367,), dtype=int32), values=Tensor(\"gradient_tape/gb_graph_conv_model/graph_conv_1/Reshape_14:0\", shape=(290367, 128), dtype=float32), dense_shape=Tensor(\"gradient_tape/gb_graph_conv_model/graph_conv_1/Cast_2:0\", shape=(2,), dtype=int32))) to a dense Tensor of unknown shape. This may consume a large amount of memory.\n",
      "  warnings.warn(\n",
      "/Users/misspotato/opt/miniconda3/envs/rdkit-deepchem-jupyter/lib/python3.9/site-packages/tensorflow/python/framework/indexed_slices.py:447: UserWarning: Converting sparse IndexedSlices(IndexedSlices(indices=Tensor(\"gradient_tape/gb_graph_conv_model/graph_conv_1/Reshape_17:0\", shape=(188,), dtype=int32), values=Tensor(\"gradient_tape/gb_graph_conv_model/graph_conv_1/Reshape_16:0\", shape=(188, 128), dtype=float32), dense_shape=Tensor(\"gradient_tape/gb_graph_conv_model/graph_conv_1/Cast_3:0\", shape=(2,), dtype=int32))) to a dense Tensor of unknown shape. This may consume a large amount of memory.\n",
      "  warnings.warn(\n",
      "/Users/misspotato/opt/miniconda3/envs/rdkit-deepchem-jupyter/lib/python3.9/site-packages/tensorflow/python/framework/indexed_slices.py:447: UserWarning: Converting sparse IndexedSlices(IndexedSlices(indices=Tensor(\"gradient_tape/gb_graph_conv_model/graph_conv_1/Reshape_19:0\", shape=(0,), dtype=int32), values=Tensor(\"gradient_tape/gb_graph_conv_model/graph_conv_1/Reshape_18:0\", shape=(0, 128), dtype=float32), dense_shape=Tensor(\"gradient_tape/gb_graph_conv_model/graph_conv_1/Cast_4:0\", shape=(2,), dtype=int32))) to a dense Tensor of unknown shape. This may consume a large amount of memory.\n",
      "  warnings.warn(\n",
      "/Users/misspotato/opt/miniconda3/envs/rdkit-deepchem-jupyter/lib/python3.9/site-packages/tensorflow/python/framework/indexed_slices.py:447: UserWarning: Converting sparse IndexedSlices(IndexedSlices(indices=Tensor(\"gradient_tape/gb_graph_conv_model/graph_conv_1/Reshape_21:0\", shape=(0,), dtype=int32), values=Tensor(\"gradient_tape/gb_graph_conv_model/graph_conv_1/Reshape_20:0\", shape=(0, 128), dtype=float32), dense_shape=Tensor(\"gradient_tape/gb_graph_conv_model/graph_conv_1/Cast_5:0\", shape=(2,), dtype=int32))) to a dense Tensor of unknown shape. This may consume a large amount of memory.\n",
      "  warnings.warn(\n",
      "/Users/misspotato/opt/miniconda3/envs/rdkit-deepchem-jupyter/lib/python3.9/site-packages/tensorflow/python/framework/indexed_slices.py:447: UserWarning: Converting sparse IndexedSlices(IndexedSlices(indices=Tensor(\"gradient_tape/gb_graph_conv_model/graph_conv_1/Reshape_23:0\", shape=(0,), dtype=int32), values=Tensor(\"gradient_tape/gb_graph_conv_model/graph_conv_1/Reshape_22:0\", shape=(0, 128), dtype=float32), dense_shape=Tensor(\"gradient_tape/gb_graph_conv_model/graph_conv_1/Cast_6:0\", shape=(2,), dtype=int32))) to a dense Tensor of unknown shape. This may consume a large amount of memory.\n",
      "  warnings.warn(\n",
      "/Users/misspotato/opt/miniconda3/envs/rdkit-deepchem-jupyter/lib/python3.9/site-packages/tensorflow/python/framework/indexed_slices.py:447: UserWarning: Converting sparse IndexedSlices(IndexedSlices(indices=Tensor(\"gradient_tape/gb_graph_conv_model/graph_conv_1/Reshape_25:0\", shape=(0,), dtype=int32), values=Tensor(\"gradient_tape/gb_graph_conv_model/graph_conv_1/Reshape_24:0\", shape=(0, 128), dtype=float32), dense_shape=Tensor(\"gradient_tape/gb_graph_conv_model/graph_conv_1/Cast_7:0\", shape=(2,), dtype=int32))) to a dense Tensor of unknown shape. This may consume a large amount of memory.\n",
      "  warnings.warn(\n",
      "/Users/misspotato/opt/miniconda3/envs/rdkit-deepchem-jupyter/lib/python3.9/site-packages/tensorflow/python/framework/indexed_slices.py:447: UserWarning: Converting sparse IndexedSlices(IndexedSlices(indices=Tensor(\"gradient_tape/gb_graph_conv_model/graph_conv_1/Reshape_27:0\", shape=(0,), dtype=int32), values=Tensor(\"gradient_tape/gb_graph_conv_model/graph_conv_1/Reshape_26:0\", shape=(0, 128), dtype=float32), dense_shape=Tensor(\"gradient_tape/gb_graph_conv_model/graph_conv_1/Cast_8:0\", shape=(2,), dtype=int32))) to a dense Tensor of unknown shape. This may consume a large amount of memory.\n",
      "  warnings.warn(\n",
      "/Users/misspotato/opt/miniconda3/envs/rdkit-deepchem-jupyter/lib/python3.9/site-packages/tensorflow/python/framework/indexed_slices.py:447: UserWarning: Converting sparse IndexedSlices(IndexedSlices(indices=Tensor(\"gradient_tape/gb_graph_conv_model/graph_conv_1/Reshape_29:0\", shape=(0,), dtype=int32), values=Tensor(\"gradient_tape/gb_graph_conv_model/graph_conv_1/Reshape_28:0\", shape=(0, 128), dtype=float32), dense_shape=Tensor(\"gradient_tape/gb_graph_conv_model/graph_conv_1/Cast_9:0\", shape=(2,), dtype=int32))) to a dense Tensor of unknown shape. This may consume a large amount of memory.\n",
      "  warnings.warn(\n",
      "/Users/misspotato/opt/miniconda3/envs/rdkit-deepchem-jupyter/lib/python3.9/site-packages/tensorflow/python/framework/indexed_slices.py:447: UserWarning: Converting sparse IndexedSlices(IndexedSlices(indices=Tensor(\"gradient_tape/gb_graph_conv_model/graph_pool/Reshape_14:0\", shape=(83387,), dtype=int32), values=Tensor(\"gradient_tape/gb_graph_conv_model/graph_pool/Reshape_13:0\", shape=(83387, 128), dtype=float32), dense_shape=Tensor(\"gradient_tape/gb_graph_conv_model/graph_pool/Cast_4:0\", shape=(2,), dtype=int32))) to a dense Tensor of unknown shape. This may consume a large amount of memory.\n",
      "  warnings.warn(\n",
      "/Users/misspotato/opt/miniconda3/envs/rdkit-deepchem-jupyter/lib/python3.9/site-packages/tensorflow/python/framework/indexed_slices.py:447: UserWarning: Converting sparse IndexedSlices(IndexedSlices(indices=Tensor(\"gradient_tape/gb_graph_conv_model/graph_pool/Reshape_17:0\", shape=(205678,), dtype=int32), values=Tensor(\"gradient_tape/gb_graph_conv_model/graph_pool/Reshape_16:0\", shape=(205678, 128), dtype=float32), dense_shape=Tensor(\"gradient_tape/gb_graph_conv_model/graph_pool/Cast_5:0\", shape=(2,), dtype=int32))) to a dense Tensor of unknown shape. This may consume a large amount of memory.\n",
      "  warnings.warn(\n",
      "/Users/misspotato/opt/miniconda3/envs/rdkit-deepchem-jupyter/lib/python3.9/site-packages/tensorflow/python/framework/indexed_slices.py:447: UserWarning: Converting sparse IndexedSlices(IndexedSlices(indices=Tensor(\"gradient_tape/gb_graph_conv_model/graph_pool/Reshape_20:0\", shape=(290367,), dtype=int32), values=Tensor(\"gradient_tape/gb_graph_conv_model/graph_pool/Reshape_19:0\", shape=(290367, 128), dtype=float32), dense_shape=Tensor(\"gradient_tape/gb_graph_conv_model/graph_pool/Cast_6:0\", shape=(2,), dtype=int32))) to a dense Tensor of unknown shape. This may consume a large amount of memory.\n",
      "  warnings.warn(\n",
      "/Users/misspotato/opt/miniconda3/envs/rdkit-deepchem-jupyter/lib/python3.9/site-packages/tensorflow/python/framework/indexed_slices.py:447: UserWarning: Converting sparse IndexedSlices(IndexedSlices(indices=Tensor(\"gradient_tape/gb_graph_conv_model/graph_pool/Reshape_23:0\", shape=(188,), dtype=int32), values=Tensor(\"gradient_tape/gb_graph_conv_model/graph_pool/Reshape_22:0\", shape=(188, 128), dtype=float32), dense_shape=Tensor(\"gradient_tape/gb_graph_conv_model/graph_pool/Cast_7:0\", shape=(2,), dtype=int32))) to a dense Tensor of unknown shape. This may consume a large amount of memory.\n",
      "  warnings.warn(\n"
     ]
    },
    {
     "name": "stdout",
     "output_type": "stream",
     "text": [
      "1/1 [==============================] - 14s 14s/step - loss: 15.2391\n",
      "1/1 [==============================] - 3s 3s/step - loss: 33116.3672\n",
      "1/1 [==============================] - 9s 9s/step - loss: 14412.3359\n",
      "1/1 [==============================] - 2s 2s/step - loss: 2247.6914\n",
      "1/1 [==============================] - 8s 8s/step - loss: 945.1540\n",
      "1/1 [==============================] - 1s 1s/step - loss: 6791.0103\n",
      "1/1 [==============================] - 8s 8s/step - loss: 3106.6887\n",
      "1/1 [==============================] - 1s 1s/step - loss: 18467.3320\n",
      "1/1 [==============================] - 8s 8s/step - loss: 8301.4893\n",
      "1/1 [==============================] - 2s 2s/step - loss: 13961.2100\n",
      "1/1 [==============================] - 6s 6s/step - loss: 6291.5103\n",
      "1/1 [==============================] - 1s 1s/step - loss: 3971.9495\n",
      "1/1 [==============================] - 8s 8s/step - loss: 1824.4684\n",
      "1/1 [==============================] - 1s 1s/step - loss: 42.4822\n",
      "1/1 [==============================] - 7s 7s/step - loss: 22.2230\n",
      "1/1 [==============================] - 2s 2s/step - loss: 4052.8389\n",
      "1/1 [==============================] - 8s 8s/step - loss: 1732.6859\n",
      "1/1 [==============================] - 2s 2s/step - loss: 9049.2949\n",
      "1/1 [==============================] - 6s 6s/step - loss: 3896.6687\n",
      "1/1 [==============================] - 1s 1s/step - loss: 8919.7920\n",
      "1/1 [==============================] - 8s 8s/step - loss: 3835.4910\n",
      "1/1 [==============================] - 1s 1s/step - loss: 4637.0718\n",
      "1/1 [==============================] - 8s 8s/step - loss: 1978.5728\n",
      "1/1 [==============================] - 1s 1s/step - loss: 726.8101\n",
      "1/1 [==============================] - 8s 8s/step - loss: 300.3453\n",
      "1/1 [==============================] - 1s 1s/step - loss: 321.0057\n",
      "1/1 [==============================] - 6s 6s/step - loss: 167.5979\n",
      "1/1 [==============================] - 2s 2s/step - loss: 2730.5300\n",
      "1/1 [==============================] - 8s 8s/step - loss: 1260.3998\n",
      "1/1 [==============================] - 1s 1s/step - loss: 4746.4033\n",
      "1/1 [==============================] - 8s 8s/step - loss: 2157.6550\n",
      "1/1 [==============================] - 1s 1s/step - loss: 4247.7305\n",
      "1/1 [==============================] - 8s 8s/step - loss: 1931.0190\n",
      "1/1 [==============================] - 1s 1s/step - loss: 1995.9330\n",
      "1/1 [==============================] - 7s 7s/step - loss: 918.5405\n",
      "1/1 [==============================] - 2s 2s/step - loss: 214.9310\n",
      "1/1 [==============================] - 8s 8s/step - loss: 112.3201\n",
      "1/1 [==============================] - 1s 1s/step - loss: 323.5461\n",
      "1/1 [==============================] - 7s 7s/step - loss: 138.9705\n",
      "1/1 [==============================] - 2s 2s/step - loss: 1755.2734\n",
      "1/1 [==============================] - 8s 8s/step - loss: 753.5539\n",
      "1/1 [==============================] - 1s 1s/step - loss: 2780.6013\n",
      "1/1 [==============================] - 7s 7s/step - loss: 1197.4738\n",
      "1/1 [==============================] - 2s 2s/step - loss: 2371.8682\n",
      "1/1 [==============================] - 8s 8s/step - loss: 1017.0766\n",
      "1/1 [==============================] - 2s 2s/step - loss: 1041.8682\n",
      "1/1 [==============================] - 7s 7s/step - loss: 442.4107\n",
      "1/1 [==============================] - 1s 1s/step - loss: 89.9981\n",
      "1/1 [==============================] - 8s 8s/step - loss: 41.1264\n",
      "1/1 [==============================] - 1s 1s/step - loss: 240.6566\n",
      "1/1 [==============================] - 6s 6s/step - loss: 124.1259\n",
      "1/1 [==============================] - 1s 1s/step - loss: 1036.3584\n",
      "1/1 [==============================] - 8s 8s/step - loss: 484.8245\n",
      "1/1 [==============================] - 2s 2s/step - loss: 1478.1364\n",
      "1/1 [==============================] - 8s 8s/step - loss: 680.7762\n",
      "1/1 [==============================] - 2s 2s/step - loss: 1103.4160\n",
      "1/1 [==============================] - 8s 8s/step - loss: 509.9243\n",
      "1/1 [==============================] - 1s 1s/step - loss: 367.7749\n",
      "1/1 [==============================] - 9s 9s/step - loss: 176.9312\n",
      "1/1 [==============================] - 2s 2s/step - loss: 17.6557\n",
      "1/1 [==============================] - 8s 8s/step - loss: 15.2428\n",
      "1/1 [==============================] - 717s 717s/step - loss: 297.5631\n",
      "1/1 [==============================] - 11s 11s/step - loss: 132.4743\n",
      "1/1 [==============================] - 3s 3s/step - loss: 769.0767\n",
      "1/1 [==============================] - 11s 11s/step - loss: 335.6794\n",
      "1/1 [==============================] - 2s 2s/step - loss: 864.7250\n",
      "1/1 [==============================] - 8s 8s/step - loss: 377.5407\n",
      "1/1 [==============================] - 2s 2s/step - loss: 505.0120\n",
      "1/1 [==============================] - 9s 9s/step - loss: 221.5055\n",
      "1/1 [==============================] - 1s 1s/step - loss: 101.5294\n",
      "1/1 [==============================] - 8s 8s/step - loss: 48.1803\n",
      "1/1 [==============================] - 2s 2s/step - loss: 45.1659\n",
      "1/1 [==============================] - 9s 9s/step - loss: 29.4232\n",
      "1/1 [==============================] - 1s 1s/step - loss: 292.7713\n",
      "1/1 [==============================] - 6s 6s/step - loss: 143.4667\n",
      "1/1 [==============================] - 1s 1s/step - loss: 482.8315\n",
      "1/1 [==============================] - 8s 8s/step - loss: 228.4864\n",
      "1/1 [==============================] - 2s 2s/step - loss: 384.7158\n",
      "1/1 [==============================] - 8s 8s/step - loss: 182.7971\n",
      "1/1 [==============================] - 1s 1s/step - loss: 133.0457\n",
      "1/1 [==============================] - 8s 8s/step - loss: 68.4794\n",
      "1/1 [==============================] - 1s 1s/step - loss: 17.9362\n",
      "1/1 [==============================] - 6s 6s/step - loss: 14.6087\n",
      "1/1 [==============================] - 1s 1s/step - loss: 132.0150\n",
      "1/1 [==============================] - 8s 8s/step - loss: 61.3762\n",
      "1/1 [==============================] - 2s 2s/step - loss: 292.4905\n",
      "1/1 [==============================] - 8s 8s/step - loss: 129.1410\n",
      "1/1 [==============================] - 1s 1s/step - loss: 292.2870\n",
      "1/1 [==============================] - 8s 8s/step - loss: 128.3918\n",
      "1/1 [==============================] - 1s 1s/step - loss: 142.9318\n",
      "1/1 [==============================] - 7s 7s/step - loss: 64.4471\n",
      "1/1 [==============================] - 2s 2s/step - loss: 25.1798\n",
      "1/1 [==============================] - 7s 7s/step - loss: 16.3925\n",
      "1/1 [==============================] - 2s 2s/step - loss: 51.3563\n",
      "1/1 [==============================] - 8s 8s/step - loss: 32.1559\n",
      "1/1 [==============================] - 2s 2s/step - loss: 145.3806\n",
      "1/1 [==============================] - 6s 6s/step - loss: 76.7273\n",
      "1/1 [==============================] - 1s 1s/step - loss: 165.3658\n",
      "1/1 [==============================] - 8s 8s/step - loss: 85.9374\n",
      "1/1 [==============================] - 2s 2s/step - loss: 89.2217\n",
      "1/1 [==============================] - 8s 8s/step - loss: 50.3011\n",
      "1/1 [==============================] - 2s 2s/step - loss: 21.4599\n",
      "1/1 [==============================] - 8s 8s/step - loss: 16.9109\n",
      "1/1 [==============================] - 1s 1s/step - loss: 42.9312\n",
      "1/1 [==============================] - 6s 6s/step - loss: 22.6759\n",
      "1/1 [==============================] - 1s 1s/step - loss: 110.6077\n",
      "1/1 [==============================] - 8s 8s/step - loss: 49.9839\n",
      "1/1 [==============================] - 1s 1s/step - loss: 129.2622\n",
      "1/1 [==============================] - 8s 8s/step - loss: 57.6195\n",
      "1/1 [==============================] - 1s 1s/step - loss: 77.7106\n",
      "1/1 [==============================] - 8s 8s/step - loss: 36.3873\n",
      "1/1 [==============================] - 2s 2s/step - loss: 24.4060\n",
      "1/1 [==============================] - 6s 6s/step - loss: 15.6592\n",
      "1/1 [==============================] - 2s 2s/step - loss: 26.4512\n",
      "1/1 [==============================] - 8s 8s/step - loss: 19.5048\n",
      "1/1 [==============================] - 2s 2s/step - loss: 60.2534\n",
      "1/1 [==============================] - 8s 8s/step - loss: 36.3917\n",
      "1/1 [==============================] - 2s 2s/step - loss: 67.6395\n",
      "1/1 [==============================] - 8s 8s/step - loss: 39.8354\n",
      "1/1 [==============================] - 1s 1s/step - loss: 39.0115\n",
      "1/1 [==============================] - 6s 6s/step - loss: 25.7067\n",
      "1/1 [==============================] - 1s 1s/step - loss: 18.0692\n"
     ]
    },
    {
     "name": "stdout",
     "output_type": "stream",
     "text": [
      "1/1 [==============================] - 8s 8s/step - loss: 14.2979\n",
      "1/1 [==============================] - 1s 1s/step - loss: 32.5871\n",
      "1/1 [==============================] - 8s 8s/step - loss: 18.5147\n",
      "1/1 [==============================] - 2s 2s/step - loss: 58.2758\n",
      "1/1 [==============================] - 8s 8s/step - loss: 28.5111\n",
      "1/1 [==============================] - 2s 2s/step - loss: 58.2979\n",
      "1/1 [==============================] - 7s 7s/step - loss: 28.5216\n",
      "1/1 [==============================] - 2s 2s/step - loss: 34.4308\n",
      "1/1 [==============================] - 8s 8s/step - loss: 19.1225\n",
      "1/1 [==============================] - 2s 2s/step - loss: 18.2937\n",
      "1/1 [==============================] - 8s 8s/step - loss: 13.8181\n",
      "1/1 [==============================] - 2s 2s/step - loss: 24.4901\n",
      "1/1 [==============================] - 8s 8s/step - loss: 18.2159\n",
      "1/1 [==============================] - 1s 1s/step - loss: 34.7105\n",
      "1/1 [==============================] - 6s 6s/step - loss: 23.6380\n",
      "1/1 [==============================] - 2s 2s/step - loss: 30.8229\n",
      "1/1 [==============================] - 8s 8s/step - loss: 21.5025\n",
      "1/1 [==============================] - 2s 2s/step - loss: 19.7083\n",
      "1/1 [==============================] - 8s 8s/step - loss: 15.4231\n",
      "1/1 [==============================] - 2s 2s/step - loss: 20.3659\n",
      "1/1 [==============================] - 8s 8s/step - loss: 14.0247\n",
      "1/1 [==============================] - 2s 2s/step - loss: 31.9861\n",
      "1/1 [==============================] - 6s 6s/step - loss: 17.8152\n",
      "1/1 [==============================] - 1s 1s/step - loss: 37.6522\n",
      "1/1 [==============================] - 8s 8s/step - loss: 19.8559\n",
      "1/1 [==============================] - 2s 2s/step - loss: 30.0024\n",
      "1/1 [==============================] - 8s 8s/step - loss: 16.9935\n",
      "1/1 [==============================] - 2s 2s/step - loss: 19.8975\n",
      "1/1 [==============================] - 8s 8s/step - loss: 13.7668\n",
      "1/1 [==============================] - 1s 1s/step - loss: 18.6393\n",
      "1/1 [==============================] - 7s 7s/step - loss: 14.5136\n",
      "1/1 [==============================] - 2s 2s/step - loss: 22.5466\n",
      "1/1 [==============================] - 8s 8s/step - loss: 17.0447\n",
      "1/1 [==============================] - 2s 2s/step - loss: 22.3517\n",
      "1/1 [==============================] - 8s 8s/step - loss: 16.9412\n",
      "1/1 [==============================] - 2s 2s/step - loss: 18.5704\n",
      "1/1 [==============================] - 8s 8s/step - loss: 14.5176\n",
      "1/1 [==============================] - 1s 1s/step - loss: 18.7473\n",
      "1/1 [==============================] - 6s 6s/step - loss: 13.5023\n",
      "1/1 [==============================] - 1s 1s/step - loss: 23.9651\n",
      "1/1 [==============================] - 8s 8s/step - loss: 14.9140\n",
      "1/1 [==============================] - 2s 2s/step - loss: 27.0694\n",
      "1/1 [==============================] - 7s 7s/step - loss: 15.9333\n",
      "1/1 [==============================] - 2s 2s/step - loss: 23.8618\n",
      "1/1 [==============================] - 8s 8s/step - loss: 14.8611\n",
      "1/1 [==============================] - 1s 1s/step - loss: 19.0447\n",
      "1/1 [==============================] - 6s 6s/step - loss: 13.5005\n",
      "1/1 [==============================] - 1s 1s/step - loss: 17.8619\n",
      "1/1 [==============================] - 8s 8s/step - loss: 13.7961\n",
      "1/1 [==============================] - 1s 1s/step - loss: 19.0830\n",
      "1/1 [==============================] - 8s 8s/step - loss: 14.8196\n",
      "1/1 [==============================] - 2s 2s/step - loss: 18.8995\n",
      "1/1 [==============================] - 8s 8s/step - loss: 14.6858\n",
      "1/1 [==============================] - 1s 1s/step - loss: 17.6603\n",
      "1/1 [==============================] - 6s 6s/step - loss: 13.6668\n",
      "1/1 [==============================] - 1s 1s/step - loss: 18.5243\n",
      "1/1 [==============================] - 8s 8s/step - loss: 13.3882\n",
      "1/1 [==============================] - 2s 2s/step - loss: 21.1695\n",
      "1/1 [==============================] - 8s 8s/step - loss: 14.0358\n",
      "1/1 [==============================] - 1s 1s/step - loss: 22.1074\n",
      "1/1 [==============================] - 9s 9s/step - loss: 14.2934\n",
      "1/1 [==============================] - 1s 1s/step - loss: 20.1775\n",
      "1/1 [==============================] - 1806s 1806s/step - loss: 13.7264\n",
      "1/1 [==============================] - 2s 2s/step - loss: 18.0730\n",
      "1/1 [==============================] - 26s 26s/step - loss: 13.2872\n",
      "1/1 [==============================] - 5s 5s/step - loss: 17.7702\n",
      "1/1 [==============================] - 30s 30s/step - loss: 13.5705\n",
      "1/1 [==============================] - 5s 5s/step - loss: 18.0284\n",
      "1/1 [==============================] - 29s 29s/step - loss: 13.8991\n",
      "1/1 [==============================] - 5s 5s/step - loss: 17.7472\n",
      "1/1 [==============================] - 22s 22s/step - loss: 13.6572\n",
      "1/1 [==============================] - 5s 5s/step - loss: 17.8496\n",
      "1/1 [==============================] - 30s 30s/step - loss: 13.2660\n",
      "1/1 [==============================] - 5s 5s/step - loss: 19.2411\n",
      "1/1 [==============================] - 12s 12s/step - loss: 13.3244\n",
      "1/1 [==============================] - 2s 2s/step - loss: 20.4270\n",
      "1/1 [==============================] - 10s 10s/step - loss: 13.6019\n",
      "1/1 [==============================] - 2s 2s/step - loss: 20.1714\n"
     ]
    }
   ],
   "source": [
    "sahar_pgnn_losses, sahar_pgnn_val_losses = [], []\n",
    "\n",
    "val_size = len(y_val)\n",
    "train_size = len(y_train)\n",
    "\n",
    "for epoch in range(max_epoch):\n",
    "    hybrid_model.modify_graphgather(train_size)\n",
    "    hybrid_model.input_shapes = [i.shape for i in x_preprocessed_train]\n",
    "    sahar_loss = hybrid_model.fit(x_train, y_train.reshape([1, -1]), epochs=1)\n",
    "#     metric = dc.metrics.Metric(dc.metrics.score_function.rms_score)\n",
    "    sahar_pgnn_losses.append(sahar_loss.history['loss'])\n",
    "    hybrid_model.input_shapes = [i.shape for i in x_preprocessed_val]\n",
    "    hybrid_model.modify_graphgather(val_size)\n",
    "    sahar_pgnn_val_losses.append(hybrid_model.evaluate(x_val, y_val.reshape([1, -1])))"
   ]
  },
  {
   "cell_type": "code",
   "execution_count": 28,
   "metadata": {},
   "outputs": [
    {
     "data": {
      "text/plain": [
       "[array([[ 0.49536362],\n",
       "        [ 1.0000191 ],\n",
       "        [ 1.0000283 ],\n",
       "        [ 1.0000933 ],\n",
       "        [ 0.99995077],\n",
       "        [-0.99997544],\n",
       "        [-0.9999683 ],\n",
       "        [-0.9999262 ],\n",
       "        [-1.0000305 ],\n",
       "        [-1.002259  ],\n",
       "        [-1.0032552 ],\n",
       "        [-0.9999263 ],\n",
       "        [-0.99642336],\n",
       "        [ 0.99991155],\n",
       "        [-1.0000669 ],\n",
       "        [-1.0047604 ],\n",
       "        [-0.9974049 ]], dtype=float32),\n",
       " array([0.00039988], dtype=float32)]"
      ]
     },
     "execution_count": 28,
     "metadata": {},
     "output_type": "execute_result"
    }
   ],
   "source": [
    "# chekcing the wights after training\n",
    "hybrid_model.layers[-1].get_weights()"
   ]
  },
  {
   "cell_type": "code",
   "execution_count": 29,
   "metadata": {},
   "outputs": [
    {
     "data": {
      "image/png": "[encoded data removed]",
      "text/plain": [
       "<Figure size 432x288 with 1 Axes>"
      ]
     },
     "metadata": {
      "needs_background": "light"
     },
     "output_type": "display_data"
    }
   ],
   "source": [
    "import matplotlib.pyplot as plt\n",
    "# f, ax = plt.subplots()\n",
    "plt.plot(range(len(sahar_pgnn_losses)), sahar_pgnn_losses, label='train loss')\n",
    "plt.plot(range(len(sahar_pgnn_val_losses)), sahar_pgnn_val_losses, label='val loss')\n",
    "plt.legend(loc='upper right')\n",
    "# plt.ylim(0,500)\n",
    "plt.xlabel(\"Epoch\")\n",
    "plt.ylabel(\"Loss (Kcal/mol)\")\n",
    "plt.savefig('Sahar_PGNN_loss_26Mar.png')"
   ]
  },
  {
   "cell_type": "code",
   "execution_count": 30,
   "metadata": {},
   "outputs": [],
   "source": [
    "hybrid_model.input_shapes = [i.shape for i in x_preprocessed_test]\n",
    "hybrid_model.modify_graphgather(len(y_test))"
   ]
  },
  {
   "cell_type": "code",
   "execution_count": 31,
   "metadata": {
    "scrolled": true
   },
   "outputs": [
    {
     "name": "stdout",
     "output_type": "stream",
     "text": [
      "1/1 [==============================] - 3s 3s/step - loss: 20.1714\n"
     ]
    }
   ],
   "source": [
    "evalu = hybrid_model.evaluate(x_test, y_test.reshape([1, -1]))"
   ]
  },
  {
   "cell_type": "code",
   "execution_count": 32,
   "metadata": {},
   "outputs": [
    {
     "name": "stdout",
     "output_type": "stream",
     "text": [
      "4.491253087260085\n"
     ]
    }
   ],
   "source": [
    "# Calculate RMSE\n",
    "sahar_pgnn_rmse_test = np.sqrt(evalu)\n",
    "print(sahar_pgnn_rmse_test)"
   ]
  },
  {
   "cell_type": "code",
   "execution_count": 159,
   "metadata": {},
   "outputs": [],
   "source": [
    "# Average training loss\n",
    "# sahar_train_loss = [sum(x)/len(x) for x in zip(*sahar_pgnn_losses)]\n",
    "sahar_train_loss = sahar_pgnn_losses[-1]"
   ]
  },
  {
   "cell_type": "code",
   "execution_count": 160,
   "metadata": {},
   "outputs": [
    {
     "data": {
      "text/plain": [
       "[13.601899147033691]"
      ]
     },
     "execution_count": 160,
     "metadata": {},
     "output_type": "execute_result"
    }
   ],
   "source": [
    "sahar_train_loss"
   ]
  },
  {
   "cell_type": "code",
   "execution_count": 204,
   "metadata": {},
   "outputs": [
    {
     "data": {
      "text/plain": [
       "3.6880752632008056"
      ]
     },
     "execution_count": 204,
     "metadata": {},
     "output_type": "execute_result"
    }
   ],
   "source": [
    "# Calculate RMSE\n",
    "import math\n",
    "sahar_pgnn_rmse_train = math.sqrt(sahar_train_loss[0])\n",
    "sahar_pgnn_rmse_train"
   ]
  },
  {
   "cell_type": "code",
   "execution_count": 205,
   "metadata": {},
   "outputs": [
    {
     "data": {
      "text/plain": [
       "4.491253087260085"
      ]
     },
     "execution_count": 205,
     "metadata": {},
     "output_type": "execute_result"
    }
   ],
   "source": [
    "sahar_pgnn_rmse_test"
   ]
  },
  {
   "cell_type": "markdown",
   "metadata": {},
   "source": [
    "# Physics based model RMSE"
   ]
  },
  {
   "cell_type": "code",
   "execution_count": 38,
   "metadata": {},
   "outputs": [],
   "source": [
    "# import math\n",
    "# train_sum=0\n",
    "# for i in range(len(host_names_train)):\n",
    "#     new_df = df[(df['complex-name'] == host_names_train[i])]\n",
    "#     train_sum += new_df['gb_Ex_difference'].to_numpy()[0] **2\n",
    "\n",
    "\n",
    "# test_sum = 0\n",
    "# for i in range(len(host_names_test)):\n",
    "#     new_df = df[(df['complex-name'] == host_names_test[i])]\n",
    "#     test_sum += new_df['gb_Ex_difference'].to_numpy()[0] **2\n",
    "    "
   ]
  },
  {
   "cell_type": "code",
   "execution_count": 39,
   "metadata": {},
   "outputs": [],
   "source": [
    "# physics_based_rmse_train = math.sqrt(train_sum / len(host_names_train))"
   ]
  },
  {
   "cell_type": "code",
   "execution_count": 40,
   "metadata": {},
   "outputs": [],
   "source": [
    "# physics_based_rmse_test = math.sqrt((test_sum) / len(host_names_test))"
   ]
  },
  {
   "cell_type": "code",
   "execution_count": 41,
   "metadata": {},
   "outputs": [],
   "source": [
    "# print(f\"RMSE on training set is : {physics_based_rmse_train}\")\n",
    "# print(f\"RMSE on testing set is : {physics_based_rmse_test}\")\n",
    "# # Total rmse\n",
    "# total_rmse_physics = np.sqrt(np.mean((df['EX _H_(kcal/mol)'].to_numpy() - df['gb_delta_H'].to_numpy())**2))\n",
    "# print(f\"RMSE of the total data: {total_rmse_physics}\")"
   ]
  },
  {
   "cell_type": "code",
   "execution_count": 42,
   "metadata": {},
   "outputs": [],
   "source": [
    "# # RMSE gbnsr6 vs experimental\n",
    "# from sklearn.metrics import mean_squared_error\n",
    "# import math\n",
    "# mse_gb_ex = mean_squared_error(df['EX _delta_H_(kcal/mol)'], df['gb_delta_H'])\n",
    "# rmse_gbnsr6_ex = math.sqrt(mse_gb_ex)\n",
    "# print(rmse_gbnsr6_ex)"
   ]
  },
  {
   "cell_type": "code",
   "execution_count": 43,
   "metadata": {},
   "outputs": [],
   "source": [
    "# # RMSE pbsa vs experimental\n",
    "# mse_pb_ex = mean_squared_error(df['EX _delta_H_(kcal/mol)'], df['pb_delta_H'])\n",
    "# rmse_pbsa_ex = math.sqrt(mse_pb_ex)\n",
    "# print(rmse_pbsa_ex)"
   ]
  },
  {
   "cell_type": "code",
   "execution_count": 44,
   "metadata": {},
   "outputs": [],
   "source": [
    "# # RMSE gbnsr6 vs pbsa\n",
    "# mse_gb_pb = mean_squared_error(df['pb_delta_H'], df['gb_delta_H'])\n",
    "# rmse_gb_pb = math.sqrt(mse_gb_pb)\n",
    "# print(rmse_gb_pb)"
   ]
  },
  {
   "cell_type": "code",
   "execution_count": 45,
   "metadata": {},
   "outputs": [],
   "source": [
    "# import matplotlib.pyplot as plt\n",
    "\n",
    "# plt.title(\"Experimental vs GBNSR6\")\n",
    "# plt.scatter(x=df['EX _H_(kcal/mol)'], y=df['gb_delta_H'])\n",
    "# plt.xlabel(\"Experimental Delta H\")\n",
    "# plt.ylabel(\"GBNSR6 Delta H\")\n",
    "# plt.xlim(-25, 5)\n",
    "# plt.ylim(-25,5)\n",
    "\n",
    "# #reference line\n",
    "# plt.plot([-25, 5], [-25, 5], color='green', lw=1)"
   ]
  },
  {
   "cell_type": "code",
   "execution_count": 46,
   "metadata": {},
   "outputs": [],
   "source": [
    "# plt.title(\"Experimental vs PBSA\")\n",
    "# plt.scatter(x=df['EX _H_(kcal/mol)'] ,y=df['pb_delta_H'], color='orange')\n",
    "# plt.xlabel(\"Experimental Delta H\")\n",
    "# plt.ylabel(\"PBSA Delta H\")\n",
    "# plt.xlim(-25, 5)\n",
    "# plt.ylim(-25,5)\n",
    "# #reference line\n",
    "# plt.plot([-25,5],[-25,5], color='green')"
   ]
  },
  {
   "cell_type": "code",
   "execution_count": 47,
   "metadata": {},
   "outputs": [],
   "source": [
    "# ax = plt.subplot()\n",
    "# # plt.title(\"PBSA vs GBNSR6\")\n",
    "# plt.xlabel('Experimental ∆H (kcal/mol)')\n",
    "# plt.ylabel('Physics-based model ∆H (kcal/mol)')\n",
    "# ax.scatter(x=df[\"EX _H_(kcal/mol)\"], y=df['gb_delta_H'], label=\"GBNSR6\")\n",
    "# ax.scatter(x=df[\"EX _H_(kcal/mol)\"], y=df['pb_delta_H'], label=\"PBSA\", color=\"orange\")\n",
    "# plt.xlim(-25,5)\n",
    "# plt.ylim(-25,5)\n",
    "# #reference line\n",
    "# plt.plot([-25,5],[-25,5],color='green')\n",
    "# plt.legend()\n",
    "# plt.savefig('gb-pb.png')"
   ]
  },
  {
   "cell_type": "code",
   "execution_count": 48,
   "metadata": {},
   "outputs": [],
   "source": [
    "# gb_correlation_matrix = np.corrcoef(df['gb_delta_H'], df['EX _H_(kcal/mol)'])\n",
    "# gb_correlation_gbex = gb_correlation_matrix[0,1]\n",
    "# gb_r_squared = gb_correlation_gbex**2\n",
    "# print(gb_r_squared)"
   ]
  },
  {
   "cell_type": "code",
   "execution_count": 49,
   "metadata": {},
   "outputs": [],
   "source": [
    "# pb_correlation_matrix = np.corrcoef(df['pb_delta_H'], df['EX _H_(kcal/mol)'])\n",
    "# pb_correlation_pbex = pb_correlation_matrix[0,1]\n",
    "# pb_r_squared = pb_correlation_pbex**2\n",
    "# print(pb_r_squared)"
   ]
  },
  {
   "cell_type": "code",
   "execution_count": 50,
   "metadata": {},
   "outputs": [],
   "source": [
    "# pbgb_correlation_matrix = np.corrcoef(df['gb_delta_H'], df['pb_delta_H'])\n",
    "# pbgb_correlation = pbgb_correlation_matrix[0,1]\n",
    "# pbgb_r_squared = pbgb_correlation**2\n",
    "# print(pbgb_r_squared)"
   ]
  },
  {
   "cell_type": "markdown",
   "metadata": {},
   "source": [
    "<h1> Data Driven Model </h1>"
   ]
  },
  {
   "cell_type": "code",
   "execution_count": 51,
   "metadata": {},
   "outputs": [],
   "source": [
    "## !!!!!!!! important\n",
    "## !!!!!!!! important\n",
    "## !!!!!!!! important\n",
    "## !!!!!!!! important\n",
    "input_shapes = [i.shape for i in x_preprocessed_train]"
   ]
  },
  {
   "cell_type": "code",
   "execution_count": 52,
   "metadata": {},
   "outputs": [],
   "source": [
    "sahar_dd_test_accuracy = []\n",
    "sahar_dd_train_accuracy = []"
   ]
  },
  {
   "cell_type": "code",
   "execution_count": 53,
   "metadata": {},
   "outputs": [
    {
     "data": {
      "text/plain": [
       "24"
      ]
     },
     "execution_count": 53,
     "metadata": {},
     "output_type": "execute_result"
    }
   ],
   "source": [
    "batch_size = int(len(pdb_names_train)/4)\n",
    "batch_size\n",
    "# batch_size=10"
   ]
  },
  {
   "cell_type": "code",
   "execution_count": 54,
   "metadata": {},
   "outputs": [],
   "source": [
    "from deepchem.models.layers import GraphConv, GraphPool, GraphGather\n",
    "import tensorflow as tf\n",
    "import tensorflow.keras.layers as layers\n",
    "from tensorflow.keras.layers import Dense, Input, BatchNormalization, Concatenate\n",
    "from tensorflow.keras import initializers\n",
    "\n",
    "# batch_size = int(len(df) / 2)\n",
    "\n",
    "class GBGraphConvModel(tf.keras.Model):\n",
    "   \n",
    "    def modify_graphgather(self, batch_size):\n",
    "        self.readout.batch_size = batch_size\n",
    "        self.batch_size = batch_size\n",
    "\n",
    "    def __init__(self, batch_size):\n",
    "        super(GBGraphConvModel, self).__init__()\n",
    "        self.input_shapes = None\n",
    "        self.batch_size = batch_size\n",
    "        self.gc1 = GraphConv(32, activation_fn=tf.nn.tanh)\n",
    "        self.batch_norm1 = layers.BatchNormalization()\n",
    "        self.gp1 = GraphPool()\n",
    "\n",
    "        self.gc2 = GraphConv(32, activation_fn=tf.nn.tanh)\n",
    "        self.batch_norm2 = layers.BatchNormalization()\n",
    "        self.gp2 = GraphPool()\n",
    "\n",
    "        self.dense1 = layers.Dense(64, activation=tf.nn.tanh)\n",
    "        self.batch_norm3 = layers.BatchNormalization()\n",
    "        self.readout = GraphGather(batch_size=self.batch_size, activation_fn=tf.nn.tanh)\n",
    "\n",
    "        self.dense2 = layers.Dense(1)\n",
    "    #     self.dense3 = layers.Dense(1, \n",
    "    #          kernel_initializer=initializers.Constant([.5, -1, -1, 1, 1, 1, 1, 1, -1, -1, -1, -1, -1, -1, -1, -1]),\n",
    "    #          bias_initializer=initializers.Zeros())\n",
    "\n",
    "    def call(self, inputs):\n",
    "        inputs = inputs[0]\n",
    "        x = []\n",
    "    #     input_shapes = [[4822, 75], [11, 2], [4822], [1142, 1], [1635, 2], [2042, 3],\n",
    "    #                    [3, 4], [0, 5], [0, 6], [0, 7], [0, 8], [0, 9], [0, 10]]\n",
    "        for i in range(len(self.input_shapes)):\n",
    "            x.append(tf.reshape(inputs[i][inputs[i] != 1.123456], self.input_shapes[i]))\n",
    "        for i in range(1, len(self.input_shapes)):\n",
    "            x[i] = tf.cast(x[i], tf.int32)\n",
    "        x_add = tf.reshape(inputs[13][inputs[13] != 1.123456], [self.batch_size, 16])\n",
    "        gc1_output = self.gc1(x)\n",
    "        batch_norm1_output = self.batch_norm1(gc1_output)\n",
    "        gp1_output = self.gp1([batch_norm1_output] + x[1:])\n",
    "\n",
    "        gc2_output = self.gc2([gp1_output] + x[1:])\n",
    "        batch_norm2_output = self.batch_norm1(gc2_output)\n",
    "        gp2_output = self.gp2([batch_norm2_output] + x[1:])\n",
    "\n",
    "        dense1_output = self.dense1(gp2_output)\n",
    "        batch_norm3_output = self.batch_norm3(dense1_output)\n",
    "        readout_output = self.readout([batch_norm3_output] + x[1:])\n",
    "\n",
    "        model_var = self.dense2(readout_output)\n",
    "    #     binding_affinity = tf.concat([model_var, x_add], axis=1)\n",
    "        return model_var #self.dense3(binding_affinity)\n",
    "sahar_dd_model = GBGraphConvModel(train_split_index)\n",
    "sahar_dd_model.compile(loss='mse', optimizer=\"adam\")"
   ]
  },
  {
   "cell_type": "code",
   "execution_count": 55,
   "metadata": {},
   "outputs": [
    {
     "name": "stderr",
     "output_type": "stream",
     "text": [
      "/Users/misspotato/opt/miniconda3/envs/rdkit-deepchem-jupyter/lib/python3.9/site-packages/tensorflow/python/framework/indexed_slices.py:447: UserWarning: Converting sparse IndexedSlices(IndexedSlices(indices=Tensor(\"gradient_tape/gb_graph_conv_model_1/graph_pool_3/Reshape_14:0\", shape=(83387,), dtype=int32), values=Tensor(\"gradient_tape/gb_graph_conv_model_1/graph_pool_3/Reshape_13:0\", shape=(83387, 32), dtype=float32), dense_shape=Tensor(\"gradient_tape/gb_graph_conv_model_1/graph_pool_3/Cast_4:0\", shape=(2,), dtype=int32))) to a dense Tensor of unknown shape. This may consume a large amount of memory.\n",
      "  warnings.warn(\n",
      "/Users/misspotato/opt/miniconda3/envs/rdkit-deepchem-jupyter/lib/python3.9/site-packages/tensorflow/python/framework/indexed_slices.py:447: UserWarning: Converting sparse IndexedSlices(IndexedSlices(indices=Tensor(\"gradient_tape/gb_graph_conv_model_1/graph_pool_3/Reshape_17:0\", shape=(205678,), dtype=int32), values=Tensor(\"gradient_tape/gb_graph_conv_model_1/graph_pool_3/Reshape_16:0\", shape=(205678, 32), dtype=float32), dense_shape=Tensor(\"gradient_tape/gb_graph_conv_model_1/graph_pool_3/Cast_5:0\", shape=(2,), dtype=int32))) to a dense Tensor of unknown shape. This may consume a large amount of memory.\n",
      "  warnings.warn(\n",
      "/Users/misspotato/opt/miniconda3/envs/rdkit-deepchem-jupyter/lib/python3.9/site-packages/tensorflow/python/framework/indexed_slices.py:447: UserWarning: Converting sparse IndexedSlices(IndexedSlices(indices=Tensor(\"gradient_tape/gb_graph_conv_model_1/graph_pool_3/Reshape_20:0\", shape=(290367,), dtype=int32), values=Tensor(\"gradient_tape/gb_graph_conv_model_1/graph_pool_3/Reshape_19:0\", shape=(290367, 32), dtype=float32), dense_shape=Tensor(\"gradient_tape/gb_graph_conv_model_1/graph_pool_3/Cast_6:0\", shape=(2,), dtype=int32))) to a dense Tensor of unknown shape. This may consume a large amount of memory.\n",
      "  warnings.warn(\n",
      "/Users/misspotato/opt/miniconda3/envs/rdkit-deepchem-jupyter/lib/python3.9/site-packages/tensorflow/python/framework/indexed_slices.py:447: UserWarning: Converting sparse IndexedSlices(IndexedSlices(indices=Tensor(\"gradient_tape/gb_graph_conv_model_1/graph_pool_3/Reshape_23:0\", shape=(188,), dtype=int32), values=Tensor(\"gradient_tape/gb_graph_conv_model_1/graph_pool_3/Reshape_22:0\", shape=(188, 32), dtype=float32), dense_shape=Tensor(\"gradient_tape/gb_graph_conv_model_1/graph_pool_3/Cast_7:0\", shape=(2,), dtype=int32))) to a dense Tensor of unknown shape. This may consume a large amount of memory.\n",
      "  warnings.warn(\n",
      "/Users/misspotato/opt/miniconda3/envs/rdkit-deepchem-jupyter/lib/python3.9/site-packages/tensorflow/python/framework/indexed_slices.py:447: UserWarning: Converting sparse IndexedSlices(IndexedSlices(indices=Tensor(\"gradient_tape/gb_graph_conv_model_1/graph_conv_3/Reshape_11:0\", shape=(83387,), dtype=int32), values=Tensor(\"gradient_tape/gb_graph_conv_model_1/graph_conv_3/Reshape_10:0\", shape=(83387, 32), dtype=float32), dense_shape=Tensor(\"gradient_tape/gb_graph_conv_model_1/graph_conv_3/Cast:0\", shape=(2,), dtype=int32))) to a dense Tensor of unknown shape. This may consume a large amount of memory.\n",
      "  warnings.warn(\n",
      "/Users/misspotato/opt/miniconda3/envs/rdkit-deepchem-jupyter/lib/python3.9/site-packages/tensorflow/python/framework/indexed_slices.py:447: UserWarning: Converting sparse IndexedSlices(IndexedSlices(indices=Tensor(\"gradient_tape/gb_graph_conv_model_1/graph_conv_3/Reshape_13:0\", shape=(205678,), dtype=int32), values=Tensor(\"gradient_tape/gb_graph_conv_model_1/graph_conv_3/Reshape_12:0\", shape=(205678, 32), dtype=float32), dense_shape=Tensor(\"gradient_tape/gb_graph_conv_model_1/graph_conv_3/Cast_1:0\", shape=(2,), dtype=int32))) to a dense Tensor of unknown shape. This may consume a large amount of memory.\n",
      "  warnings.warn(\n",
      "/Users/misspotato/opt/miniconda3/envs/rdkit-deepchem-jupyter/lib/python3.9/site-packages/tensorflow/python/framework/indexed_slices.py:447: UserWarning: Converting sparse IndexedSlices(IndexedSlices(indices=Tensor(\"gradient_tape/gb_graph_conv_model_1/graph_conv_3/Reshape_15:0\", shape=(290367,), dtype=int32), values=Tensor(\"gradient_tape/gb_graph_conv_model_1/graph_conv_3/Reshape_14:0\", shape=(290367, 32), dtype=float32), dense_shape=Tensor(\"gradient_tape/gb_graph_conv_model_1/graph_conv_3/Cast_2:0\", shape=(2,), dtype=int32))) to a dense Tensor of unknown shape. This may consume a large amount of memory.\n",
      "  warnings.warn(\n",
      "/Users/misspotato/opt/miniconda3/envs/rdkit-deepchem-jupyter/lib/python3.9/site-packages/tensorflow/python/framework/indexed_slices.py:447: UserWarning: Converting sparse IndexedSlices(IndexedSlices(indices=Tensor(\"gradient_tape/gb_graph_conv_model_1/graph_conv_3/Reshape_17:0\", shape=(188,), dtype=int32), values=Tensor(\"gradient_tape/gb_graph_conv_model_1/graph_conv_3/Reshape_16:0\", shape=(188, 32), dtype=float32), dense_shape=Tensor(\"gradient_tape/gb_graph_conv_model_1/graph_conv_3/Cast_3:0\", shape=(2,), dtype=int32))) to a dense Tensor of unknown shape. This may consume a large amount of memory.\n",
      "  warnings.warn(\n",
      "/Users/misspotato/opt/miniconda3/envs/rdkit-deepchem-jupyter/lib/python3.9/site-packages/tensorflow/python/framework/indexed_slices.py:447: UserWarning: Converting sparse IndexedSlices(IndexedSlices(indices=Tensor(\"gradient_tape/gb_graph_conv_model_1/graph_conv_3/Reshape_19:0\", shape=(0,), dtype=int32), values=Tensor(\"gradient_tape/gb_graph_conv_model_1/graph_conv_3/Reshape_18:0\", shape=(0, 32), dtype=float32), dense_shape=Tensor(\"gradient_tape/gb_graph_conv_model_1/graph_conv_3/Cast_4:0\", shape=(2,), dtype=int32))) to a dense Tensor of unknown shape. This may consume a large amount of memory.\n",
      "  warnings.warn(\n",
      "/Users/misspotato/opt/miniconda3/envs/rdkit-deepchem-jupyter/lib/python3.9/site-packages/tensorflow/python/framework/indexed_slices.py:447: UserWarning: Converting sparse IndexedSlices(IndexedSlices(indices=Tensor(\"gradient_tape/gb_graph_conv_model_1/graph_conv_3/Reshape_21:0\", shape=(0,), dtype=int32), values=Tensor(\"gradient_tape/gb_graph_conv_model_1/graph_conv_3/Reshape_20:0\", shape=(0, 32), dtype=float32), dense_shape=Tensor(\"gradient_tape/gb_graph_conv_model_1/graph_conv_3/Cast_5:0\", shape=(2,), dtype=int32))) to a dense Tensor of unknown shape. This may consume a large amount of memory.\n",
      "  warnings.warn(\n",
      "/Users/misspotato/opt/miniconda3/envs/rdkit-deepchem-jupyter/lib/python3.9/site-packages/tensorflow/python/framework/indexed_slices.py:447: UserWarning: Converting sparse IndexedSlices(IndexedSlices(indices=Tensor(\"gradient_tape/gb_graph_conv_model_1/graph_conv_3/Reshape_23:0\", shape=(0,), dtype=int32), values=Tensor(\"gradient_tape/gb_graph_conv_model_1/graph_conv_3/Reshape_22:0\", shape=(0, 32), dtype=float32), dense_shape=Tensor(\"gradient_tape/gb_graph_conv_model_1/graph_conv_3/Cast_6:0\", shape=(2,), dtype=int32))) to a dense Tensor of unknown shape. This may consume a large amount of memory.\n",
      "  warnings.warn(\n",
      "/Users/misspotato/opt/miniconda3/envs/rdkit-deepchem-jupyter/lib/python3.9/site-packages/tensorflow/python/framework/indexed_slices.py:447: UserWarning: Converting sparse IndexedSlices(IndexedSlices(indices=Tensor(\"gradient_tape/gb_graph_conv_model_1/graph_conv_3/Reshape_25:0\", shape=(0,), dtype=int32), values=Tensor(\"gradient_tape/gb_graph_conv_model_1/graph_conv_3/Reshape_24:0\", shape=(0, 32), dtype=float32), dense_shape=Tensor(\"gradient_tape/gb_graph_conv_model_1/graph_conv_3/Cast_7:0\", shape=(2,), dtype=int32))) to a dense Tensor of unknown shape. This may consume a large amount of memory.\n",
      "  warnings.warn(\n",
      "/Users/misspotato/opt/miniconda3/envs/rdkit-deepchem-jupyter/lib/python3.9/site-packages/tensorflow/python/framework/indexed_slices.py:447: UserWarning: Converting sparse IndexedSlices(IndexedSlices(indices=Tensor(\"gradient_tape/gb_graph_conv_model_1/graph_conv_3/Reshape_27:0\", shape=(0,), dtype=int32), values=Tensor(\"gradient_tape/gb_graph_conv_model_1/graph_conv_3/Reshape_26:0\", shape=(0, 32), dtype=float32), dense_shape=Tensor(\"gradient_tape/gb_graph_conv_model_1/graph_conv_3/Cast_8:0\", shape=(2,), dtype=int32))) to a dense Tensor of unknown shape. This may consume a large amount of memory.\n",
      "  warnings.warn(\n",
      "/Users/misspotato/opt/miniconda3/envs/rdkit-deepchem-jupyter/lib/python3.9/site-packages/tensorflow/python/framework/indexed_slices.py:447: UserWarning: Converting sparse IndexedSlices(IndexedSlices(indices=Tensor(\"gradient_tape/gb_graph_conv_model_1/graph_conv_3/Reshape_29:0\", shape=(0,), dtype=int32), values=Tensor(\"gradient_tape/gb_graph_conv_model_1/graph_conv_3/Reshape_28:0\", shape=(0, 32), dtype=float32), dense_shape=Tensor(\"gradient_tape/gb_graph_conv_model_1/graph_conv_3/Cast_9:0\", shape=(2,), dtype=int32))) to a dense Tensor of unknown shape. This may consume a large amount of memory.\n",
      "  warnings.warn(\n",
      "/Users/misspotato/opt/miniconda3/envs/rdkit-deepchem-jupyter/lib/python3.9/site-packages/tensorflow/python/framework/indexed_slices.py:447: UserWarning: Converting sparse IndexedSlices(IndexedSlices(indices=Tensor(\"gradient_tape/gb_graph_conv_model_1/graph_pool_2/Reshape_14:0\", shape=(83387,), dtype=int32), values=Tensor(\"gradient_tape/gb_graph_conv_model_1/graph_pool_2/Reshape_13:0\", shape=(83387, 32), dtype=float32), dense_shape=Tensor(\"gradient_tape/gb_graph_conv_model_1/graph_pool_2/Cast_4:0\", shape=(2,), dtype=int32))) to a dense Tensor of unknown shape. This may consume a large amount of memory.\n",
      "  warnings.warn(\n",
      "/Users/misspotato/opt/miniconda3/envs/rdkit-deepchem-jupyter/lib/python3.9/site-packages/tensorflow/python/framework/indexed_slices.py:447: UserWarning: Converting sparse IndexedSlices(IndexedSlices(indices=Tensor(\"gradient_tape/gb_graph_conv_model_1/graph_pool_2/Reshape_17:0\", shape=(205678,), dtype=int32), values=Tensor(\"gradient_tape/gb_graph_conv_model_1/graph_pool_2/Reshape_16:0\", shape=(205678, 32), dtype=float32), dense_shape=Tensor(\"gradient_tape/gb_graph_conv_model_1/graph_pool_2/Cast_5:0\", shape=(2,), dtype=int32))) to a dense Tensor of unknown shape. This may consume a large amount of memory.\n",
      "  warnings.warn(\n",
      "/Users/misspotato/opt/miniconda3/envs/rdkit-deepchem-jupyter/lib/python3.9/site-packages/tensorflow/python/framework/indexed_slices.py:447: UserWarning: Converting sparse IndexedSlices(IndexedSlices(indices=Tensor(\"gradient_tape/gb_graph_conv_model_1/graph_pool_2/Reshape_20:0\", shape=(290367,), dtype=int32), values=Tensor(\"gradient_tape/gb_graph_conv_model_1/graph_pool_2/Reshape_19:0\", shape=(290367, 32), dtype=float32), dense_shape=Tensor(\"gradient_tape/gb_graph_conv_model_1/graph_pool_2/Cast_6:0\", shape=(2,), dtype=int32))) to a dense Tensor of unknown shape. This may consume a large amount of memory.\n",
      "  warnings.warn(\n",
      "/Users/misspotato/opt/miniconda3/envs/rdkit-deepchem-jupyter/lib/python3.9/site-packages/tensorflow/python/framework/indexed_slices.py:447: UserWarning: Converting sparse IndexedSlices(IndexedSlices(indices=Tensor(\"gradient_tape/gb_graph_conv_model_1/graph_pool_2/Reshape_23:0\", shape=(188,), dtype=int32), values=Tensor(\"gradient_tape/gb_graph_conv_model_1/graph_pool_2/Reshape_22:0\", shape=(188, 32), dtype=float32), dense_shape=Tensor(\"gradient_tape/gb_graph_conv_model_1/graph_pool_2/Cast_7:0\", shape=(2,), dtype=int32))) to a dense Tensor of unknown shape. This may consume a large amount of memory.\n",
      "  warnings.warn(\n"
     ]
    },
    {
     "name": "stdout",
     "output_type": "stream",
     "text": [
      "1/1 [==============================] - 10s 10s/step - loss: 95.6094\n",
      "1/1 [==============================] - 2s 2s/step - loss: 100.9049\n",
      "1/1 [==============================] - 5s 5s/step - loss: 90.8892\n",
      "1/1 [==============================] - 2s 2s/step - loss: 98.1778\n",
      "1/1 [==============================] - 3s 3s/step - loss: 85.5456\n",
      "1/1 [==============================] - 1s 1s/step - loss: 97.9681\n",
      "1/1 [==============================] - 5s 5s/step - loss: 82.0007\n",
      "1/1 [==============================] - 1s 1s/step - loss: 94.1764\n",
      "1/1 [==============================] - 6s 6s/step - loss: 79.5815\n",
      "1/1 [==============================] - 2s 2s/step - loss: 92.9530\n",
      "1/1 [==============================] - 6s 6s/step - loss: 76.4181\n",
      "1/1 [==============================] - 1s 1s/step - loss: 92.6078\n",
      "1/1 [==============================] - 3s 3s/step - loss: 73.7903\n",
      "1/1 [==============================] - 1s 928ms/step - loss: 92.3156\n",
      "1/1 [==============================] - 5s 5s/step - loss: 71.4124\n",
      "1/1 [==============================] - 1s 1s/step - loss: 92.2393\n",
      "1/1 [==============================] - 5s 5s/step - loss: 67.4285\n",
      "1/1 [==============================] - 1s 965ms/step - loss: 92.1909\n",
      "1/1 [==============================] - 5s 5s/step - loss: 64.7000\n",
      "1/1 [==============================] - 1s 1s/step - loss: 91.9481\n",
      "1/1 [==============================] - 3s 3s/step - loss: 62.7495\n",
      "1/1 [==============================] - 1s 928ms/step - loss: 91.5009\n",
      "1/1 [==============================] - 4s 4s/step - loss: 61.1003\n",
      "1/1 [==============================] - 1s 1s/step - loss: 91.0544\n",
      "1/1 [==============================] - 4s 4s/step - loss: 58.7019\n",
      "1/1 [==============================] - 1s 1s/step - loss: 90.5432\n",
      "1/1 [==============================] - 4s 4s/step - loss: 55.7039\n",
      "1/1 [==============================] - 1s 1s/step - loss: 90.0242\n",
      "1/1 [==============================] - 3s 3s/step - loss: 53.6128\n",
      "1/1 [==============================] - 1s 1s/step - loss: 89.8103\n",
      "1/1 [==============================] - 4s 4s/step - loss: 51.4830\n",
      "1/1 [==============================] - 1s 1s/step - loss: 89.4662\n",
      "1/1 [==============================] - 4s 4s/step - loss: 49.5319\n",
      "1/1 [==============================] - 1s 1s/step - loss: 89.2022\n",
      "1/1 [==============================] - 5s 5s/step - loss: 47.5362\n",
      "1/1 [==============================] - 1s 959ms/step - loss: 89.2318\n",
      "1/1 [==============================] - 3s 3s/step - loss: 45.6362\n",
      "1/1 [==============================] - 1s 1s/step - loss: 88.8010\n",
      "1/1 [==============================] - 4s 4s/step - loss: 43.5960\n",
      "1/1 [==============================] - 1s 1s/step - loss: 88.2261\n",
      "1/1 [==============================] - 4s 4s/step - loss: 41.5849\n",
      "1/1 [==============================] - 1s 1s/step - loss: 87.6857\n",
      "1/1 [==============================] - 5s 5s/step - loss: 39.4114\n",
      "1/1 [==============================] - 1s 1s/step - loss: 86.4042\n",
      "1/1 [==============================] - 3s 3s/step - loss: 37.4142\n",
      "1/1 [==============================] - 1s 1s/step - loss: 86.1485\n",
      "1/1 [==============================] - 5s 5s/step - loss: 35.7549\n",
      "1/1 [==============================] - 1s 1s/step - loss: 86.6062\n",
      "1/1 [==============================] - 5s 5s/step - loss: 34.2149\n",
      "1/1 [==============================] - 1s 1s/step - loss: 87.4885\n",
      "1/1 [==============================] - 5s 5s/step - loss: 32.3075\n",
      "1/1 [==============================] - 1s 914ms/step - loss: 87.5597\n",
      "1/1 [==============================] - 3s 3s/step - loss: 30.2707\n",
      "1/1 [==============================] - 1s 898ms/step - loss: 87.0753\n",
      "1/1 [==============================] - 4s 4s/step - loss: 28.0015\n",
      "1/1 [==============================] - 1s 1s/step - loss: 86.3010\n",
      "1/1 [==============================] - 4s 4s/step - loss: 26.6377\n",
      "1/1 [==============================] - 1s 1s/step - loss: 85.4224\n",
      "1/1 [==============================] - 5s 5s/step - loss: 25.3381\n",
      "1/1 [==============================] - 1s 1s/step - loss: 84.5750\n",
      "1/1 [==============================] - 4s 4s/step - loss: 23.8015\n",
      "1/1 [==============================] - 1s 1s/step - loss: 83.2980\n",
      "1/1 [==============================] - 5s 5s/step - loss: 22.7945\n",
      "1/1 [==============================] - 1s 1s/step - loss: 82.2517\n",
      "1/1 [==============================] - 5s 5s/step - loss: 21.5239\n",
      "1/1 [==============================] - 2s 2s/step - loss: 80.5238\n",
      "1/1 [==============================] - 5s 5s/step - loss: 19.8544\n",
      "1/1 [==============================] - 1s 949ms/step - loss: 79.6964\n",
      "1/1 [==============================] - 3s 3s/step - loss: 18.7312\n",
      "1/1 [==============================] - 1s 1s/step - loss: 78.6481\n",
      "1/1 [==============================] - 5s 5s/step - loss: 17.9018\n",
      "1/1 [==============================] - 2s 2s/step - loss: 78.3313\n",
      "1/1 [==============================] - 5s 5s/step - loss: 16.8730\n",
      "1/1 [==============================] - 2s 2s/step - loss: 77.3205\n",
      "1/1 [==============================] - 5s 5s/step - loss: 16.1868\n",
      "1/1 [==============================] - 1s 918ms/step - loss: 77.9133\n",
      "1/1 [==============================] - 3s 3s/step - loss: 15.3690\n",
      "1/1 [==============================] - 1s 992ms/step - loss: 78.0043\n",
      "1/1 [==============================] - 4s 4s/step - loss: 14.7123\n",
      "1/1 [==============================] - 1s 1s/step - loss: 77.1423\n",
      "1/1 [==============================] - 4s 4s/step - loss: 14.2563\n",
      "1/1 [==============================] - 1s 1s/step - loss: 76.6905\n",
      "1/1 [==============================] - 5s 5s/step - loss: 13.7125\n",
      "1/1 [==============================] - 1s 877ms/step - loss: 76.5134\n",
      "1/1 [==============================] - 3s 3s/step - loss: 13.2848\n",
      "1/1 [==============================] - 1s 961ms/step - loss: 77.8335\n",
      "1/1 [==============================] - 4s 4s/step - loss: 12.8082\n",
      "1/1 [==============================] - 1s 1s/step - loss: 78.3066\n",
      "1/1 [==============================] - 4s 4s/step - loss: 12.4302\n",
      "1/1 [==============================] - 1s 1s/step - loss: 79.2931\n",
      "1/1 [==============================] - 4s 4s/step - loss: 12.1017\n",
      "1/1 [==============================] - 1s 942ms/step - loss: 79.0607\n",
      "1/1 [==============================] - 3s 3s/step - loss: 11.7809\n",
      "1/1 [==============================] - 1s 1s/step - loss: 78.8436\n",
      "1/1 [==============================] - 4s 4s/step - loss: 11.4780\n",
      "1/1 [==============================] - 1s 1s/step - loss: 78.8292\n",
      "1/1 [==============================] - 4s 4s/step - loss: 11.1483\n",
      "1/1 [==============================] - 1s 1s/step - loss: 79.4424\n",
      "1/1 [==============================] - 5s 5s/step - loss: 10.8419\n",
      "1/1 [==============================] - 1s 991ms/step - loss: 80.0643\n",
      "1/1 [==============================] - 3s 3s/step - loss: 10.5484\n",
      "1/1 [==============================] - 1s 888ms/step - loss: 80.3611\n",
      "1/1 [==============================] - 4s 4s/step - loss: 10.3214\n",
      "1/1 [==============================] - 1s 1s/step - loss: 81.2096\n",
      "1/1 [==============================] - 4s 4s/step - loss: 10.1201\n",
      "1/1 [==============================] - 1s 1s/step - loss: 81.9561\n",
      "1/1 [==============================] - 4s 4s/step - loss: 9.9563\n",
      "1/1 [==============================] - 1s 965ms/step - loss: 82.6600\n",
      "1/1 [==============================] - 3s 3s/step - loss: 9.6704\n",
      "1/1 [==============================] - 1s 1s/step - loss: 82.6210\n",
      "1/1 [==============================] - 4s 4s/step - loss: 9.4434\n",
      "1/1 [==============================] - 1s 983ms/step - loss: 82.7523\n",
      "1/1 [==============================] - 4s 4s/step - loss: 9.3326\n",
      "1/1 [==============================] - 1s 1s/step - loss: 82.3826\n",
      "1/1 [==============================] - 4s 4s/step - loss: 9.2167\n",
      "1/1 [==============================] - 1s 863ms/step - loss: 81.6478\n",
      "1/1 [==============================] - 3s 3s/step - loss: 9.1391\n",
      "1/1 [==============================] - 1s 893ms/step - loss: 80.2114\n",
      "1/1 [==============================] - 4s 4s/step - loss: 9.1029\n",
      "1/1 [==============================] - 1s 923ms/step - loss: 78.9589\n",
      "1/1 [==============================] - 4s 4s/step - loss: 9.0558\n",
      "1/1 [==============================] - 1s 1s/step - loss: 78.7097\n",
      "1/1 [==============================] - 4s 4s/step - loss: 8.9737\n"
     ]
    },
    {
     "name": "stdout",
     "output_type": "stream",
     "text": [
      "1/1 [==============================] - 1s 875ms/step - loss: 77.9349\n",
      "1/1 [==============================] - 3s 3s/step - loss: 8.8919\n",
      "1/1 [==============================] - 1s 937ms/step - loss: 77.2897\n",
      "1/1 [==============================] - 4s 4s/step - loss: 8.8502\n",
      "1/1 [==============================] - 1s 1s/step - loss: 77.4207\n",
      "1/1 [==============================] - 4s 4s/step - loss: 8.8169\n",
      "1/1 [==============================] - 1s 1s/step - loss: 77.3882\n",
      "1/1 [==============================] - 2s 2s/step - loss: 8.7673\n",
      "1/1 [==============================] - 1s 866ms/step - loss: 76.4903\n",
      "1/1 [==============================] - 4s 4s/step - loss: 8.7324\n",
      "1/1 [==============================] - 1s 1s/step - loss: 76.9749\n",
      "1/1 [==============================] - 4s 4s/step - loss: 8.7038\n",
      "1/1 [==============================] - 1s 1s/step - loss: 78.4590\n",
      "1/1 [==============================] - 4s 4s/step - loss: 8.6869\n",
      "1/1 [==============================] - 1s 934ms/step - loss: 78.3754\n",
      "1/1 [==============================] - 3s 3s/step - loss: 8.6744\n",
      "1/1 [==============================] - 1s 898ms/step - loss: 78.3830\n",
      "1/1 [==============================] - 4s 4s/step - loss: 8.6693\n",
      "1/1 [==============================] - 1s 1s/step - loss: 78.8724\n",
      "1/1 [==============================] - 4s 4s/step - loss: 8.6600\n",
      "1/1 [==============================] - 1s 1s/step - loss: 78.7772\n",
      "1/1 [==============================] - 4s 4s/step - loss: 8.6516\n",
      "1/1 [==============================] - 1s 1s/step - loss: 78.7574\n",
      "1/1 [==============================] - 3s 3s/step - loss: 8.6452\n",
      "1/1 [==============================] - 1s 865ms/step - loss: 79.0832\n",
      "1/1 [==============================] - 4s 4s/step - loss: 8.6379\n",
      "1/1 [==============================] - 1s 1s/step - loss: 79.1408\n",
      "1/1 [==============================] - 4s 4s/step - loss: 8.6345\n",
      "1/1 [==============================] - 1s 1s/step - loss: 79.8976\n",
      "1/1 [==============================] - 4s 4s/step - loss: 8.6310\n",
      "1/1 [==============================] - 1s 1s/step - loss: 80.4812\n",
      "1/1 [==============================] - 3s 3s/step - loss: 8.6239\n",
      "1/1 [==============================] - 1s 961ms/step - loss: 80.2802\n",
      "1/1 [==============================] - 4s 4s/step - loss: 8.6049\n",
      "1/1 [==============================] - 1s 973ms/step - loss: 80.0574\n",
      "1/1 [==============================] - 4s 4s/step - loss: 8.5905\n",
      "1/1 [==============================] - 1s 1s/step - loss: 79.6158\n",
      "1/1 [==============================] - 5s 5s/step - loss: 8.5835\n",
      "1/1 [==============================] - 2s 2s/step - loss: 79.4672\n",
      "1/1 [==============================] - 3s 3s/step - loss: 8.5733\n",
      "1/1 [==============================] - 1s 955ms/step - loss: 79.3266\n",
      "1/1 [==============================] - 4s 4s/step - loss: 8.5694\n",
      "1/1 [==============================] - 1s 951ms/step - loss: 79.1093\n",
      "1/1 [==============================] - 4s 4s/step - loss: 8.5607\n",
      "1/1 [==============================] - 1s 1s/step - loss: 79.5827\n",
      "1/1 [==============================] - 4s 4s/step - loss: 8.5555\n",
      "1/1 [==============================] - 1s 1s/step - loss: 80.3315\n",
      "1/1 [==============================] - 3s 3s/step - loss: 8.5397\n",
      "1/1 [==============================] - 1s 884ms/step - loss: 80.0903\n",
      "1/1 [==============================] - 3s 3s/step - loss: 8.5317\n",
      "1/1 [==============================] - 1s 1s/step - loss: 79.8547\n",
      "1/1 [==============================] - 4s 4s/step - loss: 8.5158\n",
      "1/1 [==============================] - 1s 1s/step - loss: 79.8360\n",
      "1/1 [==============================] - 4s 4s/step - loss: 8.5083\n",
      "1/1 [==============================] - 1s 868ms/step - loss: 79.1612\n",
      "1/1 [==============================] - 3s 3s/step - loss: 8.5020\n",
      "1/1 [==============================] - 1s 1s/step - loss: 78.6479\n",
      "1/1 [==============================] - 4s 4s/step - loss: 8.4982\n",
      "1/1 [==============================] - 1s 1s/step - loss: 78.3289\n",
      "1/1 [==============================] - 4s 4s/step - loss: 8.4954\n",
      "1/1 [==============================] - 1s 995ms/step - loss: 77.7062\n",
      "1/1 [==============================] - 4s 4s/step - loss: 8.4913\n",
      "1/1 [==============================] - 1s 879ms/step - loss: 77.4877\n",
      "1/1 [==============================] - 3s 3s/step - loss: 8.4862\n",
      "1/1 [==============================] - 1s 876ms/step - loss: 76.3825\n",
      "1/1 [==============================] - 4s 4s/step - loss: 8.4768\n",
      "1/1 [==============================] - 1s 1s/step - loss: 75.6747\n",
      "1/1 [==============================] - 4s 4s/step - loss: 8.4693\n",
      "1/1 [==============================] - 1s 1s/step - loss: 74.7101\n",
      "1/1 [==============================] - 4s 4s/step - loss: 8.4613\n",
      "1/1 [==============================] - 1s 854ms/step - loss: 73.7409\n",
      "1/1 [==============================] - 3s 3s/step - loss: 8.4479\n",
      "1/1 [==============================] - 1s 913ms/step - loss: 72.5828\n",
      "1/1 [==============================] - 4s 4s/step - loss: 8.4405\n",
      "1/1 [==============================] - 1s 958ms/step - loss: 72.2052\n",
      "1/1 [==============================] - 4s 4s/step - loss: 8.4371\n",
      "1/1 [==============================] - 1s 1s/step - loss: 71.3899\n"
     ]
    }
   ],
   "source": [
    "sahar_dd_losses, sahar_dd_val_losses = [], []\n",
    "\n",
    "val_size = len(y_val)\n",
    "train_size = len(y_train)\n",
    "\n",
    "for epoch in range(max_epoch):\n",
    "    sahar_dd_model.modify_graphgather(train_size)\n",
    "    sahar_dd_model.input_shapes = [i.shape for i in x_preprocessed_train]\n",
    "    dd_loss = sahar_dd_model.fit(x_train, y_train.reshape([1, -1]), epochs=1)\n",
    "#     metric = dc.metrics.Metric(dc.metrics.score_function.rms_score)\n",
    "    sahar_dd_losses.append(dd_loss.history['loss'])\n",
    "    sahar_dd_model.input_shapes = [i.shape for i in x_preprocessed_val]\n",
    "    sahar_dd_model.modify_graphgather(val_size)\n",
    "    sahar_dd_val_losses.append(sahar_dd_model.evaluate(x_val, y_val.reshape([1, -1])))"
   ]
  },
  {
   "cell_type": "code",
   "execution_count": 56,
   "metadata": {},
   "outputs": [
    {
     "data": {
      "image/png": "[encoded data removed]",
      "text/plain": [
       "<Figure size 432x288 with 1 Axes>"
      ]
     },
     "metadata": {
      "needs_background": "light"
     },
     "output_type": "display_data"
    }
   ],
   "source": [
    "import matplotlib.pyplot as plt\n",
    "# f, ax = plt.subplots()\n",
    "plt.plot(range(len(sahar_dd_losses)), sahar_dd_losses, label='train loss')\n",
    "plt.plot(range(len(sahar_dd_val_losses)), sahar_dd_val_losses, label='val loss')\n",
    "plt.legend(loc='upper right');\n",
    "plt.xlabel(\"Epoch\")\n",
    "plt.ylabel(\"Loss (Kcal/mol)\")\n",
    "# plt.ylim(0,100)\n",
    "plt.savefig('Sahar_DataDriven_loss_26Mar.png')"
   ]
  },
  {
   "cell_type": "code",
   "execution_count": 57,
   "metadata": {},
   "outputs": [
    {
     "name": "stdout",
     "output_type": "stream",
     "text": [
      "1/1 [==============================] - 1s 957ms/step - loss: 71.3899\n"
     ]
    }
   ],
   "source": [
    "sahar_dd_model.input_shapes = [i.shape for i in x_preprocessed_test]\n",
    "sahar_dd_model.modify_graphgather(len(y_test))\n",
    "sahar_dd_test_loss= sahar_dd_model.evaluate(x_test, y_test.reshape([1, -1]))\n",
    "# test_pgnn_loss = dd_model.evaluate(x_test, y_test.reshape([1, -1]))"
   ]
  },
  {
   "cell_type": "code",
   "execution_count": 58,
   "metadata": {},
   "outputs": [
    {
     "name": "stdout",
     "output_type": "stream",
     "text": [
      "8.449255320222521\n"
     ]
    }
   ],
   "source": [
    "sahar_dd_rmse_test = np.sqrt(sahar_dd_test_loss)\n",
    "print(sahar_dd_rmse_test)"
   ]
  },
  {
   "cell_type": "code",
   "execution_count": 110,
   "metadata": {},
   "outputs": [],
   "source": [
    "# sahar_dd_train_loss = sahar_dd_losses[-1]\n",
    "# sahar_dd_train_loss"
   ]
  },
  {
   "cell_type": "code",
   "execution_count": 164,
   "metadata": {},
   "outputs": [
    {
     "data": {
      "text/plain": [
       "[8.43713665008545]"
      ]
     },
     "execution_count": 164,
     "metadata": {},
     "output_type": "execute_result"
    }
   ],
   "source": [
    "# Average training loss\n",
    "# sahar_dd_train_loss = [sum(x)/len(x) for x in zip(*sahar_dd_losses)]\n",
    "sahar_dd_train_loss = sahar_dd_losses[-1]\n",
    "sahar_dd_train_loss"
   ]
  },
  {
   "cell_type": "code",
   "execution_count": 165,
   "metadata": {},
   "outputs": [
    {
     "data": {
      "text/plain": [
       "2.9046749646191827"
      ]
     },
     "execution_count": 165,
     "metadata": {},
     "output_type": "execute_result"
    }
   ],
   "source": [
    "import math\n",
    "sahar_dd_rmse_train = math.sqrt(sahar_dd_train_loss[0])\n",
    "# train_dd_rmse = math.sqrt(dd_train_loss[0])\n",
    "sahar_dd_rmse_train"
   ]
  },
  {
   "cell_type": "code",
   "execution_count": 166,
   "metadata": {},
   "outputs": [],
   "source": [
    "sahar_dd_test_accuracy = sahar_dd_rmse_test\n",
    "sahar_dd_train_accuracy = sahar_dd_rmse_train"
   ]
  },
  {
   "cell_type": "code",
   "execution_count": 167,
   "metadata": {},
   "outputs": [
    {
     "name": "stdout",
     "output_type": "stream",
     "text": [
      "8.449255320222521\n"
     ]
    }
   ],
   "source": [
    "print(sahar_dd_test_accuracy)"
   ]
  },
  {
   "cell_type": "code",
   "execution_count": 168,
   "metadata": {},
   "outputs": [
    {
     "data": {
      "text/plain": [
       "2.9046749646191827"
      ]
     },
     "execution_count": 168,
     "metadata": {},
     "output_type": "execute_result"
    }
   ],
   "source": [
    "sahar_dd_train_accuracy"
   ]
  },
  {
   "cell_type": "markdown",
   "metadata": {},
   "source": [
    "<h1> Model Comparisons </h1>"
   ]
  },
  {
   "cell_type": "code",
   "execution_count": 115,
   "metadata": {
    "scrolled": true
   },
   "outputs": [
    {
     "name": "stdout",
     "output_type": "stream",
     "text": [
      "+----------------------------+\n",
      "| Sahar's model Test Set RMSE |\n",
      "+-------------------+--------+\n",
      "|    Data Driven    |  PGNN  |\n",
      "+-------------------+--------+\n",
      "|        8.45       |  4.49  |\n",
      "+-------------------+--------+\n"
     ]
    }
   ],
   "source": [
    "# Test\n",
    "from prettytable import PrettyTable\n",
    "rmse_table = PrettyTable()\n",
    "rmse_table.title=\"Sahar's model Test Set RMSE\"\n",
    "rmse_table.field_names = [ \"Data Driven\", \"PGNN\"]\n",
    "rmse_table.add_row([\"{:.2f}\".format(sahar_dd_rmse_test),\"{:.2f}\".format(sahar_pgnn_rmse_test)])\n",
    "print(rmse_table)"
   ]
  },
  {
   "cell_type": "code",
   "execution_count": 66,
   "metadata": {},
   "outputs": [],
   "source": [
    "# results_df = pd.DataFrame(np.array([sahar_dd_rmse_test,sahar_pgnn_rmse_test,sahar_dd_rmse_train,sahar_pgnn_rmse_train]).reshape(-1, 4),columns=['test-data-driven-rmse', 'test-pgnn-rmse', 'train-data-driven-rmse','train-pgnn-rmse'])"
   ]
  },
  {
   "cell_type": "code",
   "execution_count": 116,
   "metadata": {},
   "outputs": [
    {
     "name": "stdout",
     "output_type": "stream",
     "text": [
      "+---------------------+\n",
      "|    Train Set RMSE   |\n",
      "+-------------+-------+\n",
      "| Data Driven |  PGNN |\n",
      "+-------------+-------+\n",
      "|     4.90    | 24.93 |\n",
      "+-------------+-------+\n"
     ]
    }
   ],
   "source": [
    "# Train\n",
    "rmse_table = PrettyTable()\n",
    "rmse_table.title=\"Train Set RMSE\"\n",
    "rmse_table.field_names = [\"Data Driven\", \"PGNN\"]\n",
    "rmse_table.add_row([ \"{:.2f}\".format(sahar_dd_rmse_train),\"{:.2f}\".format(sahar_pgnn_rmse_train)])\n",
    "print(rmse_table)"
   ]
  },
  {
   "cell_type": "markdown",
   "metadata": {},
   "source": [
    "<h1> PGNN and DD model average performance analysis </h1>"
   ]
  },
  {
   "cell_type": "code",
   "execution_count": null,
   "metadata": {},
   "outputs": [],
   "source": [
    "# train_results_dict = {\n",
    "#     \"pgnn_train\" : [x for x in pgnn_train_accuracy],\n",
    "#     \"dd_train\" : [x for x in dd_train_accuracy]\n",
    "# }\n",
    "# test_results_dict ={\n",
    "#     \"pgnn_test\" : [x for x in pgnn_test_accuracy],\n",
    "#     \"dd_test\" : [x for x in dd_test_accuracy]\n",
    "# }"
   ]
  },
  {
   "cell_type": "code",
   "execution_count": null,
   "metadata": {},
   "outputs": [],
   "source": [
    "# import matplotlib.pyplot as plt\n",
    "# # Train box plot\n",
    "# plt.figure(figsize=(10,12))\n",
    "# plt.title(\"Train RMSE comparison\")\n",
    "# plt.boxplot([x for x in train_results_dict.values()],labels=[x for x in train_results_dict.keys()])\n",
    "# plt.xlabel(\"PGNN and DD train\")\n",
    "# plt.ylabel(\"RMSE\")\n",
    "# plt.ylim(2, 5, 0.3)\n"
   ]
  },
  {
   "cell_type": "code",
   "execution_count": null,
   "metadata": {},
   "outputs": [],
   "source": [
    "# import matplotlib.pyplot as plt\n",
    "# # Test box plot\n",
    "# plt.figure(figsize=(10,12))\n",
    "# plt.title(\"Test RMSE comparison\")\n",
    "# plt.boxplot([x for x in test_results_dict.values()],labels=[x for x in test_results_dict.keys()])\n",
    "# plt.xlabel(\"PGNN and DD train\")\n",
    "# plt.ylabel(\"RMSE\")\n",
    "# plt.ylim(0, 8, 0.3)\n",
    "\n"
   ]
  },
  {
   "cell_type": "code",
   "execution_count": null,
   "metadata": {},
   "outputs": [],
   "source": []
  },
  {
   "cell_type": "markdown",
   "metadata": {},
   "source": [
    "<h1> Ali's version</h1>"
   ]
  },
  {
   "cell_type": "code",
   "execution_count": 68,
   "metadata": {},
   "outputs": [],
   "source": [
    "training_columns = [col for col in df.columns if (col[:3] == 'gb-' and not col.__contains__('etot')) or (col.__contains__('vdwaals'))]"
   ]
  },
  {
   "cell_type": "code",
   "execution_count": 69,
   "metadata": {},
   "outputs": [],
   "source": [
    "df['gb-overall-1-4-eel'] = df.apply(lambda row: row['gb-complex-1-4-eel'] - row['gb-protein-1-4-eel'] - row['gb-ligand-1-4-eel'], axis=1)\n",
    "df['gb-overall-eelec'] = df.apply(lambda row: row['gb-complex-eelec'] - row['gb-protein-eelect'] - row['gb-ligand-eelec'], axis=1)\n",
    "df['gb-overall-egb'] = df.apply(lambda row: row['gb-complex-egb'] - row['gb-protein-egb'] - row['gb-ligand-egb'], axis=1)\n",
    "df['gb-overall-esurf'] = df.apply(lambda row: row['gb-complex-esurf'] - row['gb-protein-esurf'] - row['gb-ligand-esurf'], axis=1)\n",
    "df['pb-overall-vdwaals'] = df.apply(lambda row: row['pb-complex-vdwaals'] - row['pb-protein-vdwaals'] - row['pb-ligand-vdwaals'], axis=1)"
   ]
  },
  {
   "cell_type": "code",
   "execution_count": 70,
   "metadata": {},
   "outputs": [],
   "source": [
    "a = df['gb-overall-eelec'].to_numpy()"
   ]
  },
  {
   "cell_type": "code",
   "execution_count": 71,
   "metadata": {},
   "outputs": [
    {
     "data": {
      "text/plain": [
       "<AxesSubplot:xlabel='pb-overall-vdwaals', ylabel='Frequency'>"
      ]
     },
     "execution_count": 71,
     "metadata": {},
     "output_type": "execute_result"
    },
    {
     "data": {
      "image/png": "[encoded data removed]",
      "text/plain": [
       "<Figure size 432x288 with 1 Axes>"
      ]
     },
     "metadata": {
      "needs_background": "light"
     },
     "output_type": "display_data"
    }
   ],
   "source": [
    "import matplotlib.pyplot as plt\n",
    "plt.xlabel('pb-overall-vdwaals')\n",
    "df['pb-overall-vdwaals'].plot.hist()"
   ]
  },
  {
   "cell_type": "code",
   "execution_count": 72,
   "metadata": {},
   "outputs": [],
   "source": [
    "training_columns = [f for f in df.columns if f.__contains__('overall')]"
   ]
  },
  {
   "cell_type": "code",
   "execution_count": 73,
   "metadata": {},
   "outputs": [
    {
     "data": {
      "text/plain": [
       "<AxesSubplot:xlabel='gb-overall-eelec', ylabel='Frequency'>"
      ]
     },
     "execution_count": 73,
     "metadata": {},
     "output_type": "execute_result"
    },
    {
     "data": {
      "image/png": "[encoded data removed]",
      "text/plain": [
       "<Figure size 432x288 with 1 Axes>"
      ]
     },
     "metadata": {
      "needs_background": "light"
     },
     "output_type": "display_data"
    }
   ],
   "source": [
    "plt.xlabel('gb-overall-eelec')\n",
    "df['gb-overall-eelec'].plot.hist()"
   ]
  },
  {
   "cell_type": "code",
   "execution_count": 74,
   "metadata": {},
   "outputs": [
    {
     "data": {
      "text/plain": [
       "<AxesSubplot:xlabel='gb-overall-eelec normalized', ylabel='Frequency'>"
      ]
     },
     "execution_count": 74,
     "metadata": {},
     "output_type": "execute_result"
    },
    {
     "data": {
      "image/png": "[encoded data removed]",
      "text/plain": [
       "<Figure size 432x288 with 1 Axes>"
      ]
     },
     "metadata": {
      "needs_background": "light"
     },
     "output_type": "display_data"
    }
   ],
   "source": [
    "plt.xlabel('gb-overall-eelec normalized')\n",
    "((df['gb-overall-eelec'] - df['gb-overall-eelec'].std()) / df['gb-overall-eelec'].mean()).plot.hist()"
   ]
  },
  {
   "cell_type": "code",
   "execution_count": 75,
   "metadata": {},
   "outputs": [],
   "source": [
    "# ## Save PDB\n",
    "# import pickle\n",
    "# with open('PDBs.pkl', 'wb') as file:\n",
    "#     pickle.dump(PDBs, file)"
   ]
  },
  {
   "cell_type": "code",
   "execution_count": 76,
   "metadata": {},
   "outputs": [],
   "source": [
    "## Load PDB\n",
    "# import pickle\n",
    "# PDBs = {}\n",
    "# with open('PDBs.pkl', 'rb') as file:\n",
    "#     PDBs = pickle.load(file)"
   ]
  },
  {
   "cell_type": "code",
   "execution_count": 77,
   "metadata": {},
   "outputs": [],
   "source": [
    "from sklearn.preprocessing import MinMaxScaler\n",
    "scaler = MinMaxScaler()\n",
    "df_scaled = pd.DataFrame(scaler.fit_transform(df[training_columns]),\n",
    "                   columns=training_columns)"
   ]
  },
  {
   "cell_type": "code",
   "execution_count": 78,
   "metadata": {},
   "outputs": [
    {
     "data": {
      "text/plain": [
       "<AxesSubplot:xlabel='gb-overall-1-4-eel', ylabel='Frequency'>"
      ]
     },
     "execution_count": 78,
     "metadata": {},
     "output_type": "execute_result"
    },
    {
     "data": {
      "image/png": "[encoded data removed]",
      "text/plain": [
       "<Figure size 432x288 with 1 Axes>"
      ]
     },
     "metadata": {
      "needs_background": "light"
     },
     "output_type": "display_data"
    }
   ],
   "source": [
    "plt.xlabel('gb-overall-1-4-eel')\n",
    "df_scaled['gb-overall-1-4-eel'].plot.hist(range=[0.9999, 1.0])"
   ]
  },
  {
   "cell_type": "code",
   "execution_count": 79,
   "metadata": {},
   "outputs": [],
   "source": [
    "# SC: not required. Done once above.\n",
    "# X = []\n",
    "# X_ids = []\n",
    "# # one_add = 0 if len(PDBs.keys()) % 2 == 0 else 1\n",
    "# for k in PDBs.keys():\n",
    "#     X_ids.append(k)\n",
    "#     X.append(featurizer.featurize(PDBs[k]))\n",
    "# split_index = int(len(X) * TRAIN_SET)\n",
    "# X = [x[0] for x in X]\n",
    "# X_train_featurized = X[:split_index]\n",
    "# X_test_featurized = X[split_index:]"
   ]
  },
  {
   "cell_type": "code",
   "execution_count": 80,
   "metadata": {},
   "outputs": [],
   "source": [
    "# pdb_names = [i for i in X_ids]\n",
    "# pdb_names_train = pdb_names[:train_split_index]\n",
    "# pdb_names_test = pdb_names[split_index:]"
   ]
  },
  {
   "cell_type": "code",
   "execution_count": 81,
   "metadata": {},
   "outputs": [],
   "source": [
    "# x_add_train, x_add_test, y_train, y_test = [], [], [], []\n",
    "# for i in range(len(pdb_names_train)):\n",
    "#     new_df = df[(df['complex-name'] == pdb_names_train[i])]\n",
    "#     y_train.append(new_df['ddg'].to_numpy()[0])\n",
    "#     x_add_train.append(-new_df[training_columns].to_numpy()[0])\n",
    "# y_train = np.array(y_train)\n",
    "    \n",
    "# for i in range(len(pdb_names_test)):\n",
    "#     new_df = df[(df['complex-name'] == pdb_names_test[i])]\n",
    "# #     print(pdb_names_test[i])\n",
    "# #     print(new_df['ddg'].to_numpy())\n",
    "#     y_test.append(new_df['ddg'].to_numpy()[0])\n",
    "#     x_add_test.append(-new_df[training_columns].to_numpy()[0])\n",
    "# y_test = np.array(y_test)"
   ]
  },
  {
   "cell_type": "code",
   "execution_count": 85,
   "metadata": {},
   "outputs": [],
   "source": [
    "x_add_train,x_add_val, x_add_test, y_train,y_val, y_test = [], [], [], [], [], []\n",
    "# Train\n",
    "for i in range(len(pdb_names_train)):\n",
    "    new_df = df[(df['complex-name'] == pdb_names_train[i])]\n",
    "    y_train.append(new_df['ddg'].to_numpy()[0])\n",
    "    x_add_train.append(-new_df[training_columns].to_numpy()[0])\n",
    "y_train = np.array(y_train)\n",
    "\n",
    "# Val\n",
    "for i in range(len(pdb_names_val)):\n",
    "    new_df = df[(df['complex-name'] == pdb_names_val[i])]\n",
    "    y_val.append(new_df['ddg'].to_numpy()[0])\n",
    "    x_add_val.append(-new_df[training_columns].to_numpy()[0])\n",
    "y_val = np.array(y_val)\n",
    "\n",
    "\n",
    "# Test\n",
    "for i in range(len(pdb_names_test)):\n",
    "    new_df = df[(df['complex-name'] == pdb_names_test[i])]\n",
    "#     print(pdb_names_test[i])\n",
    "#     print(new_df['ddg'].to_numpy())\n",
    "    y_test.append(new_df['ddg'].to_numpy()[0])\n",
    "    x_add_test.append(-new_df[training_columns].to_numpy()[0])\n",
    "y_test = np.array(y_test)"
   ]
  },
  {
   "cell_type": "code",
   "execution_count": 86,
   "metadata": {},
   "outputs": [],
   "source": [
    "from deepchem.metrics import to_one_hot\n",
    "from deepchem.feat.mol_graphs import ConvMol\n",
    "\n",
    "x_preprocessed_train, x_preprocessed_test = [], []\n",
    "\n",
    "## for X train\n",
    "multiConvMol = ConvMol.agglomerate_mols(X_train_featurized)\n",
    "x_preprocessed_train = [multiConvMol.get_atom_features(), multiConvMol.deg_slice, np.array(multiConvMol.membership)]\n",
    "for i in range(1, len(multiConvMol.get_deg_adjacency_lists())):\n",
    "    x_preprocessed_train.append(multiConvMol.get_deg_adjacency_lists()[i])\n",
    "x_preprocessed_train.append(np.array(x_add_train))\n",
    "\n",
    "## for X val\n",
    "multiConvMol = ConvMol.agglomerate_mols(X_val_featurized)\n",
    "x_preprocessed_val = [multiConvMol.get_atom_features(), multiConvMol.deg_slice, np.array(multiConvMol.membership)]\n",
    "for i in range(1, len(multiConvMol.get_deg_adjacency_lists())):\n",
    "    x_preprocessed_val.append(multiConvMol.get_deg_adjacency_lists()[i])\n",
    "x_preprocessed_val.append(np.array(x_add_val))\n",
    "\n",
    "## for X test\n",
    "multiConvMol = ConvMol.agglomerate_mols(X_test_featurized)\n",
    "x_preprocessed_test = [multiConvMol.get_atom_features(), multiConvMol.deg_slice, np.array(multiConvMol.membership)]\n",
    "for i in range(1, len(multiConvMol.get_deg_adjacency_lists())):\n",
    "    x_preprocessed_test.append(multiConvMol.get_deg_adjacency_lists()[i])\n",
    "x_preprocessed_test.append(np.array(x_add_test))"
   ]
  },
  {
   "cell_type": "code",
   "execution_count": 87,
   "metadata": {},
   "outputs": [],
   "source": [
    "# Training\n",
    "x_train = np.full([14, np.max([v.shape[0] for v in x_preprocessed_train]),\n",
    "                  np.max([v.shape[1] for v in x_preprocessed_train if len(v.shape) > 1])], 1.123456)\n",
    "for i,j in enumerate(x_preprocessed_train):\n",
    "    if len(j.shape) > 1:\n",
    "        x_train[i][:j.shape[0],:j.shape[1]] = np.array(j)\n",
    "    else:\n",
    "        x_train[i][:len(j), :1] = np.array(j).reshape(j.shape[0], 1)\n",
    "x_train = x_train.reshape([1] + list(x_train.shape))\n",
    "\n",
    "# Validation\n",
    "x_val = np.full([14, np.max([v.shape[0] for v in x_preprocessed_val]),\n",
    "                  np.max([v.shape[1] for v in x_preprocessed_val if len(v.shape) > 1])], 1.123456)\n",
    "for i,j in enumerate(x_preprocessed_val):\n",
    "    if len(j.shape) > 1:\n",
    "        x_val[i][:j.shape[0],:j.shape[1]] = np.array(j)\n",
    "    else:\n",
    "        x_val[i][:len(j), :1] = np.array(j).reshape(j.shape[0], 1)\n",
    "x_val = x_val.reshape([1] + list(x_val.shape))\n",
    "\n",
    "# Testing\n",
    "\n",
    "x_test = np.full([14, np.max([v.shape[0] for v in x_preprocessed_test]),\n",
    "                  np.max([v.shape[1] for v in x_preprocessed_test if len(v.shape) > 1])], 1.123456)\n",
    "for i,j in enumerate(x_preprocessed_test):\n",
    "    if len(j.shape) > 1:\n",
    "        x_test[i][:j.shape[0],:j.shape[1]] = np.array(j)\n",
    "    else:\n",
    "        x_test[i][:len(j), :1] = np.array(j).reshape(j.shape[0], 1)\n",
    "x_test = x_test.reshape([1] + list(x_test.shape))"
   ]
  },
  {
   "cell_type": "markdown",
   "metadata": {},
   "source": [
    "# Ali's PGNN Model - 5 parameters"
   ]
  },
  {
   "cell_type": "code",
   "execution_count": 88,
   "metadata": {},
   "outputs": [],
   "source": [
    "from deepchem.models.layers import GraphConv, GraphPool, GraphGather\n",
    "import keras.backend as K\n",
    "import tensorflow.keras.layers as layers\n",
    "from tensorflow.keras.layers import Dense, Input, BatchNormalization, Concatenate\n",
    "from tensorflow.keras import initializers\n",
    "import sys\n",
    "import tensorflow as tf\n",
    "import random\n",
    "\n",
    "\n",
    "class PGNNAli(tf.keras.Model):\n",
    "\n",
    "  def modify_graphgather(self, batch_size):\n",
    "    self.readout.batch_size = batch_size\n",
    "    self.batch_size = batch_size\n",
    "    \n",
    "  def __init__(self, batch_size):\n",
    "    super(PGNNAli, self).__init__()\n",
    "    self.input_shapes = None\n",
    "    self.batch_size = batch_size\n",
    "    self.gc1 = GraphConv(64, activation_fn=tf.nn.tanh)\n",
    "    self.batch_norm1 = layers.BatchNormalization()\n",
    "    self.gp1 = GraphPool()\n",
    "\n",
    "    self.gc2 = GraphConv(64, activation_fn=tf.nn.tanh)\n",
    "    self.batch_norm2 = layers.BatchNormalization()\n",
    "    self.gp2 = GraphPool()\n",
    "\n",
    "    self.dense1 = layers.Dense(128, activation=tf.nn.tanh)\n",
    "    self.batch_norm3 = layers.BatchNormalization()\n",
    "    self.readout = GraphGather(batch_size=self.batch_size, activation_fn=tf.nn.tanh)\n",
    "\n",
    "    self.dense2 = layers.Dense(64, activation=tf.nn.sigmoid)\n",
    "    self.dense3 = layers.Dense(1)\n",
    "    \n",
    "    ## Dense for overall\n",
    "    self.dense4 = layers.Dense(1, \n",
    "     kernel_initializer=initializers.Constant([.5, 1, 1, 1, 1, 1]),\n",
    "     bias_initializer=initializers.Zeros())\n",
    "#     self.dense4 = layers.Dense(1, \n",
    "#          kernel_initializer=initializers.Constant([.5, -1, -1, -1, -1, 1, 1, 1, 1, 1, 1, 1, 1, -1, 1, 1]),\n",
    "#          bias_initializer=initializers.Zeros(), activation=tf.keras.activations.relu)\n",
    "\n",
    "  def call(self, inputs):\n",
    "#     x_feat, x_add = inputs[0], inputs[1]\n",
    "    inputs = inputs[0]\n",
    "    x = []\n",
    "#     input_shapes = [[4822, 75], [11, 2], [4822], [1142, 1], [1635, 2], [2042, 3],\n",
    "#                    [3, 4], [0, 5], [0, 6], [0, 7], [0, 8], [0, 9], [0, 10]]\n",
    "    for i in range(len(self.input_shapes)):\n",
    "        x.append(tf.reshape(inputs[i][inputs[i] != 1.123456], self.input_shapes[i]))\n",
    "    for i in range(1, len(self.input_shapes)):\n",
    "        x[i] = tf.cast(x[i], tf.int32)\n",
    "    x_add = tf.reshape(inputs[13][inputs[13] != 1.123456], [self.batch_size, 5])\n",
    "\n",
    "    gc1_output = self.gc1(x)\n",
    "    batch_norm1_output = self.batch_norm1(gc1_output)\n",
    "    gp1_output = self.gp1([batch_norm1_output] + x[1:])\n",
    "\n",
    "    gc2_output = self.gc2([gp1_output] + x[1:])\n",
    "    batch_norm2_output = self.batch_norm1(gc2_output)\n",
    "    gp2_output = self.gp2([batch_norm2_output] + x[1:])\n",
    "\n",
    "    dense1_output = self.dense1(gp2_output)\n",
    "    batch_norm3_output = self.batch_norm3(dense1_output)\n",
    "    readout_output = self.readout([batch_norm3_output] + x[1:])\n",
    "    \n",
    "    model_var = self.dense2(readout_output)\n",
    "    model_var = self.dense3(model_var)\n",
    "    binding_affinity = tf.concat([model_var, x_add], axis=1)\n",
    "    ddg = self.dense4(binding_affinity)\n",
    "    tf.print(self.dense4.weights, output_stream=\"file://weights.txt\", summarize=30)\n",
    "    tf.print(binding_affinity[0], output_stream=\"file://binding_a.txt\", summarize=30)\n",
    "    tf.print(ddg[0], output_stream=\"file://ddg.txt\")\n",
    "    tf.print(model_var, output_stream=\"file://model_var.txt\", summarize=30)\n",
    "    tf.print(\"-------------------------\", output_stream=sys.stdout)\n",
    "    return ddg\n",
    "\n",
    "def root_mean_squared_error(y_true, y_pred):\n",
    "        return K.sqrt(K.mean(K.square(y_pred - y_true))) \n",
    "ali_pgnn_model = PGNNAli(train_split_index)\n",
    "ali_pgnn_model.compile(optimizer = \"rmsprop\", loss = root_mean_squared_error)\n",
    "K.set_value(ali_pgnn_model.optimizer.learning_rate, 0.001)"
   ]
  },
  {
   "cell_type": "code",
   "execution_count": null,
   "metadata": {},
   "outputs": [],
   "source": [
    "# model.input_shapes = [i.shape for i in x_preprocessed_train]\n",
    "# history = model.fit(x_train, -y_train.reshape([1, -1]), epochs=3)"
   ]
  },
  {
   "cell_type": "code",
   "execution_count": 90,
   "metadata": {},
   "outputs": [
    {
     "name": "stderr",
     "output_type": "stream",
     "text": [
      "/Users/misspotato/opt/miniconda3/envs/rdkit-deepchem-jupyter/lib/python3.9/site-packages/tensorflow/python/framework/indexed_slices.py:447: UserWarning: Converting sparse IndexedSlices(IndexedSlices(indices=Tensor(\"gradient_tape/pgnn_ali/graph_pool_5/Reshape_14:0\", shape=(83387,), dtype=int32), values=Tensor(\"gradient_tape/pgnn_ali/graph_pool_5/Reshape_13:0\", shape=(83387, 64), dtype=float32), dense_shape=Tensor(\"gradient_tape/pgnn_ali/graph_pool_5/Cast_4:0\", shape=(2,), dtype=int32))) to a dense Tensor of unknown shape. This may consume a large amount of memory.\n",
      "  warnings.warn(\n",
      "/Users/misspotato/opt/miniconda3/envs/rdkit-deepchem-jupyter/lib/python3.9/site-packages/tensorflow/python/framework/indexed_slices.py:447: UserWarning: Converting sparse IndexedSlices(IndexedSlices(indices=Tensor(\"gradient_tape/pgnn_ali/graph_pool_5/Reshape_17:0\", shape=(205678,), dtype=int32), values=Tensor(\"gradient_tape/pgnn_ali/graph_pool_5/Reshape_16:0\", shape=(205678, 64), dtype=float32), dense_shape=Tensor(\"gradient_tape/pgnn_ali/graph_pool_5/Cast_5:0\", shape=(2,), dtype=int32))) to a dense Tensor of unknown shape. This may consume a large amount of memory.\n",
      "  warnings.warn(\n",
      "/Users/misspotato/opt/miniconda3/envs/rdkit-deepchem-jupyter/lib/python3.9/site-packages/tensorflow/python/framework/indexed_slices.py:447: UserWarning: Converting sparse IndexedSlices(IndexedSlices(indices=Tensor(\"gradient_tape/pgnn_ali/graph_pool_5/Reshape_20:0\", shape=(290367,), dtype=int32), values=Tensor(\"gradient_tape/pgnn_ali/graph_pool_5/Reshape_19:0\", shape=(290367, 64), dtype=float32), dense_shape=Tensor(\"gradient_tape/pgnn_ali/graph_pool_5/Cast_6:0\", shape=(2,), dtype=int32))) to a dense Tensor of unknown shape. This may consume a large amount of memory.\n",
      "  warnings.warn(\n",
      "/Users/misspotato/opt/miniconda3/envs/rdkit-deepchem-jupyter/lib/python3.9/site-packages/tensorflow/python/framework/indexed_slices.py:447: UserWarning: Converting sparse IndexedSlices(IndexedSlices(indices=Tensor(\"gradient_tape/pgnn_ali/graph_pool_5/Reshape_23:0\", shape=(188,), dtype=int32), values=Tensor(\"gradient_tape/pgnn_ali/graph_pool_5/Reshape_22:0\", shape=(188, 64), dtype=float32), dense_shape=Tensor(\"gradient_tape/pgnn_ali/graph_pool_5/Cast_7:0\", shape=(2,), dtype=int32))) to a dense Tensor of unknown shape. This may consume a large amount of memory.\n",
      "  warnings.warn(\n",
      "/Users/misspotato/opt/miniconda3/envs/rdkit-deepchem-jupyter/lib/python3.9/site-packages/tensorflow/python/framework/indexed_slices.py:447: UserWarning: Converting sparse IndexedSlices(IndexedSlices(indices=Tensor(\"gradient_tape/pgnn_ali/graph_conv_5/Reshape_11:0\", shape=(83387,), dtype=int32), values=Tensor(\"gradient_tape/pgnn_ali/graph_conv_5/Reshape_10:0\", shape=(83387, 64), dtype=float32), dense_shape=Tensor(\"gradient_tape/pgnn_ali/graph_conv_5/Cast:0\", shape=(2,), dtype=int32))) to a dense Tensor of unknown shape. This may consume a large amount of memory.\n",
      "  warnings.warn(\n",
      "/Users/misspotato/opt/miniconda3/envs/rdkit-deepchem-jupyter/lib/python3.9/site-packages/tensorflow/python/framework/indexed_slices.py:447: UserWarning: Converting sparse IndexedSlices(IndexedSlices(indices=Tensor(\"gradient_tape/pgnn_ali/graph_conv_5/Reshape_13:0\", shape=(205678,), dtype=int32), values=Tensor(\"gradient_tape/pgnn_ali/graph_conv_5/Reshape_12:0\", shape=(205678, 64), dtype=float32), dense_shape=Tensor(\"gradient_tape/pgnn_ali/graph_conv_5/Cast_1:0\", shape=(2,), dtype=int32))) to a dense Tensor of unknown shape. This may consume a large amount of memory.\n",
      "  warnings.warn(\n",
      "/Users/misspotato/opt/miniconda3/envs/rdkit-deepchem-jupyter/lib/python3.9/site-packages/tensorflow/python/framework/indexed_slices.py:447: UserWarning: Converting sparse IndexedSlices(IndexedSlices(indices=Tensor(\"gradient_tape/pgnn_ali/graph_conv_5/Reshape_15:0\", shape=(290367,), dtype=int32), values=Tensor(\"gradient_tape/pgnn_ali/graph_conv_5/Reshape_14:0\", shape=(290367, 64), dtype=float32), dense_shape=Tensor(\"gradient_tape/pgnn_ali/graph_conv_5/Cast_2:0\", shape=(2,), dtype=int32))) to a dense Tensor of unknown shape. This may consume a large amount of memory.\n",
      "  warnings.warn(\n",
      "/Users/misspotato/opt/miniconda3/envs/rdkit-deepchem-jupyter/lib/python3.9/site-packages/tensorflow/python/framework/indexed_slices.py:447: UserWarning: Converting sparse IndexedSlices(IndexedSlices(indices=Tensor(\"gradient_tape/pgnn_ali/graph_conv_5/Reshape_17:0\", shape=(188,), dtype=int32), values=Tensor(\"gradient_tape/pgnn_ali/graph_conv_5/Reshape_16:0\", shape=(188, 64), dtype=float32), dense_shape=Tensor(\"gradient_tape/pgnn_ali/graph_conv_5/Cast_3:0\", shape=(2,), dtype=int32))) to a dense Tensor of unknown shape. This may consume a large amount of memory.\n",
      "  warnings.warn(\n",
      "/Users/misspotato/opt/miniconda3/envs/rdkit-deepchem-jupyter/lib/python3.9/site-packages/tensorflow/python/framework/indexed_slices.py:447: UserWarning: Converting sparse IndexedSlices(IndexedSlices(indices=Tensor(\"gradient_tape/pgnn_ali/graph_conv_5/Reshape_19:0\", shape=(0,), dtype=int32), values=Tensor(\"gradient_tape/pgnn_ali/graph_conv_5/Reshape_18:0\", shape=(0, 64), dtype=float32), dense_shape=Tensor(\"gradient_tape/pgnn_ali/graph_conv_5/Cast_4:0\", shape=(2,), dtype=int32))) to a dense Tensor of unknown shape. This may consume a large amount of memory.\n",
      "  warnings.warn(\n",
      "/Users/misspotato/opt/miniconda3/envs/rdkit-deepchem-jupyter/lib/python3.9/site-packages/tensorflow/python/framework/indexed_slices.py:447: UserWarning: Converting sparse IndexedSlices(IndexedSlices(indices=Tensor(\"gradient_tape/pgnn_ali/graph_conv_5/Reshape_21:0\", shape=(0,), dtype=int32), values=Tensor(\"gradient_tape/pgnn_ali/graph_conv_5/Reshape_20:0\", shape=(0, 64), dtype=float32), dense_shape=Tensor(\"gradient_tape/pgnn_ali/graph_conv_5/Cast_5:0\", shape=(2,), dtype=int32))) to a dense Tensor of unknown shape. This may consume a large amount of memory.\n",
      "  warnings.warn(\n",
      "/Users/misspotato/opt/miniconda3/envs/rdkit-deepchem-jupyter/lib/python3.9/site-packages/tensorflow/python/framework/indexed_slices.py:447: UserWarning: Converting sparse IndexedSlices(IndexedSlices(indices=Tensor(\"gradient_tape/pgnn_ali/graph_conv_5/Reshape_23:0\", shape=(0,), dtype=int32), values=Tensor(\"gradient_tape/pgnn_ali/graph_conv_5/Reshape_22:0\", shape=(0, 64), dtype=float32), dense_shape=Tensor(\"gradient_tape/pgnn_ali/graph_conv_5/Cast_6:0\", shape=(2,), dtype=int32))) to a dense Tensor of unknown shape. This may consume a large amount of memory.\n",
      "  warnings.warn(\n",
      "/Users/misspotato/opt/miniconda3/envs/rdkit-deepchem-jupyter/lib/python3.9/site-packages/tensorflow/python/framework/indexed_slices.py:447: UserWarning: Converting sparse IndexedSlices(IndexedSlices(indices=Tensor(\"gradient_tape/pgnn_ali/graph_conv_5/Reshape_25:0\", shape=(0,), dtype=int32), values=Tensor(\"gradient_tape/pgnn_ali/graph_conv_5/Reshape_24:0\", shape=(0, 64), dtype=float32), dense_shape=Tensor(\"gradient_tape/pgnn_ali/graph_conv_5/Cast_7:0\", shape=(2,), dtype=int32))) to a dense Tensor of unknown shape. This may consume a large amount of memory.\n",
      "  warnings.warn(\n",
      "/Users/misspotato/opt/miniconda3/envs/rdkit-deepchem-jupyter/lib/python3.9/site-packages/tensorflow/python/framework/indexed_slices.py:447: UserWarning: Converting sparse IndexedSlices(IndexedSlices(indices=Tensor(\"gradient_tape/pgnn_ali/graph_conv_5/Reshape_27:0\", shape=(0,), dtype=int32), values=Tensor(\"gradient_tape/pgnn_ali/graph_conv_5/Reshape_26:0\", shape=(0, 64), dtype=float32), dense_shape=Tensor(\"gradient_tape/pgnn_ali/graph_conv_5/Cast_8:0\", shape=(2,), dtype=int32))) to a dense Tensor of unknown shape. This may consume a large amount of memory.\n",
      "  warnings.warn(\n",
      "/Users/misspotato/opt/miniconda3/envs/rdkit-deepchem-jupyter/lib/python3.9/site-packages/tensorflow/python/framework/indexed_slices.py:447: UserWarning: Converting sparse IndexedSlices(IndexedSlices(indices=Tensor(\"gradient_tape/pgnn_ali/graph_conv_5/Reshape_29:0\", shape=(0,), dtype=int32), values=Tensor(\"gradient_tape/pgnn_ali/graph_conv_5/Reshape_28:0\", shape=(0, 64), dtype=float32), dense_shape=Tensor(\"gradient_tape/pgnn_ali/graph_conv_5/Cast_9:0\", shape=(2,), dtype=int32))) to a dense Tensor of unknown shape. This may consume a large amount of memory.\n",
      "  warnings.warn(\n",
      "/Users/misspotato/opt/miniconda3/envs/rdkit-deepchem-jupyter/lib/python3.9/site-packages/tensorflow/python/framework/indexed_slices.py:447: UserWarning: Converting sparse IndexedSlices(IndexedSlices(indices=Tensor(\"gradient_tape/pgnn_ali/graph_pool_4/Reshape_14:0\", shape=(83387,), dtype=int32), values=Tensor(\"gradient_tape/pgnn_ali/graph_pool_4/Reshape_13:0\", shape=(83387, 64), dtype=float32), dense_shape=Tensor(\"gradient_tape/pgnn_ali/graph_pool_4/Cast_4:0\", shape=(2,), dtype=int32))) to a dense Tensor of unknown shape. This may consume a large amount of memory.\n",
      "  warnings.warn(\n",
      "/Users/misspotato/opt/miniconda3/envs/rdkit-deepchem-jupyter/lib/python3.9/site-packages/tensorflow/python/framework/indexed_slices.py:447: UserWarning: Converting sparse IndexedSlices(IndexedSlices(indices=Tensor(\"gradient_tape/pgnn_ali/graph_pool_4/Reshape_17:0\", shape=(205678,), dtype=int32), values=Tensor(\"gradient_tape/pgnn_ali/graph_pool_4/Reshape_16:0\", shape=(205678, 64), dtype=float32), dense_shape=Tensor(\"gradient_tape/pgnn_ali/graph_pool_4/Cast_5:0\", shape=(2,), dtype=int32))) to a dense Tensor of unknown shape. This may consume a large amount of memory.\n",
      "  warnings.warn(\n",
      "/Users/misspotato/opt/miniconda3/envs/rdkit-deepchem-jupyter/lib/python3.9/site-packages/tensorflow/python/framework/indexed_slices.py:447: UserWarning: Converting sparse IndexedSlices(IndexedSlices(indices=Tensor(\"gradient_tape/pgnn_ali/graph_pool_4/Reshape_20:0\", shape=(290367,), dtype=int32), values=Tensor(\"gradient_tape/pgnn_ali/graph_pool_4/Reshape_19:0\", shape=(290367, 64), dtype=float32), dense_shape=Tensor(\"gradient_tape/pgnn_ali/graph_pool_4/Cast_6:0\", shape=(2,), dtype=int32))) to a dense Tensor of unknown shape. This may consume a large amount of memory.\n",
      "  warnings.warn(\n",
      "/Users/misspotato/opt/miniconda3/envs/rdkit-deepchem-jupyter/lib/python3.9/site-packages/tensorflow/python/framework/indexed_slices.py:447: UserWarning: Converting sparse IndexedSlices(IndexedSlices(indices=Tensor(\"gradient_tape/pgnn_ali/graph_pool_4/Reshape_23:0\", shape=(188,), dtype=int32), values=Tensor(\"gradient_tape/pgnn_ali/graph_pool_4/Reshape_22:0\", shape=(188, 64), dtype=float32), dense_shape=Tensor(\"gradient_tape/pgnn_ali/graph_pool_4/Cast_7:0\", shape=(2,), dtype=int32))) to a dense Tensor of unknown shape. This may consume a large amount of memory.\n",
      "  warnings.warn(\n"
     ]
    },
    {
     "name": "stdout",
     "output_type": "stream",
     "text": [
      "-------------------------\n",
      "1/1 [==============================] - 15s 15s/step - loss: 45.3552\n",
      "-------------------------\n",
      "1/1 [==============================] - 3s 3s/step - loss: 44.6002\n",
      "-------------------------\n",
      "1/1 [==============================] - 5s 5s/step - loss: 45.0083\n",
      "-------------------------\n",
      "1/1 [==============================] - 1s 1s/step - loss: 44.5184\n",
      "-------------------------\n",
      "1/1 [==============================] - 6s 6s/step - loss: 44.7851\n",
      "-------------------------\n",
      "1/1 [==============================] - 1s 1s/step - loss: 44.4623\n",
      "-------------------------\n",
      "1/1 [==============================] - 6s 6s/step - loss: 44.6294\n",
      "-------------------------\n",
      "1/1 [==============================] - 1s 1s/step - loss: 44.4048\n",
      "-------------------------\n",
      "1/1 [==============================] - 4s 4s/step - loss: 44.5190\n",
      "-------------------------\n",
      "1/1 [==============================] - 1s 1s/step - loss: 44.3554\n",
      "-------------------------\n",
      "1/1 [==============================] - 5s 5s/step - loss: 44.3759\n",
      "-------------------------\n",
      "1/1 [==============================] - 1s 1s/step - loss: 44.3133\n",
      "-------------------------\n",
      "1/1 [==============================] - 5s 5s/step - loss: 44.2596\n",
      "-------------------------\n",
      "1/1 [==============================] - 1s 1s/step - loss: 44.2623\n",
      "-------------------------\n",
      "1/1 [==============================] - 5s 5s/step - loss: 44.1427\n",
      "-------------------------\n",
      "1/1 [==============================] - 1s 1s/step - loss: 44.2168\n",
      "-------------------------\n",
      "1/1 [==============================] - 4s 4s/step - loss: 44.0397\n",
      "-------------------------\n",
      "1/1 [==============================] - 1s 1s/step - loss: 44.1801\n",
      "-------------------------\n",
      "1/1 [==============================] - 6s 6s/step - loss: 43.9457\n",
      "-------------------------\n",
      "1/1 [==============================] - 1s 1s/step - loss: 44.1339\n",
      "-------------------------\n",
      "1/1 [==============================] - 5s 5s/step - loss: 43.8407\n",
      "-------------------------\n",
      "1/1 [==============================] - 1s 1s/step - loss: 44.0982\n",
      "-------------------------\n",
      "1/1 [==============================] - 5s 5s/step - loss: 43.7369\n",
      "-------------------------\n",
      "1/1 [==============================] - 1s 1s/step - loss: 44.0581\n",
      "-------------------------\n",
      "1/1 [==============================] - 4s 4s/step - loss: 43.6431\n",
      "-------------------------\n",
      "1/1 [==============================] - 1s 1s/step - loss: 44.0083\n",
      "-------------------------\n",
      "1/1 [==============================] - 5s 5s/step - loss: 43.5471\n",
      "-------------------------\n",
      "1/1 [==============================] - 1s 1s/step - loss: 43.9529\n",
      "-------------------------\n",
      "1/1 [==============================] - 5s 5s/step - loss: 43.4565\n",
      "-------------------------\n",
      "1/1 [==============================] - 1s 1s/step - loss: 43.9278\n",
      "-------------------------\n",
      "1/1 [==============================] - 5s 5s/step - loss: 43.3583\n",
      "-------------------------\n",
      "1/1 [==============================] - 1s 1s/step - loss: 43.8838\n",
      "-------------------------\n",
      "1/1 [==============================] - 4s 4s/step - loss: 43.2635\n",
      "-------------------------\n",
      "1/1 [==============================] - 1s 1s/step - loss: 43.8309\n",
      "-------------------------\n",
      "1/1 [==============================] - 5s 5s/step - loss: 43.1823\n",
      "-------------------------\n",
      "1/1 [==============================] - 1s 1s/step - loss: 43.7939\n",
      "-------------------------\n",
      "1/1 [==============================] - 5s 5s/step - loss: 43.1097\n",
      "-------------------------\n",
      "1/1 [==============================] - 1s 1s/step - loss: 43.7623\n",
      "-------------------------\n",
      "1/1 [==============================] - 5s 5s/step - loss: 43.0126\n",
      "-------------------------\n",
      "1/1 [==============================] - 1s 1s/step - loss: 43.7248\n",
      "-------------------------\n",
      "1/1 [==============================] - 4s 4s/step - loss: 42.9377\n",
      "-------------------------\n",
      "1/1 [==============================] - 1s 1s/step - loss: 43.6810\n",
      "-------------------------\n",
      "1/1 [==============================] - 5s 5s/step - loss: 42.8459\n",
      "-------------------------\n",
      "1/1 [==============================] - 1s 1s/step - loss: 43.6615\n",
      "-------------------------\n",
      "1/1 [==============================] - 5s 5s/step - loss: 42.7588\n",
      "-------------------------\n",
      "1/1 [==============================] - 1s 1s/step - loss: 43.6249\n",
      "-------------------------\n",
      "1/1 [==============================] - 5s 5s/step - loss: 42.6852\n",
      "-------------------------\n",
      "1/1 [==============================] - 1s 1s/step - loss: 43.5420\n",
      "-------------------------\n",
      "1/1 [==============================] - 4s 4s/step - loss: 42.6261\n",
      "-------------------------\n",
      "1/1 [==============================] - 1s 1s/step - loss: 43.5235\n",
      "-------------------------\n",
      "1/1 [==============================] - 5s 5s/step - loss: 42.5284\n",
      "-------------------------\n",
      "1/1 [==============================] - 1s 1s/step - loss: 43.4956\n",
      "-------------------------\n",
      "1/1 [==============================] - 5s 5s/step - loss: 42.4583\n",
      "-------------------------\n",
      "1/1 [==============================] - 1s 1s/step - loss: 43.4458\n",
      "-------------------------\n",
      "1/1 [==============================] - 5s 5s/step - loss: 42.3719\n",
      "-------------------------\n",
      "1/1 [==============================] - 1s 1s/step - loss: 43.3937\n",
      "-------------------------\n",
      "1/1 [==============================] - 4s 4s/step - loss: 42.2818\n",
      "-------------------------\n",
      "1/1 [==============================] - 1s 1s/step - loss: 43.3517\n",
      "-------------------------\n",
      "1/1 [==============================] - 5s 5s/step - loss: 42.2005\n",
      "-------------------------\n",
      "1/1 [==============================] - 1s 1s/step - loss: 43.3540\n",
      "-------------------------\n",
      "1/1 [==============================] - 5s 5s/step - loss: 42.1431\n",
      "-------------------------\n",
      "1/1 [==============================] - 1s 1s/step - loss: 43.3198\n",
      "-------------------------\n",
      "1/1 [==============================] - 5s 5s/step - loss: 42.0566\n",
      "-------------------------\n",
      "1/1 [==============================] - 1s 1s/step - loss: 43.2649\n",
      "-------------------------\n",
      "1/1 [==============================] - 4s 4s/step - loss: 41.9700\n",
      "-------------------------\n",
      "1/1 [==============================] - 1s 1s/step - loss: 43.2123\n",
      "-------------------------\n",
      "1/1 [==============================] - 5s 5s/step - loss: 41.8969\n",
      "-------------------------\n",
      "1/1 [==============================] - 1s 1s/step - loss: 43.1796\n",
      "-------------------------\n",
      "1/1 [==============================] - 5s 5s/step - loss: 41.8094\n",
      "-------------------------\n",
      "1/1 [==============================] - 1s 1s/step - loss: 43.1350\n",
      "-------------------------\n",
      "1/1 [==============================] - 5s 5s/step - loss: 41.7185\n",
      "-------------------------\n",
      "1/1 [==============================] - 1s 1s/step - loss: 43.1310\n",
      "-------------------------\n",
      "1/1 [==============================] - 4s 4s/step - loss: 41.6459\n",
      "-------------------------\n",
      "1/1 [==============================] - 1s 1s/step - loss: 43.0899\n",
      "-------------------------\n",
      "1/1 [==============================] - 5s 5s/step - loss: 41.5554\n",
      "-------------------------\n",
      "1/1 [==============================] - 1s 1s/step - loss: 43.0822\n",
      "-------------------------\n",
      "1/1 [==============================] - 5s 5s/step - loss: 41.4918\n",
      "-------------------------\n",
      "1/1 [==============================] - 1s 1s/step - loss: 43.0044\n",
      "-------------------------\n",
      "1/1 [==============================] - 4s 4s/step - loss: 41.4300\n",
      "-------------------------\n",
      "1/1 [==============================] - 1s 1s/step - loss: 42.9516\n",
      "-------------------------\n",
      "1/1 [==============================] - 4s 4s/step - loss: 41.3406\n",
      "-------------------------\n",
      "1/1 [==============================] - 1s 1s/step - loss: 42.9472\n",
      "-------------------------\n",
      "1/1 [==============================] - 6s 6s/step - loss: 41.2440\n",
      "-------------------------\n",
      "1/1 [==============================] - 1s 1s/step - loss: 42.9046\n",
      "-------------------------\n",
      "1/1 [==============================] - 6s 6s/step - loss: 41.1762\n",
      "-------------------------\n",
      "1/1 [==============================] - 1s 1s/step - loss: 42.9072\n",
      "-------------------------\n",
      "1/1 [==============================] - 4s 4s/step - loss: 41.1205\n",
      "-------------------------\n",
      "1/1 [==============================] - 1s 1s/step - loss: 42.8599\n",
      "-------------------------\n",
      "1/1 [==============================] - 5s 5s/step - loss: 41.0379\n",
      "-------------------------\n"
     ]
    },
    {
     "name": "stdout",
     "output_type": "stream",
     "text": [
      "1/1 [==============================] - 1s 1s/step - loss: 42.8274\n",
      "-------------------------\n",
      "1/1 [==============================] - 5s 5s/step - loss: 40.9832\n",
      "-------------------------\n",
      "1/1 [==============================] - 1s 1s/step - loss: 42.7755\n",
      "-------------------------\n",
      "1/1 [==============================] - 6s 6s/step - loss: 40.8999\n",
      "-------------------------\n",
      "1/1 [==============================] - 1s 1s/step - loss: 42.7679\n",
      "-------------------------\n",
      "1/1 [==============================] - 4s 4s/step - loss: 40.8314\n",
      "-------------------------\n",
      "1/1 [==============================] - 1s 1s/step - loss: 42.7681\n",
      "-------------------------\n",
      "1/1 [==============================] - 5s 5s/step - loss: 40.7505\n",
      "-------------------------\n",
      "1/1 [==============================] - 1s 1s/step - loss: 42.7587\n",
      "-------------------------\n",
      "1/1 [==============================] - 5s 5s/step - loss: 40.6763\n",
      "-------------------------\n",
      "1/1 [==============================] - 1s 1s/step - loss: 42.7224\n",
      "-------------------------\n",
      "1/1 [==============================] - 5s 5s/step - loss: 40.5997\n",
      "-------------------------\n",
      "1/1 [==============================] - 1s 1s/step - loss: 42.6816\n",
      "-------------------------\n",
      "1/1 [==============================] - 4s 4s/step - loss: 40.5256\n",
      "-------------------------\n",
      "1/1 [==============================] - 1s 1s/step - loss: 42.6205\n",
      "-------------------------\n",
      "1/1 [==============================] - 5s 5s/step - loss: 40.4671\n",
      "-------------------------\n",
      "1/1 [==============================] - 1s 1s/step - loss: 42.5856\n",
      "-------------------------\n",
      "1/1 [==============================] - 5s 5s/step - loss: 40.3951\n",
      "-------------------------\n",
      "1/1 [==============================] - 1s 1s/step - loss: 42.5723\n",
      "-------------------------\n",
      "1/1 [==============================] - 5s 5s/step - loss: 40.3527\n",
      "-------------------------\n",
      "1/1 [==============================] - 1s 1s/step - loss: 42.4778\n",
      "-------------------------\n",
      "1/1 [==============================] - 4s 4s/step - loss: 40.2392\n",
      "-------------------------\n",
      "1/1 [==============================] - 1s 1s/step - loss: 42.4926\n",
      "-------------------------\n",
      "1/1 [==============================] - 5s 5s/step - loss: 40.1744\n",
      "-------------------------\n",
      "1/1 [==============================] - 1s 1s/step - loss: 42.4070\n",
      "-------------------------\n",
      "1/1 [==============================] - 5s 5s/step - loss: 40.0894\n",
      "-------------------------\n",
      "1/1 [==============================] - 1s 1s/step - loss: 42.3419\n",
      "-------------------------\n",
      "1/1 [==============================] - 5s 5s/step - loss: 40.0191\n",
      "-------------------------\n",
      "1/1 [==============================] - 1s 1s/step - loss: 42.3970\n",
      "-------------------------\n",
      "1/1 [==============================] - 4s 4s/step - loss: 39.9557\n",
      "-------------------------\n",
      "1/1 [==============================] - 1s 1s/step - loss: 42.3999\n",
      "-------------------------\n",
      "1/1 [==============================] - 5s 5s/step - loss: 39.8868\n",
      "-------------------------\n",
      "1/1 [==============================] - 1s 1s/step - loss: 42.3037\n",
      "-------------------------\n",
      "1/1 [==============================] - 5s 5s/step - loss: 39.8117\n",
      "-------------------------\n",
      "1/1 [==============================] - 1s 1s/step - loss: 42.1458\n",
      "-------------------------\n",
      "1/1 [==============================] - 5s 5s/step - loss: 39.7312\n",
      "-------------------------\n",
      "1/1 [==============================] - 1s 1s/step - loss: 42.1879\n",
      "-------------------------\n",
      "1/1 [==============================] - 4s 4s/step - loss: 39.6908\n",
      "-------------------------\n",
      "1/1 [==============================] - 1s 1s/step - loss: 42.0800\n",
      "-------------------------\n",
      "1/1 [==============================] - 5s 5s/step - loss: 39.6032\n",
      "-------------------------\n",
      "1/1 [==============================] - 1s 1s/step - loss: 42.0364\n",
      "-------------------------\n",
      "1/1 [==============================] - 5s 5s/step - loss: 39.5736\n",
      "-------------------------\n",
      "1/1 [==============================] - 1s 1s/step - loss: 41.9884\n",
      "-------------------------\n",
      "1/1 [==============================] - 5s 5s/step - loss: 39.4916\n",
      "-------------------------\n",
      "1/1 [==============================] - 1s 1s/step - loss: 42.0430\n",
      "-------------------------\n",
      "1/1 [==============================] - 4s 4s/step - loss: 39.4201\n",
      "-------------------------\n",
      "1/1 [==============================] - 1s 1s/step - loss: 42.1041\n",
      "-------------------------\n",
      "1/1 [==============================] - 5s 5s/step - loss: 39.3592\n",
      "-------------------------\n",
      "1/1 [==============================] - 1s 1s/step - loss: 41.9979\n",
      "-------------------------\n",
      "1/1 [==============================] - 5s 5s/step - loss: 39.2717\n",
      "-------------------------\n",
      "1/1 [==============================] - 1s 1s/step - loss: 41.9108\n",
      "-------------------------\n",
      "1/1 [==============================] - 5s 5s/step - loss: 39.1852\n",
      "-------------------------\n",
      "1/1 [==============================] - 1s 1s/step - loss: 41.8877\n",
      "-------------------------\n",
      "1/1 [==============================] - 4s 4s/step - loss: 39.1142\n",
      "-------------------------\n",
      "1/1 [==============================] - 1s 1s/step - loss: 41.7946\n",
      "-------------------------\n",
      "1/1 [==============================] - 5s 5s/step - loss: 39.0468\n",
      "-------------------------\n",
      "1/1 [==============================] - 1s 1s/step - loss: 41.7516\n",
      "-------------------------\n",
      "1/1 [==============================] - 5s 5s/step - loss: 38.9912\n",
      "-------------------------\n",
      "1/1 [==============================] - 1s 1s/step - loss: 41.6280\n",
      "-------------------------\n",
      "1/1 [==============================] - 5s 5s/step - loss: 38.9248\n",
      "-------------------------\n",
      "1/1 [==============================] - 1s 1s/step - loss: 41.6011\n",
      "-------------------------\n",
      "1/1 [==============================] - 4s 4s/step - loss: 38.8512\n",
      "-------------------------\n",
      "1/1 [==============================] - 1s 1s/step - loss: 41.6559\n",
      "-------------------------\n",
      "1/1 [==============================] - 5s 5s/step - loss: 38.7958\n",
      "-------------------------\n",
      "1/1 [==============================] - 1s 1s/step - loss: 41.6860\n",
      "-------------------------\n",
      "1/1 [==============================] - 5s 5s/step - loss: 38.7191\n",
      "-------------------------\n",
      "1/1 [==============================] - 1s 1s/step - loss: 41.5863\n",
      "-------------------------\n",
      "1/1 [==============================] - 6s 6s/step - loss: 38.6530\n",
      "-------------------------\n",
      "1/1 [==============================] - 1s 1s/step - loss: 41.5945\n",
      "-------------------------\n",
      "1/1 [==============================] - 4s 4s/step - loss: 38.5822\n",
      "-------------------------\n",
      "1/1 [==============================] - 1s 1s/step - loss: 41.4911\n",
      "-------------------------\n",
      "1/1 [==============================] - 5s 5s/step - loss: 38.5175\n",
      "-------------------------\n",
      "1/1 [==============================] - 1s 1s/step - loss: 41.4180\n",
      "-------------------------\n",
      "1/1 [==============================] - 6s 6s/step - loss: 38.4526\n",
      "-------------------------\n",
      "1/1 [==============================] - 1s 1s/step - loss: 41.2657\n",
      "-------------------------\n",
      "1/1 [==============================] - 6s 6s/step - loss: 38.4001\n",
      "-------------------------\n",
      "1/1 [==============================] - 1s 1s/step - loss: 41.2698\n",
      "-------------------------\n",
      "1/1 [==============================] - 4s 4s/step - loss: 38.3359\n",
      "-------------------------\n",
      "1/1 [==============================] - 1s 1s/step - loss: 41.2542\n",
      "-------------------------\n",
      "1/1 [==============================] - 5s 5s/step - loss: 38.2625\n",
      "-------------------------\n",
      "1/1 [==============================] - 1s 1s/step - loss: 41.2281\n",
      "-------------------------\n",
      "1/1 [==============================] - 5s 5s/step - loss: 38.2079\n",
      "-------------------------\n",
      "1/1 [==============================] - 1s 1s/step - loss: 41.1044\n",
      "-------------------------\n",
      "1/1 [==============================] - 5s 5s/step - loss: 38.1288\n",
      "-------------------------\n",
      "1/1 [==============================] - 1s 1s/step - loss: 40.9962\n",
      "-------------------------\n",
      "1/1 [==============================] - 4s 4s/step - loss: 38.0731\n",
      "-------------------------\n",
      "1/1 [==============================] - 1s 1s/step - loss: 40.9826\n",
      "-------------------------\n",
      "1/1 [==============================] - 5s 5s/step - loss: 37.9944\n",
      "-------------------------\n",
      "1/1 [==============================] - 1s 1s/step - loss: 40.9732\n",
      "-------------------------\n"
     ]
    },
    {
     "name": "stdout",
     "output_type": "stream",
     "text": [
      "1/1 [==============================] - 5s 5s/step - loss: 37.9270\n",
      "-------------------------\n",
      "1/1 [==============================] - 1s 1s/step - loss: 41.0022\n",
      "-------------------------\n",
      "1/1 [==============================] - 5s 5s/step - loss: 37.8639\n",
      "-------------------------\n",
      "1/1 [==============================] - 1s 1s/step - loss: 40.9116\n",
      "-------------------------\n",
      "1/1 [==============================] - 4s 4s/step - loss: 37.7996\n",
      "-------------------------\n",
      "1/1 [==============================] - 1s 1s/step - loss: 40.8915\n",
      "-------------------------\n",
      "1/1 [==============================] - 5s 5s/step - loss: 37.7246\n",
      "-------------------------\n",
      "1/1 [==============================] - 1s 1s/step - loss: 40.8072\n",
      "-------------------------\n",
      "1/1 [==============================] - 5s 5s/step - loss: 37.6824\n",
      "-------------------------\n",
      "1/1 [==============================] - 1s 1s/step - loss: 40.8308\n",
      "-------------------------\n",
      "1/1 [==============================] - 5s 5s/step - loss: 37.6193\n",
      "-------------------------\n",
      "1/1 [==============================] - 1s 1s/step - loss: 40.7476\n",
      "-------------------------\n",
      "1/1 [==============================] - 4s 4s/step - loss: 37.5801\n",
      "-------------------------\n",
      "1/1 [==============================] - 1s 1s/step - loss: 40.5925\n",
      "-------------------------\n",
      "1/1 [==============================] - 5s 5s/step - loss: 37.5303\n",
      "-------------------------\n",
      "1/1 [==============================] - 1s 1s/step - loss: 40.5394\n",
      "-------------------------\n",
      "1/1 [==============================] - 5s 5s/step - loss: 37.4343\n",
      "-------------------------\n",
      "1/1 [==============================] - 1s 1s/step - loss: 40.5262\n",
      "-------------------------\n",
      "1/1 [==============================] - 4s 4s/step - loss: 37.3600\n",
      "-------------------------\n",
      "1/1 [==============================] - 1s 1s/step - loss: 40.5220\n",
      "-------------------------\n",
      "1/1 [==============================] - 5s 5s/step - loss: 37.2806\n",
      "-------------------------\n",
      "1/1 [==============================] - 1s 1s/step - loss: 40.4770\n"
     ]
    }
   ],
   "source": [
    "ali_pgnn_losses, ali_pgnn_val_losses = [], []\n",
    "val_size = len(y_val)\n",
    "train_size = len(y_train)\n",
    "\n",
    "for epoch in range(max_epoch):\n",
    "    ali_pgnn_model.modify_graphgather(train_size)\n",
    "    ali_pgnn_model.input_shapes = [i.shape for i in x_preprocessed_train]\n",
    "    ali_loss = ali_pgnn_model.fit(x_train, -y_train.reshape([1, -1]), epochs=1)\n",
    "#     history = model.fit(x_train, -y_train.reshape([1, -1]), epochs=3)\n",
    "#     metric = dc.metrics.Metric(dc.metrics.score_function.rms_score)\n",
    "    ali_pgnn_losses.append(ali_loss.history['loss'])\n",
    "    ali_pgnn_model.input_shapes = [i.shape for i in x_preprocessed_val]\n",
    "    ali_pgnn_model.modify_graphgather(val_size)\n",
    "    ali_pgnn_val_losses.append(ali_pgnn_model.evaluate(x_val, y_val.reshape([1, -1])))"
   ]
  },
  {
   "cell_type": "code",
   "execution_count": 91,
   "metadata": {},
   "outputs": [
    {
     "data": {
      "text/plain": [
       "[array([[0.6208926],\n",
       "        [1.1067361],\n",
       "        [0.8925526],\n",
       "        [0.9125809],\n",
       "        [1.1033266],\n",
       "        [1.0196115]], dtype=float32),\n",
       " array([0.1054638], dtype=float32)]"
      ]
     },
     "execution_count": 91,
     "metadata": {},
     "output_type": "execute_result"
    }
   ],
   "source": [
    "# chekcing the wights after training\n",
    "ali_pgnn_model.layers[-1].get_weights()"
   ]
  },
  {
   "cell_type": "code",
   "execution_count": 92,
   "metadata": {},
   "outputs": [
    {
     "data": {
      "image/png": "[encoded data removed]",
      "text/plain": [
       "<Figure size 432x288 with 1 Axes>"
      ]
     },
     "metadata": {
      "needs_background": "light"
     },
     "output_type": "display_data"
    }
   ],
   "source": [
    "import matplotlib.pyplot as plt\n",
    "# f, ax = plt.subplots()\n",
    "plt.plot(range(len(ali_pgnn_losses)), ali_pgnn_losses, label='Ali PGNN train loss')\n",
    "plt.plot(range(len(ali_pgnn_val_losses)), ali_pgnn_val_losses, label='Ali PGNN val loss')\n",
    "plt.legend(loc='upper right')\n",
    "# plt.ylim(0,500)\n",
    "plt.xlabel(\"Epoch\")\n",
    "plt.ylabel(\"Loss (Kcal/mol)\")\n",
    "plt.savefig('Ali_PGNN_loss_26Mar.png')"
   ]
  },
  {
   "cell_type": "code",
   "execution_count": 93,
   "metadata": {},
   "outputs": [
    {
     "name": "stdout",
     "output_type": "stream",
     "text": [
      "-------------------------\n",
      "1/1 [==============================] - 1s 1s/step - loss: 40.4770\n"
     ]
    }
   ],
   "source": [
    "ali_pgnn_model.input_shapes = [i.shape for i in x_preprocessed_test]\n",
    "ali_pgnn_model.modify_graphgather(len(y_test))\n",
    "ali_pgnn_test_loss= ali_pgnn_model.evaluate(x_test, y_test.reshape([1, -1]))\n",
    "# test_pgnn_loss = dd_model.evaluate(x_test, y_test.reshape([1, -1]))\n"
   ]
  },
  {
   "cell_type": "code",
   "execution_count": 197,
   "metadata": {},
   "outputs": [],
   "source": [
    "ali_pgnn_rmse_test = ali_pgnn_test_loss"
   ]
  },
  {
   "cell_type": "code",
   "execution_count": 198,
   "metadata": {},
   "outputs": [
    {
     "data": {
      "text/plain": [
       "40.47704315185547"
      ]
     },
     "execution_count": 198,
     "metadata": {},
     "output_type": "execute_result"
    }
   ],
   "source": [
    "ali_pgnn_rmse_test"
   ]
  },
  {
   "cell_type": "code",
   "execution_count": 199,
   "metadata": {},
   "outputs": [],
   "source": [
    "\n",
    "ali_pgnn_rmse_train = ali_pgnn_losses[-1]\n",
    "# ali_pgnn_train_loss = [sum(x)/len(x) for x in zip(*ali_pgnn_losses)]\n",
    "# ali_pgnn_rmse_train = math.sqrt(ali_pgnn_rmse_train[0])"
   ]
  },
  {
   "cell_type": "code",
   "execution_count": 200,
   "metadata": {},
   "outputs": [
    {
     "data": {
      "text/plain": [
       "[37.28062438964844]"
      ]
     },
     "execution_count": 200,
     "metadata": {},
     "output_type": "execute_result"
    }
   ],
   "source": [
    "ali_pgnn_rmse_train"
   ]
  },
  {
   "cell_type": "code",
   "execution_count": 123,
   "metadata": {},
   "outputs": [],
   "source": [
    "\n",
    "ali_pgnn_test_accuracy = ali_pgnn_rmse_test\n",
    "ali_pgnn_train_accuracy = ali_pgnn_rmse_train\n",
    "\n"
   ]
  },
  {
   "cell_type": "markdown",
   "metadata": {},
   "source": [
    "# Ali DataDriven Model"
   ]
  },
  {
   "cell_type": "code",
   "execution_count": 94,
   "metadata": {},
   "outputs": [],
   "source": [
    "from deepchem.models.layers import GraphConv, GraphPool, GraphGather\n",
    "import keras.backend as K\n",
    "import tensorflow.keras.layers as layers\n",
    "from tensorflow.keras.layers import Dense, Input, BatchNormalization, Concatenate\n",
    "from tensorflow.keras import initializers\n",
    "import sys\n",
    "import tensorflow as tf\n",
    "import random\n",
    "\n",
    "\n",
    "class GBGraphConvModelAli(tf.keras.Model):\n",
    "\n",
    "  def modify_graphgather(self, batch_size):\n",
    "    self.readout.batch_size = batch_size\n",
    "    self.batch_size = batch_size\n",
    "    \n",
    "  def __init__(self, batch_size):\n",
    "    super(GBGraphConvModelAli, self).__init__()\n",
    "    self.input_shapes = None\n",
    "    self.batch_size = batch_size\n",
    "    self.gc1 = GraphConv(64, activation_fn=tf.nn.tanh)\n",
    "    self.batch_norm1 = layers.BatchNormalization()\n",
    "    self.gp1 = GraphPool()\n",
    "\n",
    "    self.gc2 = GraphConv(64, activation_fn=tf.nn.tanh)\n",
    "    self.batch_norm2 = layers.BatchNormalization()\n",
    "    self.gp2 = GraphPool()\n",
    "\n",
    "    self.dense1 = layers.Dense(128, activation=tf.nn.tanh)\n",
    "    self.batch_norm3 = layers.BatchNormalization()\n",
    "    self.readout = GraphGather(batch_size=self.batch_size, activation_fn=tf.nn.tanh)\n",
    "\n",
    "    self.dense2 = layers.Dense(64, activation=tf.nn.sigmoid)\n",
    "    self.dense3 = layers.Dense(1)\n",
    "    \n",
    "    ## Dense for overall\n",
    "    self.dense4 = layers.Dense(1) \n",
    "#      kernel_initializer=initializers.Constant([.5, 1, 1, 1, 1, 1]),\n",
    "#      bias_initializer=initializers.Zeros())\n",
    "#     self.dense4 = layers.Dense(1, \n",
    "#          kernel_initializer=initializers.Constant([.5, -1, -1, -1, -1, 1, 1, 1, 1, 1, 1, 1, 1, -1, 1, 1]),\n",
    "#          bias_initializer=initializers.Zeros(), activation=tf.keras.activations.relu)\n",
    "\n",
    "  def call(self, inputs):\n",
    "#     x_feat, x_add = inputs[0], inputs[1]\n",
    "    inputs = inputs[0]\n",
    "    x = []\n",
    "#     input_shapes = [[4822, 75], [11, 2], [4822], [1142, 1], [1635, 2], [2042, 3],\n",
    "#                    [3, 4], [0, 5], [0, 6], [0, 7], [0, 8], [0, 9], [0, 10]]\n",
    "    for i in range(len(self.input_shapes)):\n",
    "        x.append(tf.reshape(inputs[i][inputs[i] != 1.123456], self.input_shapes[i]))\n",
    "    for i in range(1, len(self.input_shapes)):\n",
    "        x[i] = tf.cast(x[i], tf.int32)\n",
    "    x_add = tf.reshape(inputs[13][inputs[13] != 1.123456], [self.batch_size, 5])\n",
    "\n",
    "    gc1_output = self.gc1(x)\n",
    "    batch_norm1_output = self.batch_norm1(gc1_output)\n",
    "    gp1_output = self.gp1([batch_norm1_output] + x[1:])\n",
    "\n",
    "    gc2_output = self.gc2([gp1_output] + x[1:])\n",
    "    batch_norm2_output = self.batch_norm1(gc2_output)\n",
    "    gp2_output = self.gp2([batch_norm2_output] + x[1:])\n",
    "\n",
    "    dense1_output = self.dense1(gp2_output)\n",
    "    batch_norm3_output = self.batch_norm3(dense1_output)\n",
    "    readout_output = self.readout([batch_norm3_output] + x[1:])\n",
    "    \n",
    "    model_var = self.dense2(readout_output)\n",
    "    model_var = self.dense3(model_var)\n",
    "#     binding_affinity = tf.concat([model_var, x_add], axis=1)\n",
    "#     ddg = self.dense4(binding_affinity)\n",
    "#     tf.print(self.dense4.weights, output_stream=\"file://weights.txt\", summarize=30)\n",
    "#     tf.print(binding_affinity[0], output_stream=\"file://binding_a.txt\", summarize=30)\n",
    "#     tf.print(ddg[0], output_stream=\"file://ddg.txt\")\n",
    "#     tf.print(model_var, output_stream=\"file://model_var.txt\", summarize=30)\n",
    "#     tf.print(\"-------------------------\", output_stream=sys.stdout)\n",
    "    return model_var\n",
    "\n",
    "# def root_mean_squared_error(y_true, y_pred):\n",
    "#         return K.sqrt(K.mean(K.square(y_pred - y_true))) \n",
    "ali_dd_model = GBGraphConvModelAli(train_split_index)\n",
    "ali_dd_model.compile(optimizer = \"rmsprop\", loss = 'mse')\n",
    "K.set_value(ali_dd_model.optimizer.learning_rate, 0.001)"
   ]
  },
  {
   "cell_type": "code",
   "execution_count": 95,
   "metadata": {},
   "outputs": [
    {
     "name": "stderr",
     "output_type": "stream",
     "text": [
      "/Users/misspotato/opt/miniconda3/envs/rdkit-deepchem-jupyter/lib/python3.9/site-packages/tensorflow/python/framework/indexed_slices.py:447: UserWarning: Converting sparse IndexedSlices(IndexedSlices(indices=Tensor(\"gradient_tape/gb_graph_conv_model_ali/graph_pool_7/Reshape_14:0\", shape=(83387,), dtype=int32), values=Tensor(\"gradient_tape/gb_graph_conv_model_ali/graph_pool_7/Reshape_13:0\", shape=(83387, 64), dtype=float32), dense_shape=Tensor(\"gradient_tape/gb_graph_conv_model_ali/graph_pool_7/Cast_4:0\", shape=(2,), dtype=int32))) to a dense Tensor of unknown shape. This may consume a large amount of memory.\n",
      "  warnings.warn(\n",
      "/Users/misspotato/opt/miniconda3/envs/rdkit-deepchem-jupyter/lib/python3.9/site-packages/tensorflow/python/framework/indexed_slices.py:447: UserWarning: Converting sparse IndexedSlices(IndexedSlices(indices=Tensor(\"gradient_tape/gb_graph_conv_model_ali/graph_pool_7/Reshape_17:0\", shape=(205678,), dtype=int32), values=Tensor(\"gradient_tape/gb_graph_conv_model_ali/graph_pool_7/Reshape_16:0\", shape=(205678, 64), dtype=float32), dense_shape=Tensor(\"gradient_tape/gb_graph_conv_model_ali/graph_pool_7/Cast_5:0\", shape=(2,), dtype=int32))) to a dense Tensor of unknown shape. This may consume a large amount of memory.\n",
      "  warnings.warn(\n",
      "/Users/misspotato/opt/miniconda3/envs/rdkit-deepchem-jupyter/lib/python3.9/site-packages/tensorflow/python/framework/indexed_slices.py:447: UserWarning: Converting sparse IndexedSlices(IndexedSlices(indices=Tensor(\"gradient_tape/gb_graph_conv_model_ali/graph_pool_7/Reshape_20:0\", shape=(290367,), dtype=int32), values=Tensor(\"gradient_tape/gb_graph_conv_model_ali/graph_pool_7/Reshape_19:0\", shape=(290367, 64), dtype=float32), dense_shape=Tensor(\"gradient_tape/gb_graph_conv_model_ali/graph_pool_7/Cast_6:0\", shape=(2,), dtype=int32))) to a dense Tensor of unknown shape. This may consume a large amount of memory.\n",
      "  warnings.warn(\n",
      "/Users/misspotato/opt/miniconda3/envs/rdkit-deepchem-jupyter/lib/python3.9/site-packages/tensorflow/python/framework/indexed_slices.py:447: UserWarning: Converting sparse IndexedSlices(IndexedSlices(indices=Tensor(\"gradient_tape/gb_graph_conv_model_ali/graph_pool_7/Reshape_23:0\", shape=(188,), dtype=int32), values=Tensor(\"gradient_tape/gb_graph_conv_model_ali/graph_pool_7/Reshape_22:0\", shape=(188, 64), dtype=float32), dense_shape=Tensor(\"gradient_tape/gb_graph_conv_model_ali/graph_pool_7/Cast_7:0\", shape=(2,), dtype=int32))) to a dense Tensor of unknown shape. This may consume a large amount of memory.\n",
      "  warnings.warn(\n",
      "/Users/misspotato/opt/miniconda3/envs/rdkit-deepchem-jupyter/lib/python3.9/site-packages/tensorflow/python/framework/indexed_slices.py:447: UserWarning: Converting sparse IndexedSlices(IndexedSlices(indices=Tensor(\"gradient_tape/gb_graph_conv_model_ali/graph_conv_7/Reshape_11:0\", shape=(83387,), dtype=int32), values=Tensor(\"gradient_tape/gb_graph_conv_model_ali/graph_conv_7/Reshape_10:0\", shape=(83387, 64), dtype=float32), dense_shape=Tensor(\"gradient_tape/gb_graph_conv_model_ali/graph_conv_7/Cast:0\", shape=(2,), dtype=int32))) to a dense Tensor of unknown shape. This may consume a large amount of memory.\n",
      "  warnings.warn(\n",
      "/Users/misspotato/opt/miniconda3/envs/rdkit-deepchem-jupyter/lib/python3.9/site-packages/tensorflow/python/framework/indexed_slices.py:447: UserWarning: Converting sparse IndexedSlices(IndexedSlices(indices=Tensor(\"gradient_tape/gb_graph_conv_model_ali/graph_conv_7/Reshape_13:0\", shape=(205678,), dtype=int32), values=Tensor(\"gradient_tape/gb_graph_conv_model_ali/graph_conv_7/Reshape_12:0\", shape=(205678, 64), dtype=float32), dense_shape=Tensor(\"gradient_tape/gb_graph_conv_model_ali/graph_conv_7/Cast_1:0\", shape=(2,), dtype=int32))) to a dense Tensor of unknown shape. This may consume a large amount of memory.\n",
      "  warnings.warn(\n",
      "/Users/misspotato/opt/miniconda3/envs/rdkit-deepchem-jupyter/lib/python3.9/site-packages/tensorflow/python/framework/indexed_slices.py:447: UserWarning: Converting sparse IndexedSlices(IndexedSlices(indices=Tensor(\"gradient_tape/gb_graph_conv_model_ali/graph_conv_7/Reshape_15:0\", shape=(290367,), dtype=int32), values=Tensor(\"gradient_tape/gb_graph_conv_model_ali/graph_conv_7/Reshape_14:0\", shape=(290367, 64), dtype=float32), dense_shape=Tensor(\"gradient_tape/gb_graph_conv_model_ali/graph_conv_7/Cast_2:0\", shape=(2,), dtype=int32))) to a dense Tensor of unknown shape. This may consume a large amount of memory.\n",
      "  warnings.warn(\n",
      "/Users/misspotato/opt/miniconda3/envs/rdkit-deepchem-jupyter/lib/python3.9/site-packages/tensorflow/python/framework/indexed_slices.py:447: UserWarning: Converting sparse IndexedSlices(IndexedSlices(indices=Tensor(\"gradient_tape/gb_graph_conv_model_ali/graph_conv_7/Reshape_17:0\", shape=(188,), dtype=int32), values=Tensor(\"gradient_tape/gb_graph_conv_model_ali/graph_conv_7/Reshape_16:0\", shape=(188, 64), dtype=float32), dense_shape=Tensor(\"gradient_tape/gb_graph_conv_model_ali/graph_conv_7/Cast_3:0\", shape=(2,), dtype=int32))) to a dense Tensor of unknown shape. This may consume a large amount of memory.\n",
      "  warnings.warn(\n",
      "/Users/misspotato/opt/miniconda3/envs/rdkit-deepchem-jupyter/lib/python3.9/site-packages/tensorflow/python/framework/indexed_slices.py:447: UserWarning: Converting sparse IndexedSlices(IndexedSlices(indices=Tensor(\"gradient_tape/gb_graph_conv_model_ali/graph_conv_7/Reshape_19:0\", shape=(0,), dtype=int32), values=Tensor(\"gradient_tape/gb_graph_conv_model_ali/graph_conv_7/Reshape_18:0\", shape=(0, 64), dtype=float32), dense_shape=Tensor(\"gradient_tape/gb_graph_conv_model_ali/graph_conv_7/Cast_4:0\", shape=(2,), dtype=int32))) to a dense Tensor of unknown shape. This may consume a large amount of memory.\n",
      "  warnings.warn(\n",
      "/Users/misspotato/opt/miniconda3/envs/rdkit-deepchem-jupyter/lib/python3.9/site-packages/tensorflow/python/framework/indexed_slices.py:447: UserWarning: Converting sparse IndexedSlices(IndexedSlices(indices=Tensor(\"gradient_tape/gb_graph_conv_model_ali/graph_conv_7/Reshape_21:0\", shape=(0,), dtype=int32), values=Tensor(\"gradient_tape/gb_graph_conv_model_ali/graph_conv_7/Reshape_20:0\", shape=(0, 64), dtype=float32), dense_shape=Tensor(\"gradient_tape/gb_graph_conv_model_ali/graph_conv_7/Cast_5:0\", shape=(2,), dtype=int32))) to a dense Tensor of unknown shape. This may consume a large amount of memory.\n",
      "  warnings.warn(\n",
      "/Users/misspotato/opt/miniconda3/envs/rdkit-deepchem-jupyter/lib/python3.9/site-packages/tensorflow/python/framework/indexed_slices.py:447: UserWarning: Converting sparse IndexedSlices(IndexedSlices(indices=Tensor(\"gradient_tape/gb_graph_conv_model_ali/graph_conv_7/Reshape_23:0\", shape=(0,), dtype=int32), values=Tensor(\"gradient_tape/gb_graph_conv_model_ali/graph_conv_7/Reshape_22:0\", shape=(0, 64), dtype=float32), dense_shape=Tensor(\"gradient_tape/gb_graph_conv_model_ali/graph_conv_7/Cast_6:0\", shape=(2,), dtype=int32))) to a dense Tensor of unknown shape. This may consume a large amount of memory.\n",
      "  warnings.warn(\n",
      "/Users/misspotato/opt/miniconda3/envs/rdkit-deepchem-jupyter/lib/python3.9/site-packages/tensorflow/python/framework/indexed_slices.py:447: UserWarning: Converting sparse IndexedSlices(IndexedSlices(indices=Tensor(\"gradient_tape/gb_graph_conv_model_ali/graph_conv_7/Reshape_25:0\", shape=(0,), dtype=int32), values=Tensor(\"gradient_tape/gb_graph_conv_model_ali/graph_conv_7/Reshape_24:0\", shape=(0, 64), dtype=float32), dense_shape=Tensor(\"gradient_tape/gb_graph_conv_model_ali/graph_conv_7/Cast_7:0\", shape=(2,), dtype=int32))) to a dense Tensor of unknown shape. This may consume a large amount of memory.\n",
      "  warnings.warn(\n",
      "/Users/misspotato/opt/miniconda3/envs/rdkit-deepchem-jupyter/lib/python3.9/site-packages/tensorflow/python/framework/indexed_slices.py:447: UserWarning: Converting sparse IndexedSlices(IndexedSlices(indices=Tensor(\"gradient_tape/gb_graph_conv_model_ali/graph_conv_7/Reshape_27:0\", shape=(0,), dtype=int32), values=Tensor(\"gradient_tape/gb_graph_conv_model_ali/graph_conv_7/Reshape_26:0\", shape=(0, 64), dtype=float32), dense_shape=Tensor(\"gradient_tape/gb_graph_conv_model_ali/graph_conv_7/Cast_8:0\", shape=(2,), dtype=int32))) to a dense Tensor of unknown shape. This may consume a large amount of memory.\n",
      "  warnings.warn(\n",
      "/Users/misspotato/opt/miniconda3/envs/rdkit-deepchem-jupyter/lib/python3.9/site-packages/tensorflow/python/framework/indexed_slices.py:447: UserWarning: Converting sparse IndexedSlices(IndexedSlices(indices=Tensor(\"gradient_tape/gb_graph_conv_model_ali/graph_conv_7/Reshape_29:0\", shape=(0,), dtype=int32), values=Tensor(\"gradient_tape/gb_graph_conv_model_ali/graph_conv_7/Reshape_28:0\", shape=(0, 64), dtype=float32), dense_shape=Tensor(\"gradient_tape/gb_graph_conv_model_ali/graph_conv_7/Cast_9:0\", shape=(2,), dtype=int32))) to a dense Tensor of unknown shape. This may consume a large amount of memory.\n",
      "  warnings.warn(\n",
      "/Users/misspotato/opt/miniconda3/envs/rdkit-deepchem-jupyter/lib/python3.9/site-packages/tensorflow/python/framework/indexed_slices.py:447: UserWarning: Converting sparse IndexedSlices(IndexedSlices(indices=Tensor(\"gradient_tape/gb_graph_conv_model_ali/graph_pool_6/Reshape_14:0\", shape=(83387,), dtype=int32), values=Tensor(\"gradient_tape/gb_graph_conv_model_ali/graph_pool_6/Reshape_13:0\", shape=(83387, 64), dtype=float32), dense_shape=Tensor(\"gradient_tape/gb_graph_conv_model_ali/graph_pool_6/Cast_4:0\", shape=(2,), dtype=int32))) to a dense Tensor of unknown shape. This may consume a large amount of memory.\n",
      "  warnings.warn(\n",
      "/Users/misspotato/opt/miniconda3/envs/rdkit-deepchem-jupyter/lib/python3.9/site-packages/tensorflow/python/framework/indexed_slices.py:447: UserWarning: Converting sparse IndexedSlices(IndexedSlices(indices=Tensor(\"gradient_tape/gb_graph_conv_model_ali/graph_pool_6/Reshape_17:0\", shape=(205678,), dtype=int32), values=Tensor(\"gradient_tape/gb_graph_conv_model_ali/graph_pool_6/Reshape_16:0\", shape=(205678, 64), dtype=float32), dense_shape=Tensor(\"gradient_tape/gb_graph_conv_model_ali/graph_pool_6/Cast_5:0\", shape=(2,), dtype=int32))) to a dense Tensor of unknown shape. This may consume a large amount of memory.\n",
      "  warnings.warn(\n",
      "/Users/misspotato/opt/miniconda3/envs/rdkit-deepchem-jupyter/lib/python3.9/site-packages/tensorflow/python/framework/indexed_slices.py:447: UserWarning: Converting sparse IndexedSlices(IndexedSlices(indices=Tensor(\"gradient_tape/gb_graph_conv_model_ali/graph_pool_6/Reshape_20:0\", shape=(290367,), dtype=int32), values=Tensor(\"gradient_tape/gb_graph_conv_model_ali/graph_pool_6/Reshape_19:0\", shape=(290367, 64), dtype=float32), dense_shape=Tensor(\"gradient_tape/gb_graph_conv_model_ali/graph_pool_6/Cast_6:0\", shape=(2,), dtype=int32))) to a dense Tensor of unknown shape. This may consume a large amount of memory.\n",
      "  warnings.warn(\n",
      "/Users/misspotato/opt/miniconda3/envs/rdkit-deepchem-jupyter/lib/python3.9/site-packages/tensorflow/python/framework/indexed_slices.py:447: UserWarning: Converting sparse IndexedSlices(IndexedSlices(indices=Tensor(\"gradient_tape/gb_graph_conv_model_ali/graph_pool_6/Reshape_23:0\", shape=(188,), dtype=int32), values=Tensor(\"gradient_tape/gb_graph_conv_model_ali/graph_pool_6/Reshape_22:0\", shape=(188, 64), dtype=float32), dense_shape=Tensor(\"gradient_tape/gb_graph_conv_model_ali/graph_pool_6/Cast_7:0\", shape=(2,), dtype=int32))) to a dense Tensor of unknown shape. This may consume a large amount of memory.\n",
      "  warnings.warn(\n"
     ]
    },
    {
     "name": "stdout",
     "output_type": "stream",
     "text": [
      "1/1 [==============================] - 14s 14s/step - loss: 88.2922\n",
      "1/1 [==============================] - 2s 2s/step - loss: 80.5351\n",
      "1/1 [==============================] - 6s 6s/step - loss: 72.1653\n",
      "1/1 [==============================] - 1s 1s/step - loss: 75.8201\n",
      "1/1 [==============================] - 6s 6s/step - loss: 62.7900\n",
      "1/1 [==============================] - 1s 1s/step - loss: 72.0251\n",
      "1/1 [==============================] - 5s 5s/step - loss: 55.4467\n",
      "1/1 [==============================] - 1s 998ms/step - loss: 68.9990\n",
      "1/1 [==============================] - 4s 4s/step - loss: 49.7468\n",
      "1/1 [==============================] - 1s 1s/step - loss: 67.1724\n",
      "1/1 [==============================] - 5s 5s/step - loss: 45.8839\n",
      "1/1 [==============================] - 1s 1s/step - loss: 65.3198\n",
      "1/1 [==============================] - 5s 5s/step - loss: 42.5207\n",
      "1/1 [==============================] - 1s 1s/step - loss: 63.5588\n",
      "1/1 [==============================] - 5s 5s/step - loss: 39.3738\n",
      "1/1 [==============================] - 1s 1s/step - loss: 63.9756\n",
      "1/1 [==============================] - 4s 4s/step - loss: 36.8663\n",
      "1/1 [==============================] - 1s 1s/step - loss: 62.4553\n",
      "1/1 [==============================] - 5s 5s/step - loss: 34.7042\n",
      "1/1 [==============================] - 1s 1s/step - loss: 58.9760\n",
      "1/1 [==============================] - 5s 5s/step - loss: 32.9727\n",
      "1/1 [==============================] - 1s 1s/step - loss: 58.1241\n",
      "1/1 [==============================] - 5s 5s/step - loss: 31.4132\n",
      "1/1 [==============================] - 1s 1s/step - loss: 56.9903\n",
      "1/1 [==============================] - 4s 4s/step - loss: 30.1213\n",
      "1/1 [==============================] - 1s 1s/step - loss: 54.9646\n",
      "1/1 [==============================] - 5s 5s/step - loss: 29.0414\n",
      "1/1 [==============================] - 1s 1s/step - loss: 53.8404\n",
      "1/1 [==============================] - 5s 5s/step - loss: 27.9056\n",
      "1/1 [==============================] - 1s 1s/step - loss: 51.9185\n",
      "1/1 [==============================] - 5s 5s/step - loss: 26.9712\n",
      "1/1 [==============================] - 1s 984ms/step - loss: 50.5840\n",
      "1/1 [==============================] - 4s 4s/step - loss: 26.1559\n",
      "1/1 [==============================] - 1s 1s/step - loss: 49.9042\n",
      "1/1 [==============================] - 5s 5s/step - loss: 25.4723\n",
      "1/1 [==============================] - 1s 1s/step - loss: 48.7521\n",
      "1/1 [==============================] - 5s 5s/step - loss: 24.7220\n",
      "1/1 [==============================] - 1s 1s/step - loss: 47.7487\n",
      "1/1 [==============================] - 5s 5s/step - loss: 24.1295\n",
      "1/1 [==============================] - 1s 1s/step - loss: 45.6711\n",
      "1/1 [==============================] - 4s 4s/step - loss: 23.5682\n",
      "1/1 [==============================] - 1s 1s/step - loss: 45.0027\n",
      "1/1 [==============================] - 5s 5s/step - loss: 23.0459\n",
      "1/1 [==============================] - 1s 1s/step - loss: 44.1066\n",
      "1/1 [==============================] - 5s 5s/step - loss: 22.5656\n",
      "1/1 [==============================] - 1s 1s/step - loss: 42.3719\n",
      "1/1 [==============================] - 5s 5s/step - loss: 22.1194\n",
      "1/1 [==============================] - 1s 1s/step - loss: 40.6381\n",
      "1/1 [==============================] - 4s 4s/step - loss: 21.6980\n",
      "1/1 [==============================] - 1s 1s/step - loss: 39.3053\n",
      "1/1 [==============================] - 5s 5s/step - loss: 21.2964\n",
      "1/1 [==============================] - 1s 1s/step - loss: 38.1602\n",
      "1/1 [==============================] - 6s 6s/step - loss: 20.9382\n",
      "1/1 [==============================] - 1s 1s/step - loss: 37.0998\n",
      "1/1 [==============================] - 5s 5s/step - loss: 20.5904\n",
      "1/1 [==============================] - 1s 1s/step - loss: 35.6968\n",
      "1/1 [==============================] - 6s 6s/step - loss: 20.2673\n",
      "1/1 [==============================] - 1798s 1798s/step - loss: 34.7801\n",
      "1/1 [==============================] - 8s 8s/step - loss: 19.9641\n",
      "1/1 [==============================] - 5s 5s/step - loss: 34.0916\n",
      "1/1 [==============================] - 18s 18s/step - loss: 19.6495\n",
      "1/1 [==============================] - 5s 5s/step - loss: 33.3278\n",
      "1/1 [==============================] - 12s 12s/step - loss: 19.3466\n",
      "1/1 [==============================] - 3s 3s/step - loss: 33.1074\n",
      "1/1 [==============================] - 18s 18s/step - loss: 19.0601\n",
      "1/1 [==============================] - 4s 4s/step - loss: 32.7782\n",
      "1/1 [==============================] - 18s 18s/step - loss: 18.7791\n",
      "1/1 [==============================] - 5s 5s/step - loss: 31.6330\n",
      "1/1 [==============================] - 20s 20s/step - loss: 18.5308\n",
      "1/1 [==============================] - 5s 5s/step - loss: 31.1776\n",
      "1/1 [==============================] - 6s 6s/step - loss: 18.2512\n",
      "1/1 [==============================] - 1s 1s/step - loss: 30.6503\n",
      "1/1 [==============================] - 13s 13s/step - loss: 17.9891\n",
      "1/1 [==============================] - 4s 4s/step - loss: 29.7478\n",
      "1/1 [==============================] - 1236s 1236s/step - loss: 17.7516\n",
      "1/1 [==============================] - 2s 2s/step - loss: 28.9806\n",
      "1/1 [==============================] - 10s 10s/step - loss: 17.5060\n",
      "1/1 [==============================] - 5s 5s/step - loss: 29.0936\n",
      "1/1 [==============================] - 12s 12s/step - loss: 17.2716\n",
      "1/1 [==============================] - 7199s 7199s/step - loss: 28.7456\n",
      "1/1 [==============================] - 6s 6s/step - loss: 17.0413\n",
      "1/1 [==============================] - 6s 6s/step - loss: 28.3206\n",
      "1/1 [==============================] - 20s 20s/step - loss: 16.8166\n",
      "1/1 [==============================] - 5s 5s/step - loss: 27.2567\n",
      "1/1 [==============================] - 17s 17s/step - loss: 16.5924\n",
      "1/1 [==============================] - 5s 5s/step - loss: 27.4710\n",
      "1/1 [==============================] - 13s 13s/step - loss: 16.3784\n",
      "1/1 [==============================] - 3s 3s/step - loss: 26.8112\n",
      "1/1 [==============================] - 7209s 7209s/step - loss: 16.1677\n",
      "1/1 [==============================] - 7s 7s/step - loss: 26.0269\n",
      "1/1 [==============================] - 20s 20s/step - loss: 15.9587\n",
      "1/1 [==============================] - 5s 5s/step - loss: 24.9447\n",
      "1/1 [==============================] - 7205s 7205s/step - loss: 15.7520\n",
      "1/1 [==============================] - 2s 2s/step - loss: 24.8213\n",
      "1/1 [==============================] - 15s 15s/step - loss: 15.5532\n",
      "1/1 [==============================] - 5s 5s/step - loss: 24.5437\n",
      "1/1 [==============================] - 17s 17s/step - loss: 15.3566\n",
      "1/1 [==============================] - 5s 5s/step - loss: 23.8368\n",
      "1/1 [==============================] - 20s 20s/step - loss: 15.1610\n",
      "1/1 [==============================] - 5s 5s/step - loss: 23.6799\n",
      "1/1 [==============================] - 15s 15s/step - loss: 14.9680\n",
      "1/1 [==============================] - 5s 5s/step - loss: 23.1753\n",
      "1/1 [==============================] - 12s 12s/step - loss: 14.7783\n",
      "1/1 [==============================] - 2290s 2290s/step - loss: 22.3094\n",
      "1/1 [==============================] - 8s 8s/step - loss: 14.5901\n",
      "1/1 [==============================] - 2s 2s/step - loss: 21.9743\n",
      "1/1 [==============================] - 8s 8s/step - loss: 14.4150\n",
      "1/1 [==============================] - 1s 1s/step - loss: 21.6569\n",
      "1/1 [==============================] - -1s -937302us/step - loss: 14.2437\n",
      "1/1 [==============================] - 2s 2s/step - loss: 21.4252\n",
      "1/1 [==============================] - 4s 4s/step - loss: 14.0702\n",
      "1/1 [==============================] - 1s 1s/step - loss: 21.0548\n",
      "1/1 [==============================] - 6s 6s/step - loss: 13.9035\n",
      "1/1 [==============================] - 1s 1s/step - loss: 20.6931\n",
      "1/1 [==============================] - 6s 6s/step - loss: 13.7356\n",
      "1/1 [==============================] - 1s 1s/step - loss: 20.3113\n",
      "1/1 [==============================] - 7s 7s/step - loss: 13.5764\n",
      "1/1 [==============================] - 1s 1s/step - loss: 20.3589\n",
      "1/1 [==============================] - 5s 5s/step - loss: 13.4160\n",
      "1/1 [==============================] - 1s 1s/step - loss: 20.0079\n",
      "1/1 [==============================] - 5s 5s/step - loss: 13.2589\n",
      "1/1 [==============================] - 1s 1s/step - loss: 19.6740\n"
     ]
    },
    {
     "name": "stdout",
     "output_type": "stream",
     "text": [
      "1/1 [==============================] - 6s 6s/step - loss: 13.1071\n",
      "1/1 [==============================] - 1s 1s/step - loss: 19.3538\n",
      "1/1 [==============================] - 6s 6s/step - loss: 12.9600\n",
      "1/1 [==============================] - 1s 1s/step - loss: 19.0710\n",
      "1/1 [==============================] - 4s 4s/step - loss: 12.8143\n",
      "1/1 [==============================] - 1s 1s/step - loss: 18.8674\n",
      "1/1 [==============================] - 5s 5s/step - loss: 12.6709\n",
      "1/1 [==============================] - 1s 1s/step - loss: 18.4883\n",
      "1/1 [==============================] - 5s 5s/step - loss: 12.5324\n",
      "1/1 [==============================] - 1s 1s/step - loss: 18.1617\n",
      "1/1 [==============================] - 5s 5s/step - loss: 12.3932\n",
      "1/1 [==============================] - 1s 1s/step - loss: 17.8316\n",
      "1/1 [==============================] - 4s 4s/step - loss: 12.2559\n",
      "1/1 [==============================] - 1s 1s/step - loss: 17.5311\n",
      "1/1 [==============================] - 5s 5s/step - loss: 12.1220\n",
      "1/1 [==============================] - 1s 1s/step - loss: 17.3769\n",
      "1/1 [==============================] - 5s 5s/step - loss: 11.9884\n",
      "1/1 [==============================] - 1s 1s/step - loss: 17.0670\n",
      "1/1 [==============================] - 6s 6s/step - loss: 11.8565\n",
      "1/1 [==============================] - 1s 1s/step - loss: 16.7750\n",
      "1/1 [==============================] - 4s 4s/step - loss: 11.7248\n",
      "1/1 [==============================] - 1s 1s/step - loss: 16.3285\n",
      "1/1 [==============================] - 5s 5s/step - loss: 11.5940\n",
      "1/1 [==============================] - 1s 1s/step - loss: 16.3592\n",
      "1/1 [==============================] - 5s 5s/step - loss: 11.4646\n",
      "1/1 [==============================] - 1s 1s/step - loss: 16.1543\n",
      "1/1 [==============================] - 5s 5s/step - loss: 11.3357\n",
      "1/1 [==============================] - 1s 1s/step - loss: 15.4845\n",
      "1/1 [==============================] - 4s 4s/step - loss: 11.2108\n",
      "1/1 [==============================] - 1s 1s/step - loss: 15.0921\n",
      "1/1 [==============================] - 5s 5s/step - loss: 11.0905\n",
      "1/1 [==============================] - 1s 1s/step - loss: 14.7713\n",
      "1/1 [==============================] - 5s 5s/step - loss: 10.9718\n",
      "1/1 [==============================] - 1s 1s/step - loss: 14.7348\n",
      "1/1 [==============================] - 5s 5s/step - loss: 10.8566\n",
      "1/1 [==============================] - 1s 978ms/step - loss: 14.2763\n",
      "1/1 [==============================] - 4s 4s/step - loss: 10.7459\n",
      "1/1 [==============================] - 1s 1s/step - loss: 13.6976\n",
      "1/1 [==============================] - 5s 5s/step - loss: 10.6387\n",
      "1/1 [==============================] - 1s 1s/step - loss: 13.5766\n",
      "1/1 [==============================] - 5s 5s/step - loss: 10.5323\n",
      "1/1 [==============================] - 1s 1s/step - loss: 13.3429\n",
      "1/1 [==============================] - 5s 5s/step - loss: 10.4302\n",
      "1/1 [==============================] - 1s 979ms/step - loss: 13.0292\n",
      "1/1 [==============================] - 4s 4s/step - loss: 10.3306\n",
      "1/1 [==============================] - 1s 1s/step - loss: 12.7230\n",
      "1/1 [==============================] - 5s 5s/step - loss: 10.2337\n",
      "1/1 [==============================] - 1s 1s/step - loss: 12.4619\n",
      "1/1 [==============================] - 5s 5s/step - loss: 10.1394\n",
      "1/1 [==============================] - 1s 1s/step - loss: 12.3618\n",
      "1/1 [==============================] - 4s 4s/step - loss: 10.0476\n",
      "1/1 [==============================] - 1s 1s/step - loss: 12.1375\n",
      "1/1 [==============================] - 5s 5s/step - loss: 9.9583\n",
      "1/1 [==============================] - 1s 1s/step - loss: 11.9756\n",
      "1/1 [==============================] - 5s 5s/step - loss: 9.8710\n",
      "1/1 [==============================] - 1s 1s/step - loss: 11.8354\n",
      "1/1 [==============================] - 5s 5s/step - loss: 9.7859\n",
      "1/1 [==============================] - 1s 1s/step - loss: 11.6973\n",
      "1/1 [==============================] - 4s 4s/step - loss: 9.7030\n",
      "1/1 [==============================] - 1s 1s/step - loss: 11.5888\n",
      "1/1 [==============================] - 5s 5s/step - loss: 9.6223\n",
      "1/1 [==============================] - 1s 1s/step - loss: 11.4040\n",
      "1/1 [==============================] - 5s 5s/step - loss: 9.5437\n",
      "1/1 [==============================] - 1s 1s/step - loss: 11.2859\n",
      "1/1 [==============================] - 5s 5s/step - loss: 9.4672\n",
      "1/1 [==============================] - 1s 1s/step - loss: 11.1652\n",
      "1/1 [==============================] - 4s 4s/step - loss: 9.3928\n",
      "1/1 [==============================] - 1s 1s/step - loss: 11.0515\n",
      "1/1 [==============================] - 5s 5s/step - loss: 9.3204\n",
      "1/1 [==============================] - 1s 1s/step - loss: 10.9461\n",
      "1/1 [==============================] - 5s 5s/step - loss: 9.2501\n",
      "1/1 [==============================] - 1s 1s/step - loss: 10.8314\n",
      "1/1 [==============================] - 5s 5s/step - loss: 9.1818\n",
      "1/1 [==============================] - 1s 1s/step - loss: 10.7412\n",
      "1/1 [==============================] - 4s 4s/step - loss: 9.1154\n",
      "1/1 [==============================] - 1s 1s/step - loss: 10.6381\n",
      "1/1 [==============================] - 5s 5s/step - loss: 9.0510\n",
      "1/1 [==============================] - 1s 1s/step - loss: 10.5396\n"
     ]
    }
   ],
   "source": [
    "ali_dd_losses, ali_dd_val_losses = [], []\n",
    "val_size = len(y_val)\n",
    "train_size = len(y_train)\n",
    "\n",
    "for epoch in range(max_epoch):\n",
    "    ali_dd_model.modify_graphgather(train_size)\n",
    "    ali_dd_model.input_shapes = [i.shape for i in x_preprocessed_train]\n",
    "    ali_dd_loss = ali_dd_model.fit(x_train, y_train.reshape([1, -1]), epochs=1)\n",
    "#     history = model.fit(x_train, -y_train.reshape([1, -1]), epochs=3)\n",
    "#     metric = dc.metrics.Metric(dc.metrics.score_function.rms_score)\n",
    "    ali_dd_losses.append(ali_dd_loss.history['loss'])\n",
    "    ali_dd_model.input_shapes = [i.shape for i in x_preprocessed_val]\n",
    "    ali_dd_model.modify_graphgather(val_size)\n",
    "    ali_dd_val_losses.append(ali_dd_model.evaluate(x_val, y_val.reshape([1, -1])))"
   ]
  },
  {
   "cell_type": "code",
   "execution_count": 96,
   "metadata": {},
   "outputs": [
    {
     "data": {
      "image/png": "[encoded data removed]",
      "text/plain": [
       "<Figure size 432x288 with 1 Axes>"
      ]
     },
     "metadata": {
      "needs_background": "light"
     },
     "output_type": "display_data"
    }
   ],
   "source": [
    "import matplotlib.pyplot as plt\n",
    "# f, ax = plt.subplots()\n",
    "plt.plot(range(len(ali_dd_losses)), ali_dd_losses, label='Ali Data Driven train loss')\n",
    "plt.plot(range(len(ali_dd_val_losses)), ali_dd_val_losses, label='Ali Data Driven val loss')\n",
    "plt.legend(loc='upper right')\n",
    "# plt.ylim(0,500)\n",
    "plt.xlabel(\"Epoch\")\n",
    "plt.ylabel(\"Loss (Kcal/mol)\")\n",
    "plt.savefig('Ali_DD_loss_26Mar.png')"
   ]
  },
  {
   "cell_type": "code",
   "execution_count": 97,
   "metadata": {},
   "outputs": [
    {
     "name": "stdout",
     "output_type": "stream",
     "text": [
      "1/1 [==============================] - 1s 1s/step - loss: 10.5396\n"
     ]
    }
   ],
   "source": [
    "ali_dd_model.input_shapes = [i.shape for i in x_preprocessed_test]\n",
    "ali_dd_model.modify_graphgather(len(y_test))\n",
    "ali_dd_test_loss = ali_dd_model.evaluate(x_test, y_test.reshape([1, -1]))\n",
    "# calculate RMSE\n",
    "# ali_dd_rmse_test = np.sqrt(ali_dd_test_loss)\n"
   ]
  },
  {
   "cell_type": "code",
   "execution_count": 192,
   "metadata": {},
   "outputs": [],
   "source": [
    "ali_dd_rmse_test = ali_dd_test_loss "
   ]
  },
  {
   "cell_type": "code",
   "execution_count": 194,
   "metadata": {},
   "outputs": [],
   "source": [
    "# Average training loss\n",
    "# ali_dd_rmse_loss = [sum(x)/len(x) for x in zip(*ali_dd_losses)]\n",
    "ali_dd_rmse_loss = ali_dd_losses[-1]\n",
    "# ali_dd_rmse_train = math.sqrt(ali_dd_test_loss)\n",
    "ali_dd_rmse_train = ali_dd_rmse_loss"
   ]
  },
  {
   "cell_type": "code",
   "execution_count": 195,
   "metadata": {},
   "outputs": [
    {
     "data": {
      "text/plain": [
       "[9.05095386505127]"
      ]
     },
     "execution_count": 195,
     "metadata": {},
     "output_type": "execute_result"
    }
   ],
   "source": [
    "ali_dd_rmse_train"
   ]
  },
  {
   "cell_type": "code",
   "execution_count": 125,
   "metadata": {},
   "outputs": [],
   "source": [
    "# ali_dd_test_accuracy = ali_dd_rmse_test\n",
    "# ali_dd_train_accuracy = ali_dd_rmse_train"
   ]
  },
  {
   "cell_type": "code",
   "execution_count": 191,
   "metadata": {},
   "outputs": [
    {
     "data": {
      "text/plain": [
       "3.246477712606718"
      ]
     },
     "execution_count": 191,
     "metadata": {},
     "output_type": "execute_result"
    }
   ],
   "source": [
    "ali_dd_rmse_test"
   ]
  },
  {
   "cell_type": "code",
   "execution_count": 126,
   "metadata": {},
   "outputs": [
    {
     "name": "stdout",
     "output_type": "stream",
     "text": [
      "+---------------------------+\n",
      "| Ali's model Test Set RMSE |\n",
      "+------------------+--------+\n",
      "|   Data Driven    |  PGNN  |\n",
      "+------------------+--------+\n",
      "|       3.25       |  6.36  |\n",
      "+------------------+--------+\n"
     ]
    }
   ],
   "source": [
    "# Test\n",
    "from prettytable import PrettyTable\n",
    "rmse_table = PrettyTable()\n",
    "rmse_table.title=\"Ali's model Test Set RMSE\"\n",
    "rmse_table.field_names = [ \"Data Driven\", \"PGNN\"]\n",
    "rmse_table.add_row([\"{:.2f}\".format(ali_dd_rmse_test),\"{:.2f}\".format(ali_pgnn_rmse_test)])\n",
    "print(rmse_table)"
   ]
  },
  {
   "cell_type": "code",
   "execution_count": 140,
   "metadata": {},
   "outputs": [
    {
     "data": {
      "text/plain": [
       "[40.78380676269531]"
      ]
     },
     "execution_count": 140,
     "metadata": {},
     "output_type": "execute_result"
    }
   ],
   "source": [
    "ali_pgnn_rmse_train"
   ]
  },
  {
   "cell_type": "code",
   "execution_count": 144,
   "metadata": {},
   "outputs": [
    {
     "name": "stdout",
     "output_type": "stream",
     "text": [
      "+---------------------------+\n",
      "| Ali's model Train Set RMSE |\n",
      "+-----------------+---------+\n",
      "|   Data Driven   |   PGNN  |\n",
      "+-----------------+---------+\n",
      "|      19.44      |  40.78  |\n",
      "+-----------------+---------+\n"
     ]
    }
   ],
   "source": [
    "# Train\n",
    "rmse_table = PrettyTable()\n",
    "rmse_table.title=\"Ali's model Train Set RMSE\"\n",
    "rmse_table.field_names = [\"Data Driven\", \"PGNN\"]\n",
    "rmse_table.add_row([\"{:.2f}\".format(ali_dd_rmse_train[0]),\"{:.2f}\".format(ali_pgnn_rmse_train[0])])\n",
    "print(rmse_table)"
   ]
  },
  {
   "cell_type": "markdown",
   "metadata": {},
   "source": [
    "# Comparison All Models"
   ]
  },
  {
   "cell_type": "code",
   "execution_count": 202,
   "metadata": {},
   "outputs": [
    {
     "name": "stdout",
     "output_type": "stream",
     "text": [
      "+-------------------------------------------------------------+\n",
      "|              All Models Comparison Training Set             |\n",
      "+-------------------+------------+-----------------+----------+\n",
      "| Sahar Data Driven | Sahar PGNN | Ali Data Driven | Ali PGNN |\n",
      "+-------------------+------------+-----------------+----------+\n",
      "|        2.90       |    3.69    |       9.05      |  37.28   |\n",
      "+-------------------+------------+-----------------+----------+\n"
     ]
    }
   ],
   "source": [
    "# Train\n",
    "rmse_table = PrettyTable()\n",
    "rmse_table.title=\"All Models Comparison Training Set\"\n",
    "rmse_table.field_names = [\"Sahar Data Driven\", \"Sahar PGNN\", \"Ali Data Driven\", \"Ali PGNN\"]\n",
    "rmse_table.add_row([ \"{:.2f}\".format(sahar_dd_rmse_train),\"{:.2f}\".format(sahar_pgnn_rmse_train),\n",
    "                    \"{:.2f}\".format(ali_dd_rmse_train[0]),\"{:.2f}\".format(ali_pgnn_rmse_train[0])])\n",
    "\n",
    "print(rmse_table)"
   ]
  },
  {
   "cell_type": "code",
   "execution_count": 203,
   "metadata": {},
   "outputs": [
    {
     "name": "stdout",
     "output_type": "stream",
     "text": [
      "+-------------------------------------------------------------+\n",
      "|              All Models Comparison Testing Set              |\n",
      "+-------------------+------------+-----------------+----------+\n",
      "| Sahar Data Driven | Sahar PGNN | Ali Data Driven | Ali PGNN |\n",
      "+-------------------+------------+-----------------+----------+\n",
      "|        8.45       |    4.49    |      10.54      |  40.48   |\n",
      "+-------------------+------------+-----------------+----------+\n"
     ]
    }
   ],
   "source": [
    "# Train\n",
    "rmse_table = PrettyTable()\n",
    "rmse_table.title=\"All Models Comparison Testing Set\"\n",
    "rmse_table.field_names = [\"Sahar Data Driven\", \"Sahar PGNN\", \"Ali Data Driven\", \"Ali PGNN\"]\n",
    "rmse_table.add_row([ \"{:.2f}\".format(sahar_dd_rmse_test),\"{:.2f}\".format(sahar_pgnn_rmse_test),\n",
    "                    \"{:.2f}\".format(ali_dd_rmse_test),\"{:.2f}\".format(ali_pgnn_rmse_test)])\n",
    "print(rmse_table)"
   ]
  },
  {
   "cell_type": "code",
   "execution_count": null,
   "metadata": {},
   "outputs": [],
   "source": []
  }
 ],
 "metadata": {
  "kernelspec": {
   "display_name": "rdkit-deepchem-jupyter",
   "language": "python",
   "name": "rdkit-deepchem-jupyter"
  },
  "language_info": {
   "codemirror_mode": {
    "name": "ipython",
    "version": 3
   },
   "file_extension": ".py",
   "mimetype": "text/x-python",
   "name": "python",
   "nbconvert_exporter": "python",
   "pygments_lexer": "ipython3",
   "version": "3.9.7"
  }
 },
 "nbformat": 4,
 "nbformat_minor": 4
}
